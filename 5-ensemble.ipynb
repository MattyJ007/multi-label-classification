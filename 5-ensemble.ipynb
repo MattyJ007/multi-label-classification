{
 "cells": [
  {
   "cell_type": "code",
   "execution_count": 21,
   "metadata": {},
   "outputs": [],
   "source": [
    "import json\n",
    "import csv"
   ]
  },
  {
   "cell_type": "code",
   "execution_count": 3,
   "metadata": {},
   "outputs": [],
   "source": [
    "with open('./processed-data/rawPredictions-lstm.json') as f:\n",
    "    rawPredictionsLstm = json.load(f)\n",
    "\n",
    "with open('./processed-data/rawPredictions-resnet.json') as f:\n",
    "    rawPredictionsResnet = json.load(f)"
   ]
  },
  {
   "cell_type": "code",
   "execution_count": 5,
   "metadata": {},
   "outputs": [
    {
     "name": "stdout",
     "output_type": "stream",
     "text": [
      "10000\n",
      "10000\n"
     ]
    }
   ],
   "source": [
    "print(len(rawPredictionsLstm))\n",
    "print(len(rawPredictionsResnet))"
   ]
  },
  {
   "cell_type": "code",
   "execution_count": 20,
   "metadata": {},
   "outputs": [],
   "source": [
    "def classMapping(prediction):\n",
    "    if prediction == 0:\n",
    "      return 1\n",
    "    elif prediction == 1:\n",
    "      return 2\n",
    "    elif prediction == 2:\n",
    "      return 3\n",
    "    elif prediction == 3:\n",
    "      return 4\n",
    "    elif prediction == 4:\n",
    "      return 5\n",
    "    elif prediction == 5:\n",
    "      return 6\n",
    "    elif prediction == 6:\n",
    "      return 7\n",
    "    elif prediction == 7:\n",
    "      return 8\n",
    "    elif prediction == 8:\n",
    "      return 9\n",
    "    elif prediction == 9:\n",
    "      return 10\n",
    "    elif prediction == 10:\n",
    "      return 11\n",
    "    elif prediction == 11:\n",
    "      return 13\n",
    "    elif prediction == 12:\n",
    "      return 14\n",
    "    elif prediction == 13:\n",
    "      return 15\n",
    "    elif prediction == 14:\n",
    "      return 16\n",
    "    elif prediction == 15:\n",
    "      return 17\n",
    "    elif prediction == 16:\n",
    "      return 18\n",
    "    elif prediction == 17:\n",
    "      return 19\n",
    "    else:\n",
    "      return 0"
   ]
  },
  {
   "cell_type": "code",
   "execution_count": 25,
   "metadata": {},
   "outputs": [],
   "source": [
    "with open('510369965-490424191-490299418-ensemblePredictions.csv', 'w', newline='') as csvfile:\n",
    "    writer = csv.writer(csvfile)\n",
    "    writer.writerow(['ImageID', 'Labels'])\n",
    "    for idx in range(len(rawPredictionsLstm)):\n",
    "      # Get 50% of each prediction\n",
    "      rawPredictionLstm = [i / 2 for i in rawPredictionsLstm[idx]]\n",
    "      rawPredictionResnet = [i / 2 for i in rawPredictionsResnet[idx]]\n",
    "      # Convert to encoding\n",
    "      combinedPredictions = [int(sum(label) > 0.5) for label in zip(rawPredictionLstm, rawPredictionResnet)]\n",
    "      # Get indices of encodings\n",
    "      labels = [i for i, x in enumerate(combinedPredictions) if x == 1]\n",
    "      # Map index to label\n",
    "      row = []\n",
    "      for predictedClass in labels:\n",
    "          mapped = classMapping(predictedClass)\n",
    "          if mapped > 0:\n",
    "            row.append(mapped)\n",
    "      row = list(set(row))\n",
    "      writer.writerow([f'{30000 + idx}.jpg', \" \".join(str(label) for label in row)])\n",
    "      # print(labels)"
   ]
  }
 ],
 "metadata": {
  "kernelspec": {
   "display_name": "base",
   "language": "python",
   "name": "python3"
  },
  "language_info": {
   "codemirror_mode": {
    "name": "ipython",
    "version": 3
   },
   "file_extension": ".py",
   "mimetype": "text/x-python",
   "name": "python",
   "nbconvert_exporter": "python",
   "pygments_lexer": "ipython3",
   "version": "3.11.5"
  }
 },
 "nbformat": 4,
 "nbformat_minor": 2
}
