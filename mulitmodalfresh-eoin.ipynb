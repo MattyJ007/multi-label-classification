{
  "nbformat": 4,
  "nbformat_minor": 0,
  "metadata": {
    "colab": {
      "provenance": []
    },
    "kernelspec": {
      "name": "python3",
      "display_name": "Python 3"
    },
    "language_info": {
      "name": "python"
    }
  },
  "cells": [
    {
      "cell_type": "code",
      "execution_count": 69,
      "metadata": {
        "id": "prXBrNW6nTX6"
      },
      "outputs": [],
      "source": [
        "import torch\n",
        "import torch.nn as nn\n",
        "import torch.optim as optim\n",
        "from torchvision import models, transforms\n",
        "from torch.utils.data import DataLoader, Dataset\n",
        "from sklearn.metrics import accuracy_score, f1_score\n",
        "import numpy as np\n",
        "import os\n",
        "import pandas as pd\n",
        "from tqdm import tqdm\n",
        "import pdb\n",
        "from sklearn.model_selection import train_test_split\n",
        "from PIL import Image\n",
        "from torch.nn.utils.rnn import pack_padded_sequence, pad_packed_sequence\n",
        "\n",
        "import warnings\n",
        "\n",
        "# Suppress the FutureWarning\n",
        "warnings.filterwarnings(\"ignore\", category=FutureWarning, message=\".*Series.__getitem__ treating keys as positions is deprecated.*\")\n",
        "\n",
        "# Custom Dataset\n",
        "class CustomDataset(Dataset):\n",
        "    def __init__(self, df, transform=None, base_img_path=\"./data/images/\"):\n",
        "        self.df=df\n",
        "        self.transform = transform\n",
        "        self.base_img_path=base_img_path\n",
        "\n",
        "    def __len__(self):\n",
        "        return len(self.df)\n",
        "\n",
        "    def __getitem__(self, idx):\n",
        "        image_path = self.base_img_path + self.df.iloc[idx][1]\n",
        "        caption = self.df.iloc[idx][8]\n",
        "        label = self.df.iloc[idx][6]\n",
        "\n",
        "        image = Image.open(image_path).convert('RGB')\n",
        "        if self.transform:\n",
        "            image = self.transform(image)\n",
        "\n",
        "        #image is already tensor cutesey of transform sequence\n",
        "        return image, torch.tensor(caption), torch.tensor(label, dtype=torch.float32)\n",
        "\n",
        "\n",
        "\n",
        "\n",
        "# Model definition\n",
        "class MultiModalModel(nn.Module):\n",
        "    def __init__(self, vocab_size, embed_size, hidden_dim, num_classes=18, lstm_layers=2, bidirectional=True):\n",
        "        super(MultiModalModel, self).__init__()\n",
        "\n",
        "        self.resnet = models.resnet34(pretrained=True)\n",
        "        self.resnet_output_dim = self.resnet.fc.in_features\n",
        "        self.resnet.fc = nn.Identity()\n",
        "\n",
        "        self.embedding_dim = embed_size\n",
        "        self.hidden_dim = hidden_dim\n",
        "        self.num_layers = lstm_layers\n",
        "        self.bidirectional = bidirectional\n",
        "\n",
        "        self.embedding = nn.Embedding(num_embeddings=vocab_size, embedding_dim=self.embedding_dim, padding_idx=0)\n",
        "        self.lstm = nn.LSTM(input_size=self.embedding_dim, hidden_size=self.hidden_dim, num_layers=self.num_layers,\n",
        "                            batch_first=True, bidirectional=self.bidirectional)\n",
        "\n",
        "        lstm_output_dim = self.hidden_dim * 2 if self.bidirectional else self.hidden_dim\n",
        "        classifier_input_dim = self.resnet_output_dim + lstm_output_dim\n",
        "\n",
        "        self.classifier = nn.Sequential(\n",
        "            nn.Linear(classifier_input_dim, 512),\n",
        "            nn.ReLU(),\n",
        "            nn.Dropout(0.5),\n",
        "            nn.Linear(512, num_classes),\n",
        "            nn.Sigmoid()\n",
        "        )\n",
        "\n",
        "    def forward(self, images, captions):\n",
        "        image_features = self.resnet(images)\n",
        "        embedded = self.embedding(captions)\n",
        "        lstm_out, _ = self.lstm(embedded)\n",
        "\n",
        "        if self.bidirectional:\n",
        "            lstm_out = torch.cat((lstm_out[:, -1, :self.hidden_dim], lstm_out[:, 0, self.hidden_dim:]), dim=1)\n",
        "        else:\n",
        "            lstm_out = lstm_out[:, -1, :]\n",
        "\n",
        "        combined_features = torch.cat((image_features, lstm_out), dim=1)\n",
        "        output = self.classifier(combined_features)\n",
        "\n",
        "        return output\n",
        "\n",
        "# Training function\n",
        "def train_epoch(model, train_loader, val_loader, num_epochs, criterion, optimizer, scheduler, device, log_file):\n",
        "    best_val_acc = 0.0\n",
        "    history = {\n",
        "        'epoch': [],\n",
        "        'train_loss': [],\n",
        "        'val_loss': [],\n",
        "        'val_accuracy': [],\n",
        "        'val_f1_score': []\n",
        "    }\n",
        "\n",
        "    for epoch in tqdm(range(num_epochs), position=0, leave=True):\n",
        "        model.train()\n",
        "        train_loss = 0.0\n",
        "        for images, captions, labels in train_loader:\n",
        "            images, captions, labels = images.to(device), captions.to(device), labels.to(device)\n",
        "\n",
        "            optimizer.zero_grad()\n",
        "            outputs = model(images, captions)\n",
        "            loss = criterion(outputs, labels.float())\n",
        "            loss.backward()\n",
        "            optimizer.step()\n",
        "            scheduler.step()\n",
        "            train_loss += loss.item() * images.size(0)\n",
        "\n",
        "        train_loss /= len(train_loader.dataset)\n",
        "\n",
        "        model.eval()\n",
        "        val_loss = 0.0\n",
        "        all_labels = []\n",
        "        all_outputs = []\n",
        "        with torch.no_grad():\n",
        "            for images, captions, labels in tqdm(val_loader, position=0, leave=True):\n",
        "                images, captions, labels = images.to(device), captions.to(device), labels.to(device)\n",
        "\n",
        "                outputs = model(images, captions)\n",
        "                loss = criterion(outputs, labels.float())\n",
        "                val_loss += loss.item() * images.size(0)\n",
        "\n",
        "                all_labels.append(labels.cpu().numpy())\n",
        "                all_outputs.append(outputs.cpu().numpy())\n",
        "\n",
        "        val_loss /= len(val_loader.dataset)\n",
        "        all_labels = np.concatenate(all_labels, axis=0)\n",
        "        all_outputs = np.concatenate(all_outputs, axis=0)\n",
        "        val_accuracy = accuracy_score(all_labels, (all_outputs > 0.5))\n",
        "        val_f1 = f1_score(all_labels, (all_outputs > 0.5), average='micro')\n",
        "\n",
        "        history['epoch'].append(epoch + 1)\n",
        "        history['train_loss'].append(train_loss)\n",
        "        history['val_loss'].append(val_loss)\n",
        "        history['val_accuracy'].append(val_accuracy)\n",
        "        history['val_f1_score'].append(val_f1)\n",
        "\n",
        "        print(f'Epoch [{epoch + 1}/{num_epochs}], Train Loss: {train_loss:.4f}, Val Loss: {val_loss:.4f}, Val Accuracy: {val_accuracy:.4f}, Val F1 Score: {val_f1:.4f}')\n",
        "\n",
        "        if val_accuracy > best_val_acc:\n",
        "            best_val_acc = val_accuracy\n",
        "            torch.save(model.state_dict(), 'best_model.pth')\n",
        "\n",
        "        # pd.DataFrame(history).to_csv(log_file, index=False)\n",
        "\n",
        "# Example usage\n",
        "device = torch.device('cuda' if torch.cuda.is_available() else 'cpu')\n",
        "\n",
        "transform = transforms.Compose([\n",
        "    transforms.Resize((224, 224)),\n",
        "    transforms.RandomHorizontalFlip(),\n",
        "    transforms.RandomRotation(10),\n",
        "    transforms.ColorJitter(brightness=0.2, contrast=0.2, saturation=0.2, hue=0.1),\n",
        "    transforms.ToTensor(),\n",
        "    transforms.Lambda(lambda x: x / x.abs().max())\n",
        "])\n",
        "\n",
        "\n"
      ]
    },
    {
      "cell_type": "code",
      "source": [
        "train = pd.read_csv('./processed-data/train.csv', converters={'EncodedLabels': pd.eval, 'TokensWithPadding': pd.eval})\n",
        "# train = train[:1024]\n",
        "train_df, val_df = train_test_split(train, test_size=0.1, random_state=42)\n",
        "\n",
        "train_set = CustomDataset(train_df, transform)\n",
        "val_set = CustomDataset(val_df, transform)\n",
        "trainloader = DataLoader(train_set, batch_size=256, shuffle=True)\n",
        "valloader = DataLoader(val_set, batch_size=256, shuffle=True)"
      ],
      "metadata": {
        "id": "H2AUgWVzqZ0E"
      },
      "execution_count": 70,
      "outputs": []
    },
    {
      "cell_type": "code",
      "source": [
        "\n",
        "\n",
        "vocab_size = 10000\n",
        "embed_size = 28\n",
        "hidden_dim = 256\n",
        "num_classes = 18\n",
        "num_epochs = 10\n",
        "log_file = 'training_log.csv'\n",
        "lr = 0.001\n",
        "\n",
        "model = MultiModalModel(vocab_size, embed_size, hidden_dim, num_classes)\n",
        "\n",
        "# model.load_state_dict(torch.load(\"./best_model.pth\"))\n",
        "\n",
        "model.to(device)\n",
        "criterion = nn.BCELoss()\n",
        "optimizer = optim.Adam(model.parameters(), lr=lr)\n",
        "optimizer.param_groups[0]['initial_lr'] = lr\n",
        "scheduler = optim.lr_scheduler.CosineAnnealingWarmRestarts(optimizer, T_0=2,  eta_min=0.000001, last_epoch=num_epochs-1)\n",
        "\n",
        "\n",
        "\n",
        "train_epoch(model, trainloader, valloader, num_epochs, criterion, optimizer, scheduler, device, log_file)"
      ],
      "metadata": {
        "colab": {
          "base_uri": "https://localhost:8080/",
          "height": 578
        },
        "id": "tpB9pGbmqXdY",
        "outputId": "9a14737a-331d-41e7-c7c4-5e88819bf5c8"
      },
      "execution_count": 75,
      "outputs": [
        {
          "output_type": "stream",
          "name": "stderr",
          "text": [
            "/home/adnlp-server/anaconda3/envs/eoinenvpy11/lib/python3.11/site-packages/torchvision/models/_utils.py:208: UserWarning: The parameter 'pretrained' is deprecated since 0.13 and may be removed in the future, please use 'weights' instead.\n",
            "  warnings.warn(\n",
            "/home/adnlp-server/anaconda3/envs/eoinenvpy11/lib/python3.11/site-packages/torchvision/models/_utils.py:223: UserWarning: Arguments other than a weight enum or `None` for 'weights' are deprecated since 0.13 and may be removed in the future. The current behavior is equivalent to passing `weights=ResNet34_Weights.IMAGENET1K_V1`. You can also use `weights=ResNet34_Weights.DEFAULT` to get the most up-to-date weights.\n",
            "  warnings.warn(msg)\n",
            "100%|████████████████████████████████████████████████████████████████████████████████████████████████████████████████████████████████████████████████████| 12/12 [00:17<00:00,  1.45s/it]\n",
            " 10%|██████████████▊                                                                                                                                     | 1/10 [03:26<31:02, 206.99s/it]"
          ]
        },
        {
          "output_type": "stream",
          "name": "stdout",
          "text": [
            "Epoch [1/10], Train Loss: 0.2236, Val Loss: 3.4139, Val Accuracy: 0.4857, Val F1 Score: 0.6361\n"
          ]
        },
        {
          "output_type": "stream",
          "name": "stderr",
          "text": [
            "100%|████████████████████████████████████████████████████████████████████████████████████████████████████████████████████████████████████████████████████| 12/12 [00:17<00:00,  1.45s/it]\n",
            " 20%|█████████████████████████████▌                                                                                                                      | 2/10 [06:54<27:36, 207.06s/it]"
          ]
        },
        {
          "output_type": "stream",
          "name": "stdout",
          "text": [
            "Epoch [2/10], Train Loss: 0.1313, Val Loss: 0.1020, Val Accuracy: 0.6290, Val F1 Score: 0.7869\n"
          ]
        },
        {
          "output_type": "stream",
          "name": "stderr",
          "text": [
            "100%|████████████████████████████████████████████████████████████████████████████████████████████████████████████████████████████████████████████████████| 12/12 [00:17<00:00,  1.44s/it]\n",
            " 30%|████████████████████████████████████████████▍                                                                                                       | 3/10 [10:20<24:06, 206.69s/it]"
          ]
        },
        {
          "output_type": "stream",
          "name": "stdout",
          "text": [
            "Epoch [3/10], Train Loss: 0.0973, Val Loss: 0.1063, Val Accuracy: 0.6400, Val F1 Score: 0.7987\n"
          ]
        },
        {
          "output_type": "stream",
          "name": "stderr",
          "text": [
            "100%|████████████████████████████████████████████████████████████████████████████████████████████████████████████████████████████████████████████████████| 12/12 [00:17<00:00,  1.44s/it]\n",
            " 40%|███████████████████████████████████████████████████████████▏                                                                                        | 4/10 [13:47<20:40, 206.83s/it]"
          ]
        },
        {
          "output_type": "stream",
          "name": "stdout",
          "text": [
            "Epoch [4/10], Train Loss: 0.0885, Val Loss: 0.0965, Val Accuracy: 0.6473, Val F1 Score: 0.8092\n"
          ]
        },
        {
          "output_type": "stream",
          "name": "stderr",
          "text": [
            "100%|████████████████████████████████████████████████████████████████████████████████████████████████████████████████████████████████████████████████████| 12/12 [00:17<00:00,  1.44s/it]\n",
            " 50%|██████████████████████████████████████████████████████████████████████████                                                                          | 5/10 [17:14<17:13, 206.78s/it]"
          ]
        },
        {
          "output_type": "stream",
          "name": "stdout",
          "text": [
            "Epoch [5/10], Train Loss: 0.0796, Val Loss: 0.0991, Val Accuracy: 0.6470, Val F1 Score: 0.8101\n"
          ]
        },
        {
          "output_type": "stream",
          "name": "stderr",
          "text": [
            "\r 50%|██████████████████████████████████████████████████████████████████████████                                                                          | 5/10 [17:51<17:51, 214.35s/it]\n"
          ]
        },
        {
          "output_type": "error",
          "ename": "KeyboardInterrupt",
          "evalue": "",
          "traceback": [
            "\u001b[0;31m---------------------------------------------------------------------------\u001b[0m",
            "\u001b[0;31mKeyboardInterrupt\u001b[0m                         Traceback (most recent call last)",
            "Cell \u001b[0;32mIn[75], line 21\u001b[0m\n\u001b[1;32m     16\u001b[0m optimizer\u001b[38;5;241m.\u001b[39mparam_groups[\u001b[38;5;241m0\u001b[39m][\u001b[38;5;124m'\u001b[39m\u001b[38;5;124minitial_lr\u001b[39m\u001b[38;5;124m'\u001b[39m] \u001b[38;5;241m=\u001b[39m lr\n\u001b[1;32m     17\u001b[0m scheduler \u001b[38;5;241m=\u001b[39m optim\u001b[38;5;241m.\u001b[39mlr_scheduler\u001b[38;5;241m.\u001b[39mCosineAnnealingWarmRestarts(optimizer, T_0\u001b[38;5;241m=\u001b[39m\u001b[38;5;241m2\u001b[39m,  eta_min\u001b[38;5;241m=\u001b[39m\u001b[38;5;241m0.000001\u001b[39m, last_epoch\u001b[38;5;241m=\u001b[39mnum_epochs\u001b[38;5;241m-\u001b[39m\u001b[38;5;241m1\u001b[39m)\n\u001b[0;32m---> 21\u001b[0m train_epoch(model, trainloader, valloader, num_epochs, criterion, optimizer, scheduler, device, log_file)\n",
            "Cell \u001b[0;32mIn[69], line 113\u001b[0m, in \u001b[0;36mtrain_epoch\u001b[0;34m(model, train_loader, val_loader, num_epochs, criterion, optimizer, scheduler, device, log_file)\u001b[0m\n\u001b[1;32m    111\u001b[0m     optimizer\u001b[38;5;241m.\u001b[39mstep()\n\u001b[1;32m    112\u001b[0m     scheduler\u001b[38;5;241m.\u001b[39mstep()\n\u001b[0;32m--> 113\u001b[0m     train_loss \u001b[38;5;241m+\u001b[39m\u001b[38;5;241m=\u001b[39m loss\u001b[38;5;241m.\u001b[39mitem() \u001b[38;5;241m*\u001b[39m images\u001b[38;5;241m.\u001b[39msize(\u001b[38;5;241m0\u001b[39m)\n\u001b[1;32m    115\u001b[0m train_loss \u001b[38;5;241m/\u001b[39m\u001b[38;5;241m=\u001b[39m \u001b[38;5;28mlen\u001b[39m(train_loader\u001b[38;5;241m.\u001b[39mdataset)\n\u001b[1;32m    117\u001b[0m model\u001b[38;5;241m.\u001b[39meval()\n",
            "\u001b[0;31mKeyboardInterrupt\u001b[0m: "
          ]
        }
      ]
    },
    {
      "cell_type": "code",
      "source": [
        "def predict(data_loader, save_path):\n",
        "  model.eval()\n",
        "  predictions = []\n",
        "  with torch.no_grad():\n",
        "      for images, captions in tqdm(data_loader, position=0, leave=True):\n",
        "          images, captions = images.to(device), captions.to(device)\n",
        "\n",
        "          outputs = model(images, captions)\n",
        "          loss = criterion(outputs, labels.float())\n",
        "          val_loss += loss.item() * images.size(0)\n",
        "\n",
        "          all_labels.append(labels.cpu().numpy())\n",
        "          all_outputs.append(outputs.cpu().numpy())"
      ],
      "metadata": {
        "id": "YmksUfuuqHIZ"
      },
      "execution_count": null,
      "outputs": []
    },
    {
      "cell_type": "code",
      "source": [
        "import gc\n",
        "import torch\n",
        "gc.collect()\n",
        "torch.cuda.empty_cache()"
      ],
      "metadata": {
        "id": "z9gkhY5TrQWz"
      },
      "execution_count": 62,
      "outputs": []
    },
    {
      "cell_type": "code",
      "source": [],
      "metadata": {
        "id": "xYei0jDJqGNl"
      },
      "execution_count": null,
      "outputs": []
    },
    {
      "cell_type": "code",
      "source": [
        "import os\n",
        "print(os.listdir())"
      ],
      "metadata": {
        "colab": {
          "base_uri": "https://localhost:8080/"
        },
        "id": "33Aueb9u4_Gi",
        "outputId": "ac476038-6ba0-4c14-f20b-c9f792a451ef"
      },
      "execution_count": 44,
      "outputs": [
        {
          "output_type": "stream",
          "name": "stdout",
          "text": [
            "['training_metrics.txt', 'models', 'processeddata', 'failedTests', 'training_log.txt', 'lstm.ipynb', 'data', 'exploration.ipynb', 'processed-data', 'README.md', '.git', 'temp.txt', '.gitignore', 'resnet50.ipynb', 'predictions', 'best_model.pth', 'training_log.csv', 'preprocessText.ipynb']\n"
          ]
        }
      ]
    },
    {
      "cell_type": "code",
      "source": [
        "os.path.getsize('./best_model.pth')"
      ],
      "metadata": {
        "colab": {
          "base_uri": "https://localhost:8080/"
        },
        "id": "PMO_2GxJGsm_",
        "outputId": "096d31b3-cc8b-472a-d8ec-4b8c86c3fcea"
      },
      "execution_count": 63,
      "outputs": [
        {
          "output_type": "execute_result",
          "data": {
            "text/plain": [
              "97191964"
            ]
          },
          "metadata": {},
          "execution_count": 63
        }
      ]
    },
    {
      "cell_type": "code",
      "source": [],
      "metadata": {
        "id": "nQ155QO2G7Go"
      },
      "execution_count": null,
      "outputs": []
    }
  ]
}