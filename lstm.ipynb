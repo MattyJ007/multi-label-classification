{
 "cells": [
  {
   "cell_type": "code",
   "execution_count": 141,
   "metadata": {},
   "outputs": [
    {
     "data": {
      "text/plain": [
       "'NVIDIA GeForce RTX 3060 Laptop GPU'"
      ]
     },
     "execution_count": 141,
     "metadata": {},
     "output_type": "execute_result"
    }
   ],
   "source": [
    "import pandas as pd\n",
    "from sklearn.model_selection import train_test_split\n",
    "import torch\n",
    "import torch.nn as nn\n",
    "import torch.nn.functional as F\n",
    "import torch.optim as optim\n",
    "\n",
    "device = torch.device(\"cuda\" if torch.cuda.is_available() else \"cpu\")\n",
    "torch.cuda.get_device_name(0)\n",
    "# ^ Comment out if cpu :)"
   ]
  },
  {
   "cell_type": "code",
   "execution_count": 125,
   "metadata": {},
   "outputs": [],
   "source": [
    "# The numpy arrays seem to have been converted to strings when saved to csv. We need to convert them back into lists\n",
    "\n",
    "train = pd.read_csv('./processed-data/train.csv', converters={'EncodedLabels': pd.eval, 'TokensWithPadding': pd.eval})\n",
    "train.head()\n"
   ]
  },
  {
   "cell_type": "code",
   "execution_count": 180,
   "metadata": {},
   "outputs": [
    {
     "name": "stdout",
     "output_type": "stream",
     "text": [
      "<class 'pandas.core.series.Series'>\n",
      "<class 'numpy.ndarray'>\n",
      "<class 'pandas.core.series.Series'>\n",
      "<class 'numpy.ndarray'>\n"
     ]
    }
   ],
   "source": [
    "# Mismatched storage :(\n",
    "print(type(train['EncodedLabels']))\n",
    "print(type(train['EncodedLabels'][0]))\n",
    "print(type(train['TokensWithPadding']))\n",
    "print(type(train['TokensWithPadding'][0]))"
   ]
  },
  {
   "cell_type": "code",
   "execution_count": 181,
   "metadata": {},
   "outputs": [],
   "source": [
    "# Make type consistent and convert to tensor\n",
    "def dataframeColumnToTensor(column):\n",
    "  array = []\n",
    "  for row in column:\n",
    "    array.append(row.tolist())\n",
    "  return torch.tensor(array)"
   ]
  },
  {
   "cell_type": "code",
   "execution_count": 189,
   "metadata": {},
   "outputs": [
    {
     "name": "stdout",
     "output_type": "stream",
     "text": [
      "<class 'torch.Tensor'>\n",
      "<class 'torch.Tensor'>\n",
      "<class 'torch.Tensor'>\n",
      "<class 'torch.Tensor'>\n",
      "<class 'torch.Tensor'>\n",
      "<class 'torch.Tensor'>\n"
     ]
    }
   ],
   "source": [
    "trainingTokens = dataframeColumnToTensor(train['TokensWithPadding'])\n",
    "trainingEncodedLabels = dataframeColumnToTensor(train['EncodedLabels'])\n",
    "# Sanity check for tensors\n",
    "print(type(trainingTokens))\n",
    "print(type(trainingTokens[0]))\n",
    "print(type(trainingEncodedLabels))\n",
    "print(type(trainingEncodedLabels[0]))\n",
    "print(type(trainingEncodedLabels[0][0]))\n",
    "print(type(trainingEncodedLabels[0][0][0]))"
   ]
  },
  {
   "cell_type": "code",
   "execution_count": 194,
   "metadata": {},
   "outputs": [
    {
     "name": "stdout",
     "output_type": "stream",
     "text": [
      "torch.Size([25496, 28])\n",
      "torch.Size([4500, 28])\n",
      "torch.Size([25496, 18, 18])\n",
      "torch.Size([4500, 18, 18])\n"
     ]
    }
   ],
   "source": [
    "# Split out validation set\n",
    "xTrain, xVal, yTrain, yVal = train_test_split(\n",
    "  trainingTokens,\n",
    "  trainingEncodedLabels,\n",
    "  test_size=0.15,\n",
    "  random_state=1\n",
    ")\n",
    "\n",
    "# Tokens\n",
    "# print(xTrain[0])\n",
    "print(xTrain.shape)\n",
    "print(xVal.shape)\n",
    "# Labels\n",
    "# print(yTrain[0])\n",
    "print(yTrain.shape)\n",
    "print(yVal.shape)"
   ]
  }
 ],
 "metadata": {
  "kernelspec": {
   "display_name": "base",
   "language": "python",
   "name": "python3"
  },
  "language_info": {
   "codemirror_mode": {
    "name": "ipython",
    "version": 3
   },
   "file_extension": ".py",
   "mimetype": "text/x-python",
   "name": "python",
   "nbconvert_exporter": "python",
   "pygments_lexer": "ipython3",
   "version": "3.11.5"
  }
 },
 "nbformat": 4,
 "nbformat_minor": 2
}
