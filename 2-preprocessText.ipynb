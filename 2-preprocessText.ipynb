{
 "cells": [
  {
   "cell_type": "code",
   "execution_count": 97,
   "metadata": {},
   "outputs": [
    {
     "name": "stderr",
     "output_type": "stream",
     "text": [
      "[nltk_data] Downloading package stopwords to /home/matt/nltk_data...\n",
      "[nltk_data]   Package stopwords is already up-to-date!\n",
      "[nltk_data] Downloading package punkt to /home/matt/nltk_data...\n",
      "[nltk_data]   Package punkt is already up-to-date!\n",
      "[nltk_data] Downloading package wordnet to /home/matt/nltk_data...\n",
      "[nltk_data]   Package wordnet is already up-to-date!\n"
     ]
    }
   ],
   "source": [
    "import re\n",
    "import pandas as pd\n",
    "from io import StringIO\n",
    "import nltk\n",
    "import numpy as np\n",
    "import json\n",
    "\n",
    "nltk.download('stopwords')\n",
    "nltk.download('punkt')\n",
    "nltk.download('wordnet')\n",
    "\n",
    "from nltk.corpus import stopwords\n",
    "from nltk.tokenize import word_tokenize\n",
    "from nltk.stem import PorterStemmer\n",
    "\n",
    "lemma = nltk.wordnet.WordNetLemmatizer()\n",
    "\n",
    "ps = PorterStemmer()\n",
    "\n",
    "stop_words = set(stopwords.words('english'))"
   ]
  },
  {
   "cell_type": "code",
   "execution_count": 98,
   "metadata": {},
   "outputs": [],
   "source": [
    "def extractDataFrame(fileName):\n",
    "  with open(fileName) as file:\n",
    "    lines = [re.sub(r'([^,])\"(\\s*[^\\n])', r'\\1/\"\\2', line) for line in file]\n",
    "    df = pd.read_csv(StringIO(''.join(lines)), escapechar=\"/\")\n",
    "  return df"
   ]
  },
  {
   "cell_type": "code",
   "execution_count": 99,
   "metadata": {},
   "outputs": [],
   "source": [
    "def splitLabels(labels):\n",
    "  return [int(label) for label in labels.split(' ')]"
   ]
  },
  {
   "cell_type": "code",
   "execution_count": 100,
   "metadata": {},
   "outputs": [],
   "source": [
    "def tokenise(caption):\n",
    "    # Replace non-alphabetic characters with single whitespace\n",
    "    caption = re.sub(r'[^a-zA-Z\\s]', ' ', caption.lower())\n",
    "    # Remove any whitespace that appears in sequence\n",
    "    caption = re.sub(r\"\\s+\", \" \", caption)\n",
    "    # Remove new leading and trailing whitespace\n",
    "    caption = caption.strip()\n",
    "    # Apply stemmer to each remaining word in sentence\n",
    "    caption = lemma.lemmatize(caption)\n",
    "    caption = ps.stem(caption)\n",
    "\n",
    "    # Tokenize\n",
    "    word_tokens = word_tokenize(caption)\n",
    "    # Remove stop words\n",
    "    filtered_sentence = [w for w in word_tokens if not w.lower() in stop_words]\n",
    "    # Replace value with tokenised data\n",
    "    return filtered_sentence"
   ]
  },
  {
   "cell_type": "code",
   "execution_count": 101,
   "metadata": {},
   "outputs": [
    {
     "name": "stdout",
     "output_type": "stream",
     "text": [
      "{1, 2, 3, 4, 5, 6, 7, 8, 9, 10, 11, 13, 14, 15, 16, 17, 18, 19}\n",
      "Unique labels: 18\n",
      "Max label value: 19\n"
     ]
    }
   ],
   "source": [
    "train = extractDataFrame('data/train.csv')\n",
    "\n",
    "train['Tokens'] = train['Caption'].apply(tokenise)\n",
    "train['Labels'] = train['Labels'].apply(splitLabels)\n",
    "\n",
    "uniqueLabels = set()\n",
    "for labels in train['Labels']:\n",
    "  uniqueLabels.update(labels)\n",
    "\n",
    "numUniqueLabels = len(uniqueLabels)\n",
    "maxLabel = max(uniqueLabels)\n",
    "\n",
    "print(uniqueLabels)\n",
    "print('Unique labels:', numUniqueLabels)\n",
    "print('Max label value:', maxLabel)"
   ]
  },
  {
   "cell_type": "code",
   "execution_count": 102,
   "metadata": {},
   "outputs": [],
   "source": [
    "def labelMapping(uLabels):\n",
    "  labelToIdMapping = {}\n",
    "  idToLabelMapping = {}\n",
    "  for idx, label in enumerate(uLabels):\n",
    "    labelToIdMapping[label] = idx\n",
    "    idToLabelMapping[idx] = label\n",
    "  return labelToIdMapping, idToLabelMapping"
   ]
  },
  {
   "cell_type": "code",
   "execution_count": 103,
   "metadata": {},
   "outputs": [
    {
     "name": "stdout",
     "output_type": "stream",
     "text": [
      "{0: 1, 1: 2, 2: 3, 3: 4, 4: 5, 5: 6, 6: 7, 7: 8, 8: 9, 9: 10, 10: 11, 11: 13, 12: 14, 13: 15, 14: 16, 15: 17, 16: 18, 17: 19}\n"
     ]
    }
   ],
   "source": [
    "labelToIdMapping, idToLabelMapping = labelMapping(uniqueLabels)\n",
    "\n",
    "print(idToLabelMapping)\n",
    "\n",
    "def mapLabelToId(labels):\n",
    "  ids = []\n",
    "  for label in labels:\n",
    "    ids.append(labelToIdMapping[label])\n",
    "  return ids"
   ]
  },
  {
   "cell_type": "code",
   "execution_count": 104,
   "metadata": {},
   "outputs": [],
   "source": [
    "def oneHotEncodeLabel(labels):\n",
    "  oneHotClasses = np.zeros([numUniqueLabels])\n",
    "  for label in labels:\n",
    "    # Onehot encode each label in the list\n",
    "    oneHotClasses[label] = 1.\n",
    "  return oneHotClasses.tolist()"
   ]
  },
  {
   "cell_type": "code",
   "execution_count": 105,
   "metadata": {},
   "outputs": [
    {
     "name": "stdout",
     "output_type": "stream",
     "text": [
      "[8, 3, 13]\n",
      "[7, 2, 11]\n",
      "[0.0, 0.0, 1.0, 0.0, 0.0, 0.0, 0.0, 1.0, 0.0, 0.0, 0.0, 1.0, 0.0, 0.0, 0.0, 0.0, 0.0, 0.0]\n"
     ]
    }
   ],
   "source": [
    "train['LabelIds'] = train['Labels'].apply(mapLabelToId)\n",
    "train['EncodedLabels'] = train['LabelIds'].apply(oneHotEncodeLabel)\n",
    "\n",
    "print(train['Labels'][3])\n",
    "print(train['LabelIds'][3])\n",
    "print(train['EncodedLabels'][3])"
   ]
  },
  {
   "cell_type": "code",
   "execution_count": 106,
   "metadata": {},
   "outputs": [
    {
     "name": "stdout",
     "output_type": "stream",
     "text": [
      "Max token Length: 28\n"
     ]
    }
   ],
   "source": [
    "tokenLengths = []\n",
    "for x in range(train.shape[0]):\n",
    "    tokenLengths.append(len(train[\"Tokens\"][x]))\n",
    "\n",
    "maxTokenLength = max(tokenLengths)\n",
    "print('Max token Length:', maxTokenLength)"
   ]
  },
  {
   "cell_type": "code",
   "execution_count": 107,
   "metadata": {},
   "outputs": [
    {
     "name": "stdout",
     "output_type": "stream",
     "text": [
      "['[PAD]', '[UNK]', 'aaron', 'abandon', 'abandoned', 'abat', 'abed', 'able', 'aboard', 'abov', 'absolutley', 'abstract', 'acc', 'accents', 'accepting', 'accessori', 'accessories', 'accolades', 'accompanied', 'across', 'acrossed', 'act', 'acting', 'action', 'actively', 'actor', 'actors', 'actress', 'acurly', 'ad', 'adamantly', 'add', 'added', 'adjacent', 'adjoining', 'adjustable', 'adjusted', 'adjusting', 'adjusts', 'admire', 'admiring', 'adopted', 'adorable', 'adoring', 'adorned', 'ads', 'adult', 'adults', 'advanced', 'advantage', 'adventure', 'advertis', 'advertisement', 'advertisements', 'advertises', 'advertising', 'advertsment', 'advice', 'advising', 'aerial', 'afar', 'affair', 'affect', 'affectionate', 'affixed', 'afloat', 'african', 'afro', 'afternoon', 'age', 'aged', 'agent', 'ages', 'aggressively', 'ago', 'agricultural', 'ahead', 'aid', 'aimed', 'aiming', 'aims', 'air', 'airborne', 'aircraft', 'airfield', 'airforce', 'airfrance', 'airiel', 'airlin', 'airline', 'airliner', 'airliners', 'airlines', 'airlplan', 'airpane', 'airplan', 'airplane', 'airplanes', 'airplnae', 'airport', 'airstrip', 'airways', 'airy', 'aisl', 'aisle', 'aisleway', 'ajar', 'al', 'alarm', 'alaska', 'alaskan', 'alcohol', 'alert', 'algae', 'aligned', 'alin', 'alle', 'alley', 'alleyway', 'alliance', 'alligator', 'allow', 'allowed', 'almost', 'alon', 'alone', 'along', 'alongsid', 'alongside', 'alpine', 'already', 'also', 'alter', 'altered', 'altitud', 'alto', 'aluminated', 'amazingly', 'ambassador', 'ambulance', 'ambulances', 'america', 'american', 'amid', 'amidst', 'amodel', 'among', 'amongst', 'amount', 'amphibious', 'ample', 'amusement', 'amusing', 'ana', 'analog', 'analyzing', 'anchor', 'anchored', 'anchovy', 'ancient', 'angel', 'angeles', 'angels', 'angled', 'angles', 'angry', 'anim', 'animal', 'animals', 'animated', 'anime', 'ankle', 'anniversary', 'announcer', 'anoth', 'another', 'ans', 'ansett', 'answer', 'anti', 'anticip', 'anticipating', 'anticipation', 'antique', 'anyone', 'anywhere', 'apart', 'apartment', 'app', 'apparently', 'appear', 'appearing', 'appears', 'appet', 'appl', 'apple', 'apples', 'appli', 'appliance', 'appliances', 'applied', 'appointed', 'approach', 'approached', 'approaches', 'approaching', 'apron', 'aprons', 'aqua', 'aquarium', 'ar', 'arab', 'arabic', 'arcad', 'arcade', 'arch', 'arched', 'architectural', 'archway', 'area', 'areas', 'arena', 'arm', 'armed', 'armoire', 'armor', 'armored', 'arms', 'army', 'around', 'aroung', 'arr', 'arrang', 'arranged', 'arrangement', 'arranging', 'array', 'arrett', 'arrival', 'arrive', 'arrived', 'arrives', 'arriving', 'arrow', 'ars', 'art', 'articulated', 'artifacts', 'artificial', 'artisan', 'artist', 'artistic', 'arts', 'artsy', 'artwork', 'asain', 'ascending', 'asia', 'asian', 'asid', 'aside', 'asked', 'asleep', 'asphalt', 'asphault', 'assembled', 'assembly', 'assign', 'assisted', 'assisting', 'associates', 'assorted', 'assortment', 'assume', 'ate', 'athlete', 'athletes', 'athletic', 'atm', 'atmospher', 'atop', 'atria', 'att', 'attach', 'attached', 'attack', 'attacking', 'attempt', 'attempted', 'attempting', 'attempts', 'attendant', 'attendants', 'attended', 'attending', 'attent', 'attentive', 'attire', 'attract', 'attractive', 'attracts', 'atv', 'audi', 'audience', 'australia', 'auto', 'autographs', 'automat', 'automatic', 'automobil', 'automobile', 'autotune', 'autumn', 'av', 'available', 'ave', 'avenu', 'aviator', 'avocadoes', 'avoid', 'await', 'awaiting', 'awaits', 'awake', 'away', 'awe', 'awkwardly', 'awn', 'awnings', 'axle', 'ayi', 'azure', 'b', 'ba', 'bab', 'babi', 'babies', 'baby', 'back', 'backdrop', 'backed', 'background', 'backhand', 'backhanded', 'backhoe', 'backlit', 'backpack', 'backpacks', 'backpocker', 'backs', 'backseat', 'backsplash', 'backward', 'backwards', 'backyard', 'bacon', 'bad', 'badg', 'badges', 'badly', 'baeball', 'bag', 'bagel', 'baggag', 'baggage', 'bagpip', 'bags', 'bails', 'bake', 'baked', 'baker', 'bakeri', 'bakers', 'bakery', 'bakes', 'bakgropund', 'baking', 'bal', 'balance', 'balances', 'balancing', 'balconi', 'balcony', 'bald', 'balding', 'bales', 'ball', 'ballcap', 'balloon', 'balloons', 'ballpark', 'ballplayer', 'balls', 'balone', 'bamboo', 'ban', 'banana', 'bananas', 'bananna', 'band', 'bandage', 'bandages', 'bandana', 'bandanna', 'bands', 'bangladesh', 'bangs', 'banist', 'banister', 'bank', 'banked', 'bankers', 'bann', 'banner', 'banners', 'banquet', 'bar', 'barak', 'barb', 'barbecue', 'barbecuing', 'barbed', 'barbeque', 'barber', 'barbershop', 'barbie', 'barbwire', 'bard', 'barding', 'bare', 'barefoot', 'barefooted', 'barell', 'barely', 'barge', 'barges', 'barhroom', 'barking', 'barn', 'barrack', 'barred', 'barrel', 'barrels', 'barren', 'barri', 'barricad', 'barricade', 'barrier', 'barriers', 'bars', 'bartend', 'bartender', 'bas', 'basball', 'base', 'basebal', 'baseball', 'baseline', 'baseman', 'bases', 'bashed', 'basil', 'basin', 'basket', 'basketbal', 'basketball', 'baskets', 'bass', 'baste', 'basted', 'bat', 'batch', 'baters', 'bath', 'bathing', 'bathroom', 'bathtub', 'bating', 'batman', 'baton', 'bats', 'batt', 'batter', 'batters', 'battery', 'batting', 'battleship', 'bay', 'bazaar', 'bbq', 'beach', 'beached', 'beachgo', 'beachgoers', 'beak', 'beaked', 'beam', 'beams', 'bean', 'beanie', 'beans', 'bear', 'beard', 'bearded', 'bearing', 'bears', 'beast', 'beat', 'beautiful', 'beauty', 'become', 'becomes', 'becoming', 'bed', 'bedroom', 'beds', 'bedspread', 'bee', 'beef', 'beer', 'beers', 'bef', 'befor', 'begging', 'begin', 'beginning', 'begins', 'behind', 'beige', 'belgium', 'bell', 'bellied', 'bellowing', 'belly', 'belong', 'belt', 'ben', 'bench', 'benched', 'benches', 'bend', 'bending', 'bends', 'beneath', 'bent', 'bentley', 'benz', 'berlin', 'berr', 'berri', 'berries', 'berry', 'besid', 'beside', 'besides', 'best', 'bet', 'bett', 'better', 'beverag', 'beverage', 'beverages', 'beware', 'beyond', 'bi', 'biathelete', 'bib', 'bicycl', 'bicycle', 'bicycles', 'bicyclist', 'bicyclists', 'bie', 'biere', 'big', 'bigger', 'bik', 'bike', 'biked', 'biker', 'bikers', 'bikes', 'biking', 'bikini', 'bikinis', 'bil', 'bile', 'bill', 'billboard', 'billed', 'billiards', 'billowing', 'billows', 'bin', 'bind', 'binocular', 'bins', 'biplan', 'biplane', 'biplanes', 'bird', 'birdbath', 'birdcage', 'birds', 'birth', 'birthday', 'biscuit', 'bit', 'bitch', 'bite', 'bites', 'biting', 'bits', 'bitten', 'bitter', 'bitumen', 'black', 'blackberry', 'blacktop', 'blad', 'blade', 'blades', 'blank', 'blanket', 'blankets', 'blanking', 'blast', 'blaz', 'bleach', 'bleachers', 'bleak', 'blend', 'blender', 'blind', 'blindfolded', 'blinds', 'block', 'blocked', 'blocking', 'blocks', 'blond', 'blonde', 'blondes', 'blood', 'bloody', 'blouse', 'blow', 'blowing', 'blown', 'blows', 'blu', 'blue', 'blueberries', 'bluejay', 'blues', 'bluetooth', 'bluewhite', 'bluff', 'blur', 'blurred', 'blurri', 'blurry', 'blvd', 'bmw', 'boad', 'boar', 'board', 'boarded', 'boarder', 'boarders', 'boarding', 'boardroom', 'boards', 'boardshorts', 'boardwalk', 'boat', 'boathouse', 'boating', 'boats', 'bobble', 'bodi', 'body', 'bodyboard', 'bodyboarding', 'boeing', 'boiler', 'boiling', 'boise', 'bold', 'bomb', 'bomber', 'bon', 'bones', 'boogey', 'boogie', 'boogiebody', 'book', 'bookcase', 'books', 'bookshelf', 'bookshelv', 'boom', 'booster', 'boot', 'booth', 'boots', 'booty', 'booz', 'bor', 'border', 'bordered', 'bordering', 'bored', 'boston', 'bottl', 'bottle', 'bottled', 'bottles', 'bottom', 'bought', 'boulder', 'boulevard', 'bounces', 'bouncing', 'bouquet', 'bovine', 'bow', 'bowels', 'bowl', 'bowling', 'bowls', 'box', 'boxcar', 'boxer', 'boxers', 'boxes', 'boxing', 'boy', 'boyfriend', 'boys', 'br', 'brace', 'bracelets', 'braces', 'bradley', 'braid', 'brain', 'brakes', 'branch', 'branches', 'brand', 'brandy', 'bratwurst', 'brav', 'brave', 'bray', 'bre', 'bread', 'breadfast', 'breadstick', 'breadsticks', 'break', 'breakfast', 'breaking', 'breaks', 'breast', 'breathtak', 'breed', 'breweri', 'brick', 'bricked', 'bricks', 'bride', 'brides', 'bridg', 'bridge', 'bridl', 'bridle', 'bridled', 'brief', 'briefcas', 'briefcase', 'brigade', 'bright', 'brightly', 'brilliantly', 'brindled', 'bring', 'bringing', 'bristol', 'british', 'broccoflower', 'broccoli', 'brochur', 'broke', 'broken', 'bronco', 'bros', 'brother', 'brown', 'browni', 'browns', 'browsing', 'bruce', 'brush', 'brushed', 'brushes', 'brushing', 'bryson', 'bu', 'bubbl', 'bubble', 'bubblegum', 'bubbles', 'buck', 'bucket', 'buckets', 'bucking', 'buckingham', 'buckled', 'bucnh', 'bud', 'buddha', 'buddy', 'buds', 'budweiser', 'buffalo', 'buffet', 'bug', 'buggies', 'buggy', 'bugs', 'buidling', 'build', 'building', 'buildings', 'built', 'bul', 'buld', 'bule', 'bulging', 'bulid', 'bull', 'bulldozer', 'bullet', 'bullpen', 'bulls', 'bumb', 'bump', 'bumper', 'bumping', 'bun', 'bunch', 'bunches', 'bundle', 'bundled', 'bundles', 'bunk', 'bunks', 'bunni', 'bunny', 'bunt', 'bunting', 'bunts', 'buoyant', 'bureau', 'burger', 'burgundy', 'buried', 'burnt', 'burrito', 'bus', 'buses', 'bush', 'bushels', 'bushes', 'bushy', 'busi', 'busily', 'business', 'businesses', 'businessman', 'buss', 'busses', 'bust', 'busted', 'buster', 'bustling', 'busy', 'butcher', 'butt', 'butter', 'butterfli', 'butterfly', 'butting', 'button', 'buttons', 'butts', 'buy', 'buying', 'buzz', 'buzzards', 'bye', 'bystand', 'c', 'ca', 'cab', 'cabin', 'cabinet', 'cabinets', 'cable', 'cables', 'cabs', 'cactus', 'caf', 'cafe', 'cafeteria', 'caffe', 'cag', 'cage', 'caged', 'cages', 'cak', 'cake', 'cakes', 'cal', 'calculator', 'calf', 'calico', 'california', 'call', 'called', 'calls', 'calm', 'calves', 'came', 'camel', 'camera', 'cameraman', 'cameras', 'camouflage', 'camp', 'campbell', 'camper', 'campfir', 'campground', 'camping', 'canada', 'canadian', 'canal', 'canary', 'candl', 'candle', 'candled', 'candlelight', 'candles', 'candy', 'cane', 'caned', 'canisters', 'cano', 'canoe', 'canoes', 'canopi', 'canopies', 'canopy', 'cans', 'cant', 'cantaloupe', 'canvas', 'canyon', 'cap', 'capable', 'cape', 'capital', 'capitol', 'capped', 'cappuccino', 'capsule', 'capt', 'captain', 'caption', 'captive', 'captivity', 'captured', 'car', 'caramel', 'caravan', 'card', 'cardboard', 'cardiff', 'cardigan', 'cardinal', 'cards', 'care', 'careful', 'carelessly', 'cargo', 'caricature', 'caring', 'carnival', 'carous', 'carousal', 'carousel', 'carpet', 'carpeted', 'carri', 'carriag', 'carriage', 'carriages', 'carried', 'carrier', 'carries', 'carrot', 'carrots', 'carry', 'carrying', 'cars', 'cart', 'carting', 'carton', 'cartoon', 'cartoonish', 'carts', 'carves', 'cas', 'case', 'caserole', 'cases', 'casino', 'casserole', 'cassette', 'cast', 'casting', 'castl', 'castle', 'casts', 'casual', 'casually', 'cat', 'catalina', 'catamaran', 'catch', 'catcher', 'catchers', 'catches', 'catching', 'catchng', 'cate', 'catering', 'cathay', 'cathedral', 'cathing', 'cats', 'catting', 'cattl', 'cattle', 'caucasian', 'caught', 'cause', 'causing', 'caut', 'caution', 'cautionary', 'cautiously', 'cave', 'cayenne', 'ceil', 'ceiling', 'cel', 'celebr', 'celebrate', 'celebrates', 'celebrating', 'celebration', 'celebratory', 'celery', 'cell', 'cellar', 'cellphon', 'cellphone', 'cellphones', 'cellular', 'cement', 'cemeteri', 'cent', 'center', 'centerpiece', 'central', 'century', 'cer', 'ceramic', 'cereal', 'ceremoni', 'ceremonial', 'ceremony', 'cessna', 'cgi', 'ch', 'chain', 'chained', 'chains', 'chair', 'chairlift', 'chairs', 'challenge', 'champagn', 'champagne', 'chandelier', 'chang', 'change', 'changing', 'chao', 'chaotic', 'char', 'charact', 'character', 'characters', 'charcoal', 'charg', 'charged', 'charity', 'charlie', 'charm', 'charter', 'chase', 'chases', 'chasing', 'chat', 'chatting', 'chcoolate', 'check', 'checkerboard', 'checkerd', 'checkered', 'checking', 'checkout', 'checkpoint', 'checks', 'cheek', 'cheeky', 'cheep', 'cheer', 'cheering', 'cheers', 'chees', 'cheese', 'cheesecak', 'cheesecake', 'cheesy', 'chef', 'chefs', 'chemical', 'cherries', 'cherry', 'chess', 'chest', 'chested', 'chestnut', 'chests', 'chevy', 'chewed', 'chewing', 'chews', 'chicago', 'chick', 'chicken', 'chickens', 'chicks', 'chidden', 'chihuahua', 'chikd', 'child', 'children', 'childs', 'chili', 'chill', 'chilli', 'chilling', 'chilly', 'chin', 'china', 'chinese', 'chip', 'chips', 'chlid', 'chocolate', 'chocolates', 'choking', 'choose', 'choosing', 'chop', 'chopp', 'chopper', 'chopping', 'choppy', 'chops', 'chopstick', 'chopsticks', 'chose', 'christ', 'christma', 'christmas', 'chrome', 'chubby', 'chuck', 'church', 'cigarett', 'cigarette', 'cingular', 'cinnamon', 'circl', 'circle', 'circu', 'circular', 'circus', 'citgo', 'citizens', 'city', 'cityscap', 'cityscape', 'civil', 'civilians', 'clad', 'claim', 'clap', 'clapping', 'clasping', 'clasps', 'class', 'classic', 'classical', 'classroom', 'claus', 'clause', 'claw', 'clay', 'clean', 'cleaned', 'cleaning', 'cleans', 'clear', 'clearance', 'clearing', 'clearly', 'clears', 'cleat', 'cleats', 'cliff', 'clim', 'climb', 'climber', 'climbing', 'climbs', 'clip', 'clive', 'cloak', 'clock', 'clocks', 'clocktow', 'cloesd', 'clogging', 'clos', 'close', 'closed', 'closely', 'closer', 'closet', 'closeup', 'cloth', 'clothed', 'clothes', 'clothing', 'cloths', 'cloud', 'clouded', 'cloudless', 'clouds', 'cloudy', 'clown', 'clowns', 'clpse', 'club', 'clue', 'clump', 'cluster', 'clutches', 'clutching', 'clutt', 'clutter', 'cluttered', 'clydesdale', 'clydesdales', 'coach', 'coached', 'coal', 'coast', 'coastal', 'coaster', 'coastlin', 'coasts', 'coat', 'coats', 'cobble', 'cobbled', 'cobbler', 'cobbleston', 'cobblestone', 'cobblestones', 'cobweb', 'coca', 'cock', 'cocker', 'cockpit', 'cocks', 'cocktail', 'coconut', 'code', 'coffe', 'coffee', 'cog', 'coil', 'coin', 'coins', 'cok', 'coke', 'coking', 'cola', 'cold', 'coleslaw', 'collage', 'collar', 'collars', 'colleague', 'collect', 'collected', 'collection', 'collector', 'collie', 'collies', 'collis', 'colnett', 'color', 'colored', 'colorful', 'colorfully', 'coloring', 'colors', 'colt', 'column', 'columns', 'com', 'comb', 'combed', 'combination', 'combing', 'combo', 'combs', 'comcast', 'come', 'comes', 'comfort', 'comfortable', 'comfortably', 'comforter', 'comic', 'comically', 'coming', 'command', 'commanded', 'commanding', 'commands', 'commercial', 'community', 'commut', 'commuter', 'commuters', 'commuting', 'compact', 'compani', 'companion', 'companions', 'company', 'compare', 'compart', 'compartment', 'compensate', 'compete', 'competing', 'competit', 'competition', 'competitive', 'complete', 'completed', 'completely', 'completing', 'complex', 'comput', 'computer', 'computers', 'con', 'concealed', 'concentrates', 'concentrating', 'concert', 'conclusion', 'concret', 'concrete', 'condi', 'condiments', 'conditions', 'condo', 'conducting', 'conductor', 'conducts', 'cone', 'cones', 'confer', 'conference', 'confers', 'confidently', 'confus', 'confusing', 'congratulate', 'congratulating', 'congregate', 'connected', 'conner', 'consisting', 'consol', 'console', 'construct', 'constructing', 'construction', 'constructional', 'cont', 'contain', 'container', 'containers', 'containing', 'contains', 'contemplating', 'contemplative', 'contemplatively', 'contending', 'content', 'contents', 'continues', 'contrail', 'contrapt', 'contraption', 'contrast', 'contrasts', 'control', 'controlled', 'controller', 'controllers', 'controls', 'convenient', 'convent', 'convention', 'convers', 'conversation', 'converse', 'conversing', 'convert', 'converted', 'convertible', 'convey', 'conveyer', 'conveyor', 'cook', 'cooked', 'cookers', 'cooki', 'cookie', 'cooking', 'cooks', 'cool', 'cooler', 'cooling', 'cop', 'copious', 'cops', 'copy', 'copying', 'coral', 'corale', 'cord', 'corgy', 'cork', 'corn', 'corned', 'corner', 'cornfield', 'corona', 'corr', 'corral', 'corraled', 'corralled', 'correct', 'corrected', 'corrugated', 'cosplay', 'costum', 'costume', 'costumed', 'costumes', 'cottag', 'cotton', 'cottonwood', 'couch', 'couches', 'could', 'count', 'counter', 'counters', 'countertop', 'countri', 'country', 'countrysid', 'countryside', 'coupe', 'coupl', 'couple', 'couples', 'cours', 'course', 'court', 'courtroom', 'courtside', 'courtyard', 'cov', 'cover', 'coverage', 'coveralls', 'covered', 'covering', 'covers', 'coveted', 'cow', 'cowboy', 'cowboys', 'cowered', 'cows', 'cr', 'crab', 'crack', 'cracked', 'cracker', 'cradled', 'cradling', 'craft', 'crafts', 'crammed', 'cran', 'cranberry', 'crane', 'crash', 'crashed', 'crashes', 'crashing', 'crat', 'crate', 'crates', 'crawled', 'crawling', 'crayons', 'crazed', 'crazy', 'cream', 'create', 'creating', 'creative', 'creatur', 'credit', 'credits', 'creek', 'creepy', 'creme', 'crepe', 'crepes', 'crest', 'cresting', 'crests', 'crevass', 'crew', 'crib', 'cribs', 'cricket', 'croc', 'crocheted', 'crois', 'croiss', 'croissants', 'crook', 'crooked', 'crookedly', 'crop', 'cropped', 'crops', 'croquet', 'cross', 'crossbon', 'crossed', 'crosses', 'crossing', 'crosswalk', 'crotch', 'crouch', 'crouched', 'crouches', 'crouching', 'crow', 'crowd', 'crowded', 'crowding', 'crowds', 'crowed', 'crown', 'crows', 'cruise', 'cruiseboat', 'cruiser', 'cruising', 'crumbly', 'crumbs', 'crunch', 'crushed', 'crust', 'crusts', 'crutch', 'crying', 'crystal', 'cub', 'cuba', 'cubes', 'cubical', 'cubicle', 'cubs', 'cucumb', 'cucumber', 'cucumbers', 'cuddle', 'cuddled', 'cuddles', 'cuddling', 'cumfybus', 'cup', 'cupcak', 'cupcake', 'cupcakes', 'cupping', 'cups', 'curb', 'curios', 'curious', 'curiously', 'curled', 'curls', 'curly', 'curr', 'current', 'currently', 'curtain', 'curtains', 'curtsying', 'curv', 'curve', 'curved', 'curving', 'curvy', 'cushio', 'cushion', 'cushioned', 'custom', 'custome', 'customer', 'customers', 'customized', 'cut', 'cute', 'cutlery', 'cuts', 'cutter', 'cutting', 'cycl', 'cycle', 'cycles', 'cycling', 'cyclist', 'cyclists', 'cylinders', 'dad', 'daddi', 'daddy', 'dairy', 'dalmatian', 'dam', 'damaged', 'damp', 'danc', 'dancer', 'dancing', 'dangerous', 'dangling', 'daniels', 'dark', 'darkened', 'darth', 'dashboard', 'daughter', 'davenport', 'davidson', 'day', 'dayb', 'daylight', 'daytim', 'dazzling', 'dead', 'deal', 'dealership', 'debri', 'debris', 'dec', 'decal', 'decals', 'deck', 'decked', 'decker', 'deckered', 'deco', 'decor', 'decorate', 'decorated', 'decorates', 'decorating', 'decoration', 'decorations', 'decorative', 'decrative', 'dedicated', 'deep', 'deeply', 'deer', 'defac', 'defaced', 'defending', 'defensive', 'definitely', 'deflated', 'deflating', 'defy', 'del', 'deli', 'delicacy', 'delicious', 'deliver', 'delivering', 'delivers', 'delivery', 'dell', 'delta', 'demonic', 'demonstrated', 'demonstrating', 'demonstration', 'denim', 'denotes', 'denoting', 'dense', 'densely', 'dentist', 'departing', 'department', 'departur', 'depict', 'depicted', 'depicting', 'depicts', 'deplaning', 'depot', 'derby', 'descending', 'describing', 'description', 'desert', 'deserted', 'deserts', 'desgin', 'design', 'designated', 'designed', 'designs', 'desk', 'desks', 'desktop', 'desolate', 'despondent', 'dessert', 'desserts', 'destin', 'destroy', 'detailed', 'detailing', 'details', 'detroit', 'develop', 'developed', 'developing', 'devic', 'device', 'devices', 'devil', 'devoted', 'dhl', 'diamond', 'diaper', 'diced', 'dicing', 'dictator', 'dicussion', 'diecast', 'diesel', 'diet', 'differ', 'different', 'differently', 'differing', 'difficult', 'dig', 'digging', 'digital', 'digitally', 'dignitary', 'dilapidated', 'dim', 'dimensional', 'dimly', 'din', 'dine', 'diner', 'diners', 'ding', 'dinging', 'dining', 'dinn', 'dinner', 'dinning', 'dinosaur', 'diorama', 'dip', 'dipped', 'dips', 'direct', 'directing', 'direction', 'directional', 'directions', 'directly', 'directs', 'dirt', 'dirtbik', 'dirtbike', 'dirty', 'disabled', 'disc', 'discarded', 'discovering', 'discuss', 'discussing', 'discussion', 'disembark', 'disembarking', 'disembodied', 'disgusted', 'dish', 'dishes', 'dishwasher', 'disk', 'disney', 'disorganized', 'dispens', 'dispenser', 'display', 'displayed', 'displaying', 'displays', 'disrupt', 'dist', 'distance', 'distant', 'distantly', 'distorted', 'distracted', 'district', 'ditch', 'divers', 'diverse', 'dives', 'divid', 'divide', 'divided', 'dividers', 'diving', 'dj', 'dmv', 'doberman', 'dock', 'docked', 'docking', 'docks', 'docor', 'doctors', 'dodge', 'dodgers', 'dog', 'doggie', 'doggy', 'dogs', 'doili', 'dol', 'doll', 'dollar', 'dollhouse', 'dolli', 'dolls', 'dolly', 'dome', 'domed', 'domino', 'done', 'dong', 'donkey', 'donkeys', 'donut', 'donuts', 'doodling', 'door', 'doors', 'doorway', 'dora', 'dot', 'dotted', 'doubl', 'double', 'doubles', 'dough', 'doughnut', 'doughnuts', 'dour', 'downed', 'downhil', 'downhill', 'downstairs', 'downtown', 'downturned', 'downward', 'doz', 'dozen', 'dozens', 'dr', 'draft', 'drag', 'dragged', 'dragging', 'dragon', 'drain', 'drainage', 'dramatic', 'drap', 'draped', 'draw', 'drawer', 'drawers', 'drawing', 'drawings', 'drawn', 'dreadlocks', 'dreads', 'dreamliner', 'dreary', 'dress', 'dressage', 'dressed', 'dresser', 'dresses', 'drib', 'dribbles', 'dried', 'dries', 'drifting', 'drifts', 'dril', 'drill', 'drills', 'drink', 'drinking', 'drinks', 'drins', 'driv', 'drive', 'driven', 'driver', 'drivers', 'drives', 'driveway', 'driving', 'drizzled', 'drop', 'dropkick', 'droplets', 'dropped', 'dropping', 'drove', 'drown', 'drum', 'drums', 'dry', 'dryer', 'drying', 'duck', 'ducks', 'dude', 'dudley', 'duffel', 'duffle', 'dugout', 'duit', 'dumb', 'dummies', 'dummy', 'dump', 'dumping', 'dumpster', 'dunkin', 'durfer', 'dusk', 'dust', 'dusty', 'dvd', 'dwel', 'dye', 'dynamit', 'e', 'eager', 'eagerly', 'eagl', 'eagle', 'ear', 'eare', 'earlier', 'early', 'earmarks', 'earphones', 'ears', 'earth', 'easel', 'easier', 'easily', 'east', 'easy', 'eat', 'eaten', 'eateri', 'eating', 'eats', 'ebook', 'eclectic', 'edg', 'edge', 'edged', 'edges', 'edited', 'edmonton', 'effect', 'effected', 'egg', 'eggs', 'egyptian', 'eiffel', 'eight', 'either', 'elaborate', 'elbow', 'elbows', 'elderly', 'electric', 'electrical', 'electricity', 'electron', 'electronic', 'electronics', 'eleph', 'elephant', 'elephants', 'elev', 'elevated', 'elevator', 'elf', 'els', 'else', 'emaciated', 'embedded', 'embrac', 'embracing', 'embrella', 'emerg', 'emergency', 'emerging', 'emirates', 'emits', 'emitting', 'emo', 'emote', 'emphatically', 'employe', 'employee', 'employees', 'empti', 'empty', 'emptying', 'enclosed', 'enclosur', 'enclosure', 'encompassed', 'encompassing', 'end', 'enforcement', 'engage', 'engaged', 'engages', 'engaging', 'engin', 'engine', 'engines', 'enging', 'england', 'english', 'engulf', 'enhanced', 'enjoy', 'enjoying', 'enjoys', 'enlisted', 'enormous', 'enough', 'enraptur', 'ensues', 'enter', 'entering', 'enters', 'entertain', 'entertained', 'entertaining', 'entertainment', 'enthusiastically', 'enthusiasts', 'entourage', 'entr', 'entrance', 'entry', 'enveloping', 'environ', 'environmental', 'envrio', 'epizza', 'equestrian', 'equine', 'equip', 'equipment', 'equipped', 'era', 'erect', 'erectly', 'ericsson', 'erotically', 'erson', 'escal', 'escalator', 'escort', 'escorted', 'especially', 'esplanade', 'establish', 'establishments', 'estate', 'ethier', 'eu', 'europ', 'european', 'ev', 'eva', 'even', 'evening', 'event', 'ever', 'evergreen', 'every', 'everyone', 'everything', 'everywhere', 'evil', 'ex', 'exact', 'examine', 'examined', 'examines', 'examining', 'except', 'exchange', 'exchanging', 'excited', 'excitedly', 'executes', 'exercise', 'exercises', 'exercising', 'exhausting', 'exhibit', 'exit', 'exiting', 'expanse', 'expansive', 'expectantly', 'experience', 'experiencing', 'explain', 'explaining', 'exploding', 'explore', 'expos', 'exposing', 'exposur', 'exposure', 'express', 'expressing', 'expression', 'extended', 'extending', 'extends', 'extinguisher', 'extra', 'extreme', 'extremely', 'ey', 'eye', 'eyed', 'eyeglass', 'eyes', 'f', 'fabr', 'fabric', 'fac', 'facade', 'face', 'faced', 'faces', 'facial', 'facil', 'facility', 'facing', 'factor', 'factori', 'factory', 'faded', 'fail', 'fair', 'fairly', 'fake', 'fal', 'falafel', 'falcon', 'fall', 'fallen', 'falling', 'falls', 'fame', 'famili', 'families', 'family', 'famous', 'fan', 'fancy', 'fans', 'far', 'farm', 'farmer', 'farmers', 'farms', 'farther', 'fascin', 'fascinated', 'fashion', 'fashionable', 'fashioned', 'fast', 'fastbal', 'fat', 'fath', 'father', 'fathers', 'faucet', 'faucets', 'favorite', 'fe', 'feast', 'feasting', 'feath', 'feather', 'feathered', 'feathers', 'featur', 'featured', 'features', 'featuring', 'fed', 'fedex', 'fedora', 'feed', 'feeder', 'feeding', 'feeds', 'feeling', 'feelings', 'feet', 'feild', 'fel', 'fell', 'fellow', 'felt', 'femal', 'female', 'females', 'feminine', 'fence', 'fenced', 'fencing', 'fender', 'ferguson', 'fern', 'ferrari', 'ferri', 'ferris', 'ferry', 'fest', 'festiv', 'festival', 'festive', 'fetch', 'fetish', 'field', 'fielder', 'fields', 'fierce', 'fifteen', 'fifth', 'figher', 'fight', 'fighter', 'fighters', 'fighting', 'figur', 'figure', 'figures', 'figurine', 'figurines', 'fil', 'file', 'filed', 'fileed', 'filing', 'fill', 'filled', 'filling', 'film', 'filming', 'films', 'filter', 'filtered', 'filthy', 'final', 'finchingfield', 'find', 'finds', 'fine', 'fing', 'finger', 'fingers', 'fingertip', 'finish', 'finished', 'finishes', 'finishing', 'fins', 'fir', 'fire', 'firefighters', 'firehose', 'fireman', 'firemen', 'fireplac', 'fireplace', 'firetruck', 'fireworks', 'firsbe', 'firsbee', 'first', 'fish', 'fisherman', 'fisheye', 'fishing', 'fist', 'fistfuls', 'fit', 'fits', 'fitted', 'five', 'fives', 'fix', 'fixated', 'fixed', 'fixes', 'fixin', 'fixing', 'fixins', 'fixtur', 'flag', 'flaggers', 'flagpole', 'flags', 'flagstone', 'flailing', 'flame', 'flames', 'flaming', 'flamingo', 'flamingos', 'flanked', 'flapping', 'flaps', 'flares', 'flash', 'flashes', 'flashing', 'flashlight', 'flask', 'flat', 'flatb', 'flatbed', 'flatbread', 'flattened', 'flavor', 'flavored', 'flea', 'fleet', 'flesh', 'fli', 'fliers', 'flies', 'flight', 'fling', 'flip', 'flipp', 'flipped', 'flipping', 'flips', 'flo', 'float', 'floatboard', 'floaters', 'floating', 'floats', 'flock', 'flocks', 'flood', 'flooded', 'floor', 'flooring', 'floors', 'flops', 'floral', 'florescent', 'floret', 'flow', 'flower', 'flowerb', 'flowering', 'flowerpot', 'flowers', 'flowery', 'flowing', 'flown', 'fluffed', 'fluffy', 'flurry', 'flut', 'flute', 'flutter', 'fly', 'flying', 'flys', 'fo', 'foal', 'foam', 'foamy', 'focu', 'focus', 'focused', 'fog', 'foggy', 'foil', 'fold', 'folded', 'folding', 'foliag', 'foliage', 'folks', 'follow', 'followed', 'following', 'follows', 'fond', 'food', 'foods', 'foodstuffs', 'foot', 'footage', 'footbal', 'football', 'footbridg', 'footed', 'footer', 'foothil', 'footlong', 'footprints', 'foraging', 'forc', 'force', 'forces', 'ford', 'fording', 'forefront', 'foreground', 'forehand', 'forehead', 'foreign', 'forest', 'forested', 'forestry', 'forground', 'fork', 'forklift', 'forks', 'form', 'formal', 'formally', 'formation', 'forming', 'forrest', 'forward', 'foul', 'fouling', 'found', 'fountain', 'four', 'fourth', 'fowl', 'fox', 'foxes', 'foyer', 'fram', 'frame', 'framed', 'frames', 'france', 'francisco', 'frapp', 'free', 'freely', 'freeway', 'freez', 'freeze', 'freezer', 'freight', 'french', 'fresh', 'freshly', 'fri', 'fridg', 'fridge', 'fried', 'frieghtt', 'friend', 'friends', 'fries', 'frirnd', 'frisb', 'frisbe', 'frisbee', 'frisbees', 'frisbi', 'frisbie', 'frisby', 'frise', 'frito', 'frizbe', 'fro', 'frolic', 'frolicking', 'fron', 'frond', 'front', 'frontier', 'fronting', 'frosbee', 'frost', 'frosted', 'frosting', 'frown', 'frowning', 'froyo', 'frozen', 'fruit', 'fruits', 'fruity', 'fry', 'frying', 'fuel', 'fueled', 'fueli', 'ful', 'full', 'fulled', 'fully', 'fun', 'function', 'funded', 'fundrais', 'funer', 'funky', 'funnel', 'funny', 'fur', 'furnitur', 'furniture', 'furry', 'futon', 'futuristic', 'g', 'ga', 'gadget', 'gag', 'gaily', 'gaining', 'gallop', 'galloping', 'gam', 'game', 'games', 'gaming', 'gang', 'ganging', 'gap', 'garag', 'garage', 'garbag', 'garbage', 'garden', 'gardeners', 'garlic', 'garmin', 'gas', 'gate', 'gated', 'gates', 'gath', 'gather', 'gathered', 'gathering', 'gathers', 'gatorad', 'gauchos', 'gauges', 'gay', 'gazes', 'gazing', 'gear', 'gears', 'gee', 'geek', 'geese', 'geisha', 'generated', 'generations', 'genius', 'gentle', 'gentleman', 'gentlemen', 'geometric', 'georgetown', 'german', 'germani', 'gesture', 'gestures', 'get', 'gets', 'getting', 'giant', 'giants', 'giddy', 'gift', 'gifts', 'gigantic', 'gil', 'ginger', 'giraff', 'giraffe', 'giraffes', 'girdle', 'girl', 'girls', 'give', 'given', 'gives', 'giving', 'giza', 'glar', 'glaring', 'glass', 'glasses', 'glasswar', 'glassware', 'glassy', 'glaze', 'glazed', 'glid', 'glider', 'glides', 'gliding', 'glistening', 'glob', 'globs', 'gloomy', 'glov', 'glove', 'gloves', 'glow', 'glowing', 'gnar', 'go', 'goal', 'goalie', 'goat', 'goats', 'god', 'godzilla', 'goes', 'goggl', 'goggles', 'goi', 'going', 'gold', 'golden', 'golf', 'golfer', 'gondala', 'gondola', 'gone', 'gong', 'goo', 'good', 'goodbye', 'goods', 'gooey', 'goofing', 'goofy', 'googl', 'googley', 'googly', 'goose', 'gorilla', 'got', 'gothic', 'gotten', 'gown', 'gr', 'grab', 'grabbing', 'grabs', 'gradd', 'gradual', 'graduate', 'graduation', 'graf', 'graff', 'graffias', 'graffiti', 'grafitti', 'grainy', 'grand', 'granddaughter', 'grandma', 'granite', 'grap', 'grape', 'grapes', 'graphic', 'grasping', 'grass', 'grasscovered', 'grasses', 'grassin', 'grassland', 'grassy', 'grating', 'gravel', 'gravely', 'gray', 'grayish', 'graz', 'graze', 'grazes', 'grazing', 'greasy', 'great', 'greek', 'green', 'greeneri', 'greenery', 'greenhous', 'greenhouse', 'greens', 'greet', 'greeting', 'greien', 'grey', 'greyyellow', 'grid', 'griddle', 'gril', 'grill', 'grilled', 'grilling', 'grimly', 'grind', 'grinder', 'grinding', 'grinds', 'gringing', 'grinning', 'grips', 'grizzly', 'grocer', 'groceri', 'groceries', 'grocery', 'groom', 'groomed', 'grooming', 'groud', 'ground', 'grounded', 'group', 'groupd', 'grouped', 'grouping', 'groups', 'grove', 'growing', 'grown', 'growth', 'grumpy', 'guard', 'guarding', 'guards', 'guest', 'guide', 'guided', 'guiding', 'guitar', 'guitars', 'gulls', 'gumdrop', 'gun', 'guns', 'gushing', 'gust', 'gutted', 'gutter', 'guy', 'guys', 'gym', 'gymnasium', 'h', 'ha', 'habit', 'habitat', 'hair', 'hairbrush', 'haircut', 'hairdry', 'hairdryer', 'haired', 'hairless', 'hairnets', 'hairy', 'hal', 'half', 'halfheartedly', 'halfpip', 'halfway', 'hall', 'hallway', 'halo', 'halter', 'halved', 'ham', 'hamburg', 'hamburger', 'hamburgers', 'hamm', 'hamma', 'hammer', 'hammock', 'hand', 'handbag', 'handed', 'handheld', 'handicapped', 'handing', 'handl', 'handle', 'handlebar', 'handlebars', 'handled', 'handler', 'handles', 'handling', 'handmade', 'handrail', 'hands', 'handsome', 'handstand', 'hang', 'hangar', 'hanger', 'hanging', 'hangs', 'hank', 'happen', 'happening', 'happi', 'happily', 'happy', 'har', 'harbor', 'hard', 'hardware', 'hardwood', 'harley', 'harness', 'harnessed', 'harper', 'harvesting', 'hash', 'hat', 'hatch', 'hatchback', 'hatcher', 'hate', 'hats', 'hauler', 'hauling', 'havoc', 'hawaiian', 'hawk', 'hawks', 'hay', 'haz', 'hazy', 'head', 'headband', 'headboard', 'headdress', 'headed', 'headgear', 'heading', 'headless', 'headlights', 'headphon', 'headphones', 'headpiece', 'headring', 'heads', 'headscarves', 'headset', 'health', 'healthy', 'hear', 'heard', 'heart', 'hearts', 'hearty', 'heat', 'heated', 'heavy', 'hedg', 'hedges', 'heels', 'height', 'heinz', 'heir', 'held', 'helicopt', 'helicopter', 'hello', 'helmet', 'helmets', 'help', 'helping', 'helps', 'herb', 'herd', 'herded', 'herding', 'herds', 'hero', 'heron', 'herselg', 'hertz', 'hexagonal', 'hey', 'hi', 'hid', 'hidden', 'hides', 'hiding', 'high', 'highchair', 'highest', 'highrise', 'highway', 'hijab', 'hike', 'hikers', 'hiking', 'hil', 'hilding', 'hill', 'hills', 'hillsid', 'hillside', 'hilly', 'hind', 'hip', 'hips', 'hipster', 'hipsters', 'hissing', 'historic', 'historical', 'history', 'hit', 'hitched', 'hitches', 'hits', 'hitter', 'hitting', 'hll', 'hoagie', 'hockey', 'hods', 'hog', 'hol', 'hold', 'holder', 'holding', 'holds', 'hole', 'holes', 'holiday', 'holing', 'hollywood', 'holster', 'holw', 'hom', 'home', 'homeless', 'homemad', 'homemade', 'homeplate', 'homosexual', 'honk', 'hood', 'hooded', 'hoodi', 'hoodie', 'hooding', 'hoods', 'hoof', 'hook', 'hooked', 'hookup', 'hoop', 'hoov', 'hope', 'hopefully', 'hoping', 'horizon', 'horizontally', 'horn', 'horned', 'horns', 'hors', 'horse', 'horseback', 'horses', 'hos', 'hose', 'hosed', 'hoses', 'hospital', 'hospitalized', 'host', 'hot', 'hotdog', 'hotdogs', 'hotel', 'hotels', 'hound', 'hour', 'hours', 'hous', 'house', 'household', 'houseplant', 'houses', 'housing', 'hovering', 'hovers', 'hp', 'hr', 'htc', 'huddle', 'hug', 'huge', 'hugging', 'hula', 'human', 'humm', 'humming', 'hummingbird', 'hummingbirds', 'humongous', 'hump', 'hunched', 'hundreds', 'hung', 'hungry', 'hunting', 'hurdl', 'hurry', 'hurrying', 'hurts', 'husband', 'husky', 'hut', 'hybrid', 'hydr', 'hydrant', 'hydrants', 'hyrd', 'iamge', 'ic', 'ice', 'icebox', 'iceland', 'icing', 'icon', 'icy', 'id', 'identical', 'idiot', 'idle', 'idles', 'idol', 'idyllic', 'ignor', 'ignoring', 'ikea', 'illegal', 'illuminated', 'illuminates', 'illustration', 'imag', 'image', 'images', 'imbibing', 'imitating', 'impact', 'impaled', 'imposing', 'impressive', 'improbably', 'ina', 'inches', 'inching', 'incline', 'include', 'includes', 'including', 'incoming', 'incred', 'indian', 'indicates', 'indicating', 'individual', 'individuals', 'indoor', 'indoors', 'indow', 'industri', 'industrial', 'infamous', 'infant', 'infield', 'inflatable', 'inform', 'information', 'ingredi', 'ingredients', 'injured', 'inks', 'inner', 'inserting', 'insid', 'inside', 'inspect', 'inspected', 'inspecting', 'inspects', 'installing', 'instead', 'instru', 'instructional', 'instructions', 'instructor', 'instructs', 'instrument', 'instruments', 'int', 'intended', 'intense', 'intensely', 'intent', 'intently', 'interacting', 'interactive', 'interacts', 'interest', 'interesting', 'interior', 'international', 'internet', 'intersect', 'intersecting', 'intersection', 'interssect', 'interst', 'interstate', 'interview', 'interviewed', 'inthe', 'intimate', 'intimidating', 'intricately', 'investigating', 'invisible', 'involved', 'involves', 'ion', 'iphone', 'ipod', 'iraq', 'iridescent', 'iron', 'island', 'isles', 'isol', 'israeli', 'italia', 'italy', 'item', 'items', 'ith', 'izod', 'j', 'jack', 'jacket', 'jackets', 'jail', 'jalapeno', 'jam', 'jammed', 'japan', 'japanese', 'jar', 'jars', 'jay', 'jean', 'jeans', 'jeep', 'jeff', 'jelly', 'jersey', 'jerseys', 'jersies', 'jester', 'jesus', 'jet', 'jetfighter', 'jetlin', 'jetliner', 'jets', 'jetti', 'jettisons', 'jetty', 'jetway', 'jetways', 'jeweled', 'jewelry', 'job', 'jock', 'jockey', 'jockeys', 'jockies', 'jogging', 'john', 'join', 'joined', 'joining', 'joint', 'joke', 'journalists', 'journey', 'joust', 'joy', 'joyfully', 'joystick', 'jpg', 'judge', 'jug', 'juggling', 'juic', 'juice', 'juicy', 'july', 'jumble', 'jumbo', 'jump', 'jumped', 'jumper', 'jumping', 'jumps', 'junct', 'junction', 'jungl', 'jungle', 'junk', 'junked', 'kabob', 'kanji', 'karaoke', 'kawasaki', 'kayak', 'kayaks', 'keep', 'keeper', 'keeps', 'kempt', 'kenya', 'kernel', 'kerri', 'kerry', 'ketchup', 'kettl', 'kettle', 'key', 'keyboard', 'keyboards', 'keys', 'khaki', 'kick', 'kicking', 'kicks', 'kickstand', 'kid', 'kiddie', 'kids', 'kilt', 'kimonos', 'kind', 'kinds', 'king', 'kingdom', 'kingfisher', 'kiosk', 'kiss', 'kissing', 'kit', 'kitchen', 'kitchenette', 'kite', 'kiteboard', 'kiteboarding', 'kiteboards', 'kites', 'kitten', 'kittens', 'kitti', 'kitties', 'kitting', 'kitty', 'kiwi', 'klm', 'kne', 'kneading', 'knee', 'kneel', 'kneeling', 'kneels', 'knees', 'knickknacks', 'knif', 'knife', 'knifed', 'knight', 'knit', 'knitted', 'knitting', 'knocked', 'knol', 'knot', 'know', 'korean', 'kreme', 'krispee', 'krispy', 'l', 'la', 'lab', 'label', 'labeled', 'labels', 'labrador', 'lace', 'lacrosse', 'ladder', 'ladders', 'laden', 'lades', 'ladi', 'ladies', 'ladle', 'lady', 'ladybug', 'lage', 'lagoon', 'laid', 'lak', 'lake', 'lakers', 'lama', 'lamb', 'lambs', 'lamp', 'lampost', 'lamppost', 'lamps', 'lan', 'lancashir', 'land', 'landed', 'landing', 'lands', 'landscap', 'landscape', 'landscaped', 'lane', 'lanes', 'languag', 'language', 'lanyard', 'lap', 'lapel', 'lapels', 'lapful', 'lapse', 'laptop', 'laptops', 'larg', 'large', 'largely', 'larger', 'lash', 'lasso', 'last', 'late', 'later', 'lattice', 'laugh', 'laughing', 'laughs', 'launch', 'launches', 'launching', 'lavend', 'lavishly', 'law', 'lawn', 'lay', 'layer', 'layered', 'laying', 'lays', 'lazily', 'lazing', 'lazy', 'lcd', 'lead', 'leader', 'leaders', 'leading', 'leads', 'leaf', 'leafless', 'leafy', 'leagu', 'league', 'leaguer', 'leak', 'leaking', 'leaks', 'leaky', 'lean', 'leaned', 'leaning', 'leans', 'leap', 'leaping', 'leaps', 'learn', 'learning', 'learns', 'leash', 'least', 'leather', 'leav', 'leave', 'leavened', 'leaves', 'leaving', 'lecture', 'led', 'ledg', 'ledge', 'left', 'leg', 'legged', 'lego', 'legs', 'lei', 'lemonade', 'len', 'length', 'lens', 'leopard', 'less', 'lesson', 'let', 'letter', 'lettered', 'lettering', 'letters', 'letting', 'lettuc', 'lettuce', 'level', 'leveled', 'levels', 'lever', 'levitates', 'liberty', 'librari', 'library', 'license', 'lick', 'licked', 'licking', 'licks', 'lid', 'lids', 'lie', 'lien', 'lies', 'lif', 'life', 'lifeguard', 'lift', 'lifted', 'lifting', 'light', 'lighted', 'lighter', 'lighthous', 'lighthouse', 'lighting', 'lightly', 'lights', 'liing', 'like', 'likes', 'lilac', 'limb', 'lime', 'limit', 'limo', 'lin', 'lincoln', 'linda', 'line', 'lined', 'liner', 'lines', 'lining', 'link', 'links', 'lion', 'lions', 'lip', 'lips', 'lipstick', 'liquid', 'liquor', 'listed', 'listen', 'listened', 'listening', 'listens', 'lit', 'litt', 'litte', 'littie', 'little', 'live', 'lively', 'livering', 'livestock', 'livin', 'living', 'lizard', 'ln', 'load', 'loaded', 'loading', 'loads', 'loaf', 'loan', 'lobbi', 'lobby', 'lobster', 'loc', 'local', 'located', 'lock', 'locked', 'locking', 'locomot', 'locomotive', 'lodg', 'lodge', 'lodges', 'loft', 'log', 'logo', 'logs', 'lollipop', 'london', 'lone', 'lonely', 'long', 'longboard', 'look', 'looked', 'looking', 'looks', 'loom', 'loop', 'loose', 'lor', 'lorry', 'los', 'losing', 'lot', 'lotion', 'lots', 'loui', 'louis', 'loung', 'lounge', 'lounges', 'lounging', 'lov', 'love', 'lovely', 'loveseat', 'loving', 'low', 'lower', 'lsu', 'lucky', 'lufthansa', 'luggag', 'luggage', 'luggages', 'lunch', 'luncheon', 'lung', 'lunging', 'lurching', 'lush', 'lusting', 'luxury', 'lying', 'mac', 'macaroni', 'macaws', 'macbook', 'machin', 'machine', 'machineri', 'machinery', 'machines', 'mad', 'made', 'madly', 'magazin', 'magazine', 'magazines', 'magic', 'magnet', 'magnets', 'magnificent', 'magnifying', 'maid', 'maiden', 'mail', 'mailbox', 'mailed', 'main', 'maintained', 'maintaining', 'mainten', 'maintenance', 'majestically', 'major', 'mak', 'make', 'makes', 'makeshift', 'makeup', 'making', 'mal', 'male', 'males', 'mall', 'mama', 'man', 'manatee', 'manb', 'mane', 'manequins', 'maneuv', 'maneuver', 'maneuvers', 'mango', 'mangoing', 'mangrov', 'manhattan', 'manipulate', 'manipulated', 'manly', 'mann', 'mannequin', 'mannequins', 'manning', 'mans', 'mantel', 'mantle', 'manu', 'manueverin', 'manuevers', 'manufacturing', 'many', 'marble', 'march', 'marching', 'mare', 'marina', 'marine', 'mariner', 'mario', 'mark', 'marked', 'marker', 'markers', 'market', 'marketplac', 'markets', 'markings', 'maroon', 'marquee', 'marri', 'married', 'marsh', 'marshmallows', 'martial', 'martinis', 'mascot', 'mashed', 'mask', 'masked', 'masks', 'mason', 'masonry', 'mass', 'massive', 'massively', 'master', 'mat', 'match', 'matching', 'mate', 'materi', 'material', 'mates', 'matt', 'matted', 'matter', 'mattress', 'mature', 'may', 'mayor', 'mcclellan', 'mcdonald', 'mcintosh', 'meadow', 'meal', 'meals', 'mean', 'meandering', 'meanders', 'means', 'meanwhil', 'measure', 'measuring', 'meat', 'meatball', 'meats', 'mechanical', 'mechanism', 'med', 'medal', 'medals', 'median', 'medic', 'medical', 'medieval', 'medium', 'meet', 'meeting', 'melancholy', 'mell', 'melon', 'melted', 'melting', 'member', 'members', 'memori', 'memorial', 'men', 'mens', 'menu', 'meow', 'mercedes', 'merchandise', 'merchant', 'merchants', 'merge', 'merida', 'merry', 'mesh', 'mess', 'messag', 'message', 'messily', 'messing', 'messy', 'met', 'metal', 'metallic', 'meter', 'meters', 'metro', 'metropolitan', 'mets', 'metter', 'mexican', 'mexico', 'mibs', 'mic', 'michael', 'mickey', 'microphon', 'microphone', 'microphones', 'microwav', 'microwave', 'mid', 'midair', 'middl', 'middle', 'midi', 'midst', 'migrating', 'military', 'milk', 'milking', 'milkshak', 'milkshake', 'mill', 'mills', 'mime', 'mimicking', 'mimics', 'mini', 'miniature', 'miniatures', 'minister', 'mink', 'minnesota', 'minnie', 'minster', 'mint', 'minute', 'minutes', 'miroor', 'mirror', 'mirrored', 'mischievously', 'miser', 'missed', 'misses', 'missing', 'misty', 'mitt', 'mittin', 'mix', 'mixed', 'mixer', 'mixing', 'mixture', 'mmm', 'mobil', 'mobile', 'model', 'modeling', 'models', 'moderately', 'modern', 'modernized', 'modifgied', 'modified', 'mohawk', 'moire', 'mom', 'moment', 'money', 'monitor', 'monitors', 'monk', 'monkey', 'monks', 'monopoly', 'monorail', 'monster', 'montage', 'monu', 'monument', 'moon', 'moored', 'mooring', 'moose', 'mop', 'moped', 'mopeds', 'mopped', 'mor', 'mosaic', 'moseying', 'mosqu', 'mossy', 'mostly', 'mot', 'mote', 'motel', 'motels', 'motercycl', 'moth', 'mother', 'motif', 'motion', 'motions', 'motivational', 'motocross', 'motor', 'motorbik', 'motorbike', 'motorbikes', 'motorboat', 'motorcad', 'motorcycl', 'motorcycle', 'motorcyclers', 'motorcycles', 'motorcyclist', 'motorcyclists', 'motorcyl', 'motorcylc', 'motorcyle', 'motorcyles', 'motoring', 'motorists', 'motorized', 'mound', 'mounds', 'mountain', 'mountainous', 'mountains', 'mountainsid', 'mounted', 'mountian', 'mous', 'mouse', 'mousepad', 'mouses', 'moutain', 'mouth', 'mov', 'move', 'moved', 'movement', 'moves', 'movi', 'movie', 'moving', 'movingand', 'mow', 'mowed', 'mower', 'mozzarella', 'mp', 'much', 'mud', 'muddy', 'mue', 'muel', 'muffin', 'mug', 'mugging', 'mukes', 'mulitcolored', 'multe', 'multi', 'multicolored', 'multiple', 'multistory', 'munch', 'munching', 'mur', 'mural', 'murals', 'mus', 'muscles', 'muscular', 'museum', 'mushroom', 'mushrooms', 'music', 'musical', 'musician', 'muslim', 'mussel', 'mustache', 'mustachioed', 'mustard', 'muzzle', 'mysterious', 'n', 'nail', 'nak', 'naked', 'nam', 'name', 'named', 'names', 'nametag', 'nap', 'napkin', 'napkins', 'napping', 'naps', 'narrow', 'narrowly', 'nasa', 'nathan', 'national', 'native', 'natur', 'nature', 'naval', 'nave', 'navigates', 'navigating', 'navigation', 'navy', 'nazi', 'near', 'nearbi', 'nearby', 'nearest', 'nearly', 'neat', 'neath', 'neatli', 'neatly', 'necessary', 'neck', 'necked', 'necklac', 'necklace', 'necks', 'neckti', 'necktie', 'need', 'needed', 'negative', 'negotiating', 'neighborhood', 'neon', 'nervous', 'nest', 'nesting', 'nestle', 'nestled', 'net', 'network', 'new', 'newborn', 'newly', 'newlywed', 'news', 'newscast', 'newspap', 'newspaper', 'next', 'nic', 'nice', 'nicely', 'nigh', 'night', 'nightlight', 'nighttim', 'nighttime', 'nike', 'niki', 'nine', 'nintendo', 'nippl', 'nipple', 'nobody', 'non', 'noodles', 'normal', 'norman', 'north', 'nos', 'nose', 'noses', 'nostalgic', 'note', 'notebook', 'notepad', 'notes', 'nothing', 'notic', 'notice', 'novelty', 'nude', 'numb', 'number', 'numbered', 'numbers', 'numerous', 'nun', 'nunchuk', 'nurs', 'nurses', 'nursing', 'nut', 'nuts', 'nypd', 'oakland', 'oar', 'oars', 'obama', 'obelisk', 'obese', 'obeying', 'object', 'objects', 'observ', 'observed', 'observer', 'observes', 'observing', 'obstacl', 'obstacle', 'obstacles', 'obstructs', 'obvious', 'occasion', 'occupi', 'ocean', 'octopus', 'odd', 'oddly', 'ofa', 'offering', 'offic', 'office', 'officer', 'officers', 'offices', 'offici', 'officially', 'offshor', 'oh', 'oil', 'oin', 'oj', 'ok', 'okapi', 'ol', 'old', 'older', 'olive', 'olives', 'olymp', 'olympic', 'om', 'oman', 'ona', 'onanism', 'oncoming', 'one', 'ones', 'ongoing', 'onion', 'onions', 'onit', 'onlook', 'onlookers', 'onto', 'onward', 'oozing', 'open', 'opened', 'opening', 'opens', 'opera', 'operated', 'operates', 'operating', 'oppon', 'opponent', 'opponet', 'opposing', 'opposite', 'opposites', 'opt', 'oracle', 'orang', 'orange', 'oranges', 'orbit', 'orchard', 'orchestra', 'ord', 'order', 'ordering', 'ore', 'organ', 'organization', 'organize', 'organized', 'organizing', 'oriental', 'orioles', 'ornament', 'ornamental', 'ornate', 'ornately', 'ostrich', 'ostriches', 'oth', 'others', 'otherwise', 'ottoman', 'outdated', 'outdoor', 'outdoors', 'outer', 'outerwear', 'outfield', 'outfit', 'outfits', 'outhouse', 'outline', 'outsid', 'outside', 'outskirts', 'outstanding', 'outstretch', 'outstretched', 'ov', 'oval', 'oven', 'overalls', 'overcast', 'overflowing', 'overgrown', 'overhand', 'overhang', 'overhead', 'overlaid', 'overloaded', 'overlook', 'overlooking', 'overlooks', 'overpass', 'overpasses', 'overseeing', 'overshadowed', 'oversize', 'overtop', 'overturned', 'overview', 'overweight', 'ow', 'owl', 'owls', 'owner', 'owners', 'p', 'pac', 'pace', 'pacific', 'pacifier', 'pack', 'packag', 'package', 'packaged', 'packages', 'packed', 'packing', 'pacman', 'pad', 'padded', 'paddl', 'paddle', 'paddleboard', 'paddles', 'paddling', 'paddock', 'pads', 'pag', 'page', 'pagoda', 'paid', 'pain', 'pained', 'paint', 'painted', 'painters', 'painting', 'paintings', 'paints', 'pair', 'pairs', 'pajama', 'pajamas', 'pakistan', 'pal', 'palac', 'palace', 'pale', 'pallet', 'pallets', 'palm', 'pamphlet', 'pan', 'pancak', 'pancake', 'pancakes', 'panda', 'pane', 'panel', 'paneling', 'panels', 'panera', 'panned', 'panning', 'panorama', 'pans', 'panti', 'panties', 'pants', 'pap', 'paper', 'papers', 'paperwork', 'para', 'parachut', 'parachute', 'parachutes', 'parachuting', 'parad', 'parade', 'paraglider', 'paragliding', 'parallel', 'parasail', 'parasailer', 'parasailers', 'parasailing', 'parasol', 'parasols', 'parchment', 'pare', 'pared', 'parents', 'pari', 'park', 'parka', 'parked', 'parking', 'parkng', 'parkway', 'parliament', 'parlor', 'parrot', 'parrots', 'part', 'parti', 'partially', 'particip', 'participants', 'participates', 'participating', 'partition', 'partitioned', 'partly', 'parts', 'party', 'partygo', 'pass', 'passangers', 'passed', 'passeng', 'passenger', 'passengers', 'passes', 'passing', 'passport', 'past', 'pasta', 'paste', 'pastery', 'pastri', 'pastries', 'pastry', 'pastur', 'pasture', 'pat', 'patch', 'patchy', 'path', 'pathway', 'pati', 'patient', 'patiently', 'patio', 'patrick', 'patriotic', 'patrol', 'patrolled', 'patrolling', 'patron', 'patrons', 'patter', 'pattern', 'patterned', 'patty', 'paul', 'pause', 'pauses', 'pav', 'paved', 'pavement', 'pavements', 'pavilion', 'pavilions', 'paw', 'pawing', 'paws', 'pay', 'payer', 'paying', 'paymets', 'pc', 'peac', 'peace', 'peaceful', 'peacefully', 'peach', 'peaches', 'peacock', 'peacocks', 'peafowl', 'peak', 'peaked', 'peaking', 'peanut', 'pearls', 'pears', 'pecking', 'pecks', 'pedals', 'pedestal', 'pedestrian', 'pedestrians', 'pedley', 'peeing', 'peeking', 'peeks', 'peel', 'peeled', 'peeling', 'peep', 'peeps', 'peer', 'peering', 'peers', 'pelican', 'pelicans', 'pen', 'penalty', 'penguin', 'penn', 'pennant', 'pens', 'pensive', 'peole', 'peopl', 'people', 'peoples', 'pepole', 'pepp', 'pepper', 'pepperoni', 'pepsi', 'perch', 'perched', 'perches', 'perching', 'perfect', 'perform', 'performance', 'performed', 'performers', 'performing', 'performs', 'perimeter', 'period', 'permit', 'permitting', 'persian', 'person', 'personal', 'persong', 'personnel', 'persons', 'perspective', 'pertained', 'perversely', 'peson', 'pet', 'pets', 'petted', 'petting', 'pew', 'pews', 'phon', 'phone', 'phones', 'photo', 'photoed', 'photograph', 'photographed', 'photographer', 'photographic', 'photographing', 'photographs', 'photography', 'photos', 'photoshopped', 'pi', 'piano', 'pic', 'pick', 'picked', 'picker', 'picket', 'picking', 'pickl', 'pickle', 'pickles', 'picks', 'pickup', 'picn', 'picnic', 'picnicking', 'pics', 'pictogram', 'pictur', 'picture', 'pictured', 'pictures', 'picturesque', 'picure', 'pie', 'piec', 'piece', 'pieces', 'pier', 'pies', 'pig', 'pigeon', 'pigeons', 'pigmented', 'pigtails', 'piicture', 'pil', 'pile', 'piled', 'piles', 'piling', 'pillar', 'pillars', 'pillow', 'pillows', 'pilot', 'pilots', 'pimp', 'pin', 'pinches', 'pinching', 'pine', 'pineappl', 'pineapples', 'ping', 'pinging', 'pink', 'pinned', 'pinstripe', 'pinwheel', 'pip', 'pipe', 'pipelin', 'pipes', 'pips', 'pirate', 'pistol', 'pit', 'pitch', 'pitched', 'pitcher', 'pitchers', 'pitches', 'pitching', 'pizza', 'pizzas', 'pizzeria', 'pl', 'plac', 'place', 'placed', 'placemat', 'places', 'placid', 'placing', 'plaid', 'plain', 'plan', 'plane', 'planes', 'planing', 'plank', 'planks', 'planning', 'plans', 'plant', 'plantain', 'planted', 'planters', 'plants', 'plaqu', 'plaque', 'plast', 'plastered', 'plastic', 'plate', 'plated', 'plates', 'platform', 'plating', 'platt', 'platter', 'platters', 'platting', 'play', 'playa', 'played', 'player', 'players', 'playfully', 'playground', 'playin', 'playing', 'playinmg', 'plays', 'plaza', 'pleasant', 'please', 'plethora', 'pli', 'pliers', 'plow', 'plowed', 'plowing', 'plug', 'plume', 'plumes', 'plungers', 'plush', 'plying', 'plywood', 'pn', 'pocket', 'pod', 'podium', 'podiums', 'poeple', 'point', 'pointed', 'pointer', 'pointing', 'points', 'pointy', 'poised', 'poke', 'pokes', 'poking', 'pol', 'polar', 'polaroid', 'pole', 'poles', 'polic', 'police', 'policeman', 'policemen', 'political', 'polka', 'poll', 'polo', 'pomeranian', 'pompom', 'pond', 'pondering', 'pong', 'poni', 'ponies', 'pony', 'poodl', 'poodle', 'poodles', 'pool', 'pools', 'poor', 'pop', 'popping', 'popular', 'porch', 'porsche', 'port', 'portable', 'portrait', 'portraying', 'pos', 'pose', 'posed', 'poses', 'posing', 'posit', 'position', 'positioned', 'positions', 'positive', 'poss', 'possessing', 'possible', 'possibly', 'post', 'postal', 'postcard', 'posted', 'poster', 'posters', 'posting', 'posts', 'postur', 'posturing', 'pot', 'potato', 'potatoes', 'potential', 'pots', 'potted', 'pottery', 'potti', 'potty', 'pounc', 'pound', 'poured', 'pourig', 'pouring', 'pours', 'powd', 'powder', 'powdered', 'power', 'powered', 'powerful', 'pplaying', 'pr', 'pract', 'practic', 'practice', 'practicing', 'pray', 'pre', 'precariously', 'precedes', 'preening', 'preforming', 'pregnant', 'prepare', 'prepared', 'prepares', 'preparing', 'preperation', 'prepping', 'pres', 'present', 'presentation', 'presentations', 'presenting', 'presents', 'president', 'presidents', 'press', 'pressure', 'pretending', 'pretends', 'pretty', 'prey', 'price', 'pride', 'priest', 'primary', 'princess', 'print', 'printed', 'printer', 'pristine', 'privaci', 'privacy', 'private', 'pro', 'probabably', 'probably', 'problem', 'proceed', 'proceeding', 'process', 'processing', 'produc', 'produce', 'product', 'products', 'professional', 'professionals', 'profile', 'program', 'progress', 'progression', 'prohibiting', 'projected', 'projection', 'projector', 'promenad', 'promenade', 'promotion', 'promotional', 'prop', 'propaganda', 'proped', 'propel', 'propelled', 'propeller', 'propellers', 'propellor', 'propellors', 'properly', 'properti', 'propped', 'propping', 'props', 'prosthetic', 'protected', 'protective', 'protector', 'protest', 'protestor', 'protestors', 'proud', 'provide', 'provided', 'provides', 'pub', 'publ', 'public', 'publicity', 'pud', 'pudding', 'puddl', 'puddle', 'puffy', 'pug', 'pugs', 'pul', 'pull', 'pulled', 'pulling', 'pulls', 'pump', 'pumping', 'pumpkin', 'pumpkins', 'pumps', 'punch', 'punk', 'punts', 'puppi', 'puppies', 'puppy', 'purchas', 'purchase', 'purchasing', 'pure', 'purol', 'purpl', 'purple', 'purs', 'purse', 'pus', 'push', 'pushed', 'pushes', 'pushing', 'put', 'puts', 'putting', 'puzzle', 'pyramid', 'pyramids', 'pzza', 'quaint', 'quantity', 'quarter', 'quartet', 'queen', 'quest', 'queues', 'quick', 'quickli', 'quickly', 'quicktime', 'quiet', 'quilt', 'quinci', 'quite', 'quizzically', 'r', 'rabbit', 'rabble', 'rac', 'race', 'racehorse', 'racer', 'racers', 'races', 'rachel', 'racing', 'rack', 'racket', 'rackets', 'racks', 'racquet', 'racquets', 'radio', 'raft', 'rafts', 'rage', 'raggedy', 'raging', 'rail', 'railed', 'railing', 'railroad', 'rails', 'railway', 'rain', 'rainbow', 'raincoat', 'raindrops', 'raining', 'rainless', 'rainy', 'rais', 'raised', 'raises', 'raising', 'rakett', 'rally', 'ram', 'ramp', 'ramps', 'ranch', 'rang', 'range', 'ranging', 'rapid', 'rapids', 'rapped', 'raquet', 'rare', 'rared', 'raring', 'rat', 'rather', 'rattlesnake', 'raw', 'ray', 'rays', 'razor', 'rd', 'reach', 'reaches', 'reaching', 'reacts', 'read', 'readers', 'readi', 'readies', 'reading', 'reads', 'ready', 'reagan', 'real', 'really', 'rear', 'rec', 'receipt', 'receive', 'receives', 'receiving', 'recept', 'reclin', 'recliner', 'reclines', 'reclining', 'recognizing', 'record', 'recording', 'recreational', 'rectangular', 'recumbent', 'recycl', 'red', 'reddish', 'redheaded', 'reduce', 'referee', 'reflect', 'reflected', 'reflecting', 'reflection', 'reflections', 'reflective', 'refreiger', 'refriger', 'refrigerator', 'refurbished', 'regal', 'regardless', 'region', 'regular', 'regulation', 'reign', 'rein', 'reins', 'rekela', 'rel', 'relax', 'relaxes', 'relaxing', 'release', 'reli', 'relief', 'religious', 'relish', 'remain', 'remaining', 'remains', 'remot', 'remote', 'remotes', 'remov', 'remove', 'removing', 'renaissance', 'rendering', 'renov', 'rent', 'repair', 'repairing', 'repairs', 'repeal', 'replenishing', 'replica', 'reporters', 'reporting', 'reports', 'representation', 'represented', 'rerady', 'reriger', 'rescu', 'rescue', 'resemble', 'resembling', 'residential', 'resort', 'respected', 'response', 'rest', 'restaraunt', 'restaur', 'restaurant', 'restaurants', 'rested', 'resting', 'restored', 'restrain', 'restraunt', 'restroom', 'rests', 'restuar', 'retail', 'retired', 'retriever', 'retro', 'return', 'returning', 'returns', 'rhino', 'rhinoceros', 'rhode', 'ribbon', 'ribbons', 'ribcag', 'ribs', 'rice', 'rickety', 'rickshaws', 'rid', 'ridden', 'ridding', 'ride', 'rider', 'riders', 'rides', 'ridiculous', 'riding', 'rids', 'rifl', 'rifle', 'rig', 'rigatoni', 'rigger', 'right', 'rigs', 'rim', 'rimmed', 'ring', 'ringling', 'rings', 'rink', 'ripe', 'ripple', 'ris', 'rise', 'rises', 'rising', 'rite', 'riv', 'river', 'riverboat', 'riversid', 'riving', 'rns', 'road', 'roads', 'roadsid', 'roadside', 'roadway', 'roadwork', 'roaming', 'roan', 'roast', 'roasted', 'roasting', 'rob', 'robe', 'robin', 'rock', 'rockers', 'rocket', 'rocking', 'rocks', 'rockwel', 'rocky', 'rod', 'rode', 'rodeo', 'rol', 'roll', 'rolled', 'roller', 'rollerblades', 'rolling', 'rollled', 'rolls', 'roma', 'roman', 'ronald', 'roof', 'room', 'roomful', 'rooster', 'roosters', 'root', 'rop', 'rope', 'roped', 'ropes', 'ros', 'rose', 'roses', 'rotating', 'rotten', 'rough', 'round', 'roundabout', 'rounding', 'rout', 'row', 'rowboat', 'rowboats', 'rowers', 'rowing', 'rows', 'royal', 'rub', 'rubber', 'rubbing', 'ruby', 'ruck', 'rug', 'rugby', 'rugs', 'ruins', 'rummage', 'rummaging', 'run', 'runaway', 'rundown', 'runner', 'runners', 'running', 'runs', 'runway', 'rural', 'rushing', 'russian', 'rust', 'rusted', 'rustic', 'rusty', 'rv', 'sad', 'saddl', 'saddle', 'saddlebags', 'saddled', 'saddles', 'sadly', 'saf', 'safari', 'safe', 'safer', 'safeti', 'safety', 'safeway', 'sail', 'sailboard', 'sailboat', 'sailboats', 'sailer', 'sailing', 'sailor', 'sailors', 'sails', 'sakter', 'sal', 'salad', 'sale', 'salem', 'sales', 'salesman', 'salmon', 'salon', 'salsa', 'salutes', 'saluting', 'salvation', 'sample', 'samples', 'sampling', 'san', 'sand', 'sandals', 'sanding', 'sands', 'sandwhich', 'sandwich', 'sandwiches', 'sandy', 'santa', 'sanwich', 'sapphire', 'saran', 'sari', 'sas', 'sash', 'sat', 'satellite', 'sating', 'sauc', 'sauce', 'saucers', 'sauerkraut', 'sausag', 'sausage', 'sausages', 'sav', 'savory', 'say', 'saying', 'says', 'scaffold', 'scaffolding', 'scal', 'scale', 'scanning', 'scantily', 'scarecrow', 'scarf', 'scaring', 'scary', 'scattered', 'scavengers', 'scen', 'scene', 'scenes', 'scenic', 'schedule', 'school', 'schoolchildren', 'science', 'scissor', 'scissors', 'scocer', 'scooping', 'scoot', 'scooter', 'scooters', 'scoreboard', 'scout', 'scrap', 'scrapp', 'scratching', 'screen', 'screened', 'screens', 'screenshot', 'screw', 'scrolling', 'scrub', 'scrubs', 'sculptur', 'sculpture', 'sculptures', 'se', 'sea', 'seabird', 'seafood', 'seagul', 'seagull', 'seagulls', 'seal', 'seaplane', 'searching', 'seashor', 'seaside', 'season', 'seat', 'seated', 'seating', 'seats', 'seattle', 'seaweed', 'secluded', 'second', 'sect', 'section', 'secur', 'security', 'see', 'seeing', 'seeking', 'seem', 'seems', 'seen', 'sees', 'segment', 'sel', 'selecting', 'selection', 'selections', 'self', 'selfi', 'selfie', 'selfish', 'sell', 'selling', 'sells', 'seltzer', 'semi', 'seminar', 'semitrailer', 'send', 'senior', 'seniors', 'separate', 'separating', 'sepia', 'seri', 'series', 'serious', 'seriously', 'serv', 'serve', 'served', 'server', 'serves', 'service', 'services', 'serving', 'servings', 'sesame', 'sess', 'set', 'sets', 'setting', 'settler', 'settlers', 'setup', 'seuss', 'seven', 'several', 'severe', 'sewing', 'sex', 'sexy', 'shack', 'shad', 'shade', 'shaded', 'shades', 'shadow', 'shadowed', 'shady', 'shaggy', 'shake', 'shakes', 'shakespeare', 'shaking', 'shallow', 'shamrock', 'shanks', 'shap', 'shape', 'shaped', 'shapes', 'shapped', 'share', 'shares', 'sharing', 'shark', 'sharp', 'sharpen', 'sharply', 'shav', 'shaved', 'shaving', 'shawl', 'sheared', 'shearer', 'shearing', 'shed', 'sheeep', 'sheep', 'sheepdog', 'sheeps', 'sheering', 'sheet', 'sheets', 'shelf', 'shell', 'shelter', 'shelv', 'shelves', 'shepard', 'shepherd', 'shepherded', 'sheriff', 'shield', 'shielding', 'shields', 'shift', 'shin', 'shines', 'shingled', 'shining', 'shiny', 'ship', 'shipping', 'ships', 'shipyard', 'shirt', 'shirted', 'shirtless', 'shirts', 'shish', 'shit', 'shitting', 'sho', 'shoe', 'shoes', 'shoestr', 'shoot', 'shooter', 'shooting', 'shoots', 'shop', 'shopkeeper', 'shopper', 'shoppers', 'shopping', 'shops', 'shor', 'shore', 'shorelin', 'shoreline', 'shorn', 'short', 'shorter', 'shorts', 'shot', 'shotgun', 'shots', 'shoulder', 'shoulders', 'shouting', 'shoved', 'shovel', 'shoving', 'show', 'showboat', 'shower', 'showing', 'shown', 'showroom', 'shows', 'shred', 'shredding', 'shreds', 'shrimp', 'shrine', 'shrouded', 'shrub', 'shrubberi', 'shrubbery', 'shut', 'shutt', 'shutting', 'shuttl', 'shuttle', 'shwon', 'siamese', 'siberian', 'sick', 'sid', 'side', 'sideburn', 'sidecar', 'sided', 'sideline', 'sidelines', 'sides', 'sideview', 'sidewalk', 'sidewalks', 'sideway', 'sideways', 'siding', 'sifters', 'sigh', 'sight', 'sighting', 'sights', 'sightse', 'sightseeing', 'sign', 'signag', 'signage', 'signal', 'signaling', 'signals', 'signed', 'signing', 'signpost', 'signposts', 'signs', 'sihouetted', 'sil', 'silhouette', 'silhouetted', 'silhouettes', 'sill', 'sillouetted', 'silly', 'siloette', 'silver', 'silverware', 'similar', 'similarly', 'simple', 'sing', 'singing', 'single', 'sings', 'sink', 'sinks', 'sips', 'sist', 'sister', 'sisters', 'sit', 'site', 'siting', 'sits', 'sittig', 'sittign', 'sitting', 'situated', 'six', 'size', 'sized', 'sizes', 'sk', 'skate', 'skatebaord', 'skateboad', 'skateboard', 'skateboarder', 'skateboarders', 'skateboarding', 'skateboards', 'skatebord', 'skateborder', 'skatepark', 'skater', 'skaters', 'skates', 'skating', 'skeleton', 'ski', 'skiboard', 'skid', 'skidding', 'skieing', 'skier', 'skiers', 'skies', 'skii', 'skiier', 'skiiers', 'skiies', 'skiiing', 'skiing', 'skiis', 'skil', 'skillet', 'skillfully', 'skills', 'skimpy', 'skin', 'sking', 'skinning', 'skinny', 'skirt', 'skis', 'skul', 'skull', 'skulls', 'sky', 'skyfall', 'skying', 'skylin', 'skyline', 'skyp', 'skyping', 'skyscrap', 'skyscrapers', 'skyteam', 'skyward', 'sl', 'slab', 'slacks', 'slat', 'slate', 'slats', 'slatted', 'slay', 'sled', 'sledge', 'sleek', 'sleep', 'sleeping', 'sleeps', 'sleepy', 'sleeve', 'sleeveless', 'sleeves', 'sleigh', 'slew', 'slic', 'slice', 'sliced', 'slices', 'slicing', 'slid', 'slide', 'slider', 'slides', 'sliding', 'slight', 'slightly', 'slim', 'sling', 'slip', 'slipp', 'slippers', 'slippery', 'sliver', 'slop', 'slope', 'slopes', 'sloping', 'slopl', 'slot', 'slow', 'slowly', 'slushy', 'slying', 'smack', 'smal', 'small', 'smaller', 'smalls', 'smart', 'smartphon', 'smartphone', 'smashed', 'smashing', 'smeared', 'smelling', 'smil', 'smile', 'smiles', 'smiley', 'smiling', 'smirk', 'smok', 'smoke', 'smokes', 'smokestack', 'smokey', 'smoking', 'smooth', 'smoothi', 'smothered', 'snack', 'snacking', 'snacks', 'snak', 'snake', 'snapping', 'snaps', 'snapshot', 'snarl', 'sneak', 'sneaker', 'sneakers', 'sneaking', 'sneaks', 'sniffing', 'sniffs', 'snooping', 'snooz', 'snout', 'snow', 'snowbank', 'snowbird', 'snowboard', 'snowboarder', 'snowboarders', 'snowboarding', 'snowboards', 'snowed', 'snowflak', 'snowing', 'snowmen', 'snowplow', 'snowshoes', 'snowstorm', 'snowsuit', 'snowsuits', 'snowy', 'snuggled', 'snuggles', 'snuggling', 'soaked', 'soap', 'soar', 'soaring', 'soars', 'socc', 'soccer', 'soccerbal', 'soccerball', 'social', 'socializing', 'sock', 'socks', 'soda', 'sofa', 'sofas', 'soft', 'softbal', 'softball', 'soil', 'solar', 'soldering', 'solders', 'soldi', 'soldier', 'soldiers', 'solid', 'solve', 'sombrero', 'somehow', 'someon', 'someone', 'someones', 'someth', 'something', 'somewhat', 'somewher', 'somewhere', 'son', 'song', 'sons', 'sony', 'soon', 'sort', 'sorting', 'sorts', 'sound', 'soup', 'soups', 'sour', 'sourc', 'source', 'south', 'southern', 'southwest', 'sow', 'sowing', 'spac', 'space', 'spaceman', 'spaces', 'spaceship', 'spacious', 'spaghetti', 'spandex', 'spaniel', 'spanish', 'spanking', 'spanning', 'sparkl', 'sparklers', 'sparkling', 'sparse', 'spatula', 'speak', 'speaker', 'speakers', 'speaking', 'speaks', 'special', 'specialty', 'specifics', 'specks', 'spect', 'spectator', 'spectators', 'speculators', 'speech', 'speed', 'speedboat', 'speeding', 'speedomet', 'speeds', 'spend', 'spending', 'spewing', 'spic', 'spice', 'spicket', 'spider', 'spikes', 'spilling', 'spin', 'spins', 'spir', 'spiral', 'spire', 'spirit', 'splash', 'splashes', 'splashing', 'splashy', 'splaying', 'splendid', 'split', 'splits', 'splitting', 'spoke', 'spokes', 'sponsored', 'spools', 'spoon', 'spoons', 'sport', 'sporting', 'sports', 'sportsmen', 'spot', 'spotlight', 'spots', 'spotted', 'sprawled', 'spray', 'spraying', 'sprays', 'spread', 'spreading', 'spreads', 'springs', 'springtim', 'sprinkl', 'sprinkle', 'sprinkled', 'sprinkles', 'sprinkling', 'spurts', 'squad', 'squadron', 'squar', 'square', 'squat', 'squats', 'squatted', 'squatting', 'squeezing', 'squid', 'squinting', 'squirrel', 'srfer', 'st', 'stabbing', 'stack', 'stacked', 'stacks', 'stadium', 'staff', 'stag', 'stage', 'staged', 'stages', 'staging', 'stained', 'stainless', 'stair', 'staircas', 'staircase', 'stairs', 'stairway', 'stairwell', 'staked', 'stal', 'stalk', 'stall', 'stalls', 'stance', 'stances', 'stand', 'standard', 'standin', 'standing', 'stands', 'staples', 'star', 'starbucks', 'stare', 'stared', 'stares', 'staring', 'starring', 'start', 'started', 'starting', 'starts', 'state', 'states', 'stating', 'station', 'stationary', 'statu', 'statue', 'statues', 'statute', 'stay', 'staying', 'steady', 'steadying', 'steam', 'steamboat', 'steamed', 'steaming', 'steel', 'steep', 'steepl', 'steeple', 'steer', 'steering', 'stem', 'stemmed', 'step', 'stepping', 'steps', 'stereo', 'sterling', 'stew', 'stick', 'sticker', 'stickers', 'sticking', 'sticks', 'sticky', 'stil', 'still', 'stillness', 'stir', 'stiring', 'stirring', 'stitched', 'stnading', 'stoage', 'stock', 'stocked', 'stocking', 'stoic', 'stole', 'stomach', 'ston', 'stone', 'stool', 'stoop', 'stooped', 'stop', 'stoplight', 'stoplights', 'stopped', 'stopping', 'stops', 'stor', 'storage', 'store', 'stored', 'storefront', 'storefronts', 'stores', 'stori', 'storing', 'storm', 'stormy', 'story', 'stout', 'stov', 'stove', 'str', 'straddles', 'straddling', 'straight', 'straightening', 'straining', 'stranded', 'strands', 'strange', 'strangely', 'strap', 'strapped', 'strapping', 'straps', 'straw', 'strawberri', 'strawberries', 'stray', 'stre', 'streak', 'streaked', 'streaking', 'streaks', 'stream', 'streamers', 'streaming', 'street', 'streetlight', 'streetlights', 'streets', 'streetscape', 'stret', 'stretch', 'stretched', 'stretches', 'stretching', 'strike', 'striking', 'string', 'strings', 'strip', 'stripe', 'striped', 'stripes', 'striping', 'stripped', 'stripper', 'strips', 'strol', 'stroll', 'stroller', 'strolling', 'strong', 'struck', 'structur', 'structure', 'struggles', 'strung', 'stucco', 'stuck', 'stud', 'student', 'students', 'studi', 'studies', 'studio', 'studying', 'stuf', 'stuff', 'stuffed', 'stuffing', 'stump', 'stun', 'stunning', 'stunt', 'stunts', 'styl', 'style', 'styled', 'stylish', 'stylishly', 'stylist', 'stylized', 'styrofoam', 'sub', 'submarine', 'submerged', 'substance', 'subtitles', 'suburban', 'subway', 'successfully', 'sucking', 'suctioned', 'sufer', 'sugar', 'sugared', 'sugary', 'suit', 'suitcas', 'suitcase', 'suitcases', 'suite', 'suited', 'suits', 'summ', 'summer', 'sumo', 'sun', 'sunbath', 'sunbathers', 'sunexpress', 'sunflowers', 'sunglass', 'sunglasses', 'sunken', 'sunlight', 'sunny', 'sunris', 'sunrise', 'sunscreen', 'sunset', 'sunshin', 'sunshine', 'super', 'supermarket', 'suppli', 'supplies', 'support', 'suprised', 'surboard', 'surboards', 'sure', 'surf', 'surfac', 'surface', 'surfboard', 'surfboarder', 'surfboarding', 'surfboards', 'surfer', 'surfers', 'surfing', 'surfs', 'surge', 'surger', 'surgical', 'surpris', 'surprised', 'surprizing', 'surround', 'surrounded', 'surrounding', 'surrounds', 'surveying', 'sushi', 'suspended', 'suspenders', 'suspension', 'suv', 'sw', 'swaddled', 'swamp', 'swampy', 'swan', 'swans', 'swarm', 'swat', 'sway', 'sweat', 'sweater', 'sweaters', 'sweatshirt', 'sweeps', 'sweet', 'sweetheart', 'swift', 'swim', 'swimmers', 'swimming', 'swims', 'swimsuit', 'swimwear', 'swing', 'swinging', 'swings', 'swining', 'swirl', 'swiss', 'switch', 'swiveling', 'sword', 'swords', 'swung', 'sycamore', 'symbol', 'system', 'tabby', 'table', 'tablecloth', 'tables', 'tablet', 'tabletop', 'tackled', 'taco', 'tag', 'tagged', 'tagging', 'tail', 'tails', 'take', 'taken', 'takeoff', 'takes', 'taking', 'tal', 'tale', 'talk', 'talking', 'talks', 'tall', 'taller', 'talon', 'tamer', 'tampa', 'tan', 'tangerines', 'tangled', 'tank', 'tanker', 'tanks', 'tanning', 'tap', 'tape', 'taped', 'tar', 'tard', 'tarmac', 'tarot', 'tarp', 'tasking', 'tast', 'taste', 'tasted', 'tasting', 'tasty', 'tattered', 'tattoo', 'tattooed', 'tattoos', 'tavern', 'tax', 'taxi', 'taxiing', 'taxis', 'te', 'tea', 'teach', 'teacher', 'teachers', 'teaches', 'teaching', 'teacup', 'teal', 'team', 'teamm', 'teammates', 'teams', 'tear', 'technical', 'technology', 'teddy', 'tee', 'teen', 'teenage', 'teenaged', 'teenager', 'teenagers', 'teeters', 'teeth', 'teh', 'telephon', 'telephone', 'telescop', 'televis', 'television', 'tell', 'telling', 'tells', 'tempestuous', 'templ', 'templar', 'temple', 'tempura', 'ten', 'tend', 'tended', 'tending', 'tends', 'tenni', 'tennis', 'tent', 'tents', 'teo', 'tequila', 'teri', 'termin', 'terminal', 'terrain', 'terri', 'terrier', 'territori', 'testing', 'tests', 'tethered', 'texas', 'texing', 'text', 'texting', 'texts', 'th', 'thai', 'thatched', 'thats', 'theat', 'theater', 'theatre', 'thecstreet', 'theirir', 'themed', 'themself', 'themselv', 'ther', 'theres', 'thes', 'thew', 'thick', 'thief', 'thigh', 'thin', 'thing', 'things', 'think', 'third', 'thomas', 'thorny', 'thos', 'though', 'thousands', 'thread', 'threat', 'threatening', 'three', 'threw', 'thriving', 'throng', 'throughout', 'throw', 'throwing', 'thrown', 'throws', 'thru', 'thumb', 'thumbs', 'ti', 'tiara', 'tibet', 'ticket', 'tickets', 'ticks', 'tid', 'tide', 'tidily', 'tie', 'tied', 'tier', 'tiered', 'tiers', 'ties', 'tig', 'tiger', 'tigers', 'tight', 'tightly', 'tights', 'tighty', 'tile', 'tiled', 'tiles', 'tilling', 'tilted', 'tilting', 'tilts', 'tim', 'time', 'timer', 'times', 'tin', 'tinfoil', 'tinted', 'tiny', 'tip', 'tipped', 'tipping', 'tips', 'tiptoes', 'tir', 'tire', 'tired', 'tires', 'tissue', 'titling', 'toa', 'toast', 'toasted', 'toaster', 'toasters', 'toasting', 'today', 'toddl', 'toddler', 'toddlers', 'toe', 'toed', 'tofu', 'togas', 'togeth', 'together', 'toghet', 'toilet', 'toilets', 'tolls', 'tomato', 'tomatoes', 'tome', 'tommy', 'ton', 'tone', 'toned', 'tong', 'tongs', 'tongue', 'tonight', 'tons', 'took', 'tool', 'tools', 'tooth', 'toothbrush', 'toothbrushes', 'toothpaste', 'top', 'topiary', 'topless', 'topped', 'topping', 'toppings', 'tops', 'torch', 'tore', 'torn', 'tortoise', 'tortoiseshell', 'toshiba', 'toss', 'tossed', 'tosses', 'tossing', 'toting', 'touch', 'touches', 'touching', 'toucing', 'tour', 'touring', 'tourism', 'tourist', 'tourists', 'tournament', 'tow', 'toward', 'towards', 'towed', 'towel', 'towels', 'tower', 'towering', 'towers', 'towing', 'town', 'tows', 'toy', 'toyota', 'toys', 'track', 'tracks', 'tractor', 'traditional', 'traff', 'traffic', 'trail', 'trailer', 'trailers', 'trailing', 'trails', 'train', 'trained', 'trainer', 'training', 'trains', 'trainyard', 'tram', 'trampolin', 'trampoline', 'transavia', 'transfer', 'transferring', 'transformed', 'transit', 'transparent', 'transport', 'transportation', 'transported', 'transporting', 'transports', 'trapez', 'trapped', 'trappist', 'trash', 'trashcan', 'travel', 'traveler', 'travelers', 'traveling', 'travelling', 'travels', 'traversing', 'tray', 'trays', 'tre', 'treading', 'treadmil', 'treat', 'treats', 'tree', 'treelin', 'trees', 'trek', 'trekking', 'trelli', 'trench', 'trestl', 'treth', 'trey', 'tri', 'triangle', 'triangular', 'trick', 'tricks', 'tricycl', 'tricycle', 'tries', 'trim', 'trimmed', 'trio', 'trip', 'triple', 'tripods', 'troll', 'trolley', 'trolleys', 'trolly', 'trombone', 'trophi', 'trophy', 'tropical', 'trot', 'trots', 'trough', 'trous', 'trousers', 'trowing', 'truch', 'truck', 'truckb', 'trucks', 'trumpet', 'truncks', 'trunk', 'trunks', 'try', 'trying', 'tshirt', 'tub', 'tube', 'tubes', 'tuck', 'tucked', 'tucks', 'tug', 'tugs', 'tummy', 'tundra', 'tunnel', 'turbulent', 'turd', 'turf', 'turkey', 'turkeys', 'turn', 'turned', 'turning', 'turns', 'turquoise', 'turtles', 'tusk', 'tusks', 'tusted', 'tutus', 'tux', 'tuxedo', 'tv', 'tvs', 'tweed', 'tweez', 'twentieth', 'twig', 'twigs', 'twilight', 'twin', 'twirling', 'twisted', 'two', 'twp', 'tye', 'tying', 'typ', 'type', 'types', 'typewrit', 'typing', 'u', 'ubuntu', 'ugly', 'uhaul', 'uickly', 'uk', 'ultimate', 'ultralight', 'umbrealla', 'umbreallas', 'umbrella', 'umbrellaed', 'umbrellas', 'umbrells', 'umpir', 'umpire', 'un', 'unable', 'unbox', 'unclear', 'uncommonly', 'uncooked', 'uncovered', 'underground', 'underhand', 'underneat', 'underneath', 'underside', 'underwear', 'undoes', 'unfinished', 'unfolded', 'unhappy', 'unicorn', 'unidentified', 'uniform', 'uniformed', 'uniforms', 'unimaginable', 'union', 'unique', 'unison', 'unit', 'united', 'units', 'university', 'unknown', 'unleash', 'unleashes', 'unlit', 'unload', 'unloading', 'unmade', 'unpaved', 'unrecognizable', 'unripe', 'unripened', 'unseen', 'unstable', 'unusual', 'unusually', 'upclose', 'uphil', 'uphill', 'upon', 'upright', 'upside', 'upskirt', 'upward', 'urban', 'urge', 'urin', 'urinal', 'urinals', 'urns', 'us', 'usa', 'use', 'used', 'useful', 'user', 'uses', 'using', 'usu', 'usual', 'utah', 'utensil', 'utensils', 'utilitarian', 'utility', 'utilizing', 'v', 'vacant', 'vacation', 'vacuum', 'vader', 'valley', 'van', 'vancouver', 'vandalized', 'vane', 'vanilla', 'vanity', 'vans', 'varieties', 'variety', 'various', 'vas', 'vase', 'vases', 'vast', 'vcr', 'veget', 'vegetable', 'vegetables', 'vegetation', 'veggi', 'veggie', 'veggies', 'vehicl', 'vehicle', 'vehicles', 'veil', 'vending', 'vendor', 'vendors', 'venice', 'venu', 'venue', 'verant', 'version', 'vert', 'vertical', 'vertically', 'verve', 'vespa', 'vespas', 'vessel', 'vest', 'vests', 'via', 'vicinity', 'victorian', 'victorious', 'video', 'videogam', 'videogame', 'videotaping', 'vie', 'view', 'viewed', 'viewer', 'viewing', 'views', 'villa', 'villag', 'village', 'villaraigosa', 'vin', 'vine', 'vines', 'vineyard', 'vintag', 'vintage', 'vinyl', 'violin', 'virgin', 'vis', 'visible', 'vision', 'visit', 'visiting', 'visitor', 'visor', 'vista', 'vlue', 'vodka', 'volcano', 'volkswagon', 'volley', 'volleybal', 'volleyball', 'volunteer', 'voodoo', 'vortex', 'vote', 'vw', 'w', 'wacky', 'waddling', 'wading', 'waffl', 'waffle', 'waffles', 'wage', 'waggon', 'wagon', 'waist', 'waists', 'wait', 'waiting', 'waitress', 'waits', 'wak', 'wake', 'wakeboard', 'waking', 'wal', 'waling', 'walk', 'walked', 'walking', 'walkingski', 'walks', 'walkway', 'walkways', 'wall', 'walled', 'wallet', 'wallpaper', 'wallpapered', 'walls', 'walnuts', 'wand', 'wander', 'wandering', 'want', 'wanting', 'wants', 'war', 'warcraft', 'warded', 'wardrobe', 'warehous', 'warehouse', 'wares', 'waring', 'warmers', 'warming', 'warms', 'warmth', 'warning', 'warns', 'warplane', 'wash', 'washes', 'washing', 'washington', 'waste', 'wat', 'watch', 'watched', 'watches', 'watching', 'water', 'watered', 'waterfal', 'waterfall', 'waterfront', 'watering', 'watermelons', 'waters', 'waterskiing', 'watersking', 'waterway', 'watery', 'wav', 'wave', 'waveland', 'waves', 'waving', 'wavy', 'wax', 'waxing', 'way', 'wear', 'wearing', 'wears', 'weath', 'weather', 'weaving', 'webb', 'webcam', 'websit', 'wed', 'wedding', 'weed', 'weeds', 'weird', 'wel', 'welcome', 'welkin', 'well', 'went', 'west', 'wet', 'wetland', 'wetsuid', 'wetsuit', 'wetsuits', 'whack', 'whale', 'wharf', 'wheat', 'wheel', 'wheelchair', 'wheelchairs', 'wheeled', 'wheeler', 'wheelers', 'wheels', 'wher', 'whichn', 'whine', 'whipped', 'whisk', 'whiskey', 'whispy', 'whit', 'white', 'whiteboard', 'whitehat', 'whiter', 'whities', 'whle', 'whoa', 'whoever', 'whole', 'wholesale', 'whtie', 'wi', 'wicker', 'wid', 'wide', 'widescreen', 'widewalk', 'widow', 'width', 'wielding', 'wife', 'wig', 'wii', 'wiimote', 'wild', 'wilderness', 'wildflow', 'wildli', 'wildlif', 'wildlife', 'wildly', 'wile', 'win', 'winchester', 'wind', 'windboard', 'winddow', 'winding', 'window', 'windows', 'windowsill', 'winds', 'windshield', 'windshields', 'windsurfer', 'windsurfers', 'windsurfing', 'windsurfs', 'windy', 'wine', 'wineri', 'winery', 'wines', 'wing', 'winged', 'wings', 'wining', 'winking', 'winn', 'winners', 'wint', 'winter', 'wiped', 'wipeout', 'wiping', 'wir', 'wire', 'wires', 'wispy', 'wit', 'witch', 'within', 'without', 'wmakret', 'wman', 'wolf', 'woma', 'woman', 'womans', 'women', 'wonder', 'wonderful', 'wonderland', 'wonders', 'wood', 'wooded', 'wooden', 'woods', 'wool', 'wooler', 'wooly', 'woopie', 'word', 'words', 'wore', 'work', 'worked', 'worker', 'workers', 'working', 'workout', 'workplace', 'works', 'workspace', 'world', 'worn', 'worried', 'worshiping', 'worthy', 'would', 'woven', 'wrap', 'wrapp', 'wrapped', 'wrapper', 'wrapping', 'wraps', 'wreaking', 'wreck', 'wrecked', 'wrestler', 'wrinkley', 'wristband', 'writ', 'write', 'writing', 'writings', 'written', 'wrong', 'wrote', 'wrought', 'wtha', 'wtih', 'wut', 'x', 'xar', 'yacht', 'yankees', 'yard', 'yawns', 'year', 'years', 'yelling', 'yellow', 'yells', 'yes', 'yield', 'yogurt', 'yonng', 'york', 'yorkie', 'young', 'younger', 'youth', 'youths', 'yp', 'yspace', 'yummy', 'z', 'zebra', 'zebras', 'zinc', 'zipping', 'zodiac', 'zombies', 'zon', 'zone', 'zoo', 'zookeeper', 'zookeepers', 'zooms']\n",
      "Unique words: 7330\n"
     ]
    }
   ],
   "source": [
    "# Initialise vocabulary including padding and unknown word tokens\n",
    "# Is end of sentence needed? '[EOS]'\n",
    "vocabulary = set(['[PAD]', '[UNK]'])\n",
    "\n",
    "for tokens in train[\"Tokens\"]:\n",
    "  vocabulary.update(tokens)\n",
    "\n",
    "vocabulary = sorted(vocabulary)\n",
    "print(vocabulary)\n",
    "print('Unique words:', len(vocabulary))"
   ]
  },
  {
   "cell_type": "code",
   "execution_count": 108,
   "metadata": {},
   "outputs": [],
   "source": [
    "dictionary = {}\n",
    "idToDictionary = {}\n",
    "for idx, word in enumerate(vocabulary):\n",
    "  dictionary[word] = idx\n",
    "  idToDictionary[idx] = word\n",
    "\n",
    "with open('./processed-data/dictionary.json', 'w', encoding='utf-8') as f:\n",
    "    json.dump(dictionary, f, ensure_ascii=False, indent=4)"
   ]
  },
  {
   "cell_type": "code",
   "execution_count": 109,
   "metadata": {},
   "outputs": [],
   "source": [
    "# Add dictionary IDs column to dataframe\n",
    "def addDictionaryIds(tokens):\n",
    "    ids = []\n",
    "    for token in tokens:\n",
    "      if token in dictionary:\n",
    "        ids.append(dictionary[token])\n",
    "      else:\n",
    "        ids.append(dictionary['[UNK]'])\n",
    "    return ids"
   ]
  },
  {
   "cell_type": "code",
   "execution_count": 110,
   "metadata": {},
   "outputs": [],
   "source": [
    "train['DictionaryIds'] = train['Tokens'].apply(addDictionaryIds)"
   ]
  },
  {
   "cell_type": "code",
   "execution_count": 111,
   "metadata": {},
   "outputs": [],
   "source": [
    "def addTokenPadding(tokens):\n",
    "  padding = maxTokenLength - len(tokens)\n",
    "  return tokens + padding*[dictionary['[PAD]']]"
   ]
  },
  {
   "cell_type": "code",
   "execution_count": 112,
   "metadata": {},
   "outputs": [
    {
     "data": {
      "text/html": [
       "<div>\n",
       "<style scoped>\n",
       "    .dataframe tbody tr th:only-of-type {\n",
       "        vertical-align: middle;\n",
       "    }\n",
       "\n",
       "    .dataframe tbody tr th {\n",
       "        vertical-align: top;\n",
       "    }\n",
       "\n",
       "    .dataframe thead th {\n",
       "        text-align: right;\n",
       "    }\n",
       "</style>\n",
       "<table border=\"1\" class=\"dataframe\">\n",
       "  <thead>\n",
       "    <tr style=\"text-align: right;\">\n",
       "      <th></th>\n",
       "      <th>ImageID</th>\n",
       "      <th>Labels</th>\n",
       "      <th>Caption</th>\n",
       "      <th>Tokens</th>\n",
       "      <th>LabelIds</th>\n",
       "      <th>EncodedLabels</th>\n",
       "      <th>DictionaryIds</th>\n",
       "      <th>TokensWithPadding</th>\n",
       "    </tr>\n",
       "  </thead>\n",
       "  <tbody>\n",
       "    <tr>\n",
       "      <th>0</th>\n",
       "      <td>0.jpg</td>\n",
       "      <td>[1]</td>\n",
       "      <td>Woman in swim suit holding parasol on sunny day.</td>\n",
       "      <td>[woman, swim, suit, holding, parasol, sunny, day]</td>\n",
       "      <td>[0]</td>\n",
       "      <td>[1.0, 0.0, 0.0, 0.0, 0.0, 0.0, 0.0, 0.0, 0.0, ...</td>\n",
       "      <td>[7236, 6376, 6297, 3077, 4457, 6316, 1714]</td>\n",
       "      <td>[7236, 6376, 6297, 3077, 4457, 6316, 1714, 0, ...</td>\n",
       "    </tr>\n",
       "    <tr>\n",
       "      <th>1</th>\n",
       "      <td>1.jpg</td>\n",
       "      <td>[1, 19]</td>\n",
       "      <td>A couple of men riding horses on top of a gree...</td>\n",
       "      <td>[couple, men, riding, horses, top, green, field]</td>\n",
       "      <td>[0, 17]</td>\n",
       "      <td>[1.0, 0.0, 0.0, 0.0, 0.0, 0.0, 0.0, 0.0, 0.0, ...</td>\n",
       "      <td>[1524, 3891, 5237, 3117, 6650, 2827, 2351]</td>\n",
       "      <td>[1524, 3891, 5237, 3117, 6650, 2827, 2351, 0, ...</td>\n",
       "    </tr>\n",
       "    <tr>\n",
       "      <th>2</th>\n",
       "      <td>2.jpg</td>\n",
       "      <td>[1]</td>\n",
       "      <td>They are brave for riding in the jungle on tho...</td>\n",
       "      <td>[brave, riding, jungle, eleph]</td>\n",
       "      <td>[0]</td>\n",
       "      <td>[1.0, 0.0, 0.0, 0.0, 0.0, 0.0, 0.0, 0.0, 0.0, ...</td>\n",
       "      <td>[754, 5237, 3368, 2093]</td>\n",
       "      <td>[754, 5237, 3368, 2093, 0, 0, 0, 0, 0, 0, 0, 0...</td>\n",
       "    </tr>\n",
       "    <tr>\n",
       "      <th>3</th>\n",
       "      <td>3.jpg</td>\n",
       "      <td>[8, 3, 13]</td>\n",
       "      <td>a black and silver clock tower at an intersect...</td>\n",
       "      <td>[black, silver, clock, tower, intersection, ne...</td>\n",
       "      <td>[7, 2, 11]</td>\n",
       "      <td>[0.0, 0.0, 1.0, 0.0, 0.0, 0.0, 0.0, 1.0, 0.0, ...</td>\n",
       "      <td>[616, 5718, 1257, 6684, 3267, 4138, 6738]</td>\n",
       "      <td>[616, 5718, 1257, 6684, 3267, 4138, 6738, 0, 0...</td>\n",
       "    </tr>\n",
       "    <tr>\n",
       "      <th>4</th>\n",
       "      <td>4.jpg</td>\n",
       "      <td>[8, 3, 7]</td>\n",
       "      <td>A train coming to a stop on the tracks out side.</td>\n",
       "      <td>[train, coming, stop, tracks, sid]</td>\n",
       "      <td>[7, 2, 6]</td>\n",
       "      <td>[0.0, 0.0, 1.0, 0.0, 0.0, 0.0, 1.0, 1.0, 0.0, ...</td>\n",
       "      <td>[6704, 1367, 6178, 6694, 5677]</td>\n",
       "      <td>[6704, 1367, 6178, 6694, 5677, 0, 0, 0, 0, 0, ...</td>\n",
       "    </tr>\n",
       "  </tbody>\n",
       "</table>\n",
       "</div>"
      ],
      "text/plain": [
       "  ImageID      Labels                                            Caption  \\\n",
       "0   0.jpg         [1]   Woman in swim suit holding parasol on sunny day.   \n",
       "1   1.jpg     [1, 19]  A couple of men riding horses on top of a gree...   \n",
       "2   2.jpg         [1]  They are brave for riding in the jungle on tho...   \n",
       "3   3.jpg  [8, 3, 13]  a black and silver clock tower at an intersect...   \n",
       "4   4.jpg   [8, 3, 7]   A train coming to a stop on the tracks out side.   \n",
       "\n",
       "                                              Tokens    LabelIds  \\\n",
       "0  [woman, swim, suit, holding, parasol, sunny, day]         [0]   \n",
       "1   [couple, men, riding, horses, top, green, field]     [0, 17]   \n",
       "2                     [brave, riding, jungle, eleph]         [0]   \n",
       "3  [black, silver, clock, tower, intersection, ne...  [7, 2, 11]   \n",
       "4                 [train, coming, stop, tracks, sid]   [7, 2, 6]   \n",
       "\n",
       "                                       EncodedLabels  \\\n",
       "0  [1.0, 0.0, 0.0, 0.0, 0.0, 0.0, 0.0, 0.0, 0.0, ...   \n",
       "1  [1.0, 0.0, 0.0, 0.0, 0.0, 0.0, 0.0, 0.0, 0.0, ...   \n",
       "2  [1.0, 0.0, 0.0, 0.0, 0.0, 0.0, 0.0, 0.0, 0.0, ...   \n",
       "3  [0.0, 0.0, 1.0, 0.0, 0.0, 0.0, 0.0, 1.0, 0.0, ...   \n",
       "4  [0.0, 0.0, 1.0, 0.0, 0.0, 0.0, 1.0, 1.0, 0.0, ...   \n",
       "\n",
       "                                DictionaryIds  \\\n",
       "0  [7236, 6376, 6297, 3077, 4457, 6316, 1714]   \n",
       "1  [1524, 3891, 5237, 3117, 6650, 2827, 2351]   \n",
       "2                     [754, 5237, 3368, 2093]   \n",
       "3   [616, 5718, 1257, 6684, 3267, 4138, 6738]   \n",
       "4              [6704, 1367, 6178, 6694, 5677]   \n",
       "\n",
       "                                   TokensWithPadding  \n",
       "0  [7236, 6376, 6297, 3077, 4457, 6316, 1714, 0, ...  \n",
       "1  [1524, 3891, 5237, 3117, 6650, 2827, 2351, 0, ...  \n",
       "2  [754, 5237, 3368, 2093, 0, 0, 0, 0, 0, 0, 0, 0...  \n",
       "3  [616, 5718, 1257, 6684, 3267, 4138, 6738, 0, 0...  \n",
       "4  [6704, 1367, 6178, 6694, 5677, 0, 0, 0, 0, 0, ...  "
      ]
     },
     "execution_count": 112,
     "metadata": {},
     "output_type": "execute_result"
    }
   ],
   "source": [
    "train['TokensWithPadding'] = train['DictionaryIds'].apply(addTokenPadding)\n",
    "train.head()"
   ]
  },
  {
   "cell_type": "code",
   "execution_count": 113,
   "metadata": {},
   "outputs": [
    {
     "data": {
      "text/html": [
       "<div>\n",
       "<style scoped>\n",
       "    .dataframe tbody tr th:only-of-type {\n",
       "        vertical-align: middle;\n",
       "    }\n",
       "\n",
       "    .dataframe tbody tr th {\n",
       "        vertical-align: top;\n",
       "    }\n",
       "\n",
       "    .dataframe thead th {\n",
       "        text-align: right;\n",
       "    }\n",
       "</style>\n",
       "<table border=\"1\" class=\"dataframe\">\n",
       "  <thead>\n",
       "    <tr style=\"text-align: right;\">\n",
       "      <th></th>\n",
       "      <th>ImageID</th>\n",
       "      <th>Caption</th>\n",
       "      <th>Tokens</th>\n",
       "      <th>DictionaryIds</th>\n",
       "      <th>TokensWithPadding</th>\n",
       "    </tr>\n",
       "  </thead>\n",
       "  <tbody>\n",
       "    <tr>\n",
       "      <th>0</th>\n",
       "      <td>30000.jpg</td>\n",
       "      <td>A little girl waring a krispy kreme hat holdin...</td>\n",
       "      <td>[little, girl, waring, krispy, kreme, hat, hol...</td>\n",
       "      <td>[3654, 2720, 7076, 3448, 3446, 2966, 3077, 731...</td>\n",
       "      <td>[3654, 2720, 7076, 3448, 3446, 2966, 3077, 731...</td>\n",
       "    </tr>\n",
       "    <tr>\n",
       "      <th>1</th>\n",
       "      <td>30001.jpg</td>\n",
       "      <td>A beautiful young woman holding an orange fris...</td>\n",
       "      <td>[beautiful, young, woman, holding, orange, fri...</td>\n",
       "      <td>[508, 7310, 7236, 3077, 4304, 2598]</td>\n",
       "      <td>[508, 7310, 7236, 3077, 4304, 2598, 0, 0, 0, 0...</td>\n",
       "    </tr>\n",
       "    <tr>\n",
       "      <th>2</th>\n",
       "      <td>30002.jpg</td>\n",
       "      <td>A group of people sitting on couch next to a c...</td>\n",
       "      <td>[group, people, sitting, couch, next, coffee]</td>\n",
       "      <td>[2863, 4586, 5739, 1511, 4176, 1319]</td>\n",
       "      <td>[2863, 4586, 5739, 1511, 4176, 1319, 0, 0, 0, ...</td>\n",
       "    </tr>\n",
       "    <tr>\n",
       "      <th>3</th>\n",
       "      <td>30003.jpg</td>\n",
       "      <td>A person on a snowboard rides on the hill.</td>\n",
       "      <td>[person, snowboard, rides, hil]</td>\n",
       "      <td>[4609, 5900, 5235, 3047]</td>\n",
       "      <td>[4609, 5900, 5235, 3047, 0, 0, 0, 0, 0, 0, 0, ...</td>\n",
       "    </tr>\n",
       "    <tr>\n",
       "      <th>4</th>\n",
       "      <td>30004.jpg</td>\n",
       "      <td>A man riding a skateboard with a helmet on in ...</td>\n",
       "      <td>[man, riding, skateboard, helmet, con]</td>\n",
       "      <td>[3778, 5237, 5749, 3017, 1400]</td>\n",
       "      <td>[3778, 5237, 5749, 3017, 1400, 0, 0, 0, 0, 0, ...</td>\n",
       "    </tr>\n",
       "  </tbody>\n",
       "</table>\n",
       "</div>"
      ],
      "text/plain": [
       "     ImageID                                            Caption  \\\n",
       "0  30000.jpg  A little girl waring a krispy kreme hat holdin...   \n",
       "1  30001.jpg  A beautiful young woman holding an orange fris...   \n",
       "2  30002.jpg  A group of people sitting on couch next to a c...   \n",
       "3  30003.jpg         A person on a snowboard rides on the hill.   \n",
       "4  30004.jpg  A man riding a skateboard with a helmet on in ...   \n",
       "\n",
       "                                              Tokens  \\\n",
       "0  [little, girl, waring, krispy, kreme, hat, hol...   \n",
       "1  [beautiful, young, woman, holding, orange, fri...   \n",
       "2      [group, people, sitting, couch, next, coffee]   \n",
       "3                    [person, snowboard, rides, hil]   \n",
       "4             [man, riding, skateboard, helmet, con]   \n",
       "\n",
       "                                       DictionaryIds  \\\n",
       "0  [3654, 2720, 7076, 3448, 3446, 2966, 3077, 731...   \n",
       "1                [508, 7310, 7236, 3077, 4304, 2598]   \n",
       "2               [2863, 4586, 5739, 1511, 4176, 1319]   \n",
       "3                           [4609, 5900, 5235, 3047]   \n",
       "4                     [3778, 5237, 5749, 3017, 1400]   \n",
       "\n",
       "                                   TokensWithPadding  \n",
       "0  [3654, 2720, 7076, 3448, 3446, 2966, 3077, 731...  \n",
       "1  [508, 7310, 7236, 3077, 4304, 2598, 0, 0, 0, 0...  \n",
       "2  [2863, 4586, 5739, 1511, 4176, 1319, 0, 0, 0, ...  \n",
       "3  [4609, 5900, 5235, 3047, 0, 0, 0, 0, 0, 0, 0, ...  \n",
       "4  [3778, 5237, 5749, 3017, 1400, 0, 0, 0, 0, 0, ...  "
      ]
     },
     "execution_count": 113,
     "metadata": {},
     "output_type": "execute_result"
    }
   ],
   "source": [
    "# Setup test data\n",
    "\n",
    "# Get test CSV dataframe\n",
    "test = extractDataFrame('data/test.csv')\n",
    "\n",
    "# Tokenise\n",
    "test['Tokens'] = test['Caption'].apply(tokenise)\n",
    "# Apply dictionary IDs\n",
    "test['DictionaryIds'] = test['Tokens'].apply(addDictionaryIds)\n",
    "# Add padding\n",
    "test['TokensWithPadding'] = test['DictionaryIds'].apply(addTokenPadding)\n",
    "\n",
    "test.head()"
   ]
  },
  {
   "cell_type": "code",
   "execution_count": 114,
   "metadata": {},
   "outputs": [],
   "source": [
    "train.to_csv('./processed-data/train.csv')\n",
    "test.to_csv('./processed-data/test.csv')"
   ]
  }
 ],
 "metadata": {
  "kernelspec": {
   "display_name": "base",
   "language": "python",
   "name": "python3"
  },
  "language_info": {
   "codemirror_mode": {
    "name": "ipython",
    "version": 3
   },
   "file_extension": ".py",
   "mimetype": "text/x-python",
   "name": "python",
   "nbconvert_exporter": "python",
   "pygments_lexer": "ipython3",
   "version": "3.11.5"
  }
 },
 "nbformat": 4,
 "nbformat_minor": 2
}
