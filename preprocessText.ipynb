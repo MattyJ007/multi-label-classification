{
 "cells": [
  {
   "cell_type": "code",
   "execution_count": 584,
   "metadata": {},
   "outputs": [
    {
     "name": "stderr",
     "output_type": "stream",
     "text": [
      "[nltk_data] Downloading package stopwords to /home/matt/nltk_data...\n",
      "[nltk_data]   Package stopwords is already up-to-date!\n",
      "[nltk_data] Downloading package punkt to /home/matt/nltk_data...\n",
      "[nltk_data]   Package punkt is already up-to-date!\n",
      "[nltk_data] Downloading package wordnet to /home/matt/nltk_data...\n",
      "[nltk_data]   Package wordnet is already up-to-date!\n"
     ]
    }
   ],
   "source": [
    "import re\n",
    "import pandas as pd\n",
    "from io import StringIO\n",
    "import nltk\n",
    "import numpy as np\n",
    "\n",
    "nltk.download('stopwords')\n",
    "nltk.download('punkt')\n",
    "nltk.download('wordnet')\n",
    "\n",
    "from nltk.corpus import stopwords\n",
    "from nltk.tokenize import word_tokenize\n",
    "from nltk.stem import PorterStemmer\n",
    "\n",
    "lemma = nltk.wordnet.WordNetLemmatizer()\n",
    "\n",
    "ps = PorterStemmer()\n",
    "\n",
    "stop_words = set(stopwords.words('english'))"
   ]
  },
  {
   "cell_type": "code",
   "execution_count": 585,
   "metadata": {},
   "outputs": [],
   "source": [
    "def extractDataFrame(fileName):\n",
    "  with open(fileName) as file:\n",
    "    lines = [re.sub(r'([^,])\"(\\s*[^\\n])', r'\\1/\"\\2', line) for line in file]\n",
    "    df = pd.read_csv(StringIO(''.join(lines)), escapechar=\"/\")\n",
    "  return df"
   ]
  },
  {
   "cell_type": "code",
   "execution_count": 586,
   "metadata": {},
   "outputs": [],
   "source": [
    "def splitLabels(labels):\n",
    "  return [int(label) for label in labels.split(' ')]"
   ]
  },
  {
   "cell_type": "code",
   "execution_count": 587,
   "metadata": {},
   "outputs": [],
   "source": [
    "def tokenise(caption):\n",
    "    # Replace non-alphabetic characters with single whitespace\n",
    "    caption = re.sub(r'[^a-zA-Z\\s]', ' ', caption.lower())\n",
    "    # Remove any whitespace that appears in sequence\n",
    "    caption = re.sub(r\"\\s+\", \" \", caption)\n",
    "    # Remove new leading and trailing whitespace\n",
    "    caption = caption.strip()\n",
    "    # Apply stemmer to each remaining word in sentence\n",
    "    caption = lemma.lemmatize(caption)\n",
    "    caption = ps.stem(caption)\n",
    "\n",
    "    # Tokenize\n",
    "    word_tokens = word_tokenize(caption)\n",
    "    # Remove stop words\n",
    "    filtered_sentence = [w for w in word_tokens if not w.lower() in stop_words]\n",
    "    # Replace value with tokenised data\n",
    "    return filtered_sentence"
   ]
  },
  {
   "cell_type": "code",
   "execution_count": 588,
   "metadata": {},
   "outputs": [
    {
     "name": "stdout",
     "output_type": "stream",
     "text": [
      "{1, 2, 3, 4, 5, 6, 7, 8, 9, 10, 11, 13, 14, 15, 16, 17, 18, 19}\n",
      "Unique labels: 18\n",
      "Max label value: 19\n"
     ]
    }
   ],
   "source": [
    "train = extractDataFrame('data/train.csv')\n",
    "\n",
    "train['Tokens'] = train['Caption'].apply(tokenise)\n",
    "train['Labels'] = train['Labels'].apply(splitLabels)\n",
    "\n",
    "uniqueLabels = set()\n",
    "for labels in train['Labels']:\n",
    "  uniqueLabels.update(labels)\n",
    "\n",
    "numUniqueLabels = len(uniqueLabels)\n",
    "maxLabel = max(uniqueLabels)\n",
    "\n",
    "print(uniqueLabels)\n",
    "print('Unique labels:', numUniqueLabels)\n",
    "print('Max label value:', maxLabel)"
   ]
  },
  {
   "cell_type": "code",
   "execution_count": 589,
   "metadata": {},
   "outputs": [],
   "source": [
    "def labelMapping(uLabels):\n",
    "  labelToIdMapping = {}\n",
    "  idToLabelMapping = {}\n",
    "  for idx, label in enumerate(uLabels):\n",
    "    labelToIdMapping[label] = idx\n",
    "    idToLabelMapping[idx] = label\n",
    "  return labelToIdMapping, idToLabelMapping"
   ]
  },
  {
   "cell_type": "code",
   "execution_count": 590,
   "metadata": {},
   "outputs": [
    {
     "name": "stdout",
     "output_type": "stream",
     "text": [
      "{0: 1, 1: 2, 2: 3, 3: 4, 4: 5, 5: 6, 6: 7, 7: 8, 8: 9, 9: 10, 10: 11, 11: 13, 12: 14, 13: 15, 14: 16, 15: 17, 16: 18, 17: 19}\n"
     ]
    }
   ],
   "source": [
    "labelToIdMapping, idToLabelMapping = labelMapping(uniqueLabels)\n",
    "\n",
    "print(idToLabelMapping)\n",
    "\n",
    "def mapLabelToId(labels):\n",
    "  ids = []\n",
    "  for label in labels:\n",
    "    ids.append(labelToIdMapping[label])\n",
    "  return ids"
   ]
  },
  {
   "cell_type": "code",
   "execution_count": 591,
   "metadata": {},
   "outputs": [],
   "source": [
    "def oneHotEncodeLabel(labels):\n",
    "  oneHotClasses = np.zeros([numUniqueLabels, numUniqueLabels])\n",
    "  for label in labels:\n",
    "    # Onehot encode each label in the list\n",
    "    oneHotClasses[label][label] = 1.\n",
    "  return oneHotClasses"
   ]
  },
  {
   "cell_type": "code",
   "execution_count": 592,
   "metadata": {},
   "outputs": [
    {
     "name": "stdout",
     "output_type": "stream",
     "text": [
      "[8, 3, 13]\n",
      "[7, 2, 11]\n",
      "[[0. 0. 0. 0. 0. 0. 0. 0. 0. 0. 0. 0. 0. 0. 0. 0. 0. 0.]\n",
      " [0. 0. 0. 0. 0. 0. 0. 0. 0. 0. 0. 0. 0. 0. 0. 0. 0. 0.]\n",
      " [0. 0. 1. 0. 0. 0. 0. 0. 0. 0. 0. 0. 0. 0. 0. 0. 0. 0.]\n",
      " [0. 0. 0. 0. 0. 0. 0. 0. 0. 0. 0. 0. 0. 0. 0. 0. 0. 0.]\n",
      " [0. 0. 0. 0. 0. 0. 0. 0. 0. 0. 0. 0. 0. 0. 0. 0. 0. 0.]\n",
      " [0. 0. 0. 0. 0. 0. 0. 0. 0. 0. 0. 0. 0. 0. 0. 0. 0. 0.]\n",
      " [0. 0. 0. 0. 0. 0. 0. 0. 0. 0. 0. 0. 0. 0. 0. 0. 0. 0.]\n",
      " [0. 0. 0. 0. 0. 0. 0. 1. 0. 0. 0. 0. 0. 0. 0. 0. 0. 0.]\n",
      " [0. 0. 0. 0. 0. 0. 0. 0. 0. 0. 0. 0. 0. 0. 0. 0. 0. 0.]\n",
      " [0. 0. 0. 0. 0. 0. 0. 0. 0. 0. 0. 0. 0. 0. 0. 0. 0. 0.]\n",
      " [0. 0. 0. 0. 0. 0. 0. 0. 0. 0. 0. 0. 0. 0. 0. 0. 0. 0.]\n",
      " [0. 0. 0. 0. 0. 0. 0. 0. 0. 0. 0. 1. 0. 0. 0. 0. 0. 0.]\n",
      " [0. 0. 0. 0. 0. 0. 0. 0. 0. 0. 0. 0. 0. 0. 0. 0. 0. 0.]\n",
      " [0. 0. 0. 0. 0. 0. 0. 0. 0. 0. 0. 0. 0. 0. 0. 0. 0. 0.]\n",
      " [0. 0. 0. 0. 0. 0. 0. 0. 0. 0. 0. 0. 0. 0. 0. 0. 0. 0.]\n",
      " [0. 0. 0. 0. 0. 0. 0. 0. 0. 0. 0. 0. 0. 0. 0. 0. 0. 0.]\n",
      " [0. 0. 0. 0. 0. 0. 0. 0. 0. 0. 0. 0. 0. 0. 0. 0. 0. 0.]\n",
      " [0. 0. 0. 0. 0. 0. 0. 0. 0. 0. 0. 0. 0. 0. 0. 0. 0. 0.]]\n"
     ]
    }
   ],
   "source": [
    "train['LabelIds'] = train['Labels'].apply(mapLabelToId)\n",
    "train['EncodedLabels'] = train['LabelIds'].apply(oneHotEncodeLabel)\n",
    "\n",
    "print(train['Labels'][3])\n",
    "print(train['LabelIds'][3])\n",
    "print(train['EncodedLabels'][3])"
   ]
  },
  {
   "cell_type": "code",
   "execution_count": 593,
   "metadata": {},
   "outputs": [
    {
     "name": "stdout",
     "output_type": "stream",
     "text": [
      "Max token Length: 28\n"
     ]
    }
   ],
   "source": [
    "tokenLengths = []\n",
    "for x in range(train.shape[0]):\n",
    "    tokenLengths.append(len(train[\"Tokens\"][x]))\n",
    "\n",
    "maxTokenLength = max(tokenLengths)\n",
    "print('Max token Length:', maxTokenLength)"
   ]
  },
  {
   "cell_type": "code",
   "execution_count": 594,
   "metadata": {},
   "outputs": [
    {
     "name": "stdout",
     "output_type": "stream",
     "text": [
      "{'besides', 'izod', 'broken', 'gath', 'reins', 'awake', 'rainbow', 'francisco', 'talking', 'controlled', 'fancy', 'besid', 'solid', 'centerpiece', 'beanie', 'confusing', 'primary', 'headphon', 'veggie', 'skinny', 'skies', 'patiently', 'fox', 'demonstrated', 'tournament', 'produc', 'lagoon', 'identical', 'entourage', 'vw', 'grimly', 'pedley', 'corral', 'creme', 'conner', 'herded', 'grainy', 'carri', 'women', 'books', 'seeing', 'stunning', 'rafts', 'erect', 'rink', 'surfboarding', 'steady', 'barbershop', 'fueled', 'decorated', 'action', 'escorted', 'neckti', 'cherries', 'football', 'powd', 'siting', 'motorcyclers', 'groceri', 'numerous', 'scal', 'pastries', 'clause', 'forward', 'welcome', 'inflatable', 'masks', 'style', 'linda', 'metter', 'airlin', 'hil', 'towards', 'tarmac', 'ambulances', 'extinguisher', 'friends', 'crowded', 'bedroom', 'cabs', 'shot', 'ericsson', 'buying', 'bumb', 'crayons', 'hallway', 'nine', 'hanger', 'instruments', 'athletic', 'promenad', 'vcr', 'ars', 'relish', 'gathered', 'dries', 'cabinet', 'jockey', 'foil', 'milkshak', 'spicket', 'units', 'master', 'lavishly', 'coking', 'pirate', 'glove', 'denim', 'generations', 'boxing', 'captured', 'sideburn', 'mulitcolored', 'wavy', 'mother', 'cluttered', 'picket', 'observed', 'transit', 'imitating', 'gushing', 'jetlin', 'keeps', 'pug', 'savory', 'slow', 'sock', 'designs', 'modifgied', 'vans', 'lan', 'blonde', 'sunbathers', 'ban', 'evening', 'knees', 'fal', 'bear', 'tube', 'forestry', 'seen', 'captain', 'magnets', 'sw', 'chested', 'past', 'mixed', 'backpack', 'garage', 'rhinoceros', 'contains', 'diaper', 'infant', 'panera', 'pinches', 'chained', 'soldi', 'movi', 'propellor', 'costumes', 'substance', 'coming', 'hll', 'file', 'frizbe', 'hill', 'comforter', 'wading', 'zookeeper', 'lens', 'strong', 'becomes', 'bodi', 'smokestack', 'pagoda', 'nursing', 'flower', 'pitchers', 'gang', 'mills', 'similarly', 'approaches', 'customers', 'went', 'promotion', 'locomotive', 'form', 'detailing', 'reduce', 'leans', 'comb', 'kit', 'coal', 'boards', 'specialty', 'obese', 'eaten', 'break', 'uk', 'walks', 'un', 'yogurt', 'toed', 'cupping', 'mountains', 'fits', 'ticks', 'sling', 'tie', 'privaci', 'seeking', 'obelisk', 'dirtbik', 'jpg', 'burnt', 'visiting', 'uniform', 'wheeled', 'towels', 'fair', 'headed', 'grilling', 'roller', 'grinds', 'amusement', 'met', 'rolls', 'root', 'square', 'retail', 'paraglider', 'neat', 'heinz', 'hurrying', 'tilling', 'ordering', 'roll', 'bor', 'rim', 'racket', 'billboard', 'little', 'rooster', 'rear', 'leaders', 'slab', 'careful', 'tundra', 'sunscreen', 'shipping', 'wore', 'unique', 'recept', 'ascending', 'nature', 'depot', 'rows', 'utah', 'unloading', 'shanks', 'sets', 'outdated', 'roast', 'sells', 'particip', 'bent', 'dusty', 'peafowl', 'strips', 'foal', 'drifting', 'gorilla', 'sink', 'stone', 'hitter', 'spools', 'notepad', 'disc', 'mannequins', 'obstacle', 'wman', 'tank', 'forground', 'designed', 'wheel', 'shirted', 'spreading', 'hotel', 'gears', 'grid', 'kettl', 'accessori', 'concret', 'cours', 'placing', 'ave', 'reagan', 'parachut', 'man', 'came', 'picn', 'chopstick', 'butter', 'infamous', 'lion', 'markets', 'rifl', 'trumpet', 'rigs', 'battleship', 'collector', 'attract', 'moves', 'inches', 'tamer', 'steaming', 'surfs', 'hillsid', 'buffalo', 'females', 'fingertip', 'flute', 'skateborder', 'foliage', 'differ', 'shining', 'feasting', 'streaks', 'guitars', 'edges', 'ion', 'students', 'tidily', 'tarot', 'pushes', 'steps', 'grumpy', 'frames', 'kiteboarding', 'windsurfers', 'wear', 'pizzeria', 'links', 'blades', 'pub', 'central', 'something', 'tests', 'shwon', 'villaraigosa', 'balance', 'pedestal', 'putting', 'learn', 'commut', 'snacking', 'poke', 'umbreallas', 'rack', 'strange', 'japanese', 'decorations', 'cameras', 'enclosed', 'fetish', 'holding', 'ranch', 'loung', 'added', 'sips', 'warcraft', 'platt', 'taxis', 'advertis', 'catches', 'arrival', 'salad', 'intended', 'face', 'remove', 'shaking', 'inspecting', 'toasters', 'bett', 'belong', 'pli', 'bluejay', 'shaded', 'social', 'problem', 'seagulls', 'backseat', 'broke', 'gondala', 'pus', 'magnifying', 'seniors', 'wint', 'level', 'bottle', 'sheepdog', 'extends', 'bush', 'paint', 'organize', 'thriving', 'opposite', 'artist', 'whack', 'pay', 'crookedly', 'tug', 'soars', 'handmade', 'motels', 'fluffy', 'cream', 'hit', 'slats', 'signposts', 'outside', 'protected', 'staked', 'drivers', 'arab', 'femal', 'way', 'straddles', 'panorama', 'placed', 'unseen', 'contrast', 'basebal', 'equipment', 'exchange', 'dotted', 'forming', 'covered', 'clogging', 'gown', 'seaplane', 'kilt', 'macaws', 'propellers', 'exposur', 'wall', 'ticket', 'liing', 'event', 'edge', 'sunlight', 'bring', 'sprawled', 'bovine', 'trough', 'trailer', 'talks', 'lipstick', 'fashion', 'khaki', 'tap', 'hookup', 'ensues', 'mans', 'else', 'downstairs', 'arm', 'pained', 'reflect', 'pastri', 'frito', 'paperwork', 'chase', 'erectly', 'side', 'lot', 'ripe', 'cycle', 'curled', 'ofa', 'hotels', 'ostriches', 'spread', 'coral', 'release', 'metro', 'visit', 'lin', 'propeller', 'sideline', 'sumo', 'beam', 'takeoff', 'fist', 'kickstand', 'shoe', 'ate', 'hatchback', 'booty', 'later', 'thigh', 'belt', 'billowing', 'gone', 'numbered', 'nervous', 'milking', 'bazaar', 'parad', 'attached', 'moth', 'cran', 'amidst', 'showboat', 'theatre', 'missing', 'terminal', 'catalina', 'site', 'stroller', 'distance', 'crew', 'team', 'atmospher', 'nice', 'ignoring', 'athletes', 'japan', 'make', 'waits', 'squad', 'north', 'overshadowed', 'ford', 'santa', 'appliance', 'smalls', 'majestically', 'roma', 'fling', 'ad', 'yelling', 'easy', 'cinnamon', 'defaced', 'boardwalk', 'thecstreet', 'shrub', 'disembodied', 'low', 'semi', 'themselv', 'twin', 'gadget', 'chevy', 'wacky', 'stoplights', 'decals', 'scooter', 'unstable', 'glar', 'going', 'colorful', 'bik', 'badly', 'carriages', 'pepperoni', 'handstand', 'dining', 'stalls', 'left', 'overlaid', 'brakes', 'cottag', 'cab', 'conditions', 'cases', 'sidecar', 'nose', 'punk', 'languag', 'roped', 'candle', 'largely', 'attendants', 'embrac', 'waters', 'edg', 'meter', 'bull', 'bulldozer', 'beams', 'classroom', 'husky', 'hello', 'kernel', 'alleyway', 'shell', 'sufer', 'heading', 'expression', 'bridge', 'seabird', 'squatted', 'mittin', 'arranging', 'cover', 'lcd', 'stylishly', 'airfrance', 'group', 'stacked', 'dishwasher', 'shoes', 'flood', 'mailed', 'busy', 'preening', 'climb', 'swirl', 'barbed', 'elevator', 'ice', 'paper', 'fried', 'wrong', 'watched', 'checkerd', 'fine', 'conducting', 'aroung', 'extending', 'feild', 'enveloping', 'ultralight', 'attractive', 'celebratory', 'crest', 'combed', 'greyyellow', 'motorcycles', 'stationary', 'vegetable', 'kayaks', 'snuggling', 'soap', 'engin', 'handing', 'contrapt', 'spandex', 'caged', 'garmin', 'sepia', 'smal', 'kick', 'curve', 'gifts', 'worker', 'togas', 'struck', 'claus', 'corner', 'transferring', 'winding', 'fistfuls', 'rapid', 'dipped', 'riders', 'customer', 'object', 'opened', 'arrive', 'goalie', 'girdle', 'meadow', 'stoplight', 'pickle', 'cag', 'angel', 'tablecloth', 'trainyard', 'tshirt', 'pitcher', 'surface', 'dancing', 'dignitary', 'scattered', 'corr', 'filtered', 'marked', 'sized', 'crate', 'version', 'gymnasium', 'jockeys', 'barbie', 'piles', 'sidewalk', 'manly', 'adamantly', 'rac', 'frost', 'enough', 'outfit', 'shearer', 'salsa', 'ey', 'draped', 'burger', 'opposing', 'resting', 'comfortably', 'bin', 'brave', 'reli', 'stained', 'hairbrush', 'brandy', 'owl', 'munching', 'insid', 'forks', 'rein', 'tall', 'wrapped', 'th', 'shaggy', 'wetsuits', 'divided', 'red', 'icebox', 'lifeguard', 'wreck', 'ubuntu', 'sk', 'whoever', 'net', 'athlete', 'deep', 'shav', 'clue', 'asked', 'riding', 'jail', 'record', 'lands', 'lei', 'buildings', 'surf', 'deckered', 'mannequin', 'parrots', 'guide', 'obstacl', 'bow', 'leaned', 'dangerous', 'reading', 'slot', 'ham', 'sushi', 'scenes', 'pawing', 'chop', 'factory', 'hat', 'kne', 'gear', 'yankees', 'stepping', 'emerg', 'doggie', 'greenhouse', 'staff', 'tusted', 'restaurant', 'windsurfs', 'rid', 'wool', 'holds', 'davidson', 'frosting', 'oj', 'sleeves', 'hanging', 'leavened', 'waddling', 'dragon', 'rig', 'mobil', 'lighthouse', 'meals', 'mature', 'sunris', 'carousal', 'skiier', 'boad', 'chocolate', 'ferrari', 'tag', 'att', 'vases', 'performers', 'pizza', 'sunset', 'pickles', 'fountain', 'headpiece', 'stating', 'luncheon', 'handicapped', 'canal', 'picnicking', 'soups', 'kneeling', 'copy', 'objects', 'gaming', 'nap', 'invisible', 'belly', 'zebra', 'curr', 'admire', 'unrecognizable', 'petting', 'siding', 'luggag', 'everyone', 'vie', 'smile', 'took', 'picker', 'drown', 'propping', 'graz', 'breathtak', 'escalator', 'someth', 'pepole', 'dumpster', 'blowing', 'bored', 'coin', 'trey', 'dancer', 'pancake', 'collis', 'chocolates', 'monopoly', 'parasailer', 'vicinity', 'walk', 'slop', 'happening', 'telephon', 'bright', 'tour', 'traff', 'vacation', 'striped', 'mantel', 'positioned', 'egg', 'unidentified', 'rais', 'aircraft', 'tig', 'airlplan', 'bicyclists', 'xar', 'midst', 'workout', 'briefcas', 'raging', 'telephone', 'alaskan', 'airplnae', 'know', 'anywhere', 'olymp', 'rendering', 'faced', 'escal', 'station', 'juic', 'collars', 'waists', 'pew', 'bathroom', 'macbook', 'ships', 'closer', 'used', 'feeder', 'stance', 'aviator', 'snowbird', 'granite', 'competitive', 'winking', 'whities', 'fireplace', 'boyfriend', 'rocks', 'curious', 'angles', 'congratulate', 'booster', 'fold', 'chcoolate', 'wonders', 'means', 'cucumb', 'shrine', 'point', 'shorter', 'directing', 'cheese', 'berries', 'shop', 'strip', 'mate', 'heads', 'fro', 'straightening', 'colnett', 'animals', 'unknown', 'breweri', 'dour', 'bodyboarding', 'alongsid', 'motorcyl', 'wash', 'exercise', 'rugby', 'waffles', 'caut', 'season', 'bleachers', 'oncoming', 'muscles', 'fork', 'cowboys', 'celebr', 'lunch', 'stripes', 'ones', 'tells', 'poodle', 'catch', 'others', 'perfect', 'bench', 'system', 'hoodi', 'tir', 'actor', 'neon', 'lemonade', 'plac', 'undoes', 'treats', 'motel', 'absolutley', 'sucking', 'greien', 'strapping', 'mell', 'plungers', 'roan', 'bubbles', 'jeep', 'speculators', 'kids', 'smashed', 'abstract', 'weather', 'atria', 'combs', 'clay', 'wraps', 'pzza', 'deflated', 'peaking', 'ca', 'john', 'vacuum', 'explain', 'stoage', 'tea', 'headless', 'interviewed', 'change', 'springs', 'buggy', 'highrise', 'sat', 'panning', 'rubber', 'grooming', 'bride', 'skinning', 'potted', 'companions', 'readers', 'telescop', 'gradd', 'rocket', 'written', 'conclusion', 'queen', 'buckingham', 'employe', 'shopper', 'vegetables', 'fac', 'luggage', 'handlebars', 'torn', 'passes', 'probabably', 'gotten', 'briefcase', 'already', 'deeply', 'escort', 'tipping', 'niki', 'controls', 'pliers', 'bearing', 'edited', 'lapel', 'organized', 'vests', 'handsome', 'nypd', 'haired', 'gumdrop', 'lapels', 'sick', 'nurs', 'z', 'frise', 'health', 'tale', 'asia', 'knife', 'posed', 'snowboarder', 'windboard', 'refreiger', 'toasted', 'vehicle', 'royal', 'cuddling', 'spots', 'expressing', 'homemad', 'hot', 'dugout', 'skil', 'afro', 'consol', 'perched', 'handlebar', 'iraq', 'house', 'feeding', 'delicacy', 'canisters', 'reaches', 'usu', 'blind', 'specifics', 'restrain', 'vintag', 'kites', 'troll', 'eggs', 'circular', 'garlic', 'signs', 'screw', 'resemble', 'longboard', 'probably', 'bunch', 'pound', 'polic', 'greek', 'hydr', 'handrail', 'rodeo', 'ripple', 'hedges', 'filthy', 'advanced', 'another', 'helping', 'sill', 'beer', 'compensate', 'tiered', 'elbow', 'lapful', 'different', 'easily', 'polo', 'manequins', 'starting', 'softbal', 'parasols', 'zebras', 'gate', 'merchants', 'competition', 'recognizing', 'picks', 'personnel', 'waterfall', 'cap', 'scavengers', 'pro', 'frapp', 'waterway', 'necessary', 'yummy', 'shines', 'bun', 'receive', 'inching', 'cruise', 'scissor', 'fixin', 'artsy', 'greasy', 'boardroom', 'cruiser', 'main', 'slippers', 'snaps', 'collage', 'bug', 'hissing', 'selfish', 'glaze', 'shades', 'force', 'source', 'crashing', 'asain', 'serving', 'fast', 'dribbles', 'fashioned', 'setup', 'quarter', 'combing', 'pelicans', 'rapped', 'basketbal', 'arcade', 'thing', 'mango', 'tide', 'melted', 'clutt', 'negotiating', 'surfboards', 'alley', 'dressed', 'extremely', 'developed', 'floral', 'backed', 'packing', 'elaborate', 'laptop', 'enthusiasts', 'blurred', 'widewalk', 'entrance', 'second', 'puppi', 'thru', 'plates', 'light', 'para', 'cornfield', 'barak', 'falafel', 'grinning', 'frisbi', 'awe', 'retired', 'dummy', 'engaged', 'sorting', 'pitched', 'scenic', 'clouds', 'artistic', 'rugs', 'hay', 'sexy', 'onward', 'shopping', 'assembled', 'hospital', 'doodling', 'aisleway', 'walls', 'hauling', 'dropped', 'sporting', 'animated', 'slippery', 'hovers', 'cont', 'white', 'leap', 'sneak', 'gates', 'trots', 'tiara', 'pepsi', 'performs', 'whiter', 'coasts', 'shoots', 'trestl', 'metallic', 'charact', 'wallpapered', 'competing', 'squeezing', 'find', 'treth', 'gr', 'multe', 'coconut', 'hungry', 'topped', 'plans', 'defy', 'rushing', 'waking', 'instru', 'several', 'pack', 'veggies', 'english', 'domino', 'yspace', 'futuristic', 'womans', 'headband', 'tongs', 'alaska', 'tent', 'eight', 'lakers', 'hides', 'jack', 'female', 'piano', 'surprizing', 'assign', 'voodoo', 'operating', 'grouping', 'boogey', 'balconi', 'stuck', 'bucket', 'shows', 'barge', 'neighborhood', 'highchair', 'sticky', 'hung', 'pain', 'treat', 'jars', 'urinals', 'fencing', 'canadian', 'flips', 'selfie', 'pineappl', 'frown', 'dora', 'removing', 'decorate', 'story', 'straight', 'coached', 'stacks', 'ga', 'beans', 'product', 'protestor', 'hug', 'bee', 'rotating', 'trek', 'folding', 'diesel', 'metropolitan', 'flash', 'calls', 'engages', 'warehouse', 'rides', 'radio', 'grouped', 'campbell', 'muslim', 'wonder', 'wooded', 'monorail', 'stnading', 'handheld', 'matching', 'riving', 'harnessed', 'vis', 'bluetooth', 'suv', 'growth', 'panti', 'hour', 'algae', 'back', 'canopi', 'scocer', 'desktop', 'acc', 'boy', 'polar', 'mibs', 'muel', 'gatorad', 'devic', 'scrubs', 'cleans', 'smoothi', 'clothing', 'hits', 'zooms', 'beautiful', 'vase', 'newspap', 'trous', 'hangar', 'parasailers', 'pushing', 'porsche', 'west', 'glassy', 'tighty', 'yacht', 'rain', 'column', 'spoon', 'dip', 'medieval', 'pass', 'toddlers', 'fathers', 'single', 'district', 'tempestuous', 'squats', 'slight', 'york', 'dinosaur', 'cement', 'decor', 'gringing', 'reflected', 'tampa', 'fives', 'watching', 'leather', 'wardrobe', 'native', 'hand', 'garbag', 'supermarket', 'yield', 'go', 'vineyard', 'minnesota', 'timer', 'six', 'kayak', 'steeple', 'period', 'wel', 'fourth', 'dreary', 'teenager', 'mates', 'ben', 'dollar', 'flames', 'mopped', 'boathouse', 'jacket', 'trees', 'country', 'halfway', 'keep', 'circl', 'couches', 'medical', 'vertically', 'signed', 'clad', 'teddy', 'doz', 'avenu', 'beached', 'pictured', 'postcard', 'diamond', 'outstretched', 'concealed', 'flip', 'tail', 'dozens', 'tosses', 'srfer', 'coveralls', 'monitor', 'minute', 'experience', 'shares', 'soldering', 'listening', 'collect', 'farmer', 'shoulder', 'clown', 'displaying', 'quiet', 'leader', 'shotgun', 'dol', 'confidently', 'chlid', 'mark', 'truckb', 'evil', 'multicolored', 'wrapp', 'texas', 'sing', 'podium', 'slushy', 'convertible', 'organizing', 'monkey', 'yes', 'drills', 'caned', 'illuminates', 'barrier', 'explore', 'venue', 'chick', 'shielding', 'reddish', 'poni', 'mue', 'cathay', 'pud', 'pots', 'hamburgers', 'servings', 'caravan', 'laughs', 'captivity', 'costume', 'tattered', 'vehicles', 'vessel', 'snacks', 'receipt', 'engine', 'grazing', 'sitting', 'winged', 'hr', 'speakers', 'zipping', 'restroom', 'doubl', 'shish', 'parkway', 'turn', 'length', 'kenya', 'feast', 'crouched', 'choosing', 'runs', 'foreign', 'portraying', 'racers', 'types', 'angled', 'rhino', 'steering', 'touring', 'laid', 'affixed', 'scene', 'towed', 'potti', '[UNK]', 'elderly', 'charity', 'follow', 'drum', 'clocks', 'freez', 'handling', 'french', 'hold', 'precariously', 'cape', 'orbit', 'cows', 'puddl', 'photoed', 'hawk', 'garag', 'groceries', 'crops', 'sifters', 'passport', 'limb', 'groom', 'piicture', 'whole', 'schedule', 'far', 'speeds', 'downward', 'disk', 'crowds', 'civilians', 'controllers', 'unit', 'barges', 'memori', 'jumped', 'poles', 'wilderness', 'long', 'toned', 'trio', 'signals', 'lodges', 'fighters', 'helps', 'falcon', 'pract', 'bratwurst', 'folded', 'pine', 'sowing', 'aisle', 'bloody', 'industrial', 'marketplac', 'twigs', 'mexican', 'dividers', 'wir', 'butterfli', 'separating', 'air', 'pennant', 'blaz', 'weed', 'character', 'gives', 'moped', 'inspected', 'cupcak', 'skating', 'pistol', 'overcast', 'cruiseboat', 'cov', 'octopus', 'ikea', 'mat', 'filed', 'ropes', 'wings', 'pulled', 'genius', 'bridg', 'ith', 'herd', 'settler', 'renaissance', 'parkng', 'smiles', 'ribbons', 'teach', 'puppy', 'bathing', 'observing', 'australia', 'soldiers', 'meanwhil', 'crust', 'joined', 'jetliner', 'mower', 'styl', 'trot', 'motorcycl', 'post', 'sillouetted', 'bicycl', 'plowing', 'geese', 'impact', 'lead', 'tear', 'felt', 'hp', 'carrier', 'arms', 'stores', 'changing', 'painted', 'incoming', 'recording', 'stripped', 'violin', 'trampoline', 'strike', 'apartment', 'plaque', 'shoreline', 'end', 'ballpark', 'trim', 'chilling', 'someon', 'fish', 'storing', 'fascinated', 'rockwel', 'upon', 'pasta', 'babi', 'awnings', 'creating', 'begin', 'sharp', 'freshly', 'microphones', 'please', 'schoolchildren', 'milkshake', 'pal', 'manufacturing', 'sweet', 'jug', 'may', 'foodstuffs', 'badg', 'calm', 'entr', 'young', 'customized', 'mac', 'someone', 'despondent', 'freight', 'compart', 'laptops', 'year', 'boxes', 'hear', 'tanker', 'tourists', 'tangled', 'rang', 'propellors', 'aboard', 'festive', 'preforming', 'dishes', 'roads', 'flooded', 'ambassador', 'double', 'tast', 'hydrants', 'receiving', 'bean', 'book', 'lids', 'intimate', 'underneath', 'overgrown', 'hash', 'stairs', 'seal', 'squar', 'mountian', 'including', 'years', 'enging', 'peopl', 'diving', 'habit', 'buried', 'cars', 'filling', 'manuevers', 'proped', 'loan', 'carton', 'pomeranian', 'airiel', 'amid', 'peering', 'forces', 'posing', 'great', 'tigers', 'canyon', 'atv', 'short', 'surprised', 'musician', 'chilli', 'cubs', 'lov', 'grab', 'unfolded', 'teen', 'snowshoes', 'bust', 'readies', 'nesting', 'snowsuit', 'decrative', 'pav', 'mailbox', 'layer', 'reflecting', 'suitcases', 'chicago', 'mound', 'obstructs', 'trowing', 'restaraunt', 'purol', 'maid', 'cold', 'wrote', 'chat', 'safari', 'golden', 'theirir', 'ornately', 'lines', 'unbox', 'plywood', 'scale', 'guiding', 'school', 'lorry', 'tourism', 'envrio', 'stuff', 'cellphone', 'elephant', 'p', 'gil', 'leaking', 'right', 'hurts', 'bamboo', 'replenishing', 'flown', 'hawaiian', 'threatening', 'beginning', 'cobble', 'automobil', 'speech', 'pedestrians', 'handled', 'livering', 'mad', 'webb', 'chews', 'grove', 'tuxedo', 'unable', 'include', 'sadly', 'tools', 'crab', 'quaint', 'parlor', 'countrysid', 'marshmallows', 'eateri', 'nic', 'resort', 'checking', 'bureau', 'krispy', 'begging', 'afar', 'progress', 'skateboards', 'shore', 'cucumber', 'bit', 'froyo', 'stair', 'uses', 'green', 'skyp', 'ladi', 'fallen', 'made', 'taste', 'time', 'waterfront', 'amongst', 'safer', 'chewing', 'veggi', 'saddles', 'toothbrushes', 'underground', 'dj', 'jam', 'windshields', 'entertain', 'shaved', 'uickly', 'wildlife', 'checkpoint', 'wood', 'sliced', 'picture', 'develop', 'pizzas', 'papers', 'shoot', 'basil', 'raw', 'biker', 'adult', 'mousepad', 'restuar', 'ladder', 'texts', 'kneels', 'clutches', 'wed', 'slices', 'neatly', 'persong', 'traveler', 'slicing', 'posters', 'semitrailer', 'sportsmen', 'games', 'drainage', 'straddling', 'river', 'barbecuing', 'flying', 'grazes', 'upward', 'photographing', 'lunging', 'cop', 'shelv', 'closed', 'street', 'bellowing', 'stranded', 'umbrellaed', 'heard', 'homosexual', 'splashing', 'enraptur', 'downed', 'thes', 'personal', 'infield', 'kingdom', 'rusty', 'planted', 'phone', 'skaters', 'epizza', 'selections', 'agricultural', 'submarine', 'home', 'kissing', 'started', 'landing', 'arriving', 'things', 'classic', 'monk', 'precedes', 'tree', 'located', 'hoping', 'x', 'lusting', 'brown', 'tomato', 'land', 'googly', 'macaroni', 'feet', 'steepl', 'pakistan', 'bagel', 'makeup', 'lak', 'construct', 'cracked', 'warning', 'flops', 'stem', 'snooping', 'table', 'bouquet', 'cradling', 'hamm', 'gift', 'uncovered', 'floor', 'slim', 'streetscape', 'poses', 'wax', 'thumb', 'puffy', 'hatcher', 'demonstration', 'pointed', 'paddle', 'friend', 'self', 'artificial', 'jester', 'lawn', 'falling', 'skyping', 'wheat', 'horse', 'better', 'bikini', 'clos', 'gray', 'stripe', 'hauler', 'pit', 'sleep', 'appl', 'outsid', 'playinmg', 'pier', 'splash', 'ongoing', 'scaffold', 'peacefully', 'beach', 'sugar', 'characters', 'splashes', 'navigation', 'fur', 'everywhere', 'diverse', 'letting', 'bomb', 'seminar', 'take', 'licked', 'whle', 'child', 'jumps', 'framed', 'sandals', 'ajar', 'wal', 'ranging', 'portrait', 'sesame', 'jet', 'comfort', 'hilly', 'pony', 'smothered', 'tethered', 'camp', 'nearly', 'lined', 'neath', 'ina', 'habitat', 'road', 'turquoise', 'roundabout', 'clears', 'manatee', 'marsh', 'seaweed', 'sides', 'advertsment', 'plume', 'involves', 'faucet', 'shipyard', 'juicy', 'advertisement', 'triple', 'drawing', 'fall', 'leaps', 'urns', 'bros', 'hal', 'flowerpot', 'befor', 'skiis', 'indoors', 'half', 'rice', 'process', 'leg', 'leaves', 'soaring', 'iron', 'inform', 'beverages', 'restaurants', 'bricked', 'stiring', 'shapes', 'knol', 'races', 'gril', 'auto', 'triangle', 'choppy', 'carnival', 'wires', 'rally', 'chopper', 'outhouse', 'lone', 'ans', 'denotes', 'gravel', 'foam', 'slip', 'travels', 'nighttim', 'flock', 'god', 'whiteboard', 'turns', 'completed', 'severe', 'peer', 'chess', 'flattened', 'themself', 'along', 'bye', 'maiden', 'shaving', 'applied', 'chestnut', 'throwing', 'buy', 'prosthetic', 'barrels', 'knocked', 'backyard', 'bristol', 'chopsticks', 'southern', 'feelings', 'wakeboard', 'ages', 'behind', 'highway', 'sister', 'opponet', 'novelty', 'hook', 'leash', 'hoses', 'pavements', 'cable', 'hairdryer', 'handed', 'simple', 'credit', 'faded', 'umpire', 'wetland', 'secluded', 'height', 'modeling', 'flys', 'stainless', 'traveling', 'quizzically', 'capable', 'bil', 'owls', 'ago', 'engaging', 'pump', 'rocking', 'biting', 'ferry', 'clasping', 'freeway', 'hilding', 'miroor', 'jump', 'pumpkin', 'holes', 'curtains', 'pari', 'appliances', 'oranges', 'positions', 'windowsill', 'paws', 'meeting', 'littie', 'fixes', 'barell', 'patrolling', 'damaged', 'nightlight', 'miniature', 'shield', 'cheek', 'advertising', 'pulling', 'creative', 'plastered', 'youth', 'overseeing', 'market', 'string', 'beauty', 'mama', 'shade', 'includes', 'pumping', 'cookie', 'w', 'meatball', 'volleyball', 'mascot', 'parasol', 'rout', 'graduate', 'salmon', 'mysterious', 'streak', 'real', 'tripods', 'correct', 'lays', 'professionals', 'combo', 'obama', 'sky', 'mossy', 'paymets', 'kabob', 'pathway', 'deflating', 'hosed', 'policemen', 'temple', 'old', 'well', 'possessing', 'waves', 'ornament', 'equip', 'armored', 'layered', 'stocked', 'surfers', 'visitor', 'guns', 'curved', 'cuddle', 'spin', 'exiting', 'mens', 'litte', 'boats', 'watering', 'fun', 'sampling', 'public', 'flaming', 'halter', 'jockies', 'manueverin', 'orange', 'esplanade', 'spect', 'cellar', 'color', 'noodles', 'italia', 'live', 'provides', 'rollled', 'pillar', 'ov', 'somewher', 'dedicated', 'paddl', 'dramatic', 'triangular', 'see', 'spatula', 'balls', 'chain', 'court', 'backward', 'dealership', 'offering', 'constructing', 'custom', 'lab', 'rug', 'stops', 'nam', 'bag', 'paste', 'aid', 'sigh', 'cotton', 'refurbished', 'ingredi', 'notic', 'fender', 'subway', 'dirt', 'grabs', 'oman', 'fe', 'flask', 'clasps', 'creek', 'tries', 'window', 'cafe', 'goi', 'retro', 'wind', 'planing', 'eyeglass', 'overlook', 'territori', 'sittign', 'photo', 'scanning', 'ganging', 'swords', 'diner', 'capsule', 'hipster', 'onlookers', 'dynamit', 'spreads', 'booz', 'junked', 'woods', 'cr', 'firehose', 'earmarks', 'pod', 'quinci', 'cooked', 'safeway', 'newborn', 'cottonwood', 'rolled', 'norman', 'squinting', 'photographic', 'case', 'whichn', 'count', 'dim', 'mass', 'sheep', 'showroom', 'dodgers', 'goose', 'buzzards', 'veil', 'transports', 'notice', 'basketball', 'crying', 'operates', 'banked', 'aged', 'screens', 'headlights', 'pag', 'limit', 'paddling', 'bathtub', 'attempts', 'daniels', 'suspension', 'fruity', 'microwav', 'mime', 'airy', 'tying', 'decker', 'plush', 'unison', 'hammer', 'downhil', 'cooks', 'rings', 'plays', 'smiley', 'bartender', 'cuts', 'carries', 'footlong', 'mashed', 'streetlight', 'conference', 'age', 'workers', 'within', 'donkey', 'border', 'cloudy', 'penguin', 'dalmatian', 'remot', 'embrella', 'evergreen', 'tricycle', 'commuting', 'blend', 'hiking', 'leaks', 'writing', 'canopy', 'unclear', 'haircut', 'gym', 'cluster', 'tusk', 'decorates', 'heart', 'wheels', 'naked', 'detailed', 'olive', 'raining', 'serious', 'smiling', 'spectator', 'pimp', 'chewed', 'lazily', 'amount', 'acting', 'worked', 'named', 'brand', 'anticip', 'swining', 'dumping', 'lifting', 'stripper', 'sort', 'tips', 'batting', 'bushes', 'nostalgic', 'adjusted', 'nathan', 'idle', 'slide', 'surfing', 'airlines', 'tables', 'type', 'flowerb', 'floaters', 'snooz', 'umbrella', 'tux', 'sandwich', 'center', 'fruits', 'specks', 'profile', 'avocadoes', 'assisting', 'fixed', 'humm', 'kneel', 'roof', 'mow', 'trail', 'bat', 'bitumen', 'vandalized', 'travelers', 'flavored', 'wholesale', 'dine', 'floatboard', 'plaid', 'crossing', 'tackled', 'soar', 'salvation', 'coca', 'eagl', 'interior', 'watch', 'attending', 'box', 'repairing', 'jettisons', 'jersies', 'chopp', 'wicker', 'draft', 'dense', 'rusted', 'courtroom', 'ray', 'chaotic', 'aimed', 'benches', 'castle', 'trailers', 'bartend', 'deer', 'surboards', 'advantage', 'commanded', 'sleigh', 'st', 'cobblestones', 'takes', 'link', 'depicts', 'electric', 'overloaded', 'perform', 'foyer', 'transparent', 'misty', 'walnuts', 'tv', 'pies', 'knee', 'tub', 'motorcyclists', 'formally', 'flut', 'snowstorm', 'enjoying', 'wiped', 'anoth', 'coast', 'bottled', 'onion', 'san', 'joyfully', 'lif', 'charlie', 'worshiping', 'cleat', 'downhill', 'paintings', 'shredding', 'giraff', 'chandelier', 'chests', 'marquee', 'teenaged', 'forrest', 'hockey', 'wrestler', 'ferguson', 'hol', 'buses', 'carrots', 'attendant', 'storefront', 'moutain', 'projector', 'bagpip', 'raft', 'lazing', 'clouded', 'bicyclist', 'slic', 'owners', 'plow', 'trained', 'templar', 'security', 'massive', 'float', 'maintenance', 'expansive', 'panels', 'satellite', 'cleaning', 'dirtbike', 'hammock', 'pleasant', 'seattle', 'cheesecake', 'b', 'seafood', 'grassy', 'halo', 'russian', 'alin', 'airborne', 'dimly', 'running', 'pretends', 'able', 'watches', 'witch', 'proud', 'sneakers', 'elevated', 'candlelight', 'wildli', 'sid', 'dives', 'repairs', 'weeds', 'trip', 'scary', 'gondola', 'barely', 'ride', 'plastic', 'summer', 'rob', 'ornate', 'teamm', 'rests', 'dust', 'plowed', 'walkway', 'flanked', 'winds', 'montage', 'plating', 'ribbon', 'shred', 'drive', 'colt', 'wooler', 'city', 'stole', 'converted', 'approached', 'bushy', 'ex', 'mic', 'relaxing', 'waiting', 'suitcase', 'enclosure', 'bumper', 'geisha', 'lie', 'sheeep', 'choking', 'soaked', 'crashes', 'destroy', 'rode', 'like', 'reclines', 'wak', 'minutes', 'newlywed', 'branch', 'fording', 'lades', 'bushels', 'sleek', 'seating', 'arch', 'stereo', 'blu', 'exact', 'boating', 'hors', 'fli', 'rop', 'page', 'nun', 'airliners', 'whit', 'appears', 'bucnh', 'cartoon', 'corn', 'british', 'hate', 'worthy', 'cookers', 'slat', 'overview', 'doili', 'bulid', 'least', 'fake', 'trophy', 'spurts', 'office', 'grilled', 'divers', 'mustachioed', 'placemat', 'potty', 'lips', 'mechanical', 'herb', 'windows', 'pi', 'preperation', 'lobbi', 'world', 'desks', 'ping', 'balloon', 'splashy', 'got', 'afloat', 'hybrid', 'spaces', 'caricature', 'treadmil', 'rowers', 'cactus', 'vast', 'fireplac', 'upside', 'pond', 'religious', 'motif', 'credits', 'use', 'unhappy', 'utility', 'shrubbery', 'melon', 'canoes', 'motorcycle', 'convent', 'potential', 'panda', 'tagging', 'tucked', 'skateboard', 'challenge', 'stadium', 'rough', 'wire', 'sofas', 'bbq', 'hike', 'fest', 'attempted', 'fronting', 'donkeys', 'adjusts', 'license', 'control', 'alter', 'tarp', 'lurching', 'abov', 'abat', 'stuffing', 'charged', 'ridden', 'litt', 'ignor', 'kiddie', 'swings', 'commands', 'baggage', 'stirring', 'flatbread', 'saran', 'bubble', 'reriger', 'carriage', 'observer', 'mayor', 'stov', 'bulls', 'ipod', 'solve', 'rickety', 'racquets', 'helicopt', 'flagpole', 'eu', 'moored', 'would', 'crane', 'hip', 'fellow', 'tolls', 'statu', 'logo', 'treelin', 'dreamliner', 'stickers', 'grating', 'paying', 'boeing', 'tongue', 'plast', 'curtain', 'stunt', 'striping', 'grips', 'washing', 'hut', 'tye', 'yp', 'grind', 'dmv', 'pointer', 'settlers', 'labeled', 'store', 'bashed', 'stuf', 'bold', 'blocked', 'printer', 'sheriff', 'shawl', 'march', 'round', 'terri', 'overlooking', 'sho', 'bunks', 'day', 'madly', 'makes', 'brush', 'lanes', 'rickshaws', 'disney', 'harvesting', 'sell', 'mercedes', 'neck', 'skatepark', 'cobbled', 'frisb', 'hero', 'starts', 'anime', 'indicates', 'quicktime', 'gun', 'parrot', 'ceremonial', 'bay', 'bridle', 'wines', 'parade', 'pressure', 'dye', 'log', 'union', 'modernized', 'museum', 'skiing', 'midi', 'wiimote', 'sidelines', 'hang', 'vending', 'crois', 'umbrells', 'ceiling', 'pictur', 'krispee', 'lining', 'storage', 'garbage', 'skater', 'tard', 'aisl', 'jumper', 'south', 'differently', 'set', 'divide', 'giant', 'cooki', 'hoop', 'babies', 'breadstick', 'hid', 'cyclist', 'floats', 'could', 'bunk', 'ties', 'ledge', 'poking', 'breast', 'poss', 'cupcake', 'ribs', 'bending', 'vendors', 'peach', 'ruby', 'huge', 'steadying', 'warms', 'pattern', 'acurly', 'overhead', 'skateboarding', 'toyota', 'sking', 'rise', 'skii', 'kitty', 'celebrating', 'film', 'courtyard', 'directional', 'motions', 'receives', 'reports', 'sav', 'sil', 'frosbee', 'emaciated', 'footbal', 'propaganda', 'rv', 'daddy', 'bleak', 'fedora', 'patient', 'interacting', 'cathing', 'wut', 'hitches', 'conveyer', 'charter', 'words', 'posts', 'caption', 'bass', 'jeans', 'compani', 'attent', 'warming', 'shearing', 'occasion', 'mink', 'exercising', 'ten', 'touches', 'listen', 'tooth', 'monks', 'orioles', 'recliner', 'number', 'electricity', 'strawberri', 'skyscrapers', 'barbecue', 'run', 'balone', 'flat', 'carpet', 'let', 'swims', 'recycl', 'guitar', 'spaniel', 'sharply', 'weird', 'trousers', 'har', 'driver', 'gathering', 'compartment', 'necktie', 'saf', 'mustache', 'concentrating', 'readi', 'swimming', 'forklift', 'throw', 'enters', 'helmets', 'blocks', 'fundrais', 'butt', 'cutter', 'cloesd', 'describing', 'images', 'mitt', 'outfield', 'trailing', 'statues', 'shrubberi', 'mini', 'drawings', 'gnar', 'runaway', 'passengers', 'bald', 'merida', 'regulation', 'hump', 'menu', 'librari', 'breed', 'vanity', 'snowboarding', 'tennis', 'safe', 'frirnd', 'scantily', 'brushing', 'rummage', 'pelican', 'pulls', 'talon', 'murals', 'forc', 'lamppost', 'pertained', 'legged', 'guard', 'traffic', 'three', 'candl', 'cathedral', 'times', 'frisby', 'tracks', 'defensive', 'decal', 'interssect', 'winery', 'gallop', 'start', 'naps', 'cocker', 'hom', 'uniforms', 'pools', 'drawer', 'ok', 'dell', 'cord', 'wmakret', 'pocket', 'unload', 'serve', 'trench', 'motorbikes', 'pplaying', 'unlit', 'pin', 'shrimp', 'dashboard', 'refrigerator', 'animal', 'rural', 'tied', 'inserting', 'usual', 'rattlesnake', 'restaur', 'ansett', 'mountain', 'stool', 'lighthous', 'journalists', 'baker', 'rails', 'masonry', 'gas', 'rakett', 'pounc', 'pick', 'buzz', 'visor', 'barn', 'scout', 'park', 'field', 'blvd', 'fierce', 'pepp', 'sihouetted', 'warehous', 'cupcakes', 'thatched', 'singing', 'game', 'really', 'prepping', 'knit', 'maintained', 'crunch', 'kiteboard', 'pajama', 'private', 'apple', 'squatting', 'lasso', 'fath', 'automat', 'observes', 'space', 'bandages', 'giza', 'pedals', 'doorway', 'bluff', 'enlisted', 'laugh', 'gauchos', 'adults', 'married', 'dude', 'stag', 'bookcase', 'learns', 'stew', 'shadow', 'examines', 'strangely', 'train', 'pipes', 'gee', 'facil', 'frolic', 'treading', 'sport', 'bullet', 'skateboarder', 'rigger', 'employees', 'spray', 'barricad', 'zodiac', 'accessories', 'nestle', 'pourig', 'docking', 'turkeys', 'furniture', 'port', 'eagle', 'posted', 'utilitarian', 'sist', 'jumping', 'guided', 'paw', 'happi', 'chicken', 'movingand', 'ev', 'sheeps', 'image', 'mariner', 'checkerboard', 'footed', 'illegal', 'vinyl', 'food', 'controller', 'driveway', 'mountainsid', 'sons', 'suits', 'dentist', 'backhanded', 'discussion', 'gigantic', 'crossed', 'headring', 'squadron', 'copying', 'droplets', 'rackets', 'completely', 'halfheartedly', 'flies', 'herselg', 'autographs', 'strol', 'mimicking', 'counter', 'hawks', 'beers', 'toasting', 'accents', 'blur', 'navy', 'donut', 'reign', 'successfully', 'unmade', 'package', 'approaching', 'surfboarder', 'outdoor', 'tempura', 'teacup', 'experiencing', 'covers', 'coleslaw', 'background', 'stump', 'lambs', 'flares', 'oin', 'dodge', 'dock', 'consisting', 'docks', 'peeks', 'individuals', 'mounds', 'boogie', 'sailing', 'oars', 'joke', 'cooler', 'parka', 'hedg', 'eagerly', 'patrolled', 'windy', 'hydrant', 'bobble', 'cigarette', 'snapshot', 'muddy', 'appli', 'sanwich', 'catcher', 'squat', 'tasted', 'deco', 'mesh', 'skate', 'computers', 'pretty', 'alongside', 'payer', 'slides', 'cloudless', 'bend', 'excited', 'feed', 'panned', 'welkin', 'hardwood', 'lobster', 'cockpit', 'greet', 'handle', 'empti', 'skul', 'conversation', 'courtside', 'overhang', 'squirrel', 'baggag', 'contending', 'rummaging', 'olives', 'spotlight', 'skieing', 'wait', 'wheeler', 'funny', 'bankers', 'baste', 'line', 'sparkl', 'martial', 'figher', 'doubles', 'highest', 'much', 'flapping', 'kneading', 'bradley', 'vacant', 'lanyard', 'sit', 'skirt', 'lecture', 'uniformed', 'sharing', 'card', 'matter', 'teh', 'tangerines', 'looks', 'cattl', 'lounges', 'devoted', 'airplanes', 'washington', 'parents', 'sweater', 'vert', 'boxer', 'trombone', 'kitting', 'speaker', 'shirts', 'meters', 'goggl', 'base', 'eat', 'cell', 'sas', 'anticipation', 'docked', 'coaster', 'attacking', 'cloth', 'cardigan', 'even', 'repeal', 'trashcan', 'socks', 'computer', 'leafy', 'statute', 'stairway', 'daughter', 'straining', 'following', 'tricks', 'meandering', 'enormous', 'preparing', 'poll', 'shields', 'prey', 'stunts', 'vintage', 'handler', 'shutt', 'racer', 'vespas', 'ding', 'bleach', 'path', 'closely', 'tip', 'discarded', 'swans', 'tinted', 'canada', 'useful', 'favorite', 'blurry', 'boulevard', 'photograph', 'cabinets', 'spewing', 'signage', 'examining', 'cranberry', 'wheelers', 'fascin', 'natur', 'army', 'pregnant', 'uphill', 'aligned', 'topiary', 'load', 'pompom', 'staged', 'denoting', 'cal', 'cuddled', 'filming', 'conductor', 'clip', 'concert', 'necks', 'nicely', 'barefooted', 'emote', 'policeman', 'waitress', 'shingled', 'appet', 'parachuting', 'mouses', 'mimics', 'presidents', 'collected', 'pray', 'condiments', 'curls', 'tiers', 'kiss', 'bricks', 'curtsying', 'positive', 'meet', 'sunny', 'stared', 'miniatures', 'assorted', 'ketchup', 'suspenders', 'underside', 'wallet', 'ads', 'shift', 'staging', 'fries', 'blast', 'monster', 'washes', 'navigating', 'journey', 'glistening', 'luxury', 'huddle', 'shoppers', 'grand', 'beside', 'small', 'stoop', 'teams', 'stages', 'nude', 'canoe', 'brother', 'floating', 'pears', 'meat', 'direction', 'pecks', 'racks', 'splaying', 'compact', 'mangoing', 'holing', 'smil', 'suite', 'styled', 'attire', 'turning', 'permit', 'cart', 'dry', 'blender', 'drap', 'picturesque', 'yawns', 'creatur', 'rids', 'phon', 'warns', 'full', 'surge', 'fron', 'console', 'webcam', 'posting', 'parts', 'area', 'websit', 'buidling', 'strings', 'indoor', 'paddock', 'waxing', 'warmth', 'biathelete', 'mickey', 'heels', 'melancholy', 'directs', 'concentrates', 'pap', 'situated', 'indow', 'thick', 'viewed', 'porch', 'breaking', 'tissue', 'boots', 'stay', 'costum', 'completing', 'juggling', 'sway', 'skatebord', 'wearing', 'various', 'awn', 'missed', 'headscarves', 'overpass', 'helmet', 'sash', 'last', 'sunglass', 'maneuv', 'cingular', 'buffet', 'asleep', 'sheets', 'lower', 'ebook', 'dicing', 'otherwise', 'lap', 'elf', 'jeweled', 'tuck', 'drove', 'cellphones', 'lighter', 'bullpen', 'wid', 'fame', 'suited', 'underhand', 'clothed', 'j', 'cessna', 'muzzle', 'chang', 'contemplatively', 'collar', 'cosplay', 'swaddled', 'stud', 'pipelin', 'corraled', 'turkey', 'perching', 'birds', 'fixing', 'whoa', 'appearing', 'bars', 'marine', 'smokey', 'devil', 'throughout', 'quick', 'spending', 'bellied', 'confer', 'touching', 'tin', 'crazy', 'jalapeno', 'whitehat', 'horses', 'pastur', 'partitioned', 'taped', 'asphalt', 'slopl', 'alto', 'ceil', 'setting', 'figur', 'nut', 'cones', 'digitally', 'robe', 'darth', 'swing', 'lime', 'france', 'brain', 'funer', 'junction', 'paddleboard', 'stylized', 'los', 'stands', 'wile', 'wrap', 'sits', 'sneaker', 'cushion', 'coil', 'beard', 'symbol', 'cow', 'feeds', 'urge', 'lovely', 'sausag', 'gold', 'medals', 'exhausting', 'cubicle', 'goods', 'stretches', 'scaffolding', 'congregate', 'swimsuit', 'sniffs', 'rigatoni', 'quilt', 'manipulated', 'saddled', 'roaming', 'int', 'countertop', 'platters', 'summ', 'mosaic', 'key', 'yellow', 'furnitur', 'autumn', 'browsing', 'iamge', 'fans', 'lsu', 'angry', 'camera', 'given', 'african', 'vespa', 'poured', 'vendor', 'nippl', 'curiously', 'ringling', 'driven', 'illuminated', 'pinwheel', 'ruins', 'instructs', 'dresser', 'playin', 'barbeque', 'patchy', 'us', 'urban', 'arched', 'granddaughter', 'firetruck', 'toddl', 'graze', 'microwave', 'parachute', 'cheep', 'neatli', 'rent', 'alarm', 'barking', 'skin', 'soon', 'scoreboard', 'one', 'trolleys', 'kettle', 'flamingo', 'riv', 'answer', 'focu', 'mug', 'tid', 'excitedly', 'tabby', 'thousands', 'surboard', 'ballcap', 'lego', 'bridled', 'maneuvers', 'bakery', 'jackets', 'pinned', 'slope', 'reflective', 'freely', 'science', 'sign', 'sandwiches', 'videogame', 'asian', 'goggles', 'backsplash', 'stretching', 'tong', 'accolades', 'bakgropund', 'creepy', 'intent', 'partygo', 'encompassing', 'contain', 'electron', 'wii', 'hog', 'transavia', 'stare', 'pavilions', 'fleet', 'dairy', 'developing', 'loc', 'shuttl', 'boxcar', 'kawasaki', 'middl', 'resembling', 'toys', 'lage', 'towering', 'goat', 'ton', 'create', 'pics', 'services', 'cross', 'act', 'bearded', 'tofu', 'doctors', 'write', 'peak', 'interstate', 'via', 'transformed', 'waist', 'trays', 'eclectic', 'depicted', 'person', 'mustard', 'grizzly', 'dinner', 'seems', 'trimmed', 'fabr', 'grape', 'bottl', 'server', 'fat', 'place', 'pensive', 'tier', 'flavor', 'vines', 'power', 'catching', 'national', 'houseplant', 'woven', 'sound', 'peeking', 'drins', 'backdrop', 'cave', 'buld', 'knot', 'stalk', 'cups', 'cone', 'clearance', 'businessman', 'bandage', 'herds', 'plantain', 'condo', 'herding', 'puppies', 'str', 'fell', 'cobweb', 'slatted', 'casual', 'mall', 'impaled', 'blad', 'opening', 'approach', 'sweatshirt', 'eyes', 'la', 'projected', 'mane', 'technology', 'winter', 'median', 'arr', 'facing', 'mobile', 'batters', 'continues', 'interview', 'tutus', 'busted', 'section', 'user', 'typewrit', 'frowning', 'wolf', 'watered', 'trucks', 'opponent', 'parking', 'shit', 'intricately', 'cook', 'manning', 'coastlin', 'prepared', 'daddi', 'standing', 'swift', 'worn', 'conversing', 'props', 'rowboats', 'dragged', 'eye', 'reclin', 'residential', 'nos', 'cuba', 'renov', 'shor', 'raindrops', 'door', 'rabbit', 'motorbike', 'mess', 'trails', 'king', 'zinc', 'hiding', 'caring', 'michael', 'spins', 'tights', 'sinks', 'foliag', 'stage', 'tusks', 'affair', 'decoration', 'sewing', 'aiming', 'smelling', 'posit', 'waffle', 'tucks', 'biere', 'cocktail', 'toothpaste', 'pull', 'convention', 'departur', 'floret', 'description', 'network', 'birdbath', 'rel', 'hamburger', 'charcoal', 'candy', 'napping', 'deserted', 'machin', 'shelf', 'dec', 'pre', 'mid', 'dish', 'climbing', 'groupd', 'earphones', 'defending', 'lobby', 'political', 'kid', 'doors', 'streets', 'fliers', 'siamese', 'holiday', 'checks', 'matted', 'tray', 'spaceship', 'heavy', 'tossed', 'beige', 'younger', 'scratching', 'sample', 'launches', 'works', 'comic', 'hair', 'glaring', 'smaller', 'enter', 'sprinkles', 'rns', 'alle', 'junct', 'reflection', 'yonng', 'sorts', 'padded', 'cylinders', 'tend', 'canopies', 'leak', 'frisbees', 'mal', 'quartet', 'likes', 'archway', 'towers', 'dinging', 'flea', 'packaged', 'trappist', 'embracing', 'firefighters', 'carves', 'shrouded', 'interesting', 'crotch', 'croiss', 'places', 'delicious', 'rocky', 'bef', 'raised', 'inks', 'densely', '[PAD]', 'raincoat', 'improbably', 'cantaloupe', 'sauc', 'fridg', 'locking', 'feather', 'skiies', 'snowed', 'urin', 'cok', 'strap', 'tablet', 'possible', 'mugging', 'focus', 'band', 'displays', 'honk', 'crocheted', 'streaming', 'sub', 'ball', 'hardware', 'diecast', 'installing', 'remotes', 'emergency', 'perversely', 'toucing', 'barb', 'battery', 'emptying', 'sauce', 'roomful', 'shown', 'mann', 'ana', 'planes', 'warded', 'beachgo', 'powder', 'browns', 'kicks', 'ruck', 'shallow', 'headphones', 'colored', 'hitting', 'emerging', 'rather', 'capped', 'military', 'audience', 'chill', 'cabin', 'dumb', 'pet', 'cops', 'crows', 'bab', 'bentley', 'construction', 'letters', 'dot', 'basket', 'zombies', 'tossing', 'hangs', 'burgundy', 'unripened', 'imag', 'trainer', 'demonic', 'uncooked', 'bmw', 'fastbal', 'pouring', 'benz', 'publ', 'stoic', 'buster', 'pottery', 'cut', 'abed', 'edged', 'greenhous', 'volcano', 'loaf', 'fill', 'picure', 'tilts', 'trelli', 'puts', 'breadfast', 'hard', 'follows', 'shooting', 'bake', 'skylin', 'desgin', 'pushed', 'motorcyles', 'formation', 'outer', 'attack', 'moved', 'lush', 'forest', 'soccer', 'library', 'effected', 'apples', 'factor', 'dryer', 'expos', 'pillars', 'sales', 'ramps', 'poised', 'performed', 'comput', 'salesman', 'bridl', 'pride', 'sycamore', 'lamps', 'scoot', 'returning', 'crawling', 'fond', 'wants', 'smart', 'boogiebody', 'leaky', 'shepherded', 'lounging', 'volley', 'ancient', 'distant', 'racing', 'anchovy', 'final', 'moon', 'shoestr', 'thumbs', 'bugs', 'pipe', 'walking', 'artisan', 'packages', 'duffel', 'carelessly', 'lotion', 'wallpaper', 'rising', 'persons', 'waste', 'properly', 'cobbleston', 'ship', 'chees', 'reacts', 'currently', 'doughnut', 'company', 'boiler', 'price', 'organ', 'com', 'threat', 'zookeepers', 'skull', 'intently', 'remov', 'people', 'capital', 'skyteam', 'googl', 'knight', 'driving', 'airpane', 'ceramic', 'tiptoes', 'cgi', 'pure', 'soccerball', 'wooden', 'eare', 'inspect', 'slipp', 'weath', 'orchard', 'accompanied', 'snack', 'gazing', 'orchestra', 'sunken', 'palm', 'softball', 'liquid', 'homemade', 'motoring', 'oriental', 'wiping', 'listed', 'ambulance', 'grassin', 'scooters', 'skyline', 'buoyant', 'peson', 'non', 'toa', 'virgin', 'pane', 'nipple', 'golf', 'powered', 'around', 'offic', 'materi', 'subtitles', 'curios', 'sunflowers', 'woopie', 'minnie', 'markers', 'dough', 'convert', 'grown', 'waring', 'disembarking', 'tattoo', 'teeters', 'job', 'tending', 'lip', 'messag', 'struggles', 'gather', 'bins', 'nintendo', 'bill', 'bookshelf', 'dinning', 'family', 'fouling', 'broccoli', 'beast', 'convey', 'stroll', 'sess', 'airways', 'peeling', 'chef', 'snake', 'pristine', 'gradual', 'photographed', 'brilliantly', 'corale', 'purpl', 'perch', 'chickens', 'soup', 'cowered', 'taken', 'mario', 'affectionate', 'signal', 'turf', 'chip', 'labrador', 'twig', 'motorized', 'ti', 'varieties', 'basted', 'hairless', 'someones', 'wheelchairs', 'parchment', 'grounded', 'function', 'free', 'crat', 'tons', 'pan', 'piled', 'tortoiseshell', 'plug', 'louis', 'topless', 'negative', 'vas', 'loads', 'brigade', 'busses', 'ln', 'seat', 'curvy', 'barricade', 'celebrates', 'exposure', 'tim', 'persian', 'playground', 'knif', 'underneat', 'ear', 'horned', 'toting', 'replica', 'mot', 'berr', 'raises', 'brushes', 'sugared', 'drill', 'kempt', 'rachel', 'toilets', 'hamburg', 'rod', 'memorial', 'cane', 'button', 'underwear', 'examine', 'eleph', 'display', 'hey', 'candled', 'peers', 'splits', 'selection', 'lively', 'pc', 'flashes', 'pauses', 'monitors', 'skidding', 'mouth', 'spot', 'fluffed', 'tops', 'tram', 'history', 'strapped', 'rapids', 'wipeout', 'bed', 'scissors', 'fins', 'song', 'sunshin', 'tweed', 'furry', 'paneling', 'playfully', 'catting', 'cautionary', 'musical', 'pie', 'tome', 'opposites', 'celebrate', 'guarding', 'magazines', 'hairdry', 'sideview', 'mint', 'lamb', 'staples', 'fern', 'butterfly', 'delta', 'baton', 'bowels', 'towing', 'nobody', 'stori', 'skills', 'restraunt', 'mud', 'tight', 'brindled', 'travelling', 'pati', 'gutted', 'awaits', 'lettuce', 'stand', 'accepting', 'bananas', 'uhaul', 'bi', 'sheet', 'sniffing', 'peep', 'shooter', 'outerwear', 'jetti', 'play', 'plaza', 'explaining', 'banner', 'makeshift', 'banist', 'carousel', 'cigarett', 'budweiser', 'wet', 'incline', 'oval', 'thief', 'mail', 'assume', 'conducts', 'swimmers', 'tenni', 'featured', 'nazi', 'peeps', 'footer', 'crashed', 'cup', 'coffe', 'discuss', 'propel', 'motion', 'coins', 'buck', 'blues', 'umpir', 'male', 'luggages', 'phones', 'saucers', 'fir', 'rollerblades', 'fields', 'cruising', 'today', 'midair', 'exchanging', 'crop', 'garden', 'fix', 'cards', 'opera', 'designated', 'barred', 'captive', 'terrain', 'laughing', 'airport', 'send', 'ram', 'batt', 'tavern', 'facility', 'fail', 'arrang', 'word', 'wandering', 'spaceman', 'shorn', 'strung', 'ottoman', 'awkwardly', 'camping', 'toast', 'supplies', 'skyward', 'regal', 'seem', 'landed', 'icing', 'trash', 'lick', 'rustic', 'connected', 'growing', 'pol', 'arena', 'departing', 'steep', 'bikes', 'exercises', 'wage', 'whtie', 'shorts', 'toss', 'lapse', 'tiled', 'partly', 'crevass', 'stop', 'filing', 'gaily', 'stuffed', 'put', 'selling', 'hi', 'university', 'shakespeare', 'dad', 'runner', 'bann', 'fedex', 'leaguer', 'embedded', 'participants', 'sex', 'foamy', 'disrupt', 'eats', 'curly', 'referee', 'thos', 'baseline', 'shepard', 'quickli', 'alligator', 'debri', 'throng', 'stances', 'pickup', 'rite', 'lacrosse', 'beverage', 'sneaking', 'peel', 'presenting', 'breaks', 'husband', 'funky', 'motorcyle', 'gaining', 'tummy', 'blinds', 'screened', 'called', 'stylish', 'children', 'outstanding', 'distracted', 'practice', 'runners', 'smoking', 'stretched', 'frolicking', 'outfits', 'smack', 'emits', 'pinching', 'isol', 'couch', 'local', 'waffl', 'patron', 'vista', 'bundled', 'water', 'prop', 'ow', 'coveted', 'design', 'patch', 'pancak', 'headboard', 'attach', 'teal', 'tired', 'looked', 'hotdog', 'aqua', 'roses', 'tee', 'nearest', 'queues', 'traversing', 'response', 'rerady', 'taxiing', 'havoc', 'pets', 'bulging', 'doughnuts', 'sheering', 'gong', 'winners', 'bales', 'surrounds', 'electronics', 'saddlebags', 'high', 'sausage', 'pink', 'big', 'remains', 'ha', 'want', 'associates', 'jungle', 'motocross', 'command', 'harbor', 'festival', 'screen', 'binocular', 'termin', 'cliff', 'tricycl', 'titling', 'officer', 'tow', 'hairy', 'larger', 'waveland', 'taking', 'tends', 'pot', 'levitates', 'spac', 'blood', 'clocktow', 'alon', 'googley', 'jock', 'mean', 'mopeds', 'skyscrap', 'hound', 'jesus', 'advertisements', 'entertainment', 'provide', 'snowy', 'mcclellan', 'aims', 'help', 'families', 'drinking', 'rest', 'stack', 'pair', 'bands', 'snak', 'girl', 'purchasing', 'abandon', 'puzzle', 'permitting', 'spir', 'straw', 'polaroid', 'frozen', 'cause', 'tasting', 'rust', 'announcer', 'grass', 'open', 'father', 'sprinkl', 'ring', 'forefront', 'airplane', 'themed', 'close', 'recumbent', 'skulls', 'bating', 'merchant', 'ful', 'thrown', 'winddow', 'sword', 'grapes', 'silhouettes', 'constructional', 'goes', 'early', 'pyramid', 'watersking', 'blown', 'motorboat', 'mattress', 'police', 'snowplow', 'blank', 'beaked', 'twilight', 'vehicl', 'slacks', 'brushed', 'checkered', 'moseying', 'arabic', 'crepes', 'surfac', 'typing', 'gets', 'extended', 'feath', 'holder', 'california', 'parasailing', 'ceremony', 'raquet', 'dreads', 'beat', 'claim', 'boarders', 'student', 'try', 'germani', 'establish', 'nave', 'plying', 'bard', 'pastry', 'parked', 'h', 'information', 'branches', 'night', 'swim', 'empty', 'afternoon', 'narrow', 'sittig', 'dig', 'lettering', 'wining', 'senior', 'batter', 'industri', 'tibet', 'aprons', 'ostrich', 'cans', 'levels', 'hugging', 'speedomet', 'crowding', 'investigating', 'cardinal', 'collies', 'davenport', 'misses', 'sticks', 'coach', 'salutes', 'performance', 'factori', 'says', 'fifth', 'rimmed', 'push', 'cat', 'coats', 'goats', 'corrected', 'warplane', 'carriag', 'pointing', 'flooring', 'docor', 'buckets', 'paved', 'mural', 'videogam', 'grocery', 'graff', 'autotune', 'blueberries', 'twisted', 'bananna', 'bikinis', 'del', 'assembly', 'league', 'modified', 'eiffel', 'stillness', 'pudding', 'feathers', 'alcohol', 'structure', 'snuggled', 'tool', 'progression', 'glasswar', 'actively', 'casually', 'classical', 'derby', 'bicycle', 'agent', 'seated', 'containers', 'quickly', 'chairlift', 'nigh', 'platter', 'magnificent', 'patrol', 'biplanes', 'peaceful', 'switch', 'roasted', 'casino', 'household', 'sakter', 'commuters', 'sandwhich', 'trunks', 'hooked', 'heat', 'shoved', 'cucumbers', 'batman', 'galloping', 'walked', 'directly', 'thai', 'cock', 'forehand', 'toothbrush', 'houses', 'order', 'nest', 'chuck', 'dog', 'banister', 'trampolin', 'horns', 'aerial', 'instructional', 'kingfisher', 'hexagonal', 'danc', 'sweat', 'sure', 'fram', 'presentation', 'paul', 'wears', 'packag', 'finishes', 'pilot', 'speedboat', 'steer', 'machineri', 'lodge', 'firsbe', 'chopping', 'cakes', 'skateboarders', 'thorny', 'pasture', 'rub', 'workplace', 'plate', 'saddle', 'dilapidated', 'stopping', 'throws', 'bunni', 'chubby', 'crammed', 'mcintosh', 'kreme', 'coverage', 'waterskiing', 'tropical', 'writings', 'duit', 'starbucks', 'defac', 'strolling', 'commanding', 'good', 'keyboard', 'wig', 'colors', 'electrical', 'plants', 'delivery', 'pacman', 'barriers', 'balding', 'await', 'ther', 'shoving', 'oth', 'deserts', 'glid', 'draw', 'fing', 'billiards', 'texing', 'kimonos', 'trying', 'citizens', 'beef', 'typ', 'canvas', 'potato', 'england', 'american', 'human', 'gliding', 'croc', 'still', 'snowing', 'twp', 'flags', 'tile', 'tubes', 'ch', 'clothes', 'nunchuk', 'kite', 'hatch', 'sony', 'stall', 'sizes', 'fileed', 'counters', 'clowns', 'sliding', 'paints', 'larg', 'spokes', 'travel', 'tiny', 'shiny', 'pace', 'starring', 'circle', 'marri', 'bu', 'bubbl', 'flaggers', 'spikes', 'marching', 'sidewalks', 'mask', 'taxi', 'smartphon', 'attended', 'rage', 'individual', 'unusually', 'caserole', 'letter', 'jungl', 'taller', 'salon', 'famous', 'van', 'sleepy', 'organization', 'altered', 'nighttime', 'showing', 'businesses', 'minster', 'woman', 'ord', 'adjoining', 'dinn', 'fit', 'printed', 'flipping', 'lettered', 'beware', 'enforcement', 'stairwell', 'leave', 'cityscape', 'bitter', 'teri', 'seats', 'giraffe', 'clearly', 'carts', 'tiles', 'points', 'photographs', 'remain', 'con', 'bomber', 'christ', 'exploding', 'parliament', 'obstacles', 'couples', 'helicopter', 'damp', 'cargo', 'daytim', 'hoof', 'lizard', 'lies', 'instructions', 'ros', 'pilots', 'clutching', 'manipulate', 'cage', 'cropped', 'lilac', 'deck', 'crusts', 'viewing', 'fry', 'paragliding', 'parti', 'technical', 'stares', 'direct', 'flatbed', 'war', 'humongous', 'cola', 'sands', 'split', 'clapping', 'golfer', 'n', 'lift', 'crates', 'joint', 'freezer', 'lid', 'hula', 'fed', 'blacktop', 'boiling', 'zone', 'platting', 'logs', 'closet', 'artwork', 'note', 'trophi', 'sail', 'think', 'steam', 'trapped', 'ribcag', 'juice', 'pavement', 'grinding', 'powdered', 'nail', 'hoods', 'touch', 'sugary', 'volunteer', 'definitely', 'bluewhite', 'suspended', 'hods', 'crow', 'studi', 'soccerbal', 'avoid', 'mechanism', 'icy', 'admiring', 'moment', 'commuter', 'sparklers', 'azure', 'meow', 'stemmed', 'burrito', 'capitol', 'cooling', 'peacock', 'axle', 'wander', 'cyclists', 'descending', 'punts', 'seaside', 'instructor', 'lazy', 'retriever', 'landscape', 'model', 'rays', 'pile', 'blindfolded', 'grayish', 'r', 'displayed', 'rubbing', 'add', 'taco', 'lancashir', 'naval', 'headgear', 'suitcas', 'numb', 'peace', 'hurdl', 'cheer', 'snowboard', 'painting', 'sailboat', 'spilling', 'distantly', 'blanket', 'umbrealla', 'blond', 'measuring', 'intensely', 'theat', 'scrapp', 'fri', 'front', 'offshor', 'copious', 'desk', 'fly', 'player', 'giving', 'motorcylc', 'head', 'lane', 'featuring', 'ducks', 'fuel', 'wispy', 'patty', 'bas', 'contrail', 'injured', 'vertical', 'isles', 'shuttle', 'backlit', 'smartphone', 'landscap', 'peac', 'sari', 'clive', 'promotional', 'coat', 'sprinkling', 'sweetheart', 'rare', 'tabletop', 'gothic', 'contraption', 'flowing', 'champagne', 'slider', 'provided', 'july', 'hovering', 'oven', 'cellular', 'dimensional', 'exposing', 'pigmented', 'streetlights', 'famili', 'kitten', 'wrapper', 'unfinished', 'handles', 'outstretch', 'entertaining', 'bunting', 'toaster', 'carting', 'region', 'sleeveless', 'opt', 'crystal', 'skid', 'shady', 'moving', 'snarl', 'claw', 'ladies', 'sheared', 'held', 'grasses', 'idles', 'samples', 'christma', 'barhroom', 'representation', 'television', 'interest', 'body', 'lounge', 'tiger', 'equine', 'pants', 'fel', 'anniversary', 'pat', 'suprised', 'mixture', 'wtha', 'dolls', 'publicity', 'railway', 'pos', 'track', 'collection', 'men', 'boat', 'slopes', 'roman', 'slightly', 'pool', 'onto', 'harness', 'hummingbird', 'cardboard', 'intimidating', 'obeying', 'sticking', 'camper', 'blondes', 'mountainous', 'dvd', 'gentlemen', 'rabble', 'affect', 'assortment', 'dress', 'prepare', 'vancouver', 'racehorse', 'wine', 'flocks', 'fingers', 'plant', 'president', 'tomatoes', 'cork', 'ballplayer', 'umbrellas', 'dunkin', 'charm', 'top', 'cake', 'israeli', 'racquet', 'slew', 'wetsuid', 'relaxes', 'leav', 'grassland', 'freeze', 'wrapping', 'motor', 'elev', 'livin', 'raggedy', 'remote', 'patio', 'collie', 'stray', 'fireman', 'mirrored', 'korean', 'domed', 'countri', 'stove', 'buggies', 'griddle', 'fielder', 'sailer', 'cradled', 'melting', 'stopped', 'pearls', 'toy', 'vin', 'standard', 'toppings', 'shutting', 'junk', 'jersey', 'locomot', 'stored', 'c', 'match', 'upright', 'iridescent', 'lama', 'handbag', 'boar', 'devices', 'walled', 'sl', 'bracelets', 'hospitalized', 'shadowed', 'sour', 'grasping', 'mexico', 'buss', 'siloette', 'tax', 'flowering', 'televis', 'doberman', 'fixins', 'curv', 'mor', 'difficult', 'cano', 'onit', 'erson', 'foggy', 'allow', 'either', 'ridiculous', 'bon', 'glow', 'climber', 'barber', 'rider', 'carous', 'quite', 'greenery', 'gated', 'transporting', 'differing', 'shap', 'bodyboard', 'doggy', 'carrot', 'zoo', 'cribs', 'lighted', 'angeles', 'extreme', 'cemeteri', 'crawled', 'material', 'shack', 'lay', 'bends', 'engines', 'historical', 'peacocks', 'rescu', 'fashionable', 'mur', 'croquet', 'purchas', 'beachgoers', 'cool', 'dudley', 'blue', 'pickl', 'ski', 'jetty', 'pr', 'crown', 'foraging', 'analog', 'smirk', 'uncommonly', 'give', 'walkways', 'secur', 'butcher', 'blows', 'packed', 'jetways', 'present', 'skillfully', 'pairs', 'jewelry', 'blankets', 'newly', 'idiot', 'pip', 'enclosur', 'safeti', 'swamp', 'southwest', 'picking', 'jets', 'vortex', 'browni', 'jeff', 'protector', 'angels', 'wonderland', 'becoming', 'drifts', 'gag', 'cheesecak', 'offici', 'grocer', 'cycl', 'lights', 'speak', 'proceeding', 'views', 'floors', 'refriger', 'brace', 'groups', 'boarded', 'dolli', 'tightly', 'maintaining', 'atop', 'video', 'blocking', 'snowbank', 'sale', 'overlooks', 'tal', 'pose', 'circu', 'wher', 'stout', 'sapphire', 'proceed', 'globs', 'cappuccino', 'amodel', 'razor', 'pigeon', 'print', 'america', 'sight', 'caucasian', 'shovel', 'holster', 'actress', 'whiskey', 'every', 'mote', 'donuts', 'lufthansa', 'happen', 'brav', 'chihuahua', 'shut', 'strawberries', 'glassware', 'craft', 'solar', 'usa', 'played', 'bus', 'alert', 'ol', 'suctioned', 'bedspread', 'anyone', 'finger', 'perspective', 'possibly', 'hind', 'widow', 'sunbath', 'corgy', 'crepe', 'redheaded', 'bakers', 'hertz', 'traditional', 'playa', 'truncks', 'shelves', 'lollipop', 'wi', 'railed', 'girls', 'teenage', 'livestock', 'move', 'adjustable', 'allowed', 'meal', 'trolly', 'leveled', 'jogging', 'palace', 'scrolling', 'shirtless', 'signag', 'teaches', 'emo', 'bryson', 'forehead', 'milk', 'corona', 'partition', 'program', 'mohawk', 'godzilla', 'wav', 'wake', 'roasting', 'name', 'ar', 'testing', 'vision', 'piec', 'frisbee', 'footbridg', 'regular', 'effect', 'diced', 'sanding', 'banners', 'attempting', 'carry', 'rested', 'pitches', 'mixer', 'penalty', 'finishing', 'device', 'kinds', 'flight', 'silverware', 'windshield', 'cuddles', 'hands', 'spaghetti', 'cameraman', 'catchers', 'regardless', 'dril', 'town', 'obvious', 'rockers', 'cushioned', 'lock', 'orang', 'shreds', 'dispens', 'birth', 'writ', 'teammates', 'altitud', 'barbwire', 'tortoise', 'minister', 'georgetown', 'united', 'snow', 'plethora', 'inthe', 'mak', 'call', 'rifle', 'butting', 'new', 'converse', 'glider', 'len', 'gazes', 'pyramids', 'f', 'billed', 'lavend', 'placid', 'scen', 'bottom', 'appear', 'passangers', 'goo', 'graduation', 'tires', 'saddl', 'love', 'lattice', 'runway', 'figures', 'drums', 'chairs', 'stir', 'dong', 'special', 'civil', 'bitch', 'g', 'advising', 'paddles', 'wineri', 'parachutes', 'waving', 'lesson', 'oppon', 'cherry', 'strands', 'utensils', 'futon', 'bet', 'swiss', 'hidden', 'happily', 'pictures', 'tower', 'machines', 'clpse', 'countryside', 'employee', 'headset', 'truck', 'solders', 'part', 'pres', 'guys', 'thew', 'cant', 'read', 'jerseys', 'charg', 'sausages', 'debris', 'community', 'martinis', 'texting', 'anti', 'massively', 'cas', 'homeplate', 'sterling', 'graffias', 'best', 'mov', 'attempt', 'goofy', 'catering', 'squid', 'lying', 'corned', 'wild', 'covering', 'players', 'turned', 'foreground', 'dropkick', 'valley', 'frying', 'tweez', 'spanish', 'dried', 'deli', 'gap', 'notebook', 'mosqu', 'alpine', 'poor', 'getting', 'picked', 'smooth', 'graf', 'skimpy', 'areas', 'ground', 'pil', 'bite', 'incred', 'pare', 'notes', 'robin', 'balancing', 'puddle', 'recreational', 'instead', 'nak', 'glasses', 'scrub', 'riversid', 'major', 'htc', 'housing', 'spraying', 'chao', 'heron', 'ginger', 'kitchenette', 'church', 'spacious', 'lien', 'baters', 'sled', 'handl', 'fowl', 'shepherd', 'sharpen', 'fueli', 'entry', 'figurines', 'dazzling', 'safety', 'guest', 'cleats', 'haz', 'oozing', 'staircas', 'baseman', 'custome', 'downturned', 'splendid', 'products', 'disembark', 'pumpkins', 'poster', 'halfpip', 'colleague', 'ultimate', 'cate', 'less', 'serves', 'venice', 'crosswalk', 'matt', 'sal', 'pineapples', 'series', 'clock', 'drain', 'cheers', 'emphatically', 'host', 'crests', 'large', 'coke', 'rotten', 'med', 'check', 'lake', 'parasail', 'windsurfing', 'tommy', 'bottles', 'utilizing', 'lots', 'amusing', 'except', 'enhanced', 'international', 'jumble', 'blackberry', 'chin', 'horn', 'selecting', 'kicking', 'giraffes', 'leafless', 'steel', 'styrofoam', 'pac', 'moire', 'performing', 'unripe', 'silhouette', 'art', 'separate', 'listened', 'rd', 'corralled', 'press', 'bubblegum', 'slate', 'hoov', 'surpris', 'festiv', 'fireworks', 'clearing', 'geek', 'moderately', 'teachers', 'gardeners', 'wife', 'graphic', 'equestrian', 'gentleman', 'sand', 'slice', 'mangrov', 'planters', 'muffin', 'pamphlet', 'ceremoni', 'ramp', 'advertises', 'tourist', 'jumbo', 'suit', 'work', 'shin', 'crouching', 'emitting', 'sleeps', 'plan', 'kiteboards', 'contrasts', 'waterfal', 'sourc', 'lions', 'pacific', 'lit', 'faucets', 'protest', 'fighter', 'arts', 'anchored', 'truch', 'disorganized', 'lightly', 'merry', 'footage', 'bandana', 'aquarium', 'multiple', 'overalls', 'skatebaord', 'pokes', 'casting', 'patrons', 'room', 'cobbler', 'tilting', 'muscular', 'anim', 'els', 'oakland', 'salem', 'storm', 'scarecrow', 'catamaran', 'course', 'cocks', 'adoring', 'wat', 'magic', 'bowls', 'horizon', 'healthy', 'intersect', 'hos', 'overpasses', 'tape', 'rowing', 'lifted', 'sunexpress', 'pavilion', 'training', 'snowboards', 'baseball', 'pumps', 'passeng', 'horseback', 'crazed', 'digging', 'sprinkle', 'acrossed', 'tore', 'whispy', 'next', 'smoke', 'oddly', 'earth', 'birdcage', 'filled', 'studying', 'oversize', 'loose', 'sloping', 'soil', 'extra', 'dhl', 'hearts', 'feeling', 'moose', 'attentive', 'ever', 'inspects', 'panel', 'ethier', 'living', 'airforce', 'fence', 'durfer', 'buds', 'tone', 'appointed', 'advice', 'arranged', 'overflowing', 'capt', 'environ', 'laden', 'booth', 'dist', 'wand', 'submerged', 'roadside', 'anchor', 'tilted', 'farm', 'chrome', 'needed', 'near', 'geometric', 'knickknacks', 'cute', 'features', 'swat', 'position', 'rock', 'cardiff', 'leaning', 'backs', 'tanks', 'village', 'complex', 'late', 'ridding', 'photography', 'multistory', 'somehow', 'glov', 'fixtur', 'grap', 'baby', 'internet', 'peeled', 'sighting', 'bre', 'balloons', 'trapez', 'homeless', 'spanning', 'microphon', 'airline', 'returns', 'roadsid', 'sights', 'lever', 'row', 'spotted', 'snout', 'beds', 'curving', 'tequila', 'sunglasses', 'century', 'saying', 'become', 'mop', 'noses', 'bal', 'manu', 'tows', 'contemplating', 'hipsters', 'bumping', 'also', 'falls', 'inside', 'brightly', 'flowery', 'saluting', 'slowly', 'leopard', 'share', 'bad', 'elephants', 'lodg', 'wrinkley', 'caught', 'stylist', 'caffe', 'thats', 'mischievously', 'soda', 'life', 'storefronts', 'skillet', 'stitched', 'though', 'expanse', 'mouse', 'engage', 'adorable', 'unusual', 'thread', 'greens', 'machinery', 'leagu', 'concrete', 'hooded', 'tvs', 'boise', 'bray', 'bouncing', 'pigeons', 'built', 'historic', 'happy', 'crash', 'br', 'biplan', 'inner', 'drop', 'trekking', 'crooked', 'pedestrian', 'join', 'arrow', 'checkout', 'id', 'wagon', 'studies', 'cattle', 'rail', 'spire', 'bib', 'boys', 'german', 'magazine', 'details', 'cloths', 'toward', 'circus', 'signing', 'whisk', 'bump', 'cricket', 'joy', 'sleeve', 'jay', 'skiiing', 'toddler', 'mooring', 'chidden', 'pad', 'establishments', 'barefoot', 'verant', 'aggressively', 'frond', 'boarding', 'males', 'hundreds', 'migrating', 'skateboad', 'surger', 'oar', 'bakeri', 'flipped', 'purple', 'eva', 'glob', 'cheesy', 'pews', 'diners', 'glass', 'bul', 'loom', 'passenger', 'blouse', 'photographer', 'bunts', 'peaked', 'tri', 'overtop', 'platform', 'stretch', 'idyllic', 'ore', 'smeared', 'bacon', 'rounding', 'heir', 'crumbs', 'sports', 'balances', 'swimwear', 'interst', 'similar', 'shake', 'elbows', 'observ', 'keeper', 'armed', 'item', 'articulated', 'sprinkled', 'movie', 'childs', 'shitting', 'dark', 'suburban', 'poodl', 'splitting', 'bats', 'calf', 'colorfully', 'railing', 'skiiers', 'wanting', 'badges', 'bud', 'toshiba', 'causing', 'kitchen', 'pallets', 'microphone', 'state', 'farther', 'ingredients', 'chips', 'fully', 'professional', 'bringing', 'crib', 'photos', 'petted', 'drizzled', 'relax', 'pillow', 'hood', 'models', 'earlier', 'drives', 'swarm', 'partially', 'grafitti', 'begins', 'many', 'popping', 'mmm', 'without', 'sightse', 'dips', 'music', 'jetfighter', 'planks', 'posturing', 'limo', 'pours', 'reporting', 'sculptur', 'reclining', 'ayi', 'lor', 'hank', 'confers', 'punch', 'forested', 'boxers', 'older', 'braces', 'dummies', 'merge', 'sea', 'view', 'states', 'mcdonald', 'holw', 'al', 'club', 'kiosk', 'veget', 'diorama', 'foothil', 'chases', 'frosted', 'closeup', 'toilet', 'panties', 'kerri', 'vine', 'loving', 'propelled', 'flag', 'klm', 'everything', 'coastal', 'benched', 'quest', 'kind', 'napkins', 'snuggles', 'purse', 'tents', 'licks', 'occupi', 'peole', 'flaps', 'socc', 'era', 'firemen', 'scaring', 'content', 'fitted', 'gam', 'intersecting', 'metal', 'adventure', 'doll', 'gulls', 'arrett', 'brochur', 'harper', 'straps', 'adjacent', 'theres', 'ferri', 'amphibious', 'presents', 'boom', 'shirt', 'headdress', 'boston', 'aluminated', 'nasa', 'mirror', 'upskirt', 'decorating', 'airliner', 'sating', 'blanking', 'grandma', 'candles', 'knitted', 'vanilla', 'opens', 'pastery', 'reach', 'bowl', 'ankle', 'liberty', 'messily', 'cubical', 'making', 'swinging', 'nametag', 'gust', 'woma', 'bie', 'eating', 'flow', 'kittens', 'mushroom', 'congratulating', 'plank', 'protestors', 'relief', 'pen', 'poodles', 'exit', 'twentieth', 'antique', 'podiums', 'estate', 'chasing', 'se', 'artifacts', 'mous', 'bind', 'buckled', 'bustling', 'especially', 'fighting', 'boarder', 'cer', 'cellphon', 'grill', 'shapped', 'pads', 'hunting', 'mounted', 'vodka', 'camel', 'desert', 'crutch', 'cereal', 'compete', 'reaching', 'hotdogs', 'flowers', 'carried', 'adorned', 'spanking', 'clydesdale', 'focused', 'wheelchair', 'complete', 'rekela', 'learning', 'hijab', 'transport', 'demonstrating', 'blade', 'e', 'sect', 'cushio', 'dam', 'wildflow', 'desserts', 'depicting', 'priest', 'entertained', 'sees', 'baking', 'topping', 'tasty', 'ferris', 'sailboats', 'folks', 'finds', 'banana', 'imposing', 'penn', 'jean', 'bordering', 'numbers', 'tails', 'winn', 'raring', 'alliance', 'jetway', 'sprays', 'flashing', 'sparse', 'launch', 'snapping', 'barding', 'watery', 'pig', 'pared', 'kitties', 'star', 'basball', 'beak', 'swampy', 'princess', 'faces', 'stre', 'impressive', 'mp', 'shots', 'hamma', 'apron', 'firsbee', 'snowsuits', 'beverag', 'ponies', 'oracle', 'pul', 'towel', 'bones', 'wetsuit', 'bases', 'measure', 'lung', 'knifed', 'trolley', 'bronco', 'watermelons', 'markings', 'mostly', 'cooking', 'equipped', 'piece', 'boardshorts', 'worried', 'array', 'waling', 'five', 'ahead', 'bank', 'screenshot', 'twirling', 'crushed', 'imbibing', 'indicating', 'arcad', 'surfer', 'stor', 'outdoors', 'cent', 'bruce', 'fan', 'flagstone', 'tanning', 'carrying', 'theater', 'contents', 'loui', 'gathers', 'flipp', 'ladders', 'streaked', 'fruit', 'flatb', 'wit', 'scrap', 'confus', 'hooding', 'sweaters', 'sculpture', 'executes', 'medic', 'yells', 'feathered', 'pic', 'hunched', 'london', 'compare', 'assisted', 'templ', 'ledg', 'bell', 'speed', 'sided', 'competit', 'biscuit', 'processing', 'stormy', 'structur', 'tipped', 'mom', 'croissants', 'plane', 'figurine', 'lean', 'promenade', 'calculator', 'italy', 'gesture', 'spoons', 'dirty', 'hole', 'seriously', 'express', 'seuss', 'cubes', 'busily', 'dwel', 'marker', 'pitch', 'bunny', 'skying', 'lighting', 'analyzing', 'sightseeing', 'gay', 'berri', 'humming', 'balcony', 'volkswagon', 'mix', 'newspaper', 'segment', 'dogs', 'beneath', 'variety', 'chains', 'bare', 'bounces', 'carpeted', 'sideway', 'biked', 'sparkling', 'shorelin', 'rolling', 'biking', 'container', 'skyfall', 'breadsticks', 'backpacks', 'pillows', 'found', 'mixing', 'patriotic', 'mushrooms', 'filter', 'groud', 'snowboarders', 'condi', 'generated', 'third', 'campground', 'bird', 'fifteen', 'joystick', 'comcast', 'frisbie', 'yorkie', 'pens', 'trick', 'crumbly', 'staircase', 'cleaned', 'fenced', 'hillside', 'airfield', 'rescue', 'prohibiting', 'environmental', 'corrugated', 'merchandise', 'greeneri', 'stal', 'tinfoil', 'rowboat', 'villa', 'wonderful', 'lash', 'torch', 'examined', 'biplane', 'shed', 'clean', 'news', 'transported', 'giants', 'loft', 'adopted', 'automobile', 'normal', 'grey', 'erotically', 'chikd', 'widescreen', 'jammed', 'properti', 'duffle', 'florescent', 'loading', 'aside', 'boulder', 'coffee', 'race', 'wing', 'tractor', 'multi', 'wide', 'dreadlocks', 'foul', 'gauges', 'fil', 'hearty', 'away', 'cutting', 'fresh', 'mantle', 'leaving', 'skiers', 'pointy', 'steamed', 'chinese', 'costumed', 'shelter', 'transportation', 'distorted', 'sliver', 'overhand', 'jar', 'sponsored', 'sledge', 'divid', 'loop', 'available', 'plumes', 'delivers', 'catchng', 'architectural', 'dome', 'fo', 'buddy', 'peanut', 'standin', 'fisheye', 'chest', 'speaks', 'fixated', 'eyed', 'zon', 'hairnets', 'lettuc', 'belgium', 'nearby', 'alone', 'middle', 'tan', 'munch', 'lampost', 'streamers', 'fridge', 'bails', 'curb', 'hurry', 'crouch', 'waggon', 'bits', 'tre', 'v', 'convers', 'message', 'streaking', 'scooping', 'lonely', 'silly', 'loveseat', 'nurses', 'flesh', 'sun', 'broccoflower', 'emirates', 'caution', 'service', 'spic', 'thin', 'rol', 'brides', 'casserole', 'duck', 'perimeter', 'return', 'viewer', 'figure', 'unleash', 'palac', 'pondering', 'seagul', 'ic', 'dispenser', 'wildly', 'stil', 'unpaved', 'frieghtt', 'silhouetted', 'horizontally', 'castl', 'island', 'projection', 'stucco', 'dicussion', 'abandoned', 'operated', 'calico', 'mason', 'teacher', 'clap', 'whipped', 'cycles', 'shakes', 'lady', 'sisters', 'leading', 'piling', 'peeing', 'baked', 'hats', 'tickets', 'batch', 'caf', 'polka', 'choose', 'surgical', 'chilly', 'gloomy', 'lace', 'mukes', 'verve', 'messy', 'restored', 'walkingski', 'attracts', 'app', 'keys', 'sails', 'av', 'plaqu', 'char', 'backhoe', 'spider', 'cumfybus', 'patrick', 'names', 'iceland', 'depict', 'flo', 'playing', 'backwards', 'whine', 'motorbik', 'arrives', 'maroon', 'intense', 'feminine', 'bucking', 'coupl', 'urinal', 'armoire', 'involved', 'together', 'baskets', 'drib', 'overturned', 'cheering', 'flashlight', 'pause', 'exhibit', 'seri', 'dozen', 'lincoln', 'turtles', 'cats', 'pinstripe', 'cowboy', 'disabled', 'spend', 'toe', 'sow', 'barren', 'rat', 'ugly', 'indian', 'pn', 'shower', 'parallel', 'necked', 'sunshine', 'sneaks', 'campfir', 'block', 'crowed', 'nestled', 'leaf', 'bags', 'teeth', 'workspace', 'magnet', 'canary', 'range', 'cracker', 'toghet', 'mare', 'din', 'yard', 'stooped', 'fight', 'engulf', 'selfi', 'rectangular', 'sad', 'searching', 'gestures', 'ready', 'nike', 'hoagie', 'boot', 'liquor', 'turd', 'law', 'protective', 'transfer', 'glides', 'speaking', 'victorian', 'signaling', 'rainy', 'somewhere', 'building', 'motorcyclist', 'siberian', 'monument', 'enthusiastically', 'led', 'propped', 'officially', 'buddha', 'sauerkraut', 'powerful', 'butts', 'adjusting', 'owner', 'flurry', 'bule', 'cassette', 'shaped', 'smashing', 'potatoes', 'roosters', 'keyboards', 'european', 'mets', 'hyrd', 'threw', 'downtown', 'bakes', 'wrought', 'karaoke', 'stun', 'outskirts', 'pole', 'picnic', 'statue', 'cloak', 'mowed', 'apart', 'oh', 'dangling', 'sunrise', 'fairly', 'medium', 'stocking', 'lucky', 'roadway', 'hikers', 'represented', 'springtim', 'hopefully', 'farms', 'support', 'mainten', 'spice', 'spirit', 'surround', 'hope', 'pacifier', 'pinging', 'victorious', 'fishing', 'barri', 'fog', 'dusk', 'camouflage', 'blurri', 'gooey', 'armor', 'shad', 'celebration', 'awaiting', 'served', 'wedding', 'utensil', 'funded', 'offices', 'marina', 'dessert', 'terrier', 'passing', 'wave', 'reads', 'skates', 'lamp', 'surveying', 'plain', 'greeting', 'drinks', 'chair', 'almost', 'daylight', 'delivering', 'glowing', 'cak', 'members', 'patter', 'grinder', 'dolly', 'unleashes', 'discovering', 'expectantly', 'bike', 'foot', 'pancakes', 'slying', 'crowd', 'sticker', 'roadwork', 'seagull', 'digital', 'hoodie', 'bowling', 'deplaning', 'looking', 'cayenne', 'passed', 'backpocker', 'sweeps', 'ris', 'giddy', 'motorists', 'stomach', 'mussel', 'convenient', 'birthday', 'foxes', 'diet', 'sel', 'done', 'rec', 'super', 'staring', 'ocean', 'illustration', 'dictator', 'discussing', 'loaded', 'facade', 'brief', 'beyond', 'edmonton', 'oil', 'breakfast', 'patterned', 'postal', 'clutter', 'masked', 'privacy', 'odd', 'painters', 'maneuver', 'necklac', 'groomed', 'tagged', 'villag', 'bangs', 'size', 'joining', 'overweight', 'pips', 'pop', 'braid', 'fetch', 'wristband', 'pallet', 'business', 'black', 'launching', 'car', 'combination', 'ornamental', 'somewhat', 'east', 'chose', 'tugs', 'hose', 'gutter', 'serv', 'riverboat', 'shape', 'smok', 'quantity', 'repair', 'flutter', 'smokes', 'shouting', 'spectators', 'dragging', 'pong', 'bystand', 'wrecked', 'bundle', 'films', 'gentle', 'celery', 'aaron', 'apparently', 'cages', 'dayb', 'nothing', 'billows', 'flame', 'comfortable', 'show', 'footprints', 'telling', 'chemical', 'upclose', 'chatting', 'drying', 'sofa', 'guy', 'clear', 'seltzer', 'scarf', 'postur', 'bread', 'width', 'vader', 'laying', 'member', 'step', 'railroad', 'seashor', 'couple', 'popular', 'skier', 'skis', 'meanders', 'brick', 'crouches', 'te', 'automatic', 'rises', 'windsurfer', 'movement', 'hazy', 'nearbi', 'trunk', 'participates', 'togeth', 'sailboard', 'chicks', 'knitting', 'backhand', 'gravely', 'signpost', 'stabbing', 'venu', 'berry', 'idol', 'airstrip', 'onions', 'entering', 'airplan', 'poeple', 'respected', 'monu', 'pictogram', 'modern', 'purs', 'finchingfield', 'electronic', 'clydesdales', 'prepares', 'companion', 'newscast', 'dump', 'china', 'featur', 'bar', 'ona', 'items', 'machine', 'crossbon', 'bikers', 'glazed', 'vest', 'board', 'drag', 'kitti', 'cityscap', 'sleeping', 'crafts', 'miser', 'sandy', 'pale', 'iphone', 'pecking', 'practic', 'teo', 'pl', 'label', 'photoshopped', 'goofing', 'chops', 'teaching', 'cafeteria', 'tattooed', 'losing', 'easel', 'tasking', 'casts', 'stick', 'manb', 'landscaped', 'sailor', 'cautiously', 'vote', 'plated', 'crook', 'hummingbirds', 'marble', 'trains', 'ample', 'fabric', 'rainless', 'cutlery', 'care', 'ladybug', 'followed', 'clump', 'ears', 'presentations', 'son', 'buttons', 'rared', 'pretending', 'surfboard', 'working', 'tended', 'ston', 'eager', 'stret', 'hollywood', 'cycling', 'kanji', 'tattoos', 'surrounded', 'foods', 'portable', 'tonight', 'halved', 'disgusted', 'onanism', 'l', 'speeding', 'dropping', 'napkin', 'navigates', 'joust', 'mozzarella', 'get', 'suppli', 'goodbye', 'coupe', 'rose', 'funnel', 'fisherman', 'necklace', 'studio', 'tell', 'licking', 'rundown', 'cog', 'meats', 'tar', 'hous', 'mill', 'cresting', 'dr', 'easier', 'across', 'current', 'drawn', 'wares', 'among', 'jelly', 'interacts', 'comically', 'participating', 'enjoy', 'encompassed', 'bigger', 'shopkeeper', 'produce', 'purchase', 'nuts', 'volleybal', 'u', 'drawers', 'okapi', 'egyptian', 'asid', 'stream', 'anticipating', 'money', 'bicycles', 'labels', 'say', 'frontier', 'gloves', 'class', 'baeball', 'berlin', 'pepper', 'motorcad', 'silver', 'cartoonish', 'bites', 'seven', 'bangladesh', 'contemplative', 'bile', 'vegetation', 'wtih', 'farmers', 'deal', 'hitched', 'instrument', 'leaping', 'crack', 'blow', 'mus', 'department', 'heated', 'vane', 'perches', 'slid', 'skiboard', 'graffiti', 'need', 'motercycl', 'talk', 'pajamas', 'basin', 'dead', 'videotaping', 'clim', 'liner', 'pitching', 'paid', 'sculptures', 'coloring', 'sombrero', 'first', 'tunnel', 'frisbe', 'surrounding', 'audi', 'barrack', 'soldier', 'pieces', 'champagn', 'kiwi', 'facial', 'shops', 'practicing', 'kerry', 'look', 'ditch', 'spoke', 'hours', 'driv', 'hills', 'steamboat', 'youths', 'decked', 'cobblestone', 'chili', 'uphil', 'winchester', 'pans', 'cloud', 'interactive', 'climbs', 'text', 'soft', 'legs', 'wreaking', 'slay', 'snowflak', 'remaining', 'narrowly', 'finish', 'bordered', 'dressage', 'raising', 'ladle', 'directions', 'bookshelv', 'medal', 'swiveling', 'dollhouse', 'atm', 'swan', 'grasscovered', 'formal', 'conveyor', 'comes', 'icon', 'deliver', 'bath', 'shark', 'banquet', 'commercial', 'pigtails', 'wildlif', 'actors', 'teenagers', 'peoples', 'skeleton', 'rhode', 'leads', 'citgo', 'fulled', 'fire', 'weaving', 'peaches', 'ba', 'calves', 'asphault', 'guards', 'drink', 'europ', 'chefs', 'reflections', 'judge', 'warmers', 'dresses', 'harley', 'spiral', 'bitten', 'locked', 'planning', 'listens', 'striking', 'bunches', 'build', 'officers', 'reporters', 'darkened', 'crosses', 'outline', 'bunt', 'thomas', 'socializing', 'snowmen', 'staying', 'swung', 'sings', 'win', 'messing', 'turbulent', 'cub', 'destin', 'unimaginable', 'using', 'bundles', 'christmas', 'wharf', 'cheeky', 'busi', 'hall', 'shoulders', 'om', 'grabbing', 'enjoys', 'amazingly', 'four', 'rope', 'manhattan', 'cables', 'code', 'ronald', 'onlook', 'tire', 'bears', 'magazin', 'bought', 'vlue', 'sideways', 'bandanna', 'come', 'finished', 'flailing', 'goal', 'barrel', 'party', 'wielding', 'two', 'unicorn', 'whale', 'desolate', 'cast', 'caramel', 'arrived', 'columns', 'flamingos', 'detroit', 'arrangement', 'language', 'sailors', 'visible', 'intersection', 'motivational', 'stock', 'olympic', 'cel', 'pugs', 'decorative', 'containing', 'hips', 'shamrock', 'wooly', 'frame'}\n",
      "Unique words: 7330\n"
     ]
    }
   ],
   "source": [
    "# Initialise vocabulary including padding and unknown word tokens\n",
    "# Is end of sentence needed? '[EOS]'\n",
    "vocabulary = set(['[PAD]', '[UNK]'])\n",
    "\n",
    "for tokens in train[\"Tokens\"]:\n",
    "  vocabulary.update(tokens)\n",
    "\n",
    "print(vocabulary)\n",
    "print('Unique words:', len(vocabulary))"
   ]
  },
  {
   "cell_type": "code",
   "execution_count": 595,
   "metadata": {},
   "outputs": [],
   "source": [
    "dictionary = {}\n",
    "idToDictionary = {}\n",
    "for idx, word in enumerate(vocabulary):\n",
    "  dictionary[word] = idx\n",
    "  idToDictionary[idx] = word\n",
    "\n",
    "# print(dictionary)"
   ]
  },
  {
   "cell_type": "code",
   "execution_count": 596,
   "metadata": {},
   "outputs": [],
   "source": [
    "# Add dictionary IDs column to dataframe\n",
    "def addDictionaryIds(tokens):\n",
    "    ids = []\n",
    "    for token in tokens:\n",
    "      if token in dictionary:\n",
    "        ids.append(dictionary[token])\n",
    "      else:\n",
    "        ids.append(dictionary['[UNK]'])\n",
    "    return ids"
   ]
  },
  {
   "cell_type": "code",
   "execution_count": 597,
   "metadata": {},
   "outputs": [],
   "source": [
    "train['DictionaryIds'] = train['Tokens'].apply(addDictionaryIds)"
   ]
  },
  {
   "cell_type": "code",
   "execution_count": 598,
   "metadata": {},
   "outputs": [],
   "source": [
    "def addTokenPadding(tokens):\n",
    "  padding = maxTokenLength - len(tokens)\n",
    "  return tokens + padding*[dictionary['[PAD]']]"
   ]
  },
  {
   "cell_type": "code",
   "execution_count": 599,
   "metadata": {},
   "outputs": [
    {
     "data": {
      "text/html": [
       "<div>\n",
       "<style scoped>\n",
       "    .dataframe tbody tr th:only-of-type {\n",
       "        vertical-align: middle;\n",
       "    }\n",
       "\n",
       "    .dataframe tbody tr th {\n",
       "        vertical-align: top;\n",
       "    }\n",
       "\n",
       "    .dataframe thead th {\n",
       "        text-align: right;\n",
       "    }\n",
       "</style>\n",
       "<table border=\"1\" class=\"dataframe\">\n",
       "  <thead>\n",
       "    <tr style=\"text-align: right;\">\n",
       "      <th></th>\n",
       "      <th>ImageID</th>\n",
       "      <th>Labels</th>\n",
       "      <th>Caption</th>\n",
       "      <th>Tokens</th>\n",
       "      <th>LabelIds</th>\n",
       "      <th>EncodedLabels</th>\n",
       "      <th>DictionaryIds</th>\n",
       "      <th>TokensWithPadding</th>\n",
       "    </tr>\n",
       "  </thead>\n",
       "  <tbody>\n",
       "    <tr>\n",
       "      <th>0</th>\n",
       "      <td>0.jpg</td>\n",
       "      <td>[1]</td>\n",
       "      <td>Woman in swim suit holding parasol on sunny day.</td>\n",
       "      <td>[woman, swim, suit, holding, parasol, sunny, day]</td>\n",
       "      <td>[0]</td>\n",
       "      <td>[[1.0, 0.0, 0.0, 0.0, 0.0, 0.0, 0.0, 0.0, 0.0,...</td>\n",
       "      <td>[4899, 4656, 5733, 365, 2191, 3385, 2802]</td>\n",
       "      <td>[4899, 4656, 5733, 365, 2191, 3385, 2802, 3925...</td>\n",
       "    </tr>\n",
       "    <tr>\n",
       "      <th>1</th>\n",
       "      <td>1.jpg</td>\n",
       "      <td>[1, 19]</td>\n",
       "      <td>A couple of men riding horses on top of a gree...</td>\n",
       "      <td>[couple, men, riding, horses, top, green, field]</td>\n",
       "      <td>[0, 17]</td>\n",
       "      <td>[[1.0, 0.0, 0.0, 0.0, 0.0, 0.0, 0.0, 0.0, 0.0,...</td>\n",
       "      <td>[6938, 5148, 742, 3540, 5184, 1839, 3062]</td>\n",
       "      <td>[6938, 5148, 742, 3540, 5184, 1839, 3062, 3925...</td>\n",
       "    </tr>\n",
       "    <tr>\n",
       "      <th>2</th>\n",
       "      <td>2.jpg</td>\n",
       "      <td>[1]</td>\n",
       "      <td>They are brave for riding in the jungle on tho...</td>\n",
       "      <td>[brave, riding, jungle, eleph]</td>\n",
       "      <td>[0]</td>\n",
       "      <td>[[1.0, 0.0, 0.0, 0.0, 0.0, 0.0, 0.0, 0.0, 0.0,...</td>\n",
       "      <td>[713, 742, 4532, 4256]</td>\n",
       "      <td>[713, 742, 4532, 4256, 3925, 3925, 3925, 3925,...</td>\n",
       "    </tr>\n",
       "    <tr>\n",
       "      <th>3</th>\n",
       "      <td>3.jpg</td>\n",
       "      <td>[8, 3, 13]</td>\n",
       "      <td>a black and silver clock tower at an intersect...</td>\n",
       "      <td>[black, silver, clock, tower, intersection, ne...</td>\n",
       "      <td>[7, 2, 11]</td>\n",
       "      <td>[[0.0, 0.0, 0.0, 0.0, 0.0, 0.0, 0.0, 0.0, 0.0,...</td>\n",
       "      <td>[6880, 7121, 5664, 5544, 7318, 5848, 6545]</td>\n",
       "      <td>[6880, 7121, 5664, 5544, 7318, 5848, 6545, 392...</td>\n",
       "    </tr>\n",
       "    <tr>\n",
       "      <th>4</th>\n",
       "      <td>4.jpg</td>\n",
       "      <td>[8, 3, 7]</td>\n",
       "      <td>A train coming to a stop on the tracks out side.</td>\n",
       "      <td>[train, coming, stop, tracks, sid]</td>\n",
       "      <td>[7, 2, 6]</td>\n",
       "      <td>[[0.0, 0.0, 0.0, 0.0, 0.0, 0.0, 0.0, 0.0, 0.0,...</td>\n",
       "      <td>[3105, 161, 4425, 3010, 2582]</td>\n",
       "      <td>[3105, 161, 4425, 3010, 2582, 3925, 3925, 3925...</td>\n",
       "    </tr>\n",
       "  </tbody>\n",
       "</table>\n",
       "</div>"
      ],
      "text/plain": [
       "  ImageID      Labels                                            Caption  \\\n",
       "0   0.jpg         [1]   Woman in swim suit holding parasol on sunny day.   \n",
       "1   1.jpg     [1, 19]  A couple of men riding horses on top of a gree...   \n",
       "2   2.jpg         [1]  They are brave for riding in the jungle on tho...   \n",
       "3   3.jpg  [8, 3, 13]  a black and silver clock tower at an intersect...   \n",
       "4   4.jpg   [8, 3, 7]   A train coming to a stop on the tracks out side.   \n",
       "\n",
       "                                              Tokens    LabelIds  \\\n",
       "0  [woman, swim, suit, holding, parasol, sunny, day]         [0]   \n",
       "1   [couple, men, riding, horses, top, green, field]     [0, 17]   \n",
       "2                     [brave, riding, jungle, eleph]         [0]   \n",
       "3  [black, silver, clock, tower, intersection, ne...  [7, 2, 11]   \n",
       "4                 [train, coming, stop, tracks, sid]   [7, 2, 6]   \n",
       "\n",
       "                                       EncodedLabels  \\\n",
       "0  [[1.0, 0.0, 0.0, 0.0, 0.0, 0.0, 0.0, 0.0, 0.0,...   \n",
       "1  [[1.0, 0.0, 0.0, 0.0, 0.0, 0.0, 0.0, 0.0, 0.0,...   \n",
       "2  [[1.0, 0.0, 0.0, 0.0, 0.0, 0.0, 0.0, 0.0, 0.0,...   \n",
       "3  [[0.0, 0.0, 0.0, 0.0, 0.0, 0.0, 0.0, 0.0, 0.0,...   \n",
       "4  [[0.0, 0.0, 0.0, 0.0, 0.0, 0.0, 0.0, 0.0, 0.0,...   \n",
       "\n",
       "                                DictionaryIds  \\\n",
       "0   [4899, 4656, 5733, 365, 2191, 3385, 2802]   \n",
       "1   [6938, 5148, 742, 3540, 5184, 1839, 3062]   \n",
       "2                      [713, 742, 4532, 4256]   \n",
       "3  [6880, 7121, 5664, 5544, 7318, 5848, 6545]   \n",
       "4               [3105, 161, 4425, 3010, 2582]   \n",
       "\n",
       "                                   TokensWithPadding  \n",
       "0  [4899, 4656, 5733, 365, 2191, 3385, 2802, 3925...  \n",
       "1  [6938, 5148, 742, 3540, 5184, 1839, 3062, 3925...  \n",
       "2  [713, 742, 4532, 4256, 3925, 3925, 3925, 3925,...  \n",
       "3  [6880, 7121, 5664, 5544, 7318, 5848, 6545, 392...  \n",
       "4  [3105, 161, 4425, 3010, 2582, 3925, 3925, 3925...  "
      ]
     },
     "execution_count": 599,
     "metadata": {},
     "output_type": "execute_result"
    }
   ],
   "source": [
    "train['TokensWithPadding'] = train['DictionaryIds'].apply(addTokenPadding)\n",
    "train.head()"
   ]
  },
  {
   "cell_type": "code",
   "execution_count": 600,
   "metadata": {},
   "outputs": [
    {
     "data": {
      "text/html": [
       "<div>\n",
       "<style scoped>\n",
       "    .dataframe tbody tr th:only-of-type {\n",
       "        vertical-align: middle;\n",
       "    }\n",
       "\n",
       "    .dataframe tbody tr th {\n",
       "        vertical-align: top;\n",
       "    }\n",
       "\n",
       "    .dataframe thead th {\n",
       "        text-align: right;\n",
       "    }\n",
       "</style>\n",
       "<table border=\"1\" class=\"dataframe\">\n",
       "  <thead>\n",
       "    <tr style=\"text-align: right;\">\n",
       "      <th></th>\n",
       "      <th>ImageID</th>\n",
       "      <th>Caption</th>\n",
       "      <th>Tokens</th>\n",
       "      <th>DictionaryIds</th>\n",
       "      <th>TokensWithPadding</th>\n",
       "    </tr>\n",
       "  </thead>\n",
       "  <tbody>\n",
       "    <tr>\n",
       "      <th>0</th>\n",
       "      <td>30000.jpg</td>\n",
       "      <td>A little girl waring a krispy kreme hat holdin...</td>\n",
       "      <td>[little, girl, waring, krispy, kreme, hat, hol...</td>\n",
       "      <td>[241, 4577, 4157, 1828, 4802, 765, 365, 2468, ...</td>\n",
       "      <td>[241, 4577, 4157, 1828, 4802, 765, 365, 2468, ...</td>\n",
       "    </tr>\n",
       "    <tr>\n",
       "      <th>1</th>\n",
       "      <td>30001.jpg</td>\n",
       "      <td>A beautiful young woman holding an orange fris...</td>\n",
       "      <td>[beautiful, young, woman, holding, orange, fri...</td>\n",
       "      <td>[1353, 1685, 4899, 365, 2240, 7161]</td>\n",
       "      <td>[1353, 1685, 4899, 365, 2240, 7161, 3925, 3925...</td>\n",
       "    </tr>\n",
       "    <tr>\n",
       "      <th>2</th>\n",
       "      <td>30002.jpg</td>\n",
       "      <td>A group of people sitting on couch next to a c...</td>\n",
       "      <td>[group, people, sitting, couch, next, coffee]</td>\n",
       "      <td>[610, 4101, 1495, 4485, 5804, 6481]</td>\n",
       "      <td>[610, 4101, 1495, 4485, 5804, 6481, 3925, 3925...</td>\n",
       "    </tr>\n",
       "    <tr>\n",
       "      <th>3</th>\n",
       "      <td>30003.jpg</td>\n",
       "      <td>A person on a snowboard rides on the hill.</td>\n",
       "      <td>[person, snowboard, rides, hil]</td>\n",
       "      <td>[3718, 5041, 1316, 71]</td>\n",
       "      <td>[3718, 5041, 1316, 71, 3925, 3925, 3925, 3925,...</td>\n",
       "    </tr>\n",
       "    <tr>\n",
       "      <th>4</th>\n",
       "      <td>30004.jpg</td>\n",
       "      <td>A man riding a skateboard with a helmet on in ...</td>\n",
       "      <td>[man, riding, skateboard, helmet, con]</td>\n",
       "      <td>[298, 742, 2713, 3483, 4922]</td>\n",
       "      <td>[298, 742, 2713, 3483, 4922, 3925, 3925, 3925,...</td>\n",
       "    </tr>\n",
       "  </tbody>\n",
       "</table>\n",
       "</div>"
      ],
      "text/plain": [
       "     ImageID                                            Caption  \\\n",
       "0  30000.jpg  A little girl waring a krispy kreme hat holdin...   \n",
       "1  30001.jpg  A beautiful young woman holding an orange fris...   \n",
       "2  30002.jpg  A group of people sitting on couch next to a c...   \n",
       "3  30003.jpg         A person on a snowboard rides on the hill.   \n",
       "4  30004.jpg  A man riding a skateboard with a helmet on in ...   \n",
       "\n",
       "                                              Tokens  \\\n",
       "0  [little, girl, waring, krispy, kreme, hat, hol...   \n",
       "1  [beautiful, young, woman, holding, orange, fri...   \n",
       "2      [group, people, sitting, couch, next, coffee]   \n",
       "3                    [person, snowboard, rides, hil]   \n",
       "4             [man, riding, skateboard, helmet, con]   \n",
       "\n",
       "                                       DictionaryIds  \\\n",
       "0  [241, 4577, 4157, 1828, 4802, 765, 365, 2468, ...   \n",
       "1                [1353, 1685, 4899, 365, 2240, 7161]   \n",
       "2                [610, 4101, 1495, 4485, 5804, 6481]   \n",
       "3                             [3718, 5041, 1316, 71]   \n",
       "4                       [298, 742, 2713, 3483, 4922]   \n",
       "\n",
       "                                   TokensWithPadding  \n",
       "0  [241, 4577, 4157, 1828, 4802, 765, 365, 2468, ...  \n",
       "1  [1353, 1685, 4899, 365, 2240, 7161, 3925, 3925...  \n",
       "2  [610, 4101, 1495, 4485, 5804, 6481, 3925, 3925...  \n",
       "3  [3718, 5041, 1316, 71, 3925, 3925, 3925, 3925,...  \n",
       "4  [298, 742, 2713, 3483, 4922, 3925, 3925, 3925,...  "
      ]
     },
     "execution_count": 600,
     "metadata": {},
     "output_type": "execute_result"
    }
   ],
   "source": [
    "# Setup test data\n",
    "\n",
    "# Get test CSV dataframe\n",
    "test = extractDataFrame('data/test.csv')\n",
    "\n",
    "# Tokenise\n",
    "test['Tokens'] = test['Caption'].apply(tokenise)\n",
    "# Apply dictionary IDs\n",
    "test['DictionaryIds'] = test['Tokens'].apply(addDictionaryIds)\n",
    "# Add padding\n",
    "test['TokensWithPadding'] = test['DictionaryIds'].apply(addTokenPadding)\n",
    "\n",
    "test.head()"
   ]
  },
  {
   "cell_type": "code",
   "execution_count": 601,
   "metadata": {},
   "outputs": [],
   "source": [
    "train.to_csv('./processed-data/train.csv')\n",
    "test.to_csv('./processed-data/test.csv')"
   ]
  }
 ],
 "metadata": {
  "kernelspec": {
   "display_name": "base",
   "language": "python",
   "name": "python3"
  },
  "language_info": {
   "codemirror_mode": {
    "name": "ipython",
    "version": 3
   },
   "file_extension": ".py",
   "mimetype": "text/x-python",
   "name": "python",
   "nbconvert_exporter": "python",
   "pygments_lexer": "ipython3",
   "version": "3.11.5"
  }
 },
 "nbformat": 4,
 "nbformat_minor": 2
}
