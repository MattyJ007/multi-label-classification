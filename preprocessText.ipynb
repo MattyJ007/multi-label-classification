{
 "cells": [
  {
   "cell_type": "code",
   "execution_count": 31,
   "metadata": {},
   "outputs": [
    {
     "name": "stderr",
     "output_type": "stream",
     "text": [
      "[nltk_data] Downloading package stopwords to /home/matt/nltk_data...\n",
      "[nltk_data]   Package stopwords is already up-to-date!\n",
      "[nltk_data] Downloading package punkt to /home/matt/nltk_data...\n",
      "[nltk_data]   Package punkt is already up-to-date!\n",
      "[nltk_data] Downloading package wordnet to /home/matt/nltk_data...\n",
      "[nltk_data]   Package wordnet is already up-to-date!\n"
     ]
    }
   ],
   "source": [
    "import re\n",
    "import pandas as pd\n",
    "from io import StringIO\n",
    "import nltk\n",
    "import numpy as np\n",
    "\n",
    "nltk.download('stopwords')\n",
    "nltk.download('punkt')\n",
    "nltk.download('wordnet')\n",
    "\n",
    "from nltk.corpus import stopwords\n",
    "from nltk.tokenize import word_tokenize\n",
    "from nltk.stem import PorterStemmer\n",
    "\n",
    "lemma = nltk.wordnet.WordNetLemmatizer()\n",
    "\n",
    "ps = PorterStemmer()\n",
    "\n",
    "stop_words = set(stopwords.words('english'))"
   ]
  },
  {
   "cell_type": "code",
   "execution_count": 32,
   "metadata": {},
   "outputs": [],
   "source": [
    "def extractDataFrame(fileName):\n",
    "  with open(fileName) as file:\n",
    "    lines = [re.sub(r'([^,])\"(\\s*[^\\n])', r'\\1/\"\\2', line) for line in file]\n",
    "    df = pd.read_csv(StringIO(''.join(lines)), escapechar=\"/\")\n",
    "  return df"
   ]
  },
  {
   "cell_type": "code",
   "execution_count": 33,
   "metadata": {},
   "outputs": [],
   "source": [
    "def splitLabels(labels):\n",
    "  return [int(label) for label in labels.split(' ')]"
   ]
  },
  {
   "cell_type": "code",
   "execution_count": 34,
   "metadata": {},
   "outputs": [],
   "source": [
    "def tokenise(caption):\n",
    "    # Replace non-alphabetic characters with single whitespace\n",
    "    caption = re.sub(r'[^a-zA-Z\\s]', ' ', caption.lower())\n",
    "    # Remove any whitespace that appears in sequence\n",
    "    caption = re.sub(r\"\\s+\", \" \", caption)\n",
    "    # Remove new leading and trailing whitespace\n",
    "    caption = caption.strip()\n",
    "    # Apply stemmer to each remaining word in sentence\n",
    "    caption = lemma.lemmatize(caption)\n",
    "    caption = ps.stem(caption)\n",
    "\n",
    "    # Tokenize\n",
    "    word_tokens = word_tokenize(caption)\n",
    "    # Remove stop words\n",
    "    filtered_sentence = [w for w in word_tokens if not w.lower() in stop_words]\n",
    "    # Replace value with tokenised data\n",
    "    return filtered_sentence"
   ]
  },
  {
   "cell_type": "code",
   "execution_count": 35,
   "metadata": {},
   "outputs": [
    {
     "name": "stdout",
     "output_type": "stream",
     "text": [
      "{1, 2, 3, 4, 5, 6, 7, 8, 9, 10, 11, 13, 14, 15, 16, 17, 18, 19}\n",
      "Unique labels: 18\n",
      "Max label value: 19\n"
     ]
    }
   ],
   "source": [
    "train = extractDataFrame('data/train.csv')\n",
    "\n",
    "train['Tokens'] = train['Caption'].apply(tokenise)\n",
    "train['Labels'] = train['Labels'].apply(splitLabels)\n",
    "\n",
    "uniqueLabels = set()\n",
    "for labels in train['Labels']:\n",
    "  uniqueLabels.update(labels)\n",
    "\n",
    "numUniqueLabels = len(uniqueLabels)\n",
    "maxLabel = max(uniqueLabels)\n",
    "\n",
    "print(uniqueLabels)\n",
    "print('Unique labels:', numUniqueLabels)\n",
    "print('Max label value:', maxLabel)"
   ]
  },
  {
   "cell_type": "code",
   "execution_count": 36,
   "metadata": {},
   "outputs": [],
   "source": [
    "def labelMapping(uLabels):\n",
    "  labelToIdMapping = {}\n",
    "  idToLabelMapping = {}\n",
    "  for idx, label in enumerate(uLabels):\n",
    "    labelToIdMapping[label] = idx\n",
    "    idToLabelMapping[idx] = label\n",
    "  return labelToIdMapping, idToLabelMapping"
   ]
  },
  {
   "cell_type": "code",
   "execution_count": 37,
   "metadata": {},
   "outputs": [
    {
     "name": "stdout",
     "output_type": "stream",
     "text": [
      "{0: 1, 1: 2, 2: 3, 3: 4, 4: 5, 5: 6, 6: 7, 7: 8, 8: 9, 9: 10, 10: 11, 11: 13, 12: 14, 13: 15, 14: 16, 15: 17, 16: 18, 17: 19}\n"
     ]
    }
   ],
   "source": [
    "labelToIdMapping, idToLabelMapping = labelMapping(uniqueLabels)\n",
    "\n",
    "print(idToLabelMapping)\n",
    "\n",
    "def mapLabelToId(labels):\n",
    "  ids = []\n",
    "  for label in labels:\n",
    "    ids.append(labelToIdMapping[label])\n",
    "  return ids"
   ]
  },
  {
   "cell_type": "code",
   "execution_count": 38,
   "metadata": {},
   "outputs": [],
   "source": [
    "def oneHotEncodeLabel(labels):\n",
    "  oneHotClasses = np.zeros([numUniqueLabels, numUniqueLabels])\n",
    "  for label in labels:\n",
    "    # Onehot encode each label in the list\n",
    "    oneHotClasses[label][label] = 1.\n",
    "  return oneHotClasses.tolist()"
   ]
  },
  {
   "cell_type": "code",
   "execution_count": 39,
   "metadata": {},
   "outputs": [
    {
     "name": "stdout",
     "output_type": "stream",
     "text": [
      "[8, 3, 13]\n",
      "[7, 2, 11]\n",
      "[[0.0, 0.0, 0.0, 0.0, 0.0, 0.0, 0.0, 0.0, 0.0, 0.0, 0.0, 0.0, 0.0, 0.0, 0.0, 0.0, 0.0, 0.0], [0.0, 0.0, 0.0, 0.0, 0.0, 0.0, 0.0, 0.0, 0.0, 0.0, 0.0, 0.0, 0.0, 0.0, 0.0, 0.0, 0.0, 0.0], [0.0, 0.0, 1.0, 0.0, 0.0, 0.0, 0.0, 0.0, 0.0, 0.0, 0.0, 0.0, 0.0, 0.0, 0.0, 0.0, 0.0, 0.0], [0.0, 0.0, 0.0, 0.0, 0.0, 0.0, 0.0, 0.0, 0.0, 0.0, 0.0, 0.0, 0.0, 0.0, 0.0, 0.0, 0.0, 0.0], [0.0, 0.0, 0.0, 0.0, 0.0, 0.0, 0.0, 0.0, 0.0, 0.0, 0.0, 0.0, 0.0, 0.0, 0.0, 0.0, 0.0, 0.0], [0.0, 0.0, 0.0, 0.0, 0.0, 0.0, 0.0, 0.0, 0.0, 0.0, 0.0, 0.0, 0.0, 0.0, 0.0, 0.0, 0.0, 0.0], [0.0, 0.0, 0.0, 0.0, 0.0, 0.0, 0.0, 0.0, 0.0, 0.0, 0.0, 0.0, 0.0, 0.0, 0.0, 0.0, 0.0, 0.0], [0.0, 0.0, 0.0, 0.0, 0.0, 0.0, 0.0, 1.0, 0.0, 0.0, 0.0, 0.0, 0.0, 0.0, 0.0, 0.0, 0.0, 0.0], [0.0, 0.0, 0.0, 0.0, 0.0, 0.0, 0.0, 0.0, 0.0, 0.0, 0.0, 0.0, 0.0, 0.0, 0.0, 0.0, 0.0, 0.0], [0.0, 0.0, 0.0, 0.0, 0.0, 0.0, 0.0, 0.0, 0.0, 0.0, 0.0, 0.0, 0.0, 0.0, 0.0, 0.0, 0.0, 0.0], [0.0, 0.0, 0.0, 0.0, 0.0, 0.0, 0.0, 0.0, 0.0, 0.0, 0.0, 0.0, 0.0, 0.0, 0.0, 0.0, 0.0, 0.0], [0.0, 0.0, 0.0, 0.0, 0.0, 0.0, 0.0, 0.0, 0.0, 0.0, 0.0, 1.0, 0.0, 0.0, 0.0, 0.0, 0.0, 0.0], [0.0, 0.0, 0.0, 0.0, 0.0, 0.0, 0.0, 0.0, 0.0, 0.0, 0.0, 0.0, 0.0, 0.0, 0.0, 0.0, 0.0, 0.0], [0.0, 0.0, 0.0, 0.0, 0.0, 0.0, 0.0, 0.0, 0.0, 0.0, 0.0, 0.0, 0.0, 0.0, 0.0, 0.0, 0.0, 0.0], [0.0, 0.0, 0.0, 0.0, 0.0, 0.0, 0.0, 0.0, 0.0, 0.0, 0.0, 0.0, 0.0, 0.0, 0.0, 0.0, 0.0, 0.0], [0.0, 0.0, 0.0, 0.0, 0.0, 0.0, 0.0, 0.0, 0.0, 0.0, 0.0, 0.0, 0.0, 0.0, 0.0, 0.0, 0.0, 0.0], [0.0, 0.0, 0.0, 0.0, 0.0, 0.0, 0.0, 0.0, 0.0, 0.0, 0.0, 0.0, 0.0, 0.0, 0.0, 0.0, 0.0, 0.0], [0.0, 0.0, 0.0, 0.0, 0.0, 0.0, 0.0, 0.0, 0.0, 0.0, 0.0, 0.0, 0.0, 0.0, 0.0, 0.0, 0.0, 0.0]]\n"
     ]
    }
   ],
   "source": [
    "train['LabelIds'] = train['Labels'].apply(mapLabelToId)\n",
    "train['EncodedLabels'] = train['LabelIds'].apply(oneHotEncodeLabel)\n",
    "\n",
    "print(train['Labels'][3])\n",
    "print(train['LabelIds'][3])\n",
    "print(train['EncodedLabels'][3])"
   ]
  },
  {
   "cell_type": "code",
   "execution_count": 40,
   "metadata": {},
   "outputs": [
    {
     "name": "stdout",
     "output_type": "stream",
     "text": [
      "Max token Length: 28\n"
     ]
    }
   ],
   "source": [
    "tokenLengths = []\n",
    "for x in range(train.shape[0]):\n",
    "    tokenLengths.append(len(train[\"Tokens\"][x]))\n",
    "\n",
    "maxTokenLength = max(tokenLengths)\n",
    "print('Max token Length:', maxTokenLength)"
   ]
  },
  {
   "cell_type": "code",
   "execution_count": 41,
   "metadata": {},
   "outputs": [
    {
     "name": "stdout",
     "output_type": "stream",
     "text": [
      "{'next', 'net', 'discussion', 'maneuvers', 'kayaks', 'hug', 'barhroom', 'headless', 'soccerball', 'desk', 'facil', 'carrots', 'staircase', 'clutching', 'tax', 'pirate', 'user', 'eare', 'marble', 'three', 'munch', 'jerseys', 'surfac', 'mall', 'onit', 'dogs', 'dora', 'swift', 'stroller', 'necklac', 'migrating', 'chatting', 'filming', 'flo', 'want', 'wrestler', 'range', 'televis', 'cemeteri', 'herds', 'native', 'rises', 'backlit', 'rugs', 'sheeep', 'skillfully', 'led', 'stage', 'begin', 'nun', 'safeway', 'diced', 'snapping', 'hat', 'honk', 'practic', 'steep', 'regulation', 'swimmers', 'chains', 'dives', 'triangle', 'hospital', 'tunnel', 'purchase', 'devil', 'rummaging', 'meter', 'aluminated', 'cardinal', 'obelisk', 'bare', 'pancak', 'baseline', 'trampolin', 'aaron', 'dong', 'lace', 'sel', 'pickup', 'merchandise', 'stole', 'miroor', 'company', 'clad', 'dwel', 'focu', 'dreamliner', 'goodbye', 'hotdog', 'pop', 'evening', 'greenhouse', 'mainten', 'main', 'bann', 'sponsored', 'quiet', 'portable', 'concentrates', 'dozens', 'transportation', 'sheepdog', 'bluewhite', 'wat', 'decorate', 'grinding', 'rhino', 'drill', 'stud', 'training', 'pretending', 'glaze', 'jam', 'edged', 'delicious', 'zookeepers', 'delta', 'baby', 'frisbi', 'read', 'sweat', 'rv', 'describing', 'explore', 'scene', 'cloths', 'combed', 'function', 'kenya', 'airplnae', 'arcade', 'grassy', 'sheering', 'wrong', 'mus', 'smirk', 'wile', 'pale', 'neatli', 'shepard', 'sparkl', 'fruits', 'perversely', 'cows', 'least', 'sales', 'cloak', 'ti', 'docks', 'barrier', 'planes', 'magnet', 'graphic', 'tourists', 'clutter', 'golden', 'stiring', 'ow', 'wiping', 'displayed', 'cupcake', 'dunkin', 'joke', 'start', 'amongst', 'guard', 'foul', 'buckled', 'please', 'grounded', 'rusted', 'larg', 'gumdrop', 'v', 'lot', 'within', 'arms', 'hamburg', 'sat', 'dye', 'carousal', 'barbershop', 'trashcan', 'lavend', 'lounges', 'rifle', 'size', 'flask', 'mcintosh', 'drivers', 'overtop', 'onward', 'mom', 'wheels', 'vegetables', 'payer', 'opt', 'landscaped', 'hitched', 'mercedes', 'ceremony', 'leather', 'turns', 'smack', 'escalator', 'dangling', 'employee', 'fresh', 'cathing', 'foot', 'mibs', 'tale', 'prey', 'twilight', 'controlled', 'husky', 'italia', 'radio', 'timer', 'towed', 'second', 'stocked', 'ripe', 'homemad', 'wheelers', 'controller', 'obstacl', 'witch', 'spandex', 'idle', 'fifth', 'spic', 'quicktime', 'gardeners', 'kid', 'winners', 'action', 'laden', 'hash', 'town', 'caravan', 'promenade', 'gold', 'w', 'mobile', 'plantain', 'structur', 'attempts', 'approaching', 'highrise', 'backsplash', 'ruins', 'autumn', 'blender', 'palac', 'sailboard', 'waving', 'bubblegum', 'bridle', 'easily', 'license', 'snuggling', 'spot', 'carri', 'sculptures', 'poster', 'stylist', 'wines', 'toasters', 'swining', 'boy', 'baseman', 'highchair', 'spaniel', 'boulevard', 'protestor', 'illegal', 'shorter', 'games', 'halo', 'central', 'rested', 'altitud', 'flanked', 'call', 'detroit', 'ba', 'long', 'fling', 'soup', 'propped', 'teach', 'stoic', 'depicting', 'specialty', 'blocks', 'instrument', 'cyclists', 'veggi', 'hike', 'cigarett', 'pose', 'germani', 'wagon', 'feathers', 'pitcher', 'meet', 'reflect', 'fairly', 'injured', 'creek', 'rather', 'cool', 'non', 'straight', 'regular', 'watered', 'mantle', 'clydesdales', 'christma', 'feeling', 'boeing', 'mirrored', 'quick', 'arrives', 'dimensional', 'norman', 'affair', 'tube', 'excitedly', 'zookeeper', 'sal', 'alert', 'embrella', 'skatebord', 'barking', 'plush', 'monks', 'laughing', 'anticip', 'boxes', 'decals', 'knit', 'figure', 'time', 'snowing', 'panned', 'sleepy', 'fellow', 'clothing', 'units', 'quest', 'jumble', 'x', 'korean', 'rolling', 'beef', 'potatoes', 'twigs', 'specks', 'tend', 'commands', 'besides', 'kne', 'blackberry', 'corrugated', 'effected', 'ago', 'larger', 'shelf', 'forrest', 'resort', 'binocular', 'comcast', 'occasion', 'leaky', 'videogam', 'right', 'section', 'headdress', 'bumb', 'inform', 'towing', 'dec', 'ring', 'berr', 'hands', 'dicussion', 'hammer', 'ambulances', 'tagged', 'subtitles', 'salvation', 'wide', 'languag', 'tattoos', 'racing', 'toward', 'downhill', 'barren', 'kneeling', 'lollipop', 'warms', 'bike', 'trowing', 'outdoor', 'cargo', 'copy', 'headset', 'properly', 'circl', 'peson', 'structure', 'cafeteria', 'gazes', 'naked', 'deflated', 'ringling', 'grimly', 'touches', 'cabinet', 'loose', 'birdbath', 'smal', 'metro', 'met', 'erotically', 'boots', 'mate', 'beams', 'short', 'altered', 'dumb', 'handl', 'vcr', 'hods', 'chose', 'floats', 'vegetable', 'bal', 'lawn', 'pushing', 'lush', 'stil', 'matching', 'waist', 'mangrov', 'thomas', 'minster', 'gnar', 'shed', 'smooth', 'recliner', 'blonde', 'baeball', 'dried', 'arranged', 'splendid', 'border', 'marquee', 'grilling', 'toddl', 'rang', 'bunting', 'bag', 'taxiing', 'become', 'labrador', 'lick', 'hookup', 'prop', 'bryson', 'showboat', 'glazed', 'rust', 'ten', 'stove', 'interst', 'intersecting', 'air', 'bottles', 'mason', 'smoke', 'discovering', 'melancholy', 'bottle', 'still', 'pn', 'shuttle', 'peep', 'trunks', 'speeds', 'tanks', 'theatre', 'airport', 'famili', 'saddl', 'hooding', 'shrouded', 'advertsment', 'buy', 'wolf', 'build', 'pre', 'defending', 'pud', 'passeng', 'cranberry', 'groud', 'recumbent', 'vespas', 'misty', 'jumper', 'seven', 'airlines', 'water', 'dryer', 'azure', 'showing', 'costum', 'att', 'fist', 'jetways', 'transfer', 'vase', 'loom', 'investigating', 'highway', 'mesh', 'ferris', 'electron', 'detailing', 'landed', 'dress', 'hardwood', 'foliage', 'dentist', 'pakistan', 'apple', 'plate', 'lifeguard', 'distracted', 'complex', 'item', 'bushes', 'sidelines', 'buying', 'nature', 'meals', 'match', 'balloons', 'ornate', 'briefcas', 'surboards', 'bow', 'markers', 'sneakers', 'warplane', 'wilderness', 'sound', 'bent', 'letting', 'case', 'engines', 'applied', 'ahead', 'canada', 'vending', 'african', 'aims', 'disorganized', 'framed', 'rode', 'swan', 'peaked', 'trunk', 'fleet', 'ostrich', 'flashlight', 'commercial', 'stores', 'primary', 'unfolded', 'barbeque', 'congratulating', 'wheat', 'shopkeeper', 'clearance', 'stances', 'reflections', 'ties', 'lage', 'wooly', 'fathers', 'awake', 'branch', 'inflatable', 'chairlift', 'intersection', 'machine', 'fuel', 'sprawled', 'tarmac', 'maintenance', 'futuristic', 'conditions', 'swampy', 'shingled', 'ram', 'dril', 'cooler', 'incline', 'caucasian', 'emptying', 'facial', 'mail', 'pile', 'halfway', 'peer', 'dmv', 'tusk', 'bugs', 'slacks', 'power', 'ticks', 'hound', 'st', 'forward', 'different', 'bull', 'corner', 'leave', 'boarded', 'messily', 'joy', 'direction', 'grooming', 'grinning', 'mixed', 'sliver', 'chandelier', 'feast', 'noodles', 'pass', 'signpost', 'plated', 'bill', 'kiosk', 'drifting', 'bride', 'purchasing', 'pod', 'act', 'tree', 'liquor', 'defy', 'goi', 'reign', 'artifacts', 'convers', 'drawings', 'hard', 'catchng', 'glov', 'wire', 'blowing', 'fed', 'riverboat', 'falcon', 'bearing', 'exposur', 'pairs', 'husband', 'listened', 'celebrate', 'crab', 'pilot', 'promotion', 'carton', 'whit', 'newborn', 'portrait', 'slats', 'converted', 'countertop', 'couple', 'outfits', 'actively', 'engaging', 'curv', 'oranges', 'gutter', 'poles', 'mugging', 'casting', 'conference', 'remot', 'feild', 'caf', 'unidentified', 'charity', 'charter', 'sunscreen', 'forehead', 'tiers', 'cartoonish', 'topless', 'navigation', 'foggy', 'tiara', 'beanie', 'mimicking', 'pared', 'strangely', 'ofa', 'fast', 'fence', 'gesture', 'behind', 'pizzeria', 'basball', 'warning', 'penn', 'ridiculous', 'batting', 'bin', 'platt', 'pet', 'popular', 'fedora', 'anticipating', 'median', 'cow', 'oil', 'ding', 'soft', 'lab', 'discarded', 'wiped', 'pyramid', 'berlin', 'patron', 'famous', 'fram', 'cingular', 'nave', 'mowed', 'football', 'lips', 'tast', 'together', 'cluttered', 'adjacent', 'machines', 'photos', 'remov', 'taste', 'helping', 'hose', 'bluejay', 'fil', 'claus', 'fueli', 'onion', 'waddling', 'rollerblades', 'orbit', 'musical', 'bananas', 'groom', 'posed', 'playin', 'take', 'tabby', 'boot', 'newlywed', 'less', 'glaring', 'tore', 'pedestrians', 'carry', 'foam', 'tibet', 'pug', 'rubber', 'locomot', 'gear', 'siberian', 'microwave', 'stem', 'secluded', 'eagerly', 'response', 'statu', 'damp', 'cropped', 'trucks', 'umbreallas', 'gears', 'candy', 'abandon', 'airiel', 'carousel', 'shovel', 'rolls', 'peole', 'broccoflower', 'advertisements', 'poll', 'name', 'barbecuing', 'bandages', 'windsurfers', 'terminal', 'cayenne', 'idles', 'snuggled', 'consol', 'saddle', 'unload', 'onto', 'brushing', 'toasted', 'biplan', 'electricity', 'cov', 'propaganda', 'associates', 'shaped', 'mukes', 'volleyball', 'bridg', 'heinz', 'overalls', 'lavishly', 'knee', 'double', 'motivational', 'rowers', 'sliced', 'find', 'successfully', 'streets', 'intently', 'autographs', 'storing', 'cages', 'self', 'haired', 'stainless', 'speculators', 'whiteboard', 'standing', 'mailbox', 'clock', 'waves', 'gag', 'sorting', 'reporting', 'charact', 'tier', 'teenagers', 'sculpture', 'exact', 'conversing', 'across', 'wears', 'raquet', 'writings', 'glid', 'participants', 'enthusiasts', 'able', 'enclosure', 'bradley', 'dessert', 'create', 'almost', 'billowing', 'whtie', 'sad', 'firsbe', 'cuba', 'davidson', 'establish', 'rocky', 'performs', 'metter', 'junk', 'flooded', 'examine', 'patio', 'hill', 'design', 'flown', 'sail', 'expression', 'patrolling', 'sony', 'batters', 'advice', 'pained', 'hills', 'developed', 'merida', 'message', 'toyota', 'mac', 'pushes', 'popping', 'corale', 'peace', 'awaits', 'hides', 'twp', 'jersey', 'mur', 'cases', 'benches', 'mets', 'thick', 'ladies', 'disgusted', 'hurts', 'treading', 'mask', 'tuck', 'downed', 'rough', 'beak', 'learn', 'floaters', 'gong', 'dirtbik', 'professional', 'victorian', 'designs', 'real', 'numb', 'unlit', 'lodges', 'measure', 'pier', 'ars', 'sips', 'steamboat', 'old', 'bowls', 'speedomet', 'uk', 'blinds', 'shrub', 'bushy', 'afar', 'towel', 'befor', 'third', 'sizes', 'curve', 'queues', 'stnading', 'apparently', 'backyard', 'definitely', 'leaking', 'image', 'frost', 'flower', 'corr', 'pickl', 'volley', 'nippl', 'spanning', 'attractive', 'points', 'umbrealla', 'shoot', 'aisle', 'firefighters', 'curly', 'socks', 'shares', 'snak', 'aggressively', 'foil', 'boat', 'words', 'sausage', 'jacket', 'evergreen', 'cel', 'police', 'movement', 'pub', 'installing', 'progress', 'enhanced', 'lies', 'dispens', 'ord', 'shrubberi', 'knot', 'opened', 'tub', 'reaches', 'bass', 'loaded', 'removing', 'leafy', 'mouse', 'obama', 'credit', 'enging', 'cheeky', 'canoes', 'bush', 'doughnut', 'listening', 'traffic', 'lights', 'son', 'rafts', 'potato', 'convention', 'licked', 'amusing', 'contraption', 'blows', 'unique', 'backhanded', 'choose', 'shouting', 'caring', 'welkin', 'hurrying', 'ad', 'fli', 'huddle', 'designed', 'tid', 'outdated', 'flocks', 'crops', 'videotaping', 'publicity', 'travel', 'drop', 'creative', 'printed', 'ruby', 'represented', 'neat', 'buggies', 'appear', 'lined', 'cabinets', 'kreme', 'runners', 'widescreen', 'camping', 'teaching', 'cars', 'plow', 'whiskey', 'buried', 'asid', 'throwing', 'pitches', 'splashy', 'dusty', 'unpaved', 'incred', 'grating', 'entertainment', 'frapp', 'refurbished', 'berries', 'umpire', 'sleeps', 'tongue', 'waffles', 'seltzer', 'stunts', 'mous', 'dashboard', 'spend', 'hank', 'rattlesnake', 'greens', 'mink', 'waterfal', 'dirtbike', 'fel', 'trainer', 'fishing', 'tequila', 'schedule', 'motorists', 'stacks', 'dividers', 'chicken', 'crumbs', 'speedboat', 'equipment', 'beat', 'banner', 'guards', 'swarm', 'sugary', 'floor', 'attached', 'uickly', 'flowery', 'march', 'piec', 'backhoe', 'dell', 'j', 'pipes', 'mak', 'coleslaw', 'directional', 'bor', 'overhand', 'hook', 'knitting', 'clouds', 'ha', 'jetti', 'rugby', 'choking', 'village', 'placid', 'stag', 'muddy', 'billed', 'tables', 'thumbs', 'repeal', 'mural', 'overlooking', 'proceed', 'butting', 'thumb', 'motion', 'anchored', 'say', 'hollywood', 'tells', 'warming', 'tir', 'doubl', 'htc', 'trumpet', 'similar', 'adventure', 'ottoman', 'garlic', 'hi', 'chihuahua', 'propel', 'little', 'bodi', 'airways', 'steeple', 'outline', 'lay', 'cleaning', 'period', 'zebras', 'utility', 'gil', 'prohibiting', 'team', 'dumping', 'wave', 'packed', 'curb', 'hurry', 'cracked', 'gee', 'robin', 'visible', 'political', 'bon', 'crossing', 'mue', 'woopie', 'plumes', 'pitched', 'samples', 'hoping', 'maneuver', 'baking', 'flooring', 'scocer', 'doughnuts', 'snake', 'contents', 'starring', 'leveled', 'war', 'powd', 'leagu', 'dollhouse', 'dine', 'locked', 'catching', 'distance', 'shelter', 'ribs', 'bookshelf', 'tear', 'badg', 'bystand', 'streetscape', 'busted', 'abstract', 'splitting', 'unloading', 'sari', 'beached', 'filtered', 'clocks', 'bikers', 'splaying', 'wake', 'trained', 'regardless', 'valley', 'desserts', 'european', 'bales', 'boise', 'burger', 'wicker', 'event', 'bunks', 'tended', 'fat', 'crashed', 'mustard', 'cameras', 'pulls', 'dotted', 'circus', 'carves', 'pitching', 'manufacturing', 'stoop', 'caramel', 'knees', 'fox', 'remotes', 'snaps', 'wooden', 'puppi', 'hunched', 'went', 'candled', 'sharing', 'love', 'completed', 'hitting', 'rol', 'butter', 'awe', 'types', 'compact', 'body', 'blanket', 'firemen', 'shadow', 'piled', 'hal', 'sticking', 'alongsid', 'pans', 'teeters', 'trestl', 'ros', 'wild', 'sisters', 'bluetooth', 'wacky', 'sauc', 'bazaar', 'president', 'kanji', 'eye', 'abov', 'wife', 'lever', 'blindfolded', 'basketbal', 'barbie', 'trip', 'detailed', 'pine', 'filed', 'minnesota', 'rodeo', 'closely', 'smile', 'specifics', 'microphones', 'finishes', 'windows', 'interacts', 'tram', 'smartphone', 'billboard', 'alarm', 'com', 'nesting', 'clowns', 'include', 'sides', 'returns', 'mousepad', 'grid', 'serving', 'spending', 'beast', 'combing', 'hey', 'shapped', 'beverag', 'adjusted', 'windshield', 'sidewalk', 'convert', 'decorative', 'muel', 'duit', 'hydrant', 'silverware', 'nice', 'vanilla', 'hog', 'numerous', 'lotion', 'help', 'living', 'cactus', 'ina', 'happily', 'escort', 'bre', 'volunteer', 'surrounding', 'snowstorm', 'classic', 'feath', 'drifts', 'beauty', 'airfield', 'bitch', 'barges', 'dries', 'steam', 'inserting', 'wrought', 'stretch', 'meadow', 'swimsuit', 'bleachers', 'southern', 'nervous', 'lounge', 'covers', 'egyptian', 'dense', 'underside', 'daylight', 'crazed', 'headphon', 'siamese', 'croissants', 'barri', 'croquet', 'merge', 'departing', 'ar', 'rollled', 'beside', 'tie', 'stock', 'artificial', 'typ', 'torn', 'canoe', 'hind', 'restroom', 'secur', 'wildlife', 'barak', 'clos', 'minnie', 'way', 'tiles', 'sandals', 'petting', 'raggedy', 'dilapidated', 'n', 'tanker', 'raring', 'angles', 'vie', 'genius', 'sunglasses', 'preening', 'jumping', 'putting', 'jetty', 'pews', 'delivery', 'danc', 'shor', 'ketchup', 'greenery', 'skates', 'problem', 'stone', 'basebal', 'transferring', 'drying', 'motorcyl', 'picket', 'trous', 'batter', 'cape', 'tugs', 'red', 'firehose', 'tide', 'construction', 'passing', 'croiss', 'tropical', 'madly', 'spicket', 'bus', 'limo', 'crotch', 'opponent', 'shipyard', 'sunglass', 'speed', 'moth', 'protestors', 'lid', 'someth', 'puts', 'moon', 'arranging', 'hearts', 'polo', 'daddy', 'cluster', 'favorite', 'tight', 'cycl', 'ev', 'tri', 'reddish', 'splashing', 'thecstreet', 'allow', 'sleigh', 'tanning', 'worshiping', 'sticks', 'instru', 'heels', 'bar', 'atv', 'plethora', 'edge', 'computer', 'grocer', 'memorial', 'tongs', 'mov', 'butcher', 'gotten', 'cowboy', 'seated', 'crunch', 'hammock', 'wrap', 'something', 'instructor', 'horses', 'plowed', 'toss', 'somehow', 'scrub', 'movingand', 'ov', 'figur', 'wining', 'amphibious', 'brochur', 'whities', 'cas', 'ith', 'chained', 'tool', 'oval', 'birth', 'lak', 'pinned', 'skies', 'keys', 'coastal', 'pinwheel', 'pompom', 'flag', 'crowds', 'contending', 'knitted', 'dressed', 'pigtails', 'deck', 'ultimate', 'hexagonal', 'appliance', 'curtsying', 'breadfast', 'sid', 'make', 'joystick', 'linda', 'blanking', 'meow', 'stool', 'trio', 'adorable', 'fisherman', 'kitting', 'delivers', 'bubbl', 'shuttl', 'eagle', 'stranded', 'machinery', 'sugared', 'shoe', 'powerful', 'stretched', 'rink', 'nobody', 'sleeves', 'ipod', 'multi', 'rear', 'hid', 'skateboarder', 'urinal', 'mozzarella', 'mailed', 'hiding', 'wheelchair', 'streetlight', 'arts', 'sunlight', 'doggie', 'scale', 'sideways', 'silhouette', 'trelli', 'makeup', 'snowbird', 'climbs', 'curious', 'drawn', 'smothered', 'fistfuls', 'chopstick', 'caution', 'edg', 'cloudless', 'children', 'legs', 'bear', 'arrived', 'manatee', 'redheaded', 'panera', 'blank', 'mashed', 'park', 'obese', 'ranch', 'receive', 'moseying', 'form', 'picture', 'fine', 'fake', 'shelves', 'poodles', 'tourist', 'isol', 'railing', 'desktop', 'opponet', 'fridg', 'handmade', 'liquid', 'scen', 'pens', 'contemplative', 'fork', 'carries', 'pipelin', 'waiting', 'kids', 'ears', 'toed', 'harnessed', 'modeling', 'descending', 'ingredi', 'bright', 'lifted', 'counter', 'plan', 'seating', 'resting', 'feathered', 'puppy', 'united', 'transformed', 'rug', 'keyboard', 'peac', 'soups', 'winery', 'maroon', 'house', 'chews', 'rainy', 'unripened', 'boxing', 'busses', 'squatted', 'exhibit', 'traversing', 'shows', 'parasol', 'stunning', 'rared', 'yorkie', 'coasts', 'boxer', 'protective', 'turkeys', 'motorcyle', 'gliding', 'skinning', 'rim', 'cornfield', 'chinese', 'someone', 'comforter', 'formally', 'rapped', 'top', 'fall', 'benz', 'napkins', 'lung', 'driv', 'sil', 'stomach', 'heat', 'flat', 'phone', 'emerging', 'mountainsid', 'cumfybus', 'boardwalk', 'piles', 'windowsill', 'arr', 'pickles', 'trousers', 'climb', 'hay', 'campground', 'current', 'safer', 'squeezing', 'lurching', 'scrolling', 'dish', 'bee', 'idiot', 'seaside', 'atm', 'poke', 'coffee', 'quinci', 'busy', 'soaked', 'zebra', 'mime', 'square', 'sling', 'relaxes', 'waterway', 'davenport', 'puddl', 'statute', 'presents', 'exploding', 'agent', 'bird', 'luggage', 'fireworks', 'neighborhood', 'tasting', 'aboard', 'basin', 'pli', 'warmth', 'rat', 'crazy', 'parasailing', 'severe', 'struck', 'macaroni', 'person', 'makeshift', 'parchment', 'contrail', 'lamppost', 'vendor', 'boad', 'mama', 'grind', 'pip', 'prepping', 'alaskan', 'posing', 'audience', 'parrot', 'licks', 'lanyard', 'worker', 'wavy', 'exhausting', 'giza', 'santa', 'halter', 'cours', 'cappuccino', 'typewrit', 'olymp', 'perspective', 'workplace', 'spots', 'crat', 'frame', 'brakes', 'siding', 'impaled', 'bule', 'mopeds', 'firetruck', 'mixing', 'icon', 'yes', 'warehouse', 'vast', 'rerady', 'capitol', 'oozing', 'rides', 'divers', 'seems', 'virgin', 'final', 'sadly', 'stored', 'spac', 'ful', 'blacktop', 'utensil', 'smelling', 'dreary', 'wristband', 'handles', 'occupi', 'museum', 'barricade', 'tar', 'also', 'flatbed', 'standin', 'light', 'stared', 'curiously', 'object', 'moved', 'enjoys', 'opposing', 'wardrobe', 'sailboat', 'follow', 'normal', 'chickens', 'moped', 'talon', 'track', 'biplanes', 'indoors', 'driver', 'lane', 'rotating', 'experience', 'league', 'ladders', 'slate', 'florescent', 'san', 'angels', 'slow', 'motorbikes', 'teammates', 'boards', 'hedg', 'juicy', 'confer', 'bunches', 'skiboard', 'sell', 'safari', 'contemplating', 'advertising', 'spaceship', 'neatly', 'aquarium', 'fruity', 'mmm', 'unusual', 'manipulate', 'single', 'goal', 'wetsuid', 'toy', 'becoming', 'newspaper', 'journey', 'motions', 'path', 'sure', 'six', 'stori', 'lattice', 'equine', 'manb', 'involves', 'baggage', 'heading', 'zone', 'gallop', 'breadstick', 'bald', 'themself', 'sucking', 'barrel', 'sings', 'herded', 'hairy', 'discuss', 'ladder', 'dresser', 'spread', 'hit', 'repairing', 'checkerd', 'lines', 'demonstration', 'neck', 'paw', 'hissing', 'fried', 'flagpole', 'hous', 'tries', 'quickli', 'villag', 'precedes', 'column', 'hydrants', 'staged', 'features', 'planted', 'houseplant', 'motels', 'levels', 'mayor', 'hyrd', 'razor', 'paints', 'frowning', 'waitress', 'voodoo', 'thai', 'urin', 'horizontally', 'bakeri', 'close', 'donkey', 'engulf', 'engage', 'indoor', 'toppings', 'shot', 'camel', 'fountain', 'angeles', 'podiums', 'mario', 'monitors', 'impact', 'poni', 'pregnant', 'butts', 'displaying', 'toghet', 'grazes', 'office', 'guest', 'coverage', 'rounding', 'zodiac', 'baste', 'fond', 'cucumber', 'strap', 'came', 'bubbles', 'stance', 'moutain', 'touch', 'asked', 'trash', 'hummingbirds', 'grazing', 'reflecting', 'divid', 'conner', 'pallets', 'nak', 'coconut', 'dig', 'tortoise', 'thigh', 'bean', 'thread', 'cardiff', 'lunging', 'shirts', 'pillows', 'fir', 'coin', 'chidden', 'oars', 'bab', 'savory', 'biked', 'parked', 'sandwiches', 'trees', 'shielding', 'figurines', 'spanking', 'unable', 'fri', 'straps', 'buddha', 'shelv', 'bas', 'referee', 'job', 'repair', 'aid', 'edges', 'scaring', 'sailer', 'security', 'klm', 'p', 'ships', 'relish', 'bloody', 'arch', 'calm', 'polar', 'cameraman', 'grabbing', 'frozen', 'roads', 'hotels', 'leaning', 'houses', 'commut', 'sect', 'folding', 'otherwise', 'stairway', 'windboard', 'takeoff', 'cano', 'chip', 'hazy', 'suspended', 'wander', 'mat', 'stalls', 'guitar', 'photoed', 'potty', 'cooking', 'cleats', 'hoop', 'wonderful', 'goofing', 'cheek', 'ingredients', 'hamm', 'pastery', 'knife', 'touching', 'yelling', 'cave', 'turtles', 'overhead', 'motorcyclers', 'cheering', 'bundles', 'stew', 'beige', 'burgundy', 'parallel', 'chicks', 'fog', 'foods', 'painting', 'hovers', 'graffiti', 'instruments', 'massive', 'mexican', 'lodg', 'rabble', 'historic', 'accompanied', 'tilling', 'information', 'customer', 'michael', 'skyfall', 'teacher', 'follows', 'ca', 'tile', 'pretends', 'four', 'skiing', 'angel', 'cellphone', 'foreground', 'lettuce', 'autotune', 'chevy', 'shoots', 'center', 'veggies', 'permit', 'flesh', 'grandma', 'signaling', 'deliver', 'flock', 'nike', 'paddle', 'sycamore', 'entertaining', 'chase', 'left', 'stripe', 'pr', 'cent', 'peanut', 'jetway', 'corn', 'fliers', 'barricad', 'leopard', 'boys', 'beer', 'arched', 'defensive', 'movie', 'unrecognizable', 'gray', 'crowed', 'officially', 'snacking', 'dodgers', 'perches', 'missing', 'jesus', 'teamm', 'weaving', 'persong', 'grown', 'massively', 'interview', 'congratulate', 'freshly', 'moose', 'smiling', 'cruiser', 'nametag', 'comfortably', 'background', 'happi', 'player', 'laugh', 'markings', 'livestock', 'walkingski', 'weather', 'cresting', 'stripper', 'pad', 'mills', 'breweri', 'ther', 'sticker', 'banana', 'motercycl', 'frieghtt', 'shearer', 'followed', 'disc', 'vehicle', 'lounging', 'pond', 'inspecting', 'broccoli', 'tying', 'habit', 'parachutes', 'polic', 'boathouse', 'garden', 'intended', 'teenager', 'liing', 'herding', 'machin', 'intimidating', 'winking', 'loveseat', 'traditional', 'wildflow', 'sillouetted', 'trick', 'truck', 'frosbee', 'offices', 'burrito', 'juggling', 'assisted', 'shut', 'frisbie', 'catamaran', 'teal', 'zoo', 'crosswalk', 'shady', 'trail', 'dinning', 'whole', 'jock', 'salem', 'peak', 'large', 'ore', 'cubical', 'glow', 'cocktail', 'jockeys', 'mysterious', 'vinyl', 'hamburger', 'upright', 'bats', 'rhinoceros', 'serious', 'powder', 'frito', 'saddles', 'roof', 'cause', 'landscape', 'persian', 'bumper', 'bib', 'commanded', 'saran', 'castl', 'paul', 'wetland', 'bucking', 'round', 'partially', 'conveyor', 'deeply', 'lov', 'source', 'potted', 'widewalk', 'bay', 'attended', 'bed', 'capt', 'pil', 'staging', 'gatorad', 'flash', 'mimics', 'templ', 'hil', 'diet', 'swims', 'indicates', 'propeller', 'jetfighter', 'kiss', 'shopper', 'laptop', 'apron', 'washes', 'copious', 'boarder', 'posting', 'fath', 'signposts', 'unleashes', 'cruiseboat', 'propellers', 'gentleman', 'mechanical', 'picn', 'christmas', 'memori', 'summ', 'housing', 'cowered', 'platters', 'flip', 'toddlers', 'bridge', 'nose', 'godzilla', 'helmet', 'court', 'cook', 'personnel', 'automobil', 'para', 'bef', 'wash', 'demonstrated', 'jumped', 'rachel', 'pudding', 'athletic', 'john', 'crutch', 'scrap', 'toting', 'cobbleston', 'crash', 'motorbik', 'passed', 'nestle', 'view', 'spraying', 'ribcag', 'leader', 'advertis', 'leads', 'stillness', 'keeper', 'spotlight', 'shop', 'ceremoni', 'stopped', 'menu', 'gang', 'tail', 'venice', 'sailors', 'handrail', 'sunshin', 'adults', 'crawling', 'sells', 'celebrating', 'swinging', 'network', 'ceiling', 'student', 'destroy', 'felt', 'peacefully', 'figher', 'countryside', 'interest', 'let', 'rotten', 'try', 'nothing', 'grapes', 'cord', 'cautionary', 'alpine', 'waking', 'join', 'growth', 'stuff', 'extended', 'monkey', 'tons', 'buds', 'gay', 'midi', 'calf', 'cosplay', 'doorway', 'turn', 'facing', 'studio', 'row', 'checkpoint', 'escorted', 'along', 'jettisons', 'sheriff', 'bit', 'bouncing', 'unison', 'wallpapered', 'couch', 'affectionate', 'parad', 'orang', 'identical', 'holiday', 'leaders', 'dol', 'newscast', 'toucing', 'room', 'wid', 'pavilion', 'crevass', 'riders', 'piicture', 'perch', 'participating', 'male', 'swiss', 'barbed', 'mower', 'winding', 'skil', 'ensues', 'fun', 'promotional', 'written', 'slightly', 'sights', 'goggl', 'tofu', 'shoulders', 'wrecked', 'sex', 'lazily', 'tooth', 'load', 'poured', 'yells', 'audi', 'ceil', 'tubes', 'anim', 'hilly', 'skier', 'choosing', 'equipped', 'farm', 'clap', 'cradled', 'pump', 'checkerboard', 'races', 'cupping', 'te', 'speaking', 'oddly', 'cobblestone', 'necked', 'abandoned', 'blast', 'stretches', 'milk', 'port', 'elf', 'tattooed', 'treth', 'mane', 'sating', 'video', 'overweight', 'assign', 'await', 'could', 'carrying', 'punk', 'hovering', 'seem', 'styrofoam', 'peeled', 'scooter', 'stair', 'sets', 'laid', 'safe', 'goats', 'instead', 'bench', 'shanks', 'airline', 'dragon', 'resemble', 'plywood', 'convertible', 'seminar', 'amid', 'decorates', 'orchestra', 'carriage', 'disk', 'shack', 'commuting', 'funer', 'mannequin', 'sitting', 'tired', 'batch', 'instructional', 'reports', 'float', 'locking', 'paint', 'cont', 'past', 'eyes', 'overhang', 'lettered', 'buddy', 'factor', 'fo', 'jet', 'slicing', 'proud', 'waveland', 'bundled', 'cardigan', 'merry', 'racers', 'shirtless', 'poking', 'decker', 'sided', 'crest', 'vases', 'making', 'stump', 'bins', 'depicts', 'captivity', 'walk', 'width', 'motif', 'bowels', 'posters', 'emo', 'nos', 'pineappl', 'panties', 'bile', 'colleague', 'kiddie', 'sons', 'buss', 'dough', 'parents', 'ground', 'army', 'pilots', 'theirir', 'shaking', 'chaotic', 'plane', 'catting', 'temple', 'chilly', 'loads', 'canvas', 'handbag', 'knight', 'goose', 'gaining', 'bandana', 'capsule', 'sharp', 'attent', 'snowboarding', 'bellied', 'france', 'capped', 'pipe', 'divide', 'dining', 'biting', 'details', 'handed', 'articulated', 'stack', 'bureau', 'trey', 'maintained', 'owners', 'batt', 'priest', 'standard', 'crammed', 'pool', 'cooling', 'stop', 'bun', 'blouse', 'cigarette', 'dispenser', 'soars', 'prepares', 'glistening', 'banked', 'collage', 'scissor', 'suit', 'postal', 'castle', 'planters', 'medical', 'springs', 'brick', 'footer', 'entertained', 'martinis', 'bbq', 'joust', 'ear', 'array', 'tarot', 'hate', 'plaque', 'pastur', 'washington', 'rais', 'rein', 'thousands', 'drives', 'bros', 'sampling', 'testing', 'bottled', 'stickers', 'butterfly', 'courtyard', 'level', 'eyeglass', 'eclectic', 'hopefully', 'ongoing', 'yankees', 'carrier', 'cutlery', 'crashing', 'tucks', 'university', 'headband', 'rack', 'canopy', 'bending', 'awaiting', 'silver', 'garag', 'condo', 'females', 'vodka', 'perform', 'downturned', 'switch', 'robe', 'wildli', 'crown', 'closer', 'raincoat', 'ledge', 'montage', 'sihouetted', 'entr', 'dolli', 'tasty', 'firsbee', 'hairnets', 'poor', 'van', 'headphones', 'propelled', 'urns', 'assorted', 'eager', 'cushion', 'brace', 'len', 'chewing', 'viewing', 'bil', 'sailor', 'drinking', 'scanning', 'package', 'national', 'motorcyles', 'warehous', 'nine', 'recreational', 'baker', 'gate', 'mushrooms', 'playground', 'screens', 'chilling', 'treat', 'handlebars', 'taxis', 'businessman', 'sufer', 'cushioned', 'dump', 'ey', 'indian', 'plying', 'rite', 'manhattan', 'unbox', 'catalina', 'enormous', 'avenu', 'shield', 'serv', 'provide', 'available', 'near', 'packing', 'crayons', 'creepy', 'pick', 'cuddle', 'backpack', 'puppies', 'encompassed', 'picturesque', 'sausages', 'groups', 'recept', 'passes', 'snowboarders', 'greien', 'unclear', 'interactive', 'whine', 'posturing', 'cheesecake', 'elephant', 'cellphon', 'unicorn', 'industri', 'cliff', 'log', 'crouch', 'tends', 'ford', 'whack', 'ornament', 'girdle', 'high', 'play', 'pavilions', 'tethered', 'note', 'obstacle', 'pap', 'arrival', 'dead', 'bet', 'diving', 'clpse', 'queen', 'tangerines', 'bi', 'humming', 'stal', 'tangled', 'compete', 'pearls', 'similarly', 'lighted', 'sneak', 'armored', 'sighting', 'pay', 'mow', 'delivering', 'tiled', 'cessna', 'staked', 'teaches', 'businesses', 'science', 'tinted', 'melting', 'enjoying', 'freeway', 'district', 'cans', 'asleep', 'rickshaws', 'school', 'dangerous', 'motor', 'crawled', 'drizzled', 'sing', 'topped', 'chain', 'uphil', 'joint', 'bread', 'slip', 'vest', 'glar', 'first', 'ln', 'pari', 'patrolled', 'directing', 'eat', 'even', 'woven', 'grab', 'wants', 'seal', 'ex', 'readers', 'roasted', 'everything', 'organ', 'practice', 'dictator', 'especially', 'ferguson', 'storefront', 'squad', 'effect', 'television', 'vessel', 'bitten', 'wak', 'lighthous', 'lying', 'provided', 'kite', 'overturned', 'airy', 'ginger', 'busily', 'exit', 'solar', 'restaur', 'working', 'system', 'throng', 'sess', 'egg', 'ambassador', 'already', 'shreds', 'crystal', 'curls', 'waterskiing', 'circu', 'camera', 'bating', 'suppli', 'boiler', 'feminine', 'seaweed', 'bottl', 'ugly', 'streetlights', 'word', 'advertises', 'guys', 'wit', 'whiter', 'sign', 'knif', 'traff', 'emirates', 'attendants', 'pics', 'earphones', 'blond', 'usu', 'smaller', 'mound', 'proped', 'porch', 'adult', 'rids', 'snuggles', 'lake', 'scissors', 'curios', 'fans', 'paddling', 'tweed', 'canal', 'buggy', 'dinging', 'comfort', 'telescop', 'diecast', 'disembarking', 'passangers', 'giving', 'holder', 'discussing', 'twig', 'diaper', 'frolicking', 'bananna', 'stating', 'homeplate', 'cushio', 'pare', 'environ', 'deco', 'waffle', 'sight', 'feeding', 'stall', 'hll', 'ignor', 'padded', 'messag', 'bobble', 'emerg', 'raises', 'adamantly', 'jogging', 'jockey', 'baton', 'servings', 'domino', 'paved', 'newly', 'eight', 'fencing', 'shit', 'deplaning', 'arrow', 'sands', 'recording', 'curled', 'hybrid', 'surger', 'skater', 'hoods', 'panel', 'pacman', 'wrapping', 'lazing', 'covered', 'holds', 'return', 'harley', 'bul', 'dark', 'tilts', 'defaced', 'balding', 'pepper', 'seri', 'besid', 'gloves', 'unripe', 'sheeps', 'crooked', 'containers', 'pattern', 'permitting', 'melted', 'bulging', 'controls', 'variety', 'holing', 'wav', 'rigatoni', 'driven', 'youths', 'gadget', 'imbibing', 'om', 'concert', 'names', 'leaps', 'turd', 'magazin', 'combo', 'major', 'hero', 'causing', 'supplies', 'twirling', 'doili', 'merchant', 'piling', 'interesting', 'condiments', 'listen', 'navy', 'teri', 'extinguisher', 'views', 'containing', 'airliner', 'faucet', 'worked', 'obstacles', 'slat', 'golfer', 'mitt', 'lusting', 'slopl', 'misses', 'photographer', 'tye', 'shaggy', 'station', 'strung', 'count', 'passport', 'pedestrian', 'nighttim', 'airplanes', 'visor', 'sits', 'levitates', 'z', 'biathelete', 'siloette', 'parade', 'dynamit', 'overflowing', 'pillars', 'striped', 'plant', 'disembark', 'tshirt', 'humm', 'shoreline', 'bullet', 'r', 'sled', 'airfrance', 'cellular', 'chemical', 'except', 'monopoly', 'coming', 'screenshot', 'sandwhich', 'flut', 'observed', 'glasswar', 'ranging', 'suitcases', 'threatening', 'moment', 'aerial', 'uses', 'garage', 'pic', 'greasy', 'examines', 'record', 'aircraft', 'furniture', 'cakes', 'bathing', 'bandanna', 'meters', 'benched', 'seriously', 'jungl', 'speaker', 'browsing', 'nap', 'workers', 'rectangular', 'side', 'jean', 'peel', 'candles', 'young', 'browni', 'vineyard', 'teh', 'partly', 'limb', 'loving', 'processing', 'pavements', 'cobbler', 'skyline', 'peacocks', 'flatbread', 'duck', 'ronald', 'slowly', 'fit', 'skiis', 'sesame', 'nipple', 'pound', 'blues', 'tricks', 'jetliner', 'lapel', 'absolutley', 'bikini', 'har', 'shutt', 'wood', 'winddow', 'steer', 'health', 'southwest', 'owner', 'flattened', 'films', 'converse', 'kicks', 'soldiers', 'casserole', 'slying', 'offic', 'cup', 'restuar', 'rainbow', 'bikes', 'privaci', 'skillet', 'actress', 'surfboard', 'raising', 'wii', 'paid', 'concealed', 'cart', 'guy', 'sanding', 'climbing', 'patchy', 'observing', 'yacht', 'deflating', 'marshmallows', 'half', 'tuxedo', 'civil', 'attire', 'sill', 'shade', 'spider', 'lama', 'trapez', 'riving', 'organizing', 'change', 'squid', 'thriving', 'racks', 'poses', 'brief', 'bends', 'named', 'goat', 'suspenders', 'rid', 'decal', 'patty', 'counters', 'flipped', 'peeks', 'mossy', 'dropkick', 'traveler', 'transport', 'smokey', 'uhaul', 'naval', 'necktie', 'blueberries', 'south', 'socializing', 'venu', 'dome', 'served', 'called', 'tiger', 'cooked', 'italy', 'striping', 'convent', 'cherries', 'reading', 'conducts', 'ray', 'choppy', 'quarter', 'bump', 'campfir', 'probably', 'ditch', 'bangladesh', 'purs', 'everyone', 'collar', 'alter', 'interstate', 'sand', 'olive', 'sweetheart', 'measuring', 'splits', 'announcer', 'keeps', 'fe', 'manly', 'foreign', 'blad', 'car', 'picker', 'men', 'tablet', 'pounc', 'motorbike', 'tomatoes', 'whipped', 'utensils', 'people', 'scary', 'experiencing', 'formation', 'soar', 'full', 'somewhere', 'scaffolding', 'grips', 'dishwasher', 'turquoise', 'tackled', 'flow', 'restrain', 'thing', 'pumps', 'heard', 'snowsuits', 'loan', 'dropping', 'blue', 'clapping', 'rose', 'brother', 'beach', 'precariously', 'manuevers', 'supermarket', 'tampa', 'hot', 'ate', 'logs', 'observ', 'owl', 'windsurfer', 'perfect', 'cheer', 'jackets', 'bridled', 'finish', 'parking', 'lanes', 'decked', 'bunch', 'theater', 'derby', 'fight', 'ladle', 'frisbe', 'schoolchildren', 'live', 'pertained', 'chests', 'storm', 'ultralight', 'windsurfing', 'sleeveless', 'weeds', 'jeans', 'dam', 'means', 'purse', 'extends', 'grand', 'band', 'comic', 'salon', 'harbor', 'swamp', 'cathay', 'lower', 'freezer', 'magic', 'paddock', 'characters', 'erect', 'aged', 'hockey', 'slides', 'ebook', 'towards', 'picked', 'bruce', 'loui', 'dropped', 'mates', 'diesel', 'pag', 'stooped', 'minister', 'chases', 'compartment', 'pouring', 'filthy', 'miniatures', 'rice', 'using', 'possibly', 'plowing', 'kitti', 'meal', 'dad', 'motorcycl', 'buzz', 'glowing', 'litt', 'elev', 'featuring', 'piece', 'rel', 'unit', 'brushed', 'seagull', 'negative', 'sideline', 'entertain', 'plaid', 'slic', 'assortment', 'natur', 'saucers', 'cute', 'biker', 'desolate', 'barbecue', 'renaissance', 'fielder', 'remaining', 'offering', 'monorail', 'crepes', 'pocket', 'frontier', 'bangs', 'graff', 'trapped', 'boar', 'motorcycle', 'yawns', 'shoving', 'charcoal', 'hp', 'photograph', 'speeding', 'glob', 'kites', 'plastic', 'go', 'planks', 'shitting', 'intricately', 'un', 'saf', 'birds', 'placing', 'transavia', 'observes', 'carnival', 'wet', 'farmers', 'fabric', 'beautiful', 'flute', 'erectly', 'sausag', 'titling', 'motorcad', 'german', 'veggie', 'debri', 'fender', 'mulitcolored', 'fireman', 'microwav', 'verant', 'swim', 'femal', 'fastbal', 'offici', 'bagel', 'preforming', 'kit', 'glider', 'train', 'black', 'cable', 'int', 'guns', 'snowbank', 'skeleton', 'healthy', 'fully', 'wtih', 'mosqu', 'pottery', 'deserts', 'lor', 'bristol', 'places', 'hotel', 'treats', 'white', 'fouling', 'performing', 'muffin', 'purol', 'hearty', 'graze', 'docking', 'togas', 'site', 'medal', 'onanism', 'boom', 'lakers', 'keyboards', 'faucets', 'motorcycles', 'stemmed', 'ankle', 'submerged', 'fron', 'trampoline', 'launch', 'mud', 'skiier', 'electronic', 'transported', 'winds', 'moire', 'lit', 'cartoon', 'money', 'lapful', 'participates', 'forest', 'bluff', 'porsche', 'glasses', 'device', 'crocheted', 'settler', 'wallet', 'sakter', 'seen', 'pepole', 'speech', 'vacuum', 'illustration', 'clause', 'wax', 'motorboat', 'spacious', 'mostly', 'bik', 'suitcase', 'marketplac', 'belt', 'trays', 'tard', 'jockies', 'peach', 'tent', 'farms', 'crowd', 'navigating', 'pro', 'pets', 'hips', 'lufthansa', 'celebratory', 'riding', 'travels', 'whoever', 'multistory', 'goes', 'cylinders', 'movi', 'rainless', 'backhand', 'compare', 'toothbrush', 'letters', 'sandy', 'bodyboard', 'phon', 'tattoo', 'solve', 'roped', 'dirty', 'stoage', 'harvesting', 'fur', 'cruise', 'partitioned', 'wipeout', 'artisan', 'big', 'clive', 'nursing', 'trains', 'items', 'lids', 'stretching', 'sticky', 'surround', 'sample', 'yard', 'fal', 'colorful', 'olympic', 'daddi', 'stor', 'wares', 'pensive', 'tv', 'telling', 'makes', 'gath', 'hump', 'used', 'sprinkl', 'potential', 'sewing', 'beachgo', 'reriger', 'downtown', 'enters', 'layered', 'gets', 'mint', 'fierce', 'shark', 'thatched', 'fashioned', 'store', 'frise', 'atop', 'retired', 'junct', 'snout', 'nestled', 'cupcakes', 'frizbe', 'broken', 'trek', 'looking', 'better', 'pillar', 'statues', 'finger', 'move', 'bakes', 'reagan', 'trolley', 'runway', 'boulder', 'photoshopped', 'embracing', 'field', 'suctioned', 'gives', 'outskirts', 'back', 'filling', 'threw', 'coveralls', 'fallen', 'tan', 'appears', 'alcohol', 'green', 'aprons', 'graf', 'straddling', 'bratwurst', 'filter', 'calls', 'ice', 'stairs', 'stirring', 'villa', 'smoothi', 'organized', 'biplane', 'cottonwood', 'pl', 'bu', 'leaf', 'napkin', 'stoplights', 'developing', 'bicyclists', 'hairdryer', 'mass', 'threat', 'crouched', 'emaciated', 'pies', 'wineri', 'tights', 'series', 'strapped', 'version', 'pizzas', 'caption', 'downstairs', 'area', 'rac', 'canopi', 'collect', 'whispy', 'workspace', 'necessary', 'umpir', 'approaches', 'department', 'curr', 'international', 'kicking', 'teenaged', 'patrol', 'gloomy', 'macbook', 'household', 'crusts', 'chocolates', 'flaggers', 'ski', 'strol', 'vine', 'funnel', 'haircut', 'headscarves', 'wand', 'terrier', 'broke', 'sheep', 'surfer', 'blurred', 'game', 'electronics', 'add', 'microphone', 'donkeys', 'lagoon', 'raining', 'pillow', 'peeking', 'pair', 'patterned', 'sunbathers', 'wing', 'free', 'fruit', 'cucumbers', 'zon', 'soldi', 'suspension', 'gentle', 'spokes', 'shin', 'donuts', 'representation', 'bank', 'icy', 'regal', 'couches', 'pokes', 'refreiger', 'angry', 'fixing', 'spewing', 'wear', 'hoagie', 'bandage', 'disrupt', 'diners', 'miser', 'wool', 'onions', 'onlook', 'constructional', 'overpass', 'wreck', 'lamp', 'patch', 'orange', 'useful', 'railed', 'crib', 'streamers', 'fly', 'chest', 'emits', 'eats', 'brain', 'century', 'shallow', 'actors', 'stun', 'projector', 'among', 'thru', 'ladi', 'mature', 'candle', 'oth', 'duffle', 'buffet', 'straightening', 'flipp', 'hedges', 'speak', 'stylishly', 'middl', 'gaming', 'frond', 'penalty', 'fitted', 'sunexpress', 'pinstripe', 'distorted', 'sparklers', 'post', 'screened', 'enclosed', 'send', 'togeth', 'taking', 'statue', 'signing', 'tome', 'volleybal', 'chilli', 'appet', 'floating', 'bunny', 'hoodi', 'snowplow', 'coastlin', 'wearing', 'ridding', 'frirnd', 'mariner', 'raw', 'mascot', 'face', 'twisted', 'god', 'fold', 'boardshorts', 'hallway', 'sway', 'gigantic', 'snack', 'styled', 'platter', 'dudley', 'sale', 'dayb', 'much', 'splashes', 'equestrian', 'peoples', 'okapi', 'onlookers', 'stalk', 'performers', 'rakett', 'beam', 'graduate', 'separating', 'expansive', 'telephon', 'c', 'desks', 'angled', 'loung', 'sneaking', 'camper', 'waffl', 'share', 'fowl', 'rails', 'graduation', 'freez', 'circular', 'bustling', 'jpg', 'cover', 'streaking', 'king', 'kabob', 'overcast', 'sugar', 'vintag', 'lobster', 'dugout', 'munching', 'oppon', 'skidding', 'extremely', 'funded', 'outerwear', 'seattle', 'watering', 'depict', 'deal', 'selling', 'opening', 'pickle', 'grizzly', 'customers', 'templar', 'moderately', 'mooring', 'graffias', 'readies', 'peeling', 'employe', 'surpris', 'laying', 'vlue', 'analog', 'iraq', 'marching', 'atria', 'gap', 'surf', 'advantage', 'chess', 'tossed', 'skying', 'lays', 'colors', 'plants', 'inks', 'oin', 'zinc', 'buckingham', 'picnicking', 'masked', 'sash', 'cloudy', 'bits', 'bitter', 'powered', 'buttons', 'flaps', 'feed', 'military', 'balcony', 'leaves', 'chefs', 'apples', 'shades', 'sprays', 'alleyway', 'branches', 'pointed', 'students', 'macaws', 'vote', 'lampost', 'sweaters', 'reduce', 'cricket', 'displays', 'balance', 'price', 'ordering', 'flurry', 'weird', 'cubes', 'oakland', 'smeared', 'littie', 'write', 'calves', 'type', 'finds', 'metallic', 'rod', 'chat', 'last', 'trails', 'earlier', 'paragliding', 'airliners', 'chubby', 'surfers', 'silhouetted', 'apartment', 'snowboarder', 'texting', 'spreading', 'ceremonial', 'wint', 'girl', 'studies', 'forestry', 'forested', 'bullpen', 'individuals', 'pzza', 'arabic', 'loaf', 'coat', 'livin', 'rows', 'holster', 'fire', 'citgo', 'depot', 'strapping', 'blow', 'cheese', 'presidents', 'sky', 'triple', 'paying', 'hairless', 'cage', 'fell', 'eyed', 'british', 'pink', 'utilitarian', 'five', 'press', 'offshor', 'faced', 'carous', 'kimonos', 'dodge', 'g', 'trimmed', 'waits', 'convey', 'hidden', 'factory', 'cyclist', 'sneaker', 'vendors', 'falling', 'planing', 'shutting', 'brush', 'lightly', 'plans', 'guarding', 'waring', 'sideburn', 'dancer', 'overview', 'point', 'bellowing', 'handing', 'uniforms', 'japanese', 'wait', 'brilliantly', 'exercises', 'york', 'messy', 'striking', 'cloth', 'chopper', 'forces', 'lasso', 'sterling', 'waxing', 'ayi', 'day', 'basil', 'beverage', 'carpeted', 'seaplane', 'skimpy', 'pew', 'hooded', 'mark', 'peeing', 'surprised', 'bakery', 'exercise', 'sunrise', 'captured', 'great', 'continues', 'dishes', 'put', 'prosthetic', 'commuters', 'flies', 'includes', 'figurine', 'necks', 'pelican', 'frisb', 'enthusiastically', 'antique', 'elbow', 'checkered', 'kinds', 'lifting', 'wraps', 'monitor', 'express', 'phones', 'shred', 'bomb', 'crow', 'cleans', 'bunni', 'contrast', 'automobile', 'playing', 'ferrari', 'spaghetti', 'boston', 'ready', 'owls', 'cookers', 'compensate', 'manipulated', 'rolled', 'kingdom', 'pong', 'assisting', 'concentrating', 'catering', 'safety', 'mp', 'krispy', 'pacifier', 'imag', 'denotes', 'made', 'cab', 'rings', 'fisheye', 'gauges', 'catches', 'ads', 'petted', 'peeps', 'stained', 'outstretch', 'floors', 'footbal', 'visiting', 'interviewed', 'toothbrushes', 'beers', 'hope', 'sas', 'mirror', 'pure', 'screen', 'pedley', 'idyllic', 'lettuc', 'feeder', 'break', 'encompassing', 'cooki', 'coats', 'group', 'receives', 'forefront', 'squadron', 'winged', 'posted', 'squats', 'directly', 'monument', 'pitchers', 'busi', 'tower', 'peaking', 'faded', 'topiary', 'patrons', 'guided', 'dog', 'pawing', 'dolly', 'stadium', 'baskets', 'swirl', 'whichn', 'sprinkle', 'skul', 'kilt', 'fashion', 'rocking', 'entrance', 'lens', 'anyone', 'corral', 'chopsticks', 'strawberries', 'differ', 'miniature', 'plaza', 'sledge', 'wreaking', 'pul', 'box', 'draped', 'adorned', 'champagne', 'surveying', 'cattle', 'floral', 'motoring', 'tre', 'bray', 'lucky', 'headpiece', 'doodling', 'handstand', 'googl', 'berry', 'casino', 'rendering', 'soccerbal', 'keep', 'swimwear', 'sick', 'mean', 'stret', 'sprinkled', 'chang', 'mangoing', 'vision', 'snowy', 'skull', 'well', 'gas', 'pause', 'buster', 'narrow', 'squinting', 'shorn', 'pavement', 'slide', 'attempt', 'bad', 'terri', 'holw', 'toasting', 'oj', 'advising', 'spilling', 'wind', 'umbrellaed', 'vista', 'crust', 'panning', 'casually', 'telephone', 'infield', 'fascin', 'wrapp', 'krispee', 'humongous', 'homemade', 'crouching', 'balancing', 'celebration', 'hoses', 'personal', 'crois', 'candlelight', 'bronco', 'corraled', 'acurly', 'swimming', 'decoration', 'arm', 'swat', 'glides', 'leans', 'comb', 'draw', 'bakgropund', 'suitcas', 'pac', 'meat', 'runner', 'pulling', 'corrected', 'els', 'sunny', 'extra', 'clydesdale', 'jeweled', 'satellite', 'giddy', 'streaks', 'year', 'guitars', 'bites', 'class', 'stationary', 'scattered', 'weed', 'warmers', 'sofas', 'av', 'numbered', 'doggy', 'watches', 'confidently', 'boxers', 'bodyboarding', 'american', 'community', 'pads', 'human', 'quickly', 'married', 'conclusion', 'ages', 'birdcage', 'barb', 'jay', 'console', 'niki', 'envrio', 'barn', 'ripple', 'hip', 'socc', 'alon', 'meanwhil', 'manu', 'possible', 'progression', 'rests', 'greeting', 'fry', 'flamingo', 'sauce', 'skinny', 'dr', 'automatic', 'coking', 'kissing', 'noses', 'somewhat', 'hurdl', 'uncooked', 'snow', 'evil', 'khaki', 'pacific', 'anime', 'paddleboard', 'gestures', 'flame', 'fail', 'faces', 'awnings', 'merchants', 'snowsuit', 'gondola', 'vicinity', 'grabs', 'spreads', 'fro', 'roosters', 'assume', 'canary', 'crossbon', 'sharpen', 'oman', 'backed', 'arcad', 'portraying', 'skiies', 'though', 'apart', 'collars', 'objects', 'years', 'looked', 'shawl', 'repairs', 'swung', 'drown', 'shopping', 'ajar', 'entourage', 'rain', 'snooping', 'raging', 'freight', 'avoid', 'liner', 'restraunt', 'unleash', 'chuck', 'disney', 'falls', 'pecks', 'comput', 'exiting', 'materi', 'bucnh', 'bails', 'board', 'hauling', 'profile', 'slop', 'hoodie', 'kayak', 'develop', 'rapids', 'crafts', 'trainyard', 'hardware', 'clogging', 'enough', 'cuddling', 'shorts', 'farther', 'furnitur', 'yellow', 'hundreds', 'spikes', 'hole', 'wholesale', 'bulldozer', 'clutt', 'joined', 'gothic', 'crying', 'vegetation', 'creating', 'comically', 'grap', 'underground', 'sloping', 'either', 'clay', 'stormy', 'bases', 'illuminates', 'invisible', 'pane', 'stout', 'middle', 'crate', 'coupl', 'cereal', 'ascending', 'rustic', 'pomeranian', 'rummage', 'kitten', 'crows', 'rns', 'skiers', 'polaroid', 'giants', 'life', 'completely', 'cucumb', 'dedicated', 'themselv', 'tied', 'vintage', 'streaked', 'engine', 'illuminated', 'manueverin', 'engaged', 'forehand', 'carelessly', 'greeneri', 'flowerpot', 'cones', 'designated', 'selfish', 'bett', 'colt', 'fighting', 'age', 'braid', 'steering', 'lighthouse', 'bicycles', 'give', 'coach', 'softball', 'barely', 'feasting', 'differently', 'allowed', 'cellphones', 'roan', 'nathan', 'tone', 'grassland', 'mouth', 'toilets', 'outfield', 'signs', 'cocks', 'service', 'talking', 'song', 'packag', 'strong', 'master', 'wut', 'multiple', 'mantel', 'skatepark', 'kempt', 'presenting', 'fits', 'roll', 'pinching', 'amazingly', 'party', 'pours', 'parasols', 'far', 'strands', 'purpl', 'papers', 'slopes', 'grass', 'elderly', 'doberman', 'cycling', 'cats', 'flagstone', 'rifl', 'enveloping', 'rushing', 'pedestal', 'fabr', 'stabbing', 'snarl', 'page', 'hut', 'local', 'scenes', 'placemat', 'maid', 'turbulent', 'hungry', 'somewher', 'nearest', 'plain', 'mattress', 'runaway', 'dour', 'deli', 'tape', 'partygo', 'markets', 'alaska', 'decorating', 'rider', 'airlplan', 'urban', 'persons', 'spaces', 'overlooks', 'story', 'signals', 'pretty', 'travelling', 'raised', 'mustache', 'decor', 'smartphon', 'coast', 'clip', 'wher', 'label', 'locomotive', 'combination', 'string', 'currently', 'mouses', 'martial', 'zooms', 'refriger', 'glass', 'ancient', 'sist', 'brav', 'bushels', 'ropes', 'alongside', 'carrot', 'classroom', 'grouped', 'texing', 'door', 'sit', 'highest', 'aimed', 'inching', 'leash', 'tabletop', 'rowboats', 'driving', 'trough', 'rec', 'slot', 'viewed', 'flowerb', 'reacts', 'stir', 'appl', 'tea', 'trailers', 'hairbrush', 'carting', 'started', 'burnt', 'cradling', 'street', 'georgetown', 'packages', 'slipp', 'mix', 'foyer', 'trench', 'walls', 'see', 'tempestuous', 'hatch', 'individual', 'venue', 'products', 'child', 'flea', 'babies', 'shrimp', 'forks', 'aisl', 'stopping', 'bend', 'assembled', 'publ', 'flowering', 'hr', 'sleeping', 'expanse', 'circle', 'shipping', 'hours', 'draft', 'cobweb', 'bard', 'drum', 'fries', 'hors', 'pulled', 'odd', 'plays', 'resembling', 'dusk', 'senior', 'gated', 'herd', 'semi', 'gradual', 'patrick', 'growing', 'tall', 'pastries', 'srfer', 'plank', 'anchor', 'located', 'spiral', 'reli', 'ever', 'jar', 'cubs', 'sees', 'mechanism', 'attending', 'embrac', 'ride', 'sweatshirt', 'snapshot', 'tummy', 'climber', 'jetlin', 'hatcher', 'facade', 'tents', 'darth', 'bathtub', 'trim', 'added', 'bankers', 'dhl', 'sleek', 'glassware', 'matted', 'pinging', 'pancakes', 'construct', 'tightly', 'buzzards', 'muscular', 'directs', 'lettering', 'trying', 'slice', 'road', 'attendant', 'clears', 'pig', 'serve', 'brave', 'potti', 'marked', 'ban', 'pain', 'carriag', 'away', 'relax', 'folks', 'closed', 'clouded', 'airstrip', 'photo', 'vader', 'city', 'coaster', 'skyteam', 'camouflage', 'splash', 'craft', 'hipsters', 'rackets', 'dazzling', 'colored', 'vane', 'religious', 'pastri', 'empty', 'hugging', 'including', 'bowling', 'lone', 'patter', 'frisby', 'notepad', 'bakers', 'grape', 'scratching', 'footlong', 'happen', 'parkway', 'infamous', 'goods', 'brides', 'mountain', 'reflected', 'mother', 'snooz', 'flops', 'server', 'suited', 'walks', 'backs', 'trekking', 'picking', 'fancy', 'seabird', 'mill', 'ballpark', 'sow', 'placed', 'actor', 'history', 'destin', 'blankets', 'storage', 'giraffes', 'unimaginable', 'attracts', 'hotdogs', 'iron', 'mounted', 'twin', 'crew', 'family', 'termin', 'bell', 'viewer', 'east', 'generated', 'grey', 'formal', 'sprinkles', 'cat', 'quantity', 'dry', 'competing', 'learns', 'ganging', 'race', 'soaring', 'barriers', 'clean', 'smoking', 'rest', 'multicolored', 'racquets', 'bleach', 'baters', 'saluting', 'jammed', 'description', 'exposure', 'snowboard', 'videogame', 'ledg', 'newspap', 'mosaic', 'straining', 'cheesecak', 'grill', 'deserted', 'dj', 'downhil', 'club', 'coffe', 'motorized', 'clasps', 'foraging', 'hom', 'pleasant', 'snowboards', 'paws', 'comes', 'performance', 'fives', 'kiwi', 'suits', 'cubicle', 'corgy', 'shish', 'durfer', 'deckered', 'footbridg', 'collis', 'devices', 'various', 'convenient', 'talks', 'conveyer', 'giraff', 'dinn', 'cr', 'penguin', 'conductor', 'tavern', 'skateboarders', 'pajama', 'unmade', 'warcraft', 'tim', 'cane', 'rig', 'teams', 'waists', 'drinks', 'instructs', 'scenic', 'scooters', 'warns', 'outfit', 'limit', 'seafood', 'differing', 'breast', 'vacant', 'chef', 'thes', 'reins', 'sightse', 'cribs', 'festival', 'sumo', 'approached', 'imitating', 'milking', 'flashes', 'material', 'glove', 'countri', 'drins', 'know', 'lobby', 'giraffe', 'defac', 'times', 'geisha', 'shooter', 'recycl', 'flipping', 'factori', 'sniffs', 'kitty', 'returning', 'soon', 'knickknacks', 'sport', 'building', 'hangar', 'focused', 'affect', 'frisbee', 'cinnamon', 'throw', 'daytim', 'napping', 'extending', 'litte', 'adjustable', 'fixed', 'lock', 'sl', 'kettle', 'public', 'lemonade', 'slushy', 'watched', 'asphalt', 'else', 'painted', 'passengers', 'ubuntu', 'cok', 'insid', 'handheld', 'foliag', 'char', 'good', 'laughs', 'piano', 'medium', 'alle', 'wel', 'cotton', 'jelly', 'giant', 'sittign', 'opposite', 'one', 'display', 'tamer', 'seagul', 'wanting', 'hand', 'jalapeno', 'bath', 'tickets', 'bordering', 'sowing', 'preparing', 'diverse', 'galloping', 'interacting', 'basket', 'leap', 'strip', 'daughter', 'easel', 'props', 'blurri', 'strike', 'hoov', 'gr', 'unstable', 'oriental', 'pole', 'notes', 'clear', 'stuck', 'stroll', 'surboard', 'animated', 'gathered', 'shore', 'pagoda', 'grouping', 'nail', 'joyfully', 'drag', 'roomful', 'lincoln', 'seagulls', 'get', 'combs', 'airlin', 'salmon', 'throughout', 'stocking', 'bamboo', 'retriever', 'positive', 'la', 'badly', 'widow', 'bearded', 'cog', 'shwon', 'tour', 'waters', 'epizza', 'staircas', 'sideview', 'fueled', 'tighty', 'trots', 'spanish', 'attentive', 'wtha', 'sprinkling', 'lining', 'explain', 'super', 'nasa', 'bucket', 'rundown', 'mushroom', 'cookie', 'axle', 'afternoon', 'reflective', 'bicyclist', 'lime', 'lobbi', 'gravel', 'spools', 'shell', 'mountains', 'usual', 'champagn', 'surrounds', 'crosses', 'protest', 'given', 'arena', 'lizard', 'mohawk', 'nam', 'ladybug', 'control', 'jersies', 'easier', 'photographed', 'painters', 'asain', 'bake', 'clutches', 'chili', 'lei', 'fair', 'slid', 'ans', 'ga', 'slab', 'slider', 'ambulance', 'order', 'skaters', 'others', 'pigmented', 'outdoors', 'postcard', 'sailing', 'din', 'quaint', 'thin', 'bie', 'beaked', 'watching', 'inches', 'table', 'powdered', 'backwards', 'contemplatively', 'intent', 'muzzle', 'projected', 'performed', 'tigers', 'pips', 'naps', 'rob', 'doors', 'milkshak', 'cuts', 'handsome', 'happening', 'likes', 'sunbath', 'gutted', 'skis', 'barrack', 'attack', 'bricked', 'sofa', 'playinmg', 'skills', 'receiving', 'exchange', 'monu', 'knocked', 'dumpster', 'webcam', 'logo', 'inside', 'christ', 'outer', 'lead', 'wall', 'typing', 'diorama', 'paddl', 'nostalgic', 'produce', 'push', 'kiteboard', 'receipt', 'clump', 'motel', 'sepia', 'riv', 'pepp', 'amidst', 'modern', 'eiffel', 'kitchen', 'beginning', 'spurts', 'blocked', 'squar', 'imposing', 'involved', 'shapes', 'playa', 'tank', 'character', 'stick', 'crumbly', 'becomes', 'toa', 'roller', 'b', 'setup', 'numbers', 'villaraigosa', 'completing', 'attract', 'ton', 'kind', 'renov', 'rocket', 'figures', 'skateboard', 'concret', 'texts', 'chips', 'swaddled', 'arrang', 'technical', 'backpocker', 'poodle', 'pi', 'got', 'elevated', 'flutter', 'dirt', 'code', 'celebr', 'overseeing', 'library', 'elaborate', 'staying', 'adjusts', 'showroom', 'coveted', 'selection', 'china', 'steel', 'condi', 'meandering', 'banners', 'forklift', 'drainage', 'forc', 'tractor', 'freely', 'shown', 'competitive', 'opposites', 'stitched', 'cola', 'packaged', 'truch', 'booz', 'slight', 'caricature', 'interssect', 'commuter', 'propellors', 'flips', 'hillside', 'wage', 'meatball', 'chikd', 'corralled', 'pres', 'mic', 'text', 'fill', 'cant', 'crepe', 'woods', 'mote', 'pugs', 'stay', 'operated', 'pancake', 'nearbi', 'tug', 'pushed', 'skyp', 'elevator', 'rocks', 'skin', 'shines', 'gravely', 'seats', 'think', 'shotgun', 'shops', 'reclining', 'victorious', 'sauerkraut', 'operates', 'paper', 'cabin', 'rigger', 'inner', 'bunk', 'daniels', 'done', 'aiming', 'quartet', 'chao', 'fixins', 'correct', 'gushing', 'briefcase', 'gun', 'restaraunt', 'boyfriend', 'spirit', 'charlie', 'nypd', 'played', 'cuddled', 'punch', 'folded', 'trolly', 'nearby', 'australia', 'puzzle', 'headed', 'conducting', 'sister', 'lego', 'troll', 'youth', 'headring', 'smokes', 'steps', 'spir', 'sweeps', 'pol', 'nurs', 'indow', 'costume', 'rise', 'separate', 'quite', 'magnets', 'homeless', 'foamy', 'music', 'peers', 'beneath', 'boarding', 'patiently', 'tasted', 'reporters', 'yield', 'blondes', 'tracks', 'medic', 'rescu', 'rescue', 'shoestr', 'sw', 'eva', 'july', 'focus', 'anticipation', 'scrubs', 'messing', 'blind', 'cabs', 'horn', 'chestnut', 'snowflak', 'cone', 'flys', 'elbows', 'triangular', 'poss', 'deer', 'curving', 'ridden', 'attempting', 'footed', 'dollar', 'confers', 'luxury', 'citizens', 'tablecloth', 'pace', 'donut', 'cobble', 'nazi', 'sword', 'fireplace', 'loading', 'butt', 'dock', 'hummingbird', 'jack', 'reclines', 'styl', 'catcher', 'alto', 'rabbit', 'windy', 'purple', 'iridescent', 'iphone', 'ticket', 'depicted', 'braces', 'creatur', 'art', 'flames', 'soldier', 'finishing', 'sliding', 'barell', 'hatchback', 'pamphlet', 'cityscape', 'bmw', 'smart', 'panorama', 'hos', 'operating', 'hilding', 'leav', 'frying', 'muslim', 'sking', 'custome', 'remain', 'french', 'home', 'racer', 'nut', 'shoved', 'segment', 'recognizing', 'stairwell', 'alley', 'smiley', 'golf', 'hikers', 'seashor', 'wi', 'bicycl', 'panti', 'london', 'night', 'several', 'dude', 'crowding', 'friend', 'fingers', 'hairdry', 'tossing', 'marri', 'unseen', 'runs', 'directions', 'pistol', 'blur', 'planning', 'heir', 'livering', 'bedroom', 'frown', 'platting', 'appli', 'stray', 'skateboad', 'launching', 'selections', 'streaming', 'today', 'listed', 'iamge', 'crouches', 'filled', 'labeled', 'neckti', 'enraptur', 'backward', 'cell', 'subway', 'walled', 'asia', 'id', 'banist', 'world', 'suprised', 'nunchuk', 'flamingos', 'balconi', 'hijab', 'shoulder', 'positioned', 'like', 'stuffing', 'skateboards', 'stripes', 'tempura', 'singing', 'buld', 'dreadlocks', 'surface', 'negotiating', 'clothed', 'canadian', 'softbal', 'surfing', 'paddles', 'suburban', 'ribbons', 'sightseeing', 'buidling', 'obstructs', 'bowl', 'smok', 'brindled', 'distantly', 'flares', 'reclin', 'parasailers', 'impressive', 'budweiser', 'selfie', 'snowed', 'billiards', 'rekela', 'sized', 'fixated', 'bust', 'pliers', 'dummies', 'cables', 'skii', 'thew', 'sports', 'tarp', 'shake', 'slim', 'chill', 'spectator', 'diner', 'idol', 'indicating', 'drap', 'winn', 'plaqu', 'drink', 'kiteboarding', 'anti', 'employees', 'joining', 'would', 'low', 'plume', 'balone', 'seniors', 'e', 'sock', 'plug', 'geometric', 'steepl', 'earth', 'theres', 'kettl', 'lcd', 'juice', 'bridl', 'social', 'shorelin', 'tee', 'customized', 'parasail', 'admiring', 'steaming', 'graz', 'shamrock', 'racquet', 'chairs', 'animals', 'transporting', 'muscles', 'companions', 'courtside', 'bud', 'bite', 'proceeding', 'scooping', 'agricultural', 'excited', 'controllers', 'photographic', 'wandering', 'greet', 'season', 'head', 'lazy', 'sheared', 'tails', 'parka', 'examined', 'toothpaste', 'demonic', 'tournament', 'umbrellas', 'jars', 'girls', 'projection', 'griddle', 'spect', 'modified', 'canopies', 'enlisted', 'pray', 'brand', 'empti', 'fronting', 'horizon', 'accepting', 'yspace', 'claw', 'stuffed', 'expos', 'biking', 'trombone', 'mountian', 'bovine', 'minute', 'yogurt', 'undoes', 'taken', 'uncommonly', 'hangs', 'lilac', 'starts', 'billows', 'areas', 'salesman', 'pictures', 'look', 'spaceman', 'roundabout', 'bikinis', 'cold', 'talk', 'sunris', 'reads', 'accessories', 'collection', 'bicycle', 'territori', 'tommy', 'fluffy', 'man', 'kernel', 'skirt', 'shrubbery', 'listens', 'enter', 'sk', 'appointed', 'flags', 'halfheartedly', 'treelin', 'underwear', 'equip', 'inspect', 'volcano', 'flavor', 'rays', 'pictur', 'shower', 'care', 'pears', 'boogie', 'mannequins', 'truncks', 'skyscrap', 'vw', 'metropolitan', 'ham', 'shape', 'spoons', 'balls', 'block', 'deep', 'hanger', 'stages', 'topping', 'contrasts', 'debris', 'tusks', 'around', 'presentations', 'gust', 'tusted', 'eggs', 'havoc', 'rock', 'show', 'battleship', 'harness', 'fording', 'suv', 'skiiing', 'enclosur', 'knifed', 'verve', 'drain', 'unhappy', 'affixed', 'images', 'doctors', 'coke', 'shoppers', 'prepare', 'scal', 'mal', 'bug', 'woman', 'chocolate', 'hospitalized', 'hamma', 'signage', 'costumes', 'probabably', 'walkways', 'signal', 'horns', 'us', 'credits', 'rimmed', 'bars', 'cloesd', 'private', 'ample', 'mens', 'digitally', 'farmer', 'advertisement', 'kingfisher', 'remote', 'surprizing', 'uniformed', 'pasta', 'letter', 'bitumen', 'plastered', 'masonry', 'rowing', 'protector', 'chops', 'drawers', 'kickstand', 'dot', 'new', 'flatb', 'freeze', 'mopped', 'emote', 'vertical', 'heads', 'watersking', 'quilt', 'boogey', 'hillsid', 'pumping', 'generations', 'may', 'bentley', 'eu', 'pasture', 'banquet', 'belong', 'surge', 'observer', 'mann', 'knol', 'pepsi', 'skateboarding', 'lapse', 'tire', 'midair', 'pract', 'mini', 'sculptur', 'torch', 'nighttime', 'bouquet', 'footprints', 'granite', 'exercising', 'retro', 'minutes', 'positions', 'monk', 'posts', 'boiling', 'moving', 'siting', 'skyward', 'expectantly', 'english', 'fame', 'run', 'product', 'watery', 'feet', 'perimeter', 'whoa', 'soldering', 'lunch', 'airforce', 'coupe', 'ignoring', 'europ', 'thos', 'pizza', 'lacrosse', 'avocadoes', 'smashing', 'icing', 'tong', 'taller', 'roses', 'tip', 'restaurants', 'tipping', 'shakes', 'underhand', 'longboard', 'palm', 'cleat', 'lodge', 'stov', 'floret', 'pumpkins', 'israeli', 'card', 'fixin', 'biere', 'set', 'tell', 'snowmen', 'maiden', 'environmental', 'everywhere', 'groceries', 'parrots', 'pit', 'campbell', 'baseball', 'captive', 'roasting', 'someon', 'lin', 'pc', 'spice', 'urinals', 'peacock', 'overlook', 'improbably', 'someones', 'shap', 'bunt', 'toilet', 'blaz', 'turkey', 'toast', 'umbrella', 'tweez', 'leaping', 'properti', 'magazine', 'teeth', 'racehorse', 'bounces', 'foal', 'caged', 'airpane', 'spire', 'decrative', 'upon', 'flavored', 'dozen', 'appearing', 'getting', 'pinches', 'chees', 'mexico', 'trot', 'gringing', 'tissue', 'pen', 'lamb', 'barefooted', 'bathroom', 'shav', 'rhode', 'shakespeare', 'following', 'transports', 'competition', 'hung', 'plast', 'smashed', 'grinder', 'fingertip', 'celery', 'funny', 'flowing', 'searching', 'helmets', 'wakeboard', 'stops', 'curved', 'feather', 'windshields', 'coal', 'vehicl', 'ok', 'curtains', 'zipping', 'eateri', 'yummy', 'clothes', 'armed', 'f', 'propellor', 'file', 'place', 'helps', 'airplan', 'grocery', 'parachut', 'entering', 'ornamental', 'walking', 'shaving', 'sheets', 'says', 'carts', 'salutes', 'reach', 'provides', 'passenger', 'platform', 'crane', 'sunset', 'bartend', 'upskirt', 'touring', 'oar', 'nic', 'wispy', 'beds', 'sparkling', 'sho', 'grove', 'architectural', 'cooks', 'lipstick', 'surfboarder', 'electrical', 'adoring', 'fighter', 'replenishing', 'alone', 'sinks', 'geek', 'pin', 'digging', 'shirted', 'vis', 'cal', 'seat', 'jungle', 'sniffing', 'parti', 'pati', 'end', 'arrangement', 'cheep', 'host', 'athletes', 'featur', 'anywhere', 'bedspread', 'content', 'dresses', 'battery', 'bundle', 'thorny', 'amusement', 'lip', 'leaks', 'crop', 'chasing', 'headlights', 'fifteen', 'teacup', 'corned', 'roma', 'lady', 'overpasses', 'stunt', 'blu', 'toys', 'propping', 'postur', 'attempted', 'foxes', 'ave', 'mobil', 'plating', 'uncovered', 'remove', 'h', 'sun', 'obeying', 'without', 'union', 'se', 'scaffold', 'nintendo', 'sunshine', 'charm', 'force', 'wheeler', 'fascinated', 'panda', 'marker', 'alligator', 'chopp', 'peering', 'nightlight', 'hour', 'workout', 'alin', 'captain', 'loc', 'cafe', 'couples', 'drove', 'bacon', 'poeple', 'blade', 'tasking', 'taped', 'wal', 'wiimote', 'del', 'finchingfield', 'biscuit', 'fedex', 'surfboards', 'oven', 'necklace', 'visit', 'volkswagon', 'connected', 'tows', 'parliament', 'hawk', 'engages', 'hall', 'jumps', 'handling', 'shaded', 'horned', 'part', 'multe', 'calico', 'weath', 'residential', 'dreads', 'halved', 'asphault', 'need', 'rally', 'unusually', 'garmin', 'another', 'watermelons', 'haz', 'kawasaki', 'hitter', 'ferri', 'artsy', 'sails', 'clearing', 'wrapped', 'cross', 'quizzically', 'basted', 'sour', 'buoyant', 'handlebar', 'rail', 'easy', 'stre', '[PAD]', 'cer', 'chicago', 'landscap', 'armoire', 'fighters', 'toshiba', 'legged', 'oracle', 'inspects', 'tripods', 'lap', 'preperation', 'services', 'tenni', 'croc', 'hol', 'oncoming', 'pieces', 'adopted', 'tips', 'dim', 'cupcak', 'practicing', 'geese', 'island', 'missed', 'fashionable', 'snowshoes', 'holding', 'shadowed', 'pos', 'chlid', 'ona', 'process', 'grafitti', 'vests', 'festiv', 'garbage', 'cut', 'fetish', 'fileed', 'analyzing', 'tiptoes', 'matt', 'struggles', 'blown', 'shift', 'gift', 'hunting', 'church', 'handle', 'butterfli', 'towers', 'soap', 'sleep', 'check', 'professionals', 'bringing', 'pot', 'ion', 'vancouver', 'tennis', 'al', 'truckb', 'tourism', 'overshadowed', 'barred', 'attach', 'lighting', 'cag', 'puffy', 'booth', 'contains', 'cockpit', 'extreme', 'cathedral', 'dealership', 'taxi', 'shredding', 'smokestack', 'cracker', 'themed', 'manequins', 'competit', 'inthe', 'perching', 'surgical', 'basketball', 'staring', 'gazing', 'huge', 'bricks', 'peopl', 'walked', 'fixtur', 'unknown', 'officers', 'colorfully', 'fetch', 'coil', 'restored', 'pondering', 'cate', 'tending', 'palace', 'begins', 'shepherd', 'modernized', 'clim', 'racket', 'sub', 'columns', 'thats', 'drawing', 'scoot', 'earmarks', 'landing', 'brigade', 'bomber', 'chewed', 'helicopter', 'hula', 'interior', 'waste', 'substance', 'photographs', 'internet', 'goo', 'hauler', 'visitor', 'judge', 'fern', 'salad', 'groceri', 'bags', 'suite', 'accolades', 'holes', 'notic', 'lif', 'kerri', 'accents', 'studi', 'parachuting', 'twentieth', 'hold', 'belgium', 'screw', 'arrett', 'sandwich', 'thief', 'trailing', 'edmonton', 'flashing', 'happy', 'grasscovered', 'beachgoers', 'backseat', 'meanders', 'cobblestones', 'studying', 'peafowl', 'waling', 'poised', 'poodl', 'dip', 'pathway', 'silhouettes', 'relief', 'gown', 'whle', 'swords', 'kittens', 'taco', 'springtim', 'rd', 'conversation', 'junction', 'situated', 'cream', 'tvs', 'kitchenette', 'artwork', 'neon', 'finished', 'males', 'stacked', 'trailer', 'cub', 'nearly', 'duffel', 'ducks', 'rage', 'shooting', 'shrine', 'belly', 'many', 'plungers', 'cake', 'airborne', 'direct', 'octopus', 'tattered', 'motocross', 'canisters', 'industrial', 'took', 'lancashir', 'mot', 'falafel', 'leaguer', 'color', 'answer', 'gym', 'medals', 'pimp', 'lan', 'hosed', 'california', 'smil', 'dimly', 'breakfast', 'glassy', 'harper', 'windsurfs', 'lsu', 'kneading', 'players', 'sporting', 'vertically', 'librari', 'pools', 'loop', 'banister', 'jester', 'slippery', 'frolic', 'mug', 'lapels', 'jumbo', 'bunts', 'vert', 'slippers', 'yonng', 'bookcase', 'pallet', 'coins', 'sneaks', 'checking', 'abat', 'scantily', 'fish', 'executes', 'lien', 'promenad', 'furry', 'cycle', 'railway', 'fins', 'ericsson', 'scarecrow', 'cycles', 'early', 'tools', 'cherry', 'cowboys', 'brandy', 'wine', 'corona', 'vandalized', 'arriving', 'mounds', 'chrome', 'lambs', 'teddy', 'baked', 'grainy', 'pyramids', 'member', 'denoting', 'blades', 'grasses', 'gates', 'enforcement', 'magnifying', 'command', 'signag', 'soil', 'hoof', 'wires', 'motorcyclists', 'liberty', 'demonstrating', 'atmospher', 'capable', 'outstanding', 'ball', 'arab', 'signed', 'sparse', 'writing', 'mor', 'bulid', 'paraglider', 'stylish', 'modifgied', 'afloat', 'state', 'wildlif', 'chair', 'teenage', 'treadmil', 'throws', 'wooler', 'greyyellow', 'crossed', 'booster', 'buses', 'paintings', 'stripped', 'cuddles', 'buck', 'tig', 'losing', 'licking', 'grinds', 'driveway', 'toddler', 'photography', 'hitches', 'takes', 'footage', 'digital', 'mango', 'unfinished', 'dolls', 'artist', 'festive', 'jail', 'crests', 'crookedly', 'bumping', 'gauchos', 'afro', 'carriages', 'greek', 'pigeon', 'readi', 'bartender', 'motorcylc', 'pplaying', 'pressure', 'blurry', 'algae', 'caserole', 'ornately', 'cak', 'patient', 'boardroom', 'cobbled', 'semitrailer', 'herselg', 'caut', 'refrigerator', 'dragging', 'gaily', 'mixture', 'rowboat', 'bat', 'steadying', 'costumed', 'river', 'orchard', 'flight', 'doz', 'turning', 'drive', 'luggages', 'intense', 'scoreboard', 'playfully', 'prepared', 'model', 'beyond', 'strips', 'divided', 'books', 'microphon', 'wheeled', 'pus', 'wmakret', 'bring', 'collected', 'mussel', 'star', 'serves', 'sidecar', 'book', 'tilted', 'alliance', 'tundra', 'barrels', 'olives', 'terrain', 'computers', 'solders', 'via', 'policeman', 'skulls', 'strings', 'heavy', 'assembly', 'line', 'ana', 'stare', 'cork', 'docked', 'replica', 'parlor', 'meats', 'pots', 'bind', 'trappist', 'bigger', 'clue', 'civilians', 'gam', 'small', 'waterfall', 'grayish', 'funky', 'pony', 'skatebaord', 'orioles', 'skieing', 'louis', 'guide', 'roast', 'courtroom', 'settlers', 'picks', 'lion', 'gather', 'ol', 'vehicles', 'upclose', 'eating', 'launches', 'cassette', 'cleaned', 'filing', 'aqua', 'skating', 'batman', 'step', 'swings', 'chopping', 'restaurant', 'rural', 'sittig', 'cgi', 'delicacy', 'nicely', 'ostriches', 'wallpaper', 'pigeons', 'pristine', 'come', 'buffalo', 'clown', 'smalls', 'teen', 'texas', 'tray', 'sailboats', 'badges', 'swing', 'icebox', 'flying', 'organization', 'utah', 'entry', 'wheel', 'intersect', 'clocktow', 'wetsuits', 'vans', 'pedals', 'fulled', 'fields', 'squat', 'slay', 'admire', 'hits', 'patriotic', 'style', 'towering', 'smiles', 'cattl', 'medieval', 'jets', 'cruising', 'space', 'dips', 'neath', 'pride', 'sunflowers', 'flowers', 'murals', 'outside', 'buildings', 'armor', 'camp', 'embedded', 'remains', 'bordered', 'late', 'produc', 'era', 'chested', 'floatboard', 'sanwich', 'downward', 'pan', 'cloud', 'erson', 'traveling', 'friends', 'jug', 'dragged', 'adjoining', 'strawberri', 'dust', 'intensely', 'ship', 'trophi', 'vanity', 'wrapper', 'grassin', 'wonder', 'childs', 'program', 'feelings', 'soccer', 'narrowly', 'link', 'curvy', 'mustachioed', 'drib', 'best', 'mare', 'veget', 'riversid', 'welcome', 'googley', 'denim', 'cap', 'nurses', 'retail', 'worn', 'winter', 'position', 'relaxing', 'photographing', 'rare', 'spray', 'shaved', 'tricycle', 'shoes', 'grasping', 'leaned', 'darkened', 'devic', 'tortoiseshell', 'airplane', 'language', 'gifts', 'bracelets', 'concrete', 'bought', 'leavened', 'aside', 'rent', 'seeing', 'podium', 'boxcar', '[UNK]', 'companion', 'barber', 'towels', 'maintaining', 'pajamas', 'winchester', 'layer', 'bagpip', 'groomed', 'archway', 'mcclellan', 'eagl', 'inspected', 'barbwire', 'checks', 'foodstuffs', 'nuts', 'support', 'animal', 'roaming', 'facility', 'panels', 'buckets', 'gril', 'west', 'acrossed', 'crashes', 'br', 'underneat', 'country', 'spoke', 'privacy', 'dvd', 'contrapt', 'esplanade', 'wed', 'every', 'pointing', 'musician', 'hydr', 'fix', 'sapphire', 'ch', 'work', 'opens', 'brown', 'wooded', 'purchas', 'feeds', 'oversize', 'lesson', 'confus', 'awn', 'works', 'rockers', 'sideway', 'goofy', 'saying', 'domed', 'outsid', 'vas', 'hiking', 'ikea', 'ansett', 'engin', 'possessing', 'worried', 'junked', 'melon', 'stereo', 'wman', 'iceland', 'wrinkley', 'greenhous', 'sharply', 'devoted', 'flaming', 'wedding', 'streak', 'flood', 'chcoolate', 'umbrells', 'solid', 'cityscap', 'isles', 'jump', 'tilting', 'organize', 'technology', 'manning', 'leafless', 'futon', 'fan', 'berri', 'gulls', 'luncheon', 'pointer', 'sportsmen', 'cran', 'states', 'gondala', 'departur', 'summer', 'polka', 'backdrop', 'tests', 'edited', 'pull', 'pastry', 'hawks', 'ribbon', 'plates', 'outhouse', 'rising', 'tiered', 'lands', 'pumpkin', 'squirrel', 'pecking', 'number', 'ethier', 'whale', 'cutting', 'docor', 'women', 'jewelry', 'split', 'wonderland', 'consisting', 'storefronts', 'sidewalks', 'bookshelv', 'boarders', 'skylin', 'cutter', 'birthday', 'dancing', 'hair', 'hang', 'saddled', 'fenced', 'cellar', 'pants', 'raindrops', 'enjoy', 'theat', 'densely', 'tidily', 'key', 'blvd', 'whitehat', 'lash', 'varieties', 'candl', 'pepperoni', 'foothil', 'boats', 'dribbles', 'links', 'skiiers', 'anniversary', 'fixes', 'railroad', 'celebrates', 'rooster', 'heart', 'younger', 'sigh', 'lie', 'commanding', 'staples', 'blend', 'comfortable', 'wore', 'ben', 'leg', 'obvious', 'partition', 'emitting', 'checkout', 'toned', 'incoming', 'things', 'herb', 'catchers', 'fireplac', 'roman', 'submarine', 'baggag', 'disabled', 'browns', 'parkng', 'washing', 'front', 'pack', 'ramp', 'congregate', 'surfs', 'skate', 'starting', 'win', 'confusing', 'tagging', 'garbag', 'swans', 'cards', 'doubles', 'sorts', 'hanging', 'begging', 'notice', 'running', 'frisbees', 'distant', 'crook', 'sunken', 'lighter', 'underneath', 'spatula', 'emphatically', 'plac', 'container', 'creme', 'monster', 'ballplayer', 'tipped', 'usa', 'gymnasium', 'strolling', 'bold', 'mop', 'speaks', 'catch', 'charg', 'russian', 'bashed', 'hello', 'tires', 'wings', 'toe', 'approach', 'straddles', 'shearing', 'root', 'transparent', 'hear', 'examining', 'moves', 'pourig', 'parachute', 'trolleys', 'travelers', 'perched', 'region', 'whisk', 'film', 'ferry', 'nigh', 'izod', 'overgrown', 'pelicans', 'spectators', 'machineri', 'rapid', 'shirt', 'kneel', 'sifters', 'ramps', 'rop', 'headgear', 'safeti', 'law', 'caffe', 'business', 'l', 'exchanging', 'instructions', 'mountainous', 'beard', 'handler', 'worthy', 'ponies', 'gorilla', 'blocking', 'desert', 'vacation', 'athlete', 'bulls', 'dalmatian', 'cantaloupe', 'tutus', 'nest', 'custom', 'symbol', 'pie', 'gathering', 'pictured', 'magazines', 'setting', 'matter', 'peaches', 'reaching', 'overloaded', 'intimate', 'ston', 'featured', 'groupd', 'hood', 'escal', 'raft', 'course', 'cottag', 'caught', 'webb', 'present', 'warded', 'froyo', 'families', 'trophy', 'slatted', 'zombies', 'coca', 'cheers', 'chick', 'swiveling', 'chop', 'tag', 'hawaiian', 'lovely', 'lean', 'bones', 'tow', 'crates', 'shad', 'wildly', 'fest', 'ones', 'wielding', 'closet', 'going', 'mid', 'frames', 'officer', 'length', 'lively', 'skyscrapers', 'collector', 'estate', 'compani', 'ping', 'sourc', 'anchovy', 'automat', 'beans', 'scout', 'marsh', 'tonight', 'roadside', 'asian', 'mischievously', 'booty', 'acting', 'father', 'steamed', 'soda', 'sexy', 'boating', 'bands', 'kiteboards', 'wrote', 'caned', 'mickey', 'cocker', 'countrysid', 'scarf', 'shields', 'handled', 'brushes', 'leaving', 'sink', 'special', 'sheet', 'mess', 'artistic', 'paste', 'england', 'milkshake', 'tucked', 'breed', 'ris', 'veil', 'parts', 'breadsticks', 'spins', 'brightly', 'pitch', 'kick', 'picnic', 'labels', 'royal', 'cops', 'height', 'aisleway', 'kneels', 'leading', 'horseback', 'guiding', 'stucco', 'cheesy', 'bottom', 'scrapp', 'colnett', 'journalists', 'strange', 'simple', 'damaged', 'notebook', 'sweater', 'kitties', 'vines', 'rusty', 'release', 'marina', 'puddle', 'elephants', 'cast', 'cop', 'aviator', 'bored', 'parasailer', 'lonely', 'wir', 'skateborder', 'gone', 'policemen', 'staff', 'pictogram', 'claim', 'u', 'abed', 'snacks', 'straw', 'adjusting', 'sombrero', 'forming', 'expressing', 'hooked', 'dressage', 'eaten', 'sushi', 'nude', 'bubble', 'tosses', 'rockwel', 'attacking', 'sea', 'older', 'seuss', 'barefoot', 'complete', 'drawer', 'mad', 'ic', 'stands', 'fourth', 'babi', 'tux', 'ballcap', 'female', 'salsa', 'helicopt', 'magnificent', 'compart', 'found', 'rub', 'lorry', 'members', 'explaining', 'amodel', 'surfboarding', 'navigates', 'fridge', 'doll', 'stoplight', 'silly', 'wading', 'models', 'yp', 'aligned', 'dicing', 'uniform', 'constructing', 'loft', 'wheelchairs', 'pineapples', 'slope', 'tomato', 'cautiously', 'grumpy', 'masks', 'stream', 'tal', 'turf', 'awkwardly', 'lamps', 'leak', 'handicapped', 'outstretched', 'mcdonald', 'infant', 'sweet', 'fing', 'boogiebody', 'heated', 'cups', 'anoth', 'con', 'collies', 'shots', 'dummy', 'land', 'oh', 'wig', 'stand', 'clearly', 'hamburgers', 'blood', 'toaster', 'closeup', 'casual', 'writ', 'accessori', 'protected', 'squatting', 'auto', 'breaking', 'challenge', 'tinfoil', 'base', 'kerry', 'waterfront', 'needed', 'overlaid', 'dinosaur', 'appliances', 'news', 'gathers', 'careful', 'crowded', 'paneling', 'mell', 'karaoke', 'novelty', 'contain', 'gradd', 'xar', 'vin', 'surrounded', 'app', 'electric', 'horse', 'fundrais', 'bye', 'ocean', 'los', 'lades', 'shiny', 'womans', 'flapping', 'later', 'uphill', 'wharf', 'skid', 'hipster', 'two', 'walkway', 'wonders', 'acc', 'button', 'juic', 'dist', 'skyping', 'hertz', 'copying', 'arrive', 'picure', 'presentation', 'utilizing', 'rubbing', 'mans', 'wetsuit', 'roadsid', 'roadway', 'globs', 'held', 'crack', 'frosting', 'dinner', 'steady', 'slew', 'food', 'mittin', 'paymets', 'teachers', 'shining', 'vortex', 'clasping', 'balances', 'crushed', 'casts', 'classical', 'violin', 'websit', 'printer', 'calculator', 'diamond', 'moored', 'midst', 'tap', 'disembodied', 'pav', 'use', 'coral', 'charged', 'rout', 'spoon', 'largely', 'gentlemen', 'dramatic', 'beware', 'canyon', 'looks', 'backpacks', 'sav', 'woma', 'urge', 'peaceful', 'opera', 'breathtak', 'dignitary', 'changing', 'difficult', 'tops', 'spin', 'str', 'america', 'advanced', 'slices', 'laptops', 'barge', 'eleph', 'fluffed', 'upward', 'ceramic', 'bears', 'francisco', 'coached', 'desgin', 'pal', 'barding', 'rope', 'balloon', 'turned', 'fac', 'granddaughter', 'majestically', 'pat', 'habitat', 'capital', 'historical', 'pointy', 'sort', 'pauses', 'thrown', 'lions', 'decorated', 'med', 'goalie', 'watch', 'forground', 'covering', 'stylized', 'emergency', 'respected', 'walnuts', 'collie', 'really', 'lift', 'tiny', 'maneuv', 'print', 'heron', 'hats', 'drums', 'vespa', 'decorations', 'motorcyclist', 'centerpiece', 'saddlebags', 'sleeve', 'speakers', 'seeking', 'aroung', 'punts', 'frosted', 'tolls', 'posit', 'teo', 'amount', 'cement', 'north', 'selfi', 'luggag', 'dipped', 'googly', 'cardboard', 'carried', 'rigs', 'tin', 'jeep', 'shepherded', 'curtain', 'lots', 'droplets', 'scavengers', 'pennant', 'dairy', 'goggles', 'window', 'headboard', 'coloring', 'establishments', 'breaks', 'meeting', 'despondent', 'tricycl', 'halfpip', 'carpet', 'roadwork', 'beverages', 'upside', 'homosexual', 'stares', 'jeff', 'mixer', 'bleak', 'selecting', 'reflection', 'particip', 'stepping', 'rickety', 'marine', 'spotted', 'ruck', 'open', 'cock', 'grilled', 'chin', 'starbucks', 'exposing', 'metal', 'market', 'transit', 'princess', 'paperwork', 'gooey', 'stuf', 'japan', 'drills', 'flailing', 'th', 'built', 'lecture', 'learning', 'waggon'}\n",
      "Unique words: 7330\n"
     ]
    }
   ],
   "source": [
    "# Initialise vocabulary including padding and unknown word tokens\n",
    "# Is end of sentence needed? '[EOS]'\n",
    "vocabulary = set(['[PAD]', '[UNK]'])\n",
    "\n",
    "for tokens in train[\"Tokens\"]:\n",
    "  vocabulary.update(tokens)\n",
    "\n",
    "print(vocabulary)\n",
    "print('Unique words:', len(vocabulary))"
   ]
  },
  {
   "cell_type": "code",
   "execution_count": 42,
   "metadata": {},
   "outputs": [],
   "source": [
    "dictionary = {}\n",
    "idToDictionary = {}\n",
    "for idx, word in enumerate(vocabulary):\n",
    "  dictionary[word] = idx\n",
    "  idToDictionary[idx] = word\n",
    "\n",
    "# print(dictionary)"
   ]
  },
  {
   "cell_type": "code",
   "execution_count": 43,
   "metadata": {},
   "outputs": [],
   "source": [
    "# Add dictionary IDs column to dataframe\n",
    "def addDictionaryIds(tokens):\n",
    "    ids = []\n",
    "    for token in tokens:\n",
    "      if token in dictionary:\n",
    "        ids.append(dictionary[token])\n",
    "      else:\n",
    "        ids.append(dictionary['[UNK]'])\n",
    "    return ids"
   ]
  },
  {
   "cell_type": "code",
   "execution_count": 44,
   "metadata": {},
   "outputs": [],
   "source": [
    "train['DictionaryIds'] = train['Tokens'].apply(addDictionaryIds)"
   ]
  },
  {
   "cell_type": "code",
   "execution_count": 45,
   "metadata": {},
   "outputs": [],
   "source": [
    "def addTokenPadding(tokens):\n",
    "  padding = maxTokenLength - len(tokens)\n",
    "  return tokens + padding*[dictionary['[PAD]']]"
   ]
  },
  {
   "cell_type": "code",
   "execution_count": 46,
   "metadata": {},
   "outputs": [
    {
     "data": {
      "text/html": [
       "<div>\n",
       "<style scoped>\n",
       "    .dataframe tbody tr th:only-of-type {\n",
       "        vertical-align: middle;\n",
       "    }\n",
       "\n",
       "    .dataframe tbody tr th {\n",
       "        vertical-align: top;\n",
       "    }\n",
       "\n",
       "    .dataframe thead th {\n",
       "        text-align: right;\n",
       "    }\n",
       "</style>\n",
       "<table border=\"1\" class=\"dataframe\">\n",
       "  <thead>\n",
       "    <tr style=\"text-align: right;\">\n",
       "      <th></th>\n",
       "      <th>ImageID</th>\n",
       "      <th>Labels</th>\n",
       "      <th>Caption</th>\n",
       "      <th>Tokens</th>\n",
       "      <th>LabelIds</th>\n",
       "      <th>EncodedLabels</th>\n",
       "      <th>DictionaryIds</th>\n",
       "      <th>TokensWithPadding</th>\n",
       "    </tr>\n",
       "  </thead>\n",
       "  <tbody>\n",
       "    <tr>\n",
       "      <th>0</th>\n",
       "      <td>0.jpg</td>\n",
       "      <td>[1]</td>\n",
       "      <td>Woman in swim suit holding parasol on sunny day.</td>\n",
       "      <td>[woman, swim, suit, holding, parasol, sunny, day]</td>\n",
       "      <td>[0]</td>\n",
       "      <td>[[1.0, 0.0, 0.0, 0.0, 0.0, 0.0, 0.0, 0.0, 0.0,...</td>\n",
       "      <td>[5585, 3373, 2573, 5996, 1653, 4194, 3972]</td>\n",
       "      <td>[5585, 3373, 2573, 5996, 1653, 4194, 3972, 596...</td>\n",
       "    </tr>\n",
       "    <tr>\n",
       "      <th>1</th>\n",
       "      <td>1.jpg</td>\n",
       "      <td>[1, 19]</td>\n",
       "      <td>A couple of men riding horses on top of a gree...</td>\n",
       "      <td>[couple, men, riding, horses, top, green, field]</td>\n",
       "      <td>[0, 17]</td>\n",
       "      <td>[[1.0, 0.0, 0.0, 0.0, 0.0, 0.0, 0.0, 0.0, 0.0,...</td>\n",
       "      <td>[686, 3191, 3469, 1495, 1671, 3569, 3557]</td>\n",
       "      <td>[686, 3191, 3469, 1495, 1671, 3569, 3557, 5967...</td>\n",
       "    </tr>\n",
       "    <tr>\n",
       "      <th>2</th>\n",
       "      <td>2.jpg</td>\n",
       "      <td>[1]</td>\n",
       "      <td>They are brave for riding in the jungle on tho...</td>\n",
       "      <td>[brave, riding, jungle, eleph]</td>\n",
       "      <td>[0]</td>\n",
       "      <td>[[1.0, 0.0, 0.0, 0.0, 0.0, 0.0, 0.0, 0.0, 0.0,...</td>\n",
       "      <td>[4626, 3469, 5842, 7205]</td>\n",
       "      <td>[4626, 3469, 5842, 7205, 5967, 5967, 5967, 596...</td>\n",
       "    </tr>\n",
       "    <tr>\n",
       "      <th>3</th>\n",
       "      <td>3.jpg</td>\n",
       "      <td>[8, 3, 13]</td>\n",
       "      <td>a black and silver clock tower at an intersect...</td>\n",
       "      <td>[black, silver, clock, tower, intersection, ne...</td>\n",
       "      <td>[7, 2, 11]</td>\n",
       "      <td>[[0.0, 0.0, 0.0, 0.0, 0.0, 0.0, 0.0, 0.0, 0.0,...</td>\n",
       "      <td>[3382, 2619, 855, 4078, 599, 2688, 4116]</td>\n",
       "      <td>[3382, 2619, 855, 4078, 599, 2688, 4116, 5967,...</td>\n",
       "    </tr>\n",
       "    <tr>\n",
       "      <th>4</th>\n",
       "      <td>4.jpg</td>\n",
       "      <td>[8, 3, 7]</td>\n",
       "      <td>A train coming to a stop on the tracks out side.</td>\n",
       "      <td>[train, coming, stop, tracks, sid]</td>\n",
       "      <td>[7, 2, 6]</td>\n",
       "      <td>[[0.0, 0.0, 0.0, 0.0, 0.0, 0.0, 0.0, 0.0, 0.0,...</td>\n",
       "      <td>[3381, 3016, 2562, 5217, 1532]</td>\n",
       "      <td>[3381, 3016, 2562, 5217, 1532, 5967, 5967, 596...</td>\n",
       "    </tr>\n",
       "  </tbody>\n",
       "</table>\n",
       "</div>"
      ],
      "text/plain": [
       "  ImageID      Labels                                            Caption  \\\n",
       "0   0.jpg         [1]   Woman in swim suit holding parasol on sunny day.   \n",
       "1   1.jpg     [1, 19]  A couple of men riding horses on top of a gree...   \n",
       "2   2.jpg         [1]  They are brave for riding in the jungle on tho...   \n",
       "3   3.jpg  [8, 3, 13]  a black and silver clock tower at an intersect...   \n",
       "4   4.jpg   [8, 3, 7]   A train coming to a stop on the tracks out side.   \n",
       "\n",
       "                                              Tokens    LabelIds  \\\n",
       "0  [woman, swim, suit, holding, parasol, sunny, day]         [0]   \n",
       "1   [couple, men, riding, horses, top, green, field]     [0, 17]   \n",
       "2                     [brave, riding, jungle, eleph]         [0]   \n",
       "3  [black, silver, clock, tower, intersection, ne...  [7, 2, 11]   \n",
       "4                 [train, coming, stop, tracks, sid]   [7, 2, 6]   \n",
       "\n",
       "                                       EncodedLabels  \\\n",
       "0  [[1.0, 0.0, 0.0, 0.0, 0.0, 0.0, 0.0, 0.0, 0.0,...   \n",
       "1  [[1.0, 0.0, 0.0, 0.0, 0.0, 0.0, 0.0, 0.0, 0.0,...   \n",
       "2  [[1.0, 0.0, 0.0, 0.0, 0.0, 0.0, 0.0, 0.0, 0.0,...   \n",
       "3  [[0.0, 0.0, 0.0, 0.0, 0.0, 0.0, 0.0, 0.0, 0.0,...   \n",
       "4  [[0.0, 0.0, 0.0, 0.0, 0.0, 0.0, 0.0, 0.0, 0.0,...   \n",
       "\n",
       "                                DictionaryIds  \\\n",
       "0  [5585, 3373, 2573, 5996, 1653, 4194, 3972]   \n",
       "1   [686, 3191, 3469, 1495, 1671, 3569, 3557]   \n",
       "2                    [4626, 3469, 5842, 7205]   \n",
       "3    [3382, 2619, 855, 4078, 599, 2688, 4116]   \n",
       "4              [3381, 3016, 2562, 5217, 1532]   \n",
       "\n",
       "                                   TokensWithPadding  \n",
       "0  [5585, 3373, 2573, 5996, 1653, 4194, 3972, 596...  \n",
       "1  [686, 3191, 3469, 1495, 1671, 3569, 3557, 5967...  \n",
       "2  [4626, 3469, 5842, 7205, 5967, 5967, 5967, 596...  \n",
       "3  [3382, 2619, 855, 4078, 599, 2688, 4116, 5967,...  \n",
       "4  [3381, 3016, 2562, 5217, 1532, 5967, 5967, 596...  "
      ]
     },
     "execution_count": 46,
     "metadata": {},
     "output_type": "execute_result"
    }
   ],
   "source": [
    "train['TokensWithPadding'] = train['DictionaryIds'].apply(addTokenPadding)\n",
    "train.head()"
   ]
  },
  {
   "cell_type": "code",
   "execution_count": 47,
   "metadata": {},
   "outputs": [
    {
     "data": {
      "text/html": [
       "<div>\n",
       "<style scoped>\n",
       "    .dataframe tbody tr th:only-of-type {\n",
       "        vertical-align: middle;\n",
       "    }\n",
       "\n",
       "    .dataframe tbody tr th {\n",
       "        vertical-align: top;\n",
       "    }\n",
       "\n",
       "    .dataframe thead th {\n",
       "        text-align: right;\n",
       "    }\n",
       "</style>\n",
       "<table border=\"1\" class=\"dataframe\">\n",
       "  <thead>\n",
       "    <tr style=\"text-align: right;\">\n",
       "      <th></th>\n",
       "      <th>ImageID</th>\n",
       "      <th>Caption</th>\n",
       "      <th>Tokens</th>\n",
       "      <th>DictionaryIds</th>\n",
       "      <th>TokensWithPadding</th>\n",
       "    </tr>\n",
       "  </thead>\n",
       "  <tbody>\n",
       "    <tr>\n",
       "      <th>0</th>\n",
       "      <td>30000.jpg</td>\n",
       "      <td>A little girl waring a krispy kreme hat holdin...</td>\n",
       "      <td>[little, girl, waring, krispy, kreme, hat, hol...</td>\n",
       "      <td>[1162, 3897, 3950, 4033, 1057, 53, 5996, 4108,...</td>\n",
       "      <td>[1162, 3897, 3950, 4033, 1057, 53, 5996, 4108,...</td>\n",
       "    </tr>\n",
       "    <tr>\n",
       "      <th>1</th>\n",
       "      <td>30001.jpg</td>\n",
       "      <td>A beautiful young woman holding an orange fris...</td>\n",
       "      <td>[beautiful, young, woman, holding, orange, fri...</td>\n",
       "      <td>[3359, 3051, 5585, 5996, 3685, 3246]</td>\n",
       "      <td>[3359, 3051, 5585, 5996, 3685, 3246, 5967, 596...</td>\n",
       "    </tr>\n",
       "    <tr>\n",
       "      <th>2</th>\n",
       "      <td>30002.jpg</td>\n",
       "      <td>A group of people sitting on couch next to a c...</td>\n",
       "      <td>[group, people, sitting, couch, next, coffee]</td>\n",
       "      <td>[4067, 3198, 2469, 2364, 0, 1705]</td>\n",
       "      <td>[4067, 3198, 2469, 2364, 0, 1705, 5967, 5967, ...</td>\n",
       "    </tr>\n",
       "    <tr>\n",
       "      <th>3</th>\n",
       "      <td>30003.jpg</td>\n",
       "      <td>A person on a snowboard rides on the hill.</td>\n",
       "      <td>[person, snowboard, rides, hil]</td>\n",
       "      <td>[1736, 4729, 1782, 2242]</td>\n",
       "      <td>[1736, 4729, 1782, 2242, 5967, 5967, 5967, 596...</td>\n",
       "    </tr>\n",
       "    <tr>\n",
       "      <th>4</th>\n",
       "      <td>30004.jpg</td>\n",
       "      <td>A man riding a skateboard with a helmet on in ...</td>\n",
       "      <td>[man, riding, skateboard, helmet, con]</td>\n",
       "      <td>[5519, 3469, 5077, 2275, 7071]</td>\n",
       "      <td>[5519, 3469, 5077, 2275, 7071, 5967, 5967, 596...</td>\n",
       "    </tr>\n",
       "  </tbody>\n",
       "</table>\n",
       "</div>"
      ],
      "text/plain": [
       "     ImageID                                            Caption  \\\n",
       "0  30000.jpg  A little girl waring a krispy kreme hat holdin...   \n",
       "1  30001.jpg  A beautiful young woman holding an orange fris...   \n",
       "2  30002.jpg  A group of people sitting on couch next to a c...   \n",
       "3  30003.jpg         A person on a snowboard rides on the hill.   \n",
       "4  30004.jpg  A man riding a skateboard with a helmet on in ...   \n",
       "\n",
       "                                              Tokens  \\\n",
       "0  [little, girl, waring, krispy, kreme, hat, hol...   \n",
       "1  [beautiful, young, woman, holding, orange, fri...   \n",
       "2      [group, people, sitting, couch, next, coffee]   \n",
       "3                    [person, snowboard, rides, hil]   \n",
       "4             [man, riding, skateboard, helmet, con]   \n",
       "\n",
       "                                       DictionaryIds  \\\n",
       "0  [1162, 3897, 3950, 4033, 1057, 53, 5996, 4108,...   \n",
       "1               [3359, 3051, 5585, 5996, 3685, 3246]   \n",
       "2                  [4067, 3198, 2469, 2364, 0, 1705]   \n",
       "3                           [1736, 4729, 1782, 2242]   \n",
       "4                     [5519, 3469, 5077, 2275, 7071]   \n",
       "\n",
       "                                   TokensWithPadding  \n",
       "0  [1162, 3897, 3950, 4033, 1057, 53, 5996, 4108,...  \n",
       "1  [3359, 3051, 5585, 5996, 3685, 3246, 5967, 596...  \n",
       "2  [4067, 3198, 2469, 2364, 0, 1705, 5967, 5967, ...  \n",
       "3  [1736, 4729, 1782, 2242, 5967, 5967, 5967, 596...  \n",
       "4  [5519, 3469, 5077, 2275, 7071, 5967, 5967, 596...  "
      ]
     },
     "execution_count": 47,
     "metadata": {},
     "output_type": "execute_result"
    }
   ],
   "source": [
    "# Setup test data\n",
    "\n",
    "# Get test CSV dataframe\n",
    "test = extractDataFrame('data/test.csv')\n",
    "\n",
    "# Tokenise\n",
    "test['Tokens'] = test['Caption'].apply(tokenise)\n",
    "# Apply dictionary IDs\n",
    "test['DictionaryIds'] = test['Tokens'].apply(addDictionaryIds)\n",
    "# Add padding\n",
    "test['TokensWithPadding'] = test['DictionaryIds'].apply(addTokenPadding)\n",
    "\n",
    "test.head()"
   ]
  },
  {
   "cell_type": "code",
   "execution_count": 48,
   "metadata": {},
   "outputs": [],
   "source": [
    "train.to_csv('./processed-data/train.csv')\n",
    "test.to_csv('./processed-data/test.csv')"
   ]
  },
  {
   "cell_type": "code",
   "execution_count": 52,
   "metadata": {},
   "outputs": [
    {
     "name": "stdout",
     "output_type": "stream",
     "text": [
      "<class 'float'>\n"
     ]
    }
   ],
   "source": [
    "print(type(train['EncodedLabels'][0][0][0]))"
   ]
  }
 ],
 "metadata": {
  "kernelspec": {
   "display_name": "base",
   "language": "python",
   "name": "python3"
  },
  "language_info": {
   "codemirror_mode": {
    "name": "ipython",
    "version": 3
   },
   "file_extension": ".py",
   "mimetype": "text/x-python",
   "name": "python",
   "nbconvert_exporter": "python",
   "pygments_lexer": "ipython3",
   "version": "3.11.5"
  }
 },
 "nbformat": 4,
 "nbformat_minor": 2
}
