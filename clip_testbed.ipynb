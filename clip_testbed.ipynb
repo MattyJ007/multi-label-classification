{
 "cells": [
  {
   "cell_type": "code",
   "execution_count": 11,
   "metadata": {},
   "outputs": [
    {
     "name": "stdout",
     "output_type": "stream",
     "text": [
      "Unexpected exception formatting exception. Falling back to standard exception\n"
     ]
    },
    {
     "name": "stderr",
     "output_type": "stream",
     "text": [
      "Traceback (most recent call last):\n",
      "  File \"C:\\Users\\eoinp\\AppData\\Roaming\\Python\\Python310\\site-packages\\traitlets\\traitlets.py\", line 656, in get\n",
      "KeyError: 'layout'\n",
      "\n",
      "During handling of the above exception, another exception occurred:\n",
      "\n",
      "Traceback (most recent call last):\n",
      "  File \"C:\\Users\\eoinp\\AppData\\Roaming\\Python\\Python310\\site-packages\\IPython\\core\\interactiveshell.py\", line 3460, in run_code\n",
      "    exec(code_obj, self.user_global_ns, self.user_ns)\n",
      "  File \"<ipython-input-11-5208ac7d82ed>\", line 6, in <module>\n",
      "    processor = AutoProcessor.from_pretrained(\"openai/clip-vit-base-patch32\")\n",
      "  File \"c:\\Users\\eoinp\\anaconda3\\lib\\site-packages\\transformers\\models\\auto\\processing_auto.py\", line 209, in from_pretrained\n",
      "    preprocessor_config_file = get_file_from_repo(\n",
      "  File \"c:\\Users\\eoinp\\anaconda3\\lib\\site-packages\\transformers\\utils\\hub.py\", line 545, in get_file_from_repo\n",
      "    return cached_file(\n",
      "  File \"c:\\Users\\eoinp\\anaconda3\\lib\\site-packages\\transformers\\utils\\hub.py\", line 417, in cached_file\n",
      "    resolved_file = hf_hub_download(\n",
      "  File \"c:\\Users\\eoinp\\anaconda3\\lib\\site-packages\\huggingface_hub\\utils\\_validators.py\", line 118, in _inner_fn\n",
      "    return fn(*args, **kwargs)\n",
      "  File \"c:\\Users\\eoinp\\anaconda3\\lib\\site-packages\\huggingface_hub\\file_download.py\", line 1364, in hf_hub_download\n",
      "    http_get(\n",
      "  File \"c:\\Users\\eoinp\\anaconda3\\lib\\site-packages\\huggingface_hub\\file_download.py\", line 533, in http_get\n",
      "    progress = tqdm(\n",
      "  File \"c:\\Users\\eoinp\\anaconda3\\lib\\site-packages\\huggingface_hub\\utils\\tqdm.py\", line 132, in __init__\n",
      "    super().__init__(*args, **kwargs)\n",
      "  File \"c:\\Users\\eoinp\\anaconda3\\lib\\site-packages\\tqdm\\notebook.py\", line 238, in __init__\n",
      "    self.container = self.status_printer(self.fp, total, self.desc, self.ncols)\n",
      "  File \"c:\\Users\\eoinp\\anaconda3\\lib\\site-packages\\tqdm\\notebook.py\", line 115, in status_printer\n",
      "    pbar = IProgress(min=0, max=total)\n",
      "  File \"c:\\Users\\eoinp\\anaconda3\\lib\\site-packages\\ipywidgets\\widgets\\widget_float.py\", line 26, in __init__\n",
      "    super().__init__(**kwargs)\n",
      "  File \"c:\\Users\\eoinp\\anaconda3\\lib\\site-packages\\ipywidgets\\widgets\\widget_description.py\", line 35, in __init__\n",
      "    super().__init__(*args, **kwargs)\n",
      "  File \"c:\\Users\\eoinp\\anaconda3\\lib\\site-packages\\ipywidgets\\widgets\\widget.py\", line 504, in __init__\n",
      "    self.open()\n",
      "  File \"c:\\Users\\eoinp\\anaconda3\\lib\\site-packages\\ipywidgets\\widgets\\widget.py\", line 517, in open\n",
      "    state, buffer_paths, buffers = _remove_buffers(self.get_state())\n",
      "  File \"c:\\Users\\eoinp\\anaconda3\\lib\\site-packages\\ipywidgets\\widgets\\widget.py\", line 615, in get_state\n",
      "    value = to_json(getattr(self, k), self)\n",
      "  File \"C:\\Users\\eoinp\\AppData\\Roaming\\Python\\Python310\\site-packages\\traitlets\\traitlets.py\", line 703, in __get__\n",
      "  File \"C:\\Users\\eoinp\\AppData\\Roaming\\Python\\Python310\\site-packages\\traitlets\\traitlets.py\", line 659, in get\n",
      "  File \"C:\\Users\\eoinp\\AppData\\Roaming\\Python\\Python310\\site-packages\\traitlets\\traitlets.py\", line 1872, in trait_defaults\n",
      "  File \"C:\\Users\\eoinp\\AppData\\Roaming\\Python\\Python310\\site-packages\\traitlets\\traitlets.py\", line 627, in default\n",
      "  File \"c:\\Users\\eoinp\\anaconda3\\lib\\site-packages\\ipywidgets\\widgets\\trait_types.py\", line 365, in make_dynamic_default\n",
      "    return self.klass(*(self.default_args or ()),\n",
      "  File \"c:\\Users\\eoinp\\anaconda3\\lib\\site-packages\\ipywidgets\\widgets\\widget_layout.py\", line 86, in __init__\n",
      "    super().__init__(**kwargs)\n",
      "  File \"c:\\Users\\eoinp\\anaconda3\\lib\\site-packages\\ipywidgets\\widgets\\widget.py\", line 504, in __init__\n",
      "    self.open()\n",
      "  File \"c:\\Users\\eoinp\\anaconda3\\lib\\site-packages\\ipywidgets\\widgets\\widget.py\", line 535, in open\n",
      "    self.comm = create_comm(**args)\n",
      "  File \"C:\\Users\\eoinp\\AppData\\Roaming\\Python\\Python310\\site-packages\\comm\\__init__.py\", line 27, in _create_comm\n",
      "    raise NotImplementedError(\"Cannot \")\n",
      "NotImplementedError: Cannot \n",
      "\n",
      "During handling of the above exception, another exception occurred:\n",
      "\n",
      "Traceback (most recent call last):\n",
      "  File \"C:\\Users\\eoinp\\AppData\\Roaming\\Python\\Python310\\site-packages\\IPython\\core\\interactiveshell.py\", line 2057, in showtraceback\n",
      "    stb = self.InteractiveTB.structured_traceback(\n",
      "  File \"C:\\Users\\eoinp\\AppData\\Roaming\\Python\\Python310\\site-packages\\IPython\\core\\ultratb.py\", line 1288, in structured_traceback\n",
      "    return FormattedTB.structured_traceback(\n",
      "  File \"C:\\Users\\eoinp\\AppData\\Roaming\\Python\\Python310\\site-packages\\IPython\\core\\ultratb.py\", line 1177, in structured_traceback\n",
      "    return VerboseTB.structured_traceback(\n",
      "  File \"C:\\Users\\eoinp\\AppData\\Roaming\\Python\\Python310\\site-packages\\IPython\\core\\ultratb.py\", line 1049, in structured_traceback\n",
      "    formatted_exceptions += self.format_exception_as_a_whole(etype, evalue, etb, lines_of_context,\n",
      "  File \"C:\\Users\\eoinp\\AppData\\Roaming\\Python\\Python310\\site-packages\\IPython\\core\\ultratb.py\", line 935, in format_exception_as_a_whole\n",
      "    self.get_records(etb, number_of_lines_of_context, tb_offset) if etb else []\n",
      "  File \"C:\\Users\\eoinp\\AppData\\Roaming\\Python\\Python310\\site-packages\\IPython\\core\\ultratb.py\", line 1003, in get_records\n",
      "    lines, first = inspect.getsourcelines(etb.tb_frame)\n",
      "  File \"c:\\Users\\eoinp\\anaconda3\\lib\\inspect.py\", line 1129, in getsourcelines\n",
      "    lines, lnum = findsource(object)\n",
      "  File \"c:\\Users\\eoinp\\anaconda3\\lib\\inspect.py\", line 958, in findsource\n",
      "    raise OSError('could not get source code')\n",
      "OSError: could not get source code\n"
     ]
    }
   ],
   "source": [
    "from PIL import Image\n",
    "import requests\n",
    "\n",
    "from transformers import AutoProcessor, AutoModelForZeroShotImageClassification\n",
    "\n",
    "processor = AutoProcessor.from_pretrained(\"openai/clip-vit-base-patch32\")\n",
    "model = AutoModelForZeroShotImageClassification.from_pretrained(\"openai/clip-vit-base-patch32\")\n",
    "\n",
    "\n",
    "url = \"http://images.cocodataset.org/val2017/000000039769.jpg\"\n",
    "image = Image.open(requests.get(url, stream=True).raw)\n",
    "\n",
    "inputs = processor(text=[\"a photo of a cat\", \"a photo of a dog\"], images=image, return_tensors=\"pt\", padding=True)\n",
    "\n",
    "outputs = model(**inputs)\n",
    "logits_per_image = outputs.logits_per_image  # this is the image-text similarity score\n",
    "probs = logits_per_image.softmax(dim=1)  # we can take the softmax to get the label probabilities"
   ]
  },
  {
   "cell_type": "code",
   "execution_count": null,
   "metadata": {},
   "outputs": [],
   "source": [
    "import matplotlib.pyplot as plt\n",
    "def display_image(image):\n",
    "    # Display the image\n",
    "    plt.imshow(image)\n",
    "    plt.axis('off')  # Turn off axis\n",
    "    plt.show()"
   ]
  }
 ],
 "metadata": {
  "kernelspec": {
   "display_name": "base",
   "language": "python",
   "name": "python3"
  },
  "language_info": {
   "codemirror_mode": {
    "name": "ipython",
    "version": 3
   },
   "file_extension": ".py",
   "mimetype": "text/x-python",
   "name": "python",
   "nbconvert_exporter": "python",
   "pygments_lexer": "ipython3",
   "version": "3.10.9"
  }
 },
 "nbformat": 4,
 "nbformat_minor": 2
}
